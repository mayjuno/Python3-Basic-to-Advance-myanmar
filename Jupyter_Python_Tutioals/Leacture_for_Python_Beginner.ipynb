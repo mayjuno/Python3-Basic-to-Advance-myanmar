{
 "cells": [
  {
   "cell_type": "markdown",
   "id": "2dbca165-3a85-4e61-bb2d-4a396145620d",
   "metadata": {},
   "source": [
    "\n",
    "\n",
    "\n",
    "\n",
    "        "
   ]
  },
  {
   "cell_type": "code",
   "execution_count": 4,
   "id": "90065ae4-b89c-44ff-b247-e4b132951302",
   "metadata": {},
   "outputs": [
    {
     "name": "stdin",
     "output_type": "stream",
     "text": [
      "Greet to Python by your keyboard-> Hello Python\n"
     ]
    },
    {
     "name": "stdout",
     "output_type": "stream",
     "text": [
      "You Said : Hello Python\n",
      "Python Said : Hello World!\n"
     ]
    }
   ],
   "source": [
    "greet = input('Greet to Python by your keyboard->'  )\n",
    "print('You Said :',greet)\n",
    "print('Python Said : Hello World!')"
   ]
  },
  {
   "cell_type": "markdown",
   "id": "3ae21f0e-2a6e-48a9-bcec-5c13ff0ab0a9",
   "metadata": {},
   "source": [
    "Python Basics\n",
    "\n",
    "    Python language introduction\n",
    "    Python 3 basics\n",
    "    Python The new generation language\n",
    "    Important difference between python 2.x and python 3.x with example\n",
    "    Keywords in Python | Set 1, Set 2\n",
    "    Namespaces and Scope in Python\n",
    "    Statement, Indentation and Comment in Python\n",
    "    Structuring Python Programs\n",
    "    How to check if a string is a valid keyword in Python?\n",
    "    How to assign values to variables in Python and other languages\n",
    "    How to print without newline in Python?\n",
    "    Decision making\n",
    "    Basic calculator program using Python\n",
    "    Python Language advantages and applications"
   ]
  },
  {
   "cell_type": "markdown",
   "id": "68b5c41c-e580-42c3-8d9a-d2680274815f",
   "metadata": {},
   "source": [
    "Input/Output\n",
    "\n",
    "    Taking input in Python\n",
    "    Taking input from console in Python\n",
    "    Taking multiple inputs from user in Python\n",
    "    Python Input Methods for Competitive Programming\n",
    "    Vulnerability in input() function – Python 2.x\n",
    "    Python | Output using print() function\n",
    "    How to print without newline in Python?\n",
    "    Python | end parameter in print()\n",
    "    Python | sep parameter in print()\n",
    "    Python | Output Formatting"
   ]
  },
  {
   "cell_type": "markdown",
   "id": "566f3a20-56f7-43ed-8f30-f52aea039cee",
   "metadata": {},
   "source": [
    "Data Types\n",
    "\n",
    "    Introduction to DataTypes\n",
    "    Strings\n",
    "    List\n",
    "    Tuples\n",
    "    Sets\n",
    "    Dictionary\n",
    "    Arrays"
   ]
  },
  {
   "cell_type": "markdown",
   "id": "e256bcbd-21a6-410e-baf3-5a9c438ed396",
   "metadata": {},
   "source": [
    "Variables\n",
    "\n",
    "    Variables, expression condition and function\n",
    "    Maximum possible value of an integer in python?\n",
    "    Global and local variables in python\n",
    "    Packing and unpacking arguments in python\n",
    "    Type conversion in python\n",
    "    Byte objects vs string in python\n",
    "    Print single and multiple variable\n",
    "    Swap variable\n",
    "    Private variables\n",
    "    __name__ (A Special variable) in Python"
   ]
  },
  {
   "cell_type": "markdown",
   "id": "cc1c5791-ae04-4347-ab30-63fd359bd2ba",
   "metadata": {},
   "source": [
    "Operators\n",
    "\n",
    "    Basic operator in python\n",
    "    Logical and bitwise not operator on boolean\n",
    "    Ternary operator\n",
    "    Division operator in python\n",
    "    Operator Overloading in Python\n",
    "    Any & all in python\n",
    "    Inplace and standard operators in python\n",
    "    Operator function in python | Set – 1\n",
    "    Inplace operator | Set -1\n",
    "    Logic Gates in Python\n",
    "    Python | a += b is not always a = a + b\n",
    "    Difference between == and is operator in Python\n",
    "    Python Membership and Identity Operators | in, not in, is, is not"
   ]
  },
  {
   "cell_type": "markdown",
   "id": "b5e3b73c-5c08-4271-84d0-850f8fb80a19",
   "metadata": {},
   "source": [
    "Control Flow\n",
    "\n",
    "    Loops\n",
    "    Loops and Control Statements (continue, break and pass) in Python\n",
    "    Looping technique in python\n",
    "    range vs xrange on python\n",
    "    Programs for printing pyramid technique in python\n",
    "    Chaining comparison in python\n",
    "    else with for\n",
    "    switch function\n",
    "    Using iteration in python effectively\n",
    "    Python Itertools\n",
    "    Python __iter__() and __next__() | Converting an object into an iterator\n",
    "    Python | Difference between iterable and iterator\n",
    "    Generators in python\n",
    "    Generators expression in python"
   ]
  },
  {
   "cell_type": "markdown",
   "id": "d510edfc-9a64-440b-b98c-c37f75a48879",
   "metadata": {},
   "source": [
    "Functions\n",
    "\n",
    "    Functions in Python\n",
    "    class method vs static method in Python\n",
    "    Write an empty function in Python – pass statement\n",
    "    Yield instead of Return\n",
    "    Return Multiple Values\n",
    "    Partial Functions in Python\n",
    "    First Class functions in Python\n",
    "    Precision Handling\n",
    "    *args and **kwargs\n",
    "    Python closures\n",
    "    Function Decorators\n",
    "    Decorators in Python\n",
    "    Decorators with parameters in Python\n",
    "    Memoization using decorators in Python\n",
    "    Help function in Python\n",
    "    Python | __import__() function\n",
    "    Python | range() does not return an iterator\n",
    "    Coroutine in Python\n",
    "    Python bit functions on int (bit_length, to_bytes and from_bytes)"
   ]
  },
  {
   "cell_type": "markdown",
   "id": "d56a395c-5290-46e0-abf0-e037a5797703",
   "metadata": {},
   "source": [
    "Object Oriented Concepts\n",
    "\n",
    "    Python3 Intermediate Level Topics\n",
    "    Class, Object and Members\n",
    "    Data Hiding and Object Printing\n",
    "    Inheritance, examples of object, issubclass and super\n",
    "    Polymorphism in Python\n",
    "    Class and static variable in python\n",
    "    Class method and static method in python\n",
    "    Changing class members\n",
    "    Constructors in Python\n",
    "    Destructors in Python\n",
    "    First class function\n",
    "    Metaprogramming with metaclasses\n",
    "    Class and instance attribute\n",
    "    Reflection\n",
    "    Garbage collection"
   ]
  },
  {
   "cell_type": "markdown",
   "id": "eabc2eea-ab4a-46ce-8e54-1c5c2a096ba3",
   "metadata": {},
   "source": [
    "Exception Handling\n",
    "\n",
    "    Exception handling\n",
    "    User defined Exception\n",
    "    Built-in Exception\n",
    "    clean up action\n",
    "    Nzec error\n",
    "    try and except in Python"
   ]
  },
  {
   "cell_type": "markdown",
   "id": "49caee30-08f8-4ed6-9620-bb4a09c993bd",
   "metadata": {},
   "source": [
    "Python Collections\n",
    "\n",
    "    Counters\n",
    "    OrderedDict\n",
    "    Defaultdict\n",
    "    ChainMap\n",
    "    NamedTuple\n",
    "    DeQue\n",
    "    Heap\n",
    "    Collections.UserDict\n",
    "    Collections.UserList\n",
    "    Collections.UserString"
   ]
  },
  {
   "cell_type": "markdown",
   "id": "fabe9aab-d6ae-43cb-8cd3-c4001c35464c",
   "metadata": {},
   "source": [
    "Django Framework\n",
    "\n",
    "    Django Tutorial\n",
    "    Django Basics\n",
    "    Django Introduction and Installation\n",
    "    Django Forms\n",
    "    Views In Django\n",
    "    Django Models\n",
    "    Django Templates\n",
    "    ToDo webapp using Django\n",
    "    Django News App\n",
    "    Weather app using Django"
   ]
  },
  {
   "cell_type": "markdown",
   "id": "37940082-3160-4e62-93d3-a4935ef369da",
   "metadata": {},
   "source": [
    "Data Analysis\n",
    "\n",
    "    Data visualization using Bokeh\n",
    "    Exploratory Data Analysis in Python\n",
    "    Data visualization with different Charts in Python\n",
    "    Data analysis and Visualization with Python\n",
    "    Data Analysis & Visualization with Python | Set 2\n",
    "    Math operations for Data analysis\n",
    "    Getting started with Jupyter Notebook | Python"
   ]
  },
  {
   "cell_type": "markdown",
   "id": "0f095407-d0a9-4022-83f4-1724ddb9b7ab",
   "metadata": {},
   "source": [
    "Numpy\n",
    "\n",
    "    Python Numpy\n",
    "    Numpy | ndarray\n",
    "    Numpy | Array Creation\n",
    "    Numpy | Data Type Objects\n",
    "    Data type Object (dtype) in NumPy\n",
    "    Numpy | Indexing\n",
    "    Numpy | Basic Slicing and Advanced Indexing\n",
    "    Numpy | Iterating Over Array\n",
    "    Numpy | Binary Operations\n",
    "    Numpy | Linear Algebra\n",
    "    Numpy | Sorting, Searching and Counting"
   ]
  },
  {
   "cell_type": "markdown",
   "id": "d8f950db-b286-4e01-b424-41527301411f",
   "metadata": {},
   "source": [
    "Pandas\n",
    "\n",
    "    Pandas Tutorial\n",
    "    Python | Pandas DataFrame\n",
    "    Creating a Pandas DataFrame\n",
    "    Dealing with Rows and Columns in Pandas DataFrame\n",
    "    Indexing and Selecting Data with Pandas\n",
    "    Boolean Indexing in Pandas\n",
    "    Conversion Functions in Pandas DataFrame\n",
    "    Iterating over rows and columns in Pandas DataFrame\n",
    "    Working with Missing Data in Pandas\n",
    "    Python | Pandas Series\n",
    "    Data analysis using Pandas\n",
    "    Read csv using pandas.read_csv()"
   ]
  },
  {
   "cell_type": "markdown",
   "id": "c2f8668c-4143-4d64-af08-1a03186bcbb3",
   "metadata": {},
   "source": [
    "Machine Learning with Python\n",
    "\n",
    "    Machine Learning Tutorial\n",
    "    Linear Regression\n",
    "    Understanding Logistic Regression\n",
    "    K means Clustering\n",
    "    Python | Image Classification using keras\n",
    "    creating a simple machine learning model\n",
    "    Python | Implementation of Movie Recommender System\n",
    "    ML | Boston Housing Kaggle Challenge with Linear Regression\n",
    "    Cancer cell classification using Scikit-learn\n",
    "    Saving a machine learning Model\n",
    "    Applying Convolutional Neural Network on mnist dataset\n",
    "    Python | NLP analysis of Restaurant reviews\n",
    "    Learning Model Building in Scikit-learn\n",
    "    Implementing Artificial Neural Network training process\n",
    "    A single neuron neural network in Python\n",
    "    Python | How and where to apply Feature Scaling?\n",
    "    Identifying handwritten digits using Logistic Regression in PyTorch"
   ]
  },
  {
   "cell_type": "markdown",
   "id": "2d33053a-5c70-49be-890a-911f264889b6",
   "metadata": {},
   "source": [
    "Python GUI\n",
    "\n",
    "    Tkinter Tutorial\n",
    "    Kivy Tutorial\n",
    "    Python GUI – tkinter\n",
    "    Simple GUI calculator using Tkinter\n",
    "    Simple registration form using Tkinter\n",
    "    Create a stopwatch using python\n",
    "    Designing GUI applications Using PyQt\n",
    "    Color game using Tkinter in Python\n",
    "    Make Notepad using Tkinter\n",
    "    Message Encode-Decode using Tkinter\n",
    "    Real time currency convertor using Tkinter"
   ]
  },
  {
   "cell_type": "markdown",
   "id": "1e513b17-e5e8-46d8-b69d-07c508af5aff",
   "metadata": {},
   "source": [
    "Modules in Python\n",
    "\n",
    "    Introduction of Modules\n",
    "    OS module\n",
    "    Calendar Module\n",
    "    Python Urllib Module\n",
    "    pprint\n",
    "    Timit function\n",
    "    Import module"
   ]
  },
  {
   "cell_type": "markdown",
   "id": "41248033-b594-4ec0-9710-4f582948fa35",
   "metadata": {},
   "source": [
    "Working With Database\n",
    "\n",
    "    MongoDB and Python\n",
    "    SQL using Python | Set 1\n",
    "    SQL using Python and SQLite | Set 2\n",
    "    SQL using Python | Set 3 (Handling large data)\n",
    "    Inserting variables to database table using Python\n",
    "    MYSQLdb Connection in Python\n",
    "    Database management in PostgreSQL\n",
    "    Oracle Database Connection in Python"
   ]
  },
  {
   "cell_type": "markdown",
   "id": "3bd02a37-79d4-418e-b71e-72f93a0ff77c",
   "metadata": {},
   "source": [
    "Misc\n",
    "\n",
    "    10 Essential Python Tips And Tricks For Programmers\n",
    "    Amazing hacks of Python\n",
    "    Input method for comptetive programming\n",
    "    Optimization Tips for Python Code\n",
    "    Why import star in Python is a bad idea\n",
    "    Why is python best suited for Competitive Coding?\n",
    "    Python trics for Competitive Coding"
   ]
  },
  {
   "cell_type": "markdown",
   "id": "1af0a440-4ef8-4f5b-a7bc-d30684bfd582",
   "metadata": {},
   "source": [
    "Applications and Projects\n",
    "\n",
    "    Python | Program to crawl a web page and get most frequent words\n",
    "    Facebook login using python\n",
    "    FB Chatting through python\n",
    "    C/C++ code formating tool\n",
    "    Find Live running status and PNR of any train using Railway API\n",
    "    Fetching top news using News API\n",
    "    Fetching text from Wikipedia’s Infobox in Python\n",
    "    Get emotions of images using Microsoft emotion API in Python\n",
    "    Website blocker\n",
    "    Send SMS updates to mobile phone using python\n",
    "    Python Desktop News Notifier in 20 lines\n",
    "    Morse Code Translator In Python\n",
    "    Performing Google Search using Python code\n",
    "    Reading and generating qr code\n",
    "    Birthday reminder application in python\n",
    "    Program to display Astrological sign or Zodiac sign for given date of birth\n",
    "    Track bird migration\n",
    "    News notifier\n",
    "    whatsapp using python\n",
    "    Python | Automating Happy Birthday post on Facebook using Selenium\n",
    "    Design a Keylogger in Python\n",
    "    Python | Implementation of Movie Recommender System\n",
    "\n",
    "Recommended Python Tutorials\n",
    "\n",
    "    Python Tutorial\n",
    "    Machine Learning Tutorial\n",
    "    Django Tutorial\n",
    "    Pandas Tutorial\n",
    "    OpenCV Python Tutorial\n",
    "    Selenium Python Tutorial\n",
    "    Python Tkinter Tutorial"
   ]
  },
  {
   "cell_type": "code",
   "execution_count": null,
   "id": "33ff50be-7fa1-4b25-8564-57458e28e5c1",
   "metadata": {},
   "outputs": [],
   "source": []
  }
 ],
 "metadata": {
  "kernelspec": {
   "display_name": "Python 3 (ipykernel)",
   "language": "python",
   "name": "python3"
  },
  "language_info": {
   "codemirror_mode": {
    "name": "ipython",
    "version": 3
   },
   "file_extension": ".py",
   "mimetype": "text/x-python",
   "name": "python",
   "nbconvert_exporter": "python",
   "pygments_lexer": "ipython3",
   "version": "3.8.8"
  }
 },
 "nbformat": 4,
 "nbformat_minor": 5
}
