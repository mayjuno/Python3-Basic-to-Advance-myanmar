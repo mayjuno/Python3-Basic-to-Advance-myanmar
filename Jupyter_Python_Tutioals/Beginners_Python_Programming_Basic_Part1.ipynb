{
 "cells": [
  {
   "cell_type": "markdown",
   "metadata": {},
   "source": [
    "### Escape Sequence"
   ]
  },
  {
   "cell_type": "code",
   "execution_count": null,
   "metadata": {},
   "outputs": [],
   "source": [
    "print(\"Mg Mg's teacher say,\\t\\\"Please! sit down.\\\"\\nYou are clever boy.\")"
   ]
  },
  {
   "cell_type": "code",
   "execution_count": 5,
   "metadata": {},
   "outputs": [
    {
     "name": "stdout",
     "output_type": "stream",
     "text": [
      "MaMa say \"Ye Bhone Au's shoes are clean, but Argu's shoes are dirty\". Argu don't like claning.\n"
     ]
    }
   ],
   "source": [
    "print('MaMa say \\\"Ye Bhone Au\\'s shoes are clean, but Argu\\'s shoes are dirty\". Argu don\\'t like claning.')"
   ]
  },
  {
   "cell_type": "markdown",
   "metadata": {},
   "source": [
    "### String Formatting\n",
    "---------------------\n",
    "    1. old formatting style\n",
    "    2. format\n",
    "    3. f-string\n",
    "    4. template strings"
   ]
  },
  {
   "cell_type": "code",
   "execution_count": 15,
   "metadata": {},
   "outputs": [
    {
     "name": "stdout",
     "output_type": "stream",
     "text": [
      "My name is Kyaw Myo Swe.I'm 42 years old.I have saved 20000.0$.\n"
     ]
    }
   ],
   "source": [
    "first_name = 'Kyaw'\n",
    "last_name = 'Myo Swe'\n",
    "age = 42\n",
    "saved = 20000.00\n",
    "print('My name is '+first_name + ' '+ last_name +'.''I\\'m '+ str(age) + ' years old.'+ 'I have saved '+ str(saved)+'$.')"
   ]
  },
  {
   "cell_type": "code",
   "execution_count": 4,
   "metadata": {},
   "outputs": [
    {
     "name": "stdout",
     "output_type": "stream",
     "text": [
      "My name is Kyaw Myo Swe.I am 42 years old.I have been saved 20000.00$.\n"
     ]
    }
   ],
   "source": [
    "# % Operator ကို အသုံးပြုခြင်း ဥပမာ ။ ။ %d,%s,%f\n",
    "print('My name is %s %s.I am %d years old.I have been saved %.2f$.'%(first_name,last_name,age,saved)) #ရှေးကျသောရေးနည်း စနစ်"
   ]
  },
  {
   "cell_type": "code",
   "execution_count": 14,
   "metadata": {},
   "outputs": [
    {
     "name": "stdout",
     "output_type": "stream",
     "text": [
      "My name is Kyaw Myo Swe.I am 42 years old.I have been saved 20000.00$.\n"
     ]
    }
   ],
   "source": [
    "print('My name is {} {}.I am {} years old.I have been saved {:.2f}$.'.format(first_name,last_name,age,saved))"
   ]
  },
  {
   "cell_type": "code",
   "execution_count": 13,
   "metadata": {},
   "outputs": [
    {
     "name": "stdout",
     "output_type": "stream",
     "text": [
      "My name is Kyaw Myo Swe.I am 42 years old.I have been saved 20000.00$.\n"
     ]
    }
   ],
   "source": [
    "print(f'My name is {first_name} {last_name}.I am {age} years old.I have been saved {saved:.2f}$.') #f-string ရေးသားနည်း စနစ် python3.6"
   ]
  },
  {
   "cell_type": "markdown",
   "metadata": {},
   "source": [
    "#1 String Manipulate\n",
    "Super awesome time with string"
   ]
  },
  {
   "cell_type": "code",
   "execution_count": 1,
   "metadata": {},
   "outputs": [
    {
     "name": "stdout",
     "output_type": "stream",
     "text": [
      "This string is 11 bytes long\n",
      "This string is 11 bytes long\n",
      "This string is 11 bytes long\n"
     ]
    }
   ],
   "source": [
    "greeting = 'Hello World'\n",
    "# string ရဲ့ အလျား/အရှည် String Length ကို ထုတ်ပြခြင်း\n",
    "print('This string is %d bytes long'% len(greeting))\n",
    "print('This string is {} bytes long'.format(len(greeting)))\n",
    "print(f'This string is {len(greeting)} bytes long')\n"
   ]
  },
  {
   "cell_type": "code",
   "execution_count": 2,
   "metadata": {},
   "outputs": [
    {
     "name": "stdout",
     "output_type": "stream",
     "text": [
      "['__add__', '__class__', '__contains__', '__delattr__', '__dir__', '__doc__', '__eq__', '__format__', '__ge__', '__getattribute__', '__getitem__', '__getnewargs__', '__gt__', '__hash__', '__init__', '__init_subclass__', '__iter__', '__le__', '__len__', '__lt__', '__mod__', '__mul__', '__ne__', '__new__', '__reduce__', '__reduce_ex__', '__repr__', '__rmod__', '__rmul__', '__setattr__', '__sizeof__', '__str__', '__subclasshook__', 'capitalize', 'casefold', 'center', 'count', 'encode', 'endswith', 'expandtabs', 'find', 'format', 'format_map', 'index', 'isalnum', 'isalpha', 'isascii', 'isdecimal', 'isdigit', 'isidentifier', 'islower', 'isnumeric', 'isprintable', 'isspace', 'istitle', 'isupper', 'join', 'ljust', 'lower', 'lstrip', 'maketrans', 'partition', 'replace', 'rfind', 'rindex', 'rjust', 'rpartition', 'rsplit', 'rstrip', 'split', 'splitlines', 'startswith', 'strip', 'swapcase', 'title', 'translate', 'upper', 'zfill']\n"
     ]
    }
   ],
   "source": [
    "print(dir('str'))"
   ]
  },
  {
   "cell_type": "markdown",
   "metadata": {},
   "source": [
    "#### making ___ to the string.\n",
    "    1.upper case စာလုံးအကြီးပြုလုပ်ခြင်း\n",
    "    2.lower case စာလုံးအသေးပြုလုပ်ခြင်း\n",
    "    3.title ခေါင်းစဥ်ပြုလုပ်ခြင်း"
   ]
  },
  {
   "cell_type": "code",
   "execution_count": 3,
   "metadata": {},
   "outputs": [
    {
     "name": "stdout",
     "output_type": "stream",
     "text": [
      "HELLO WORLD\n",
      "hello world\n",
      "Hello World\n"
     ]
    }
   ],
   "source": [
    "print(greeting.upper())\n",
    "print(greeting.lower())\n",
    "print(greeting.title())"
   ]
  },
  {
   "cell_type": "markdown",
   "metadata": {},
   "source": [
    "### Finding the index(position) of the letter\n",
    "စာကြာင်း တစ်ခုအတွင်းမှာရှိသော စာလုံး တစ်လုံး၏ နေရာကို ရှာဖွေခြင်း\n"
   ]
  },
  {
   "cell_type": "code",
   "execution_count": null,
   "metadata": {},
   "outputs": [],
   "source": [
    "print(f'The index of \"o/O\" is {greeting.lower().index(\"o\")}')\n",
    "print(f'The index of \"l/L\" is {greeting.lower().index(\"l\")}') # ပထမဆုံးတွေသော စာလုံး index ကိုသာပြသမည် ။"
   ]
  },
  {
   "cell_type": "markdown",
   "metadata": {},
   "source": [
    "#### Count the number of letters in the string.\n",
    "စာကြာင်း တစ်ခုအတွင်းမှာရှိသော စာလုံး တစ်လုံး၏ အရေအတွက်ကို ရှာဖွေခြင်း"
   ]
  },
  {
   "cell_type": "code",
   "execution_count": null,
   "metadata": {},
   "outputs": [],
   "source": [
    "print(f'There are {greeting.lower().count(\"l\")} letters \"l\" in the \"{greeting}\".')"
   ]
  },
  {
   "cell_type": "markdown",
   "metadata": {},
   "source": [
    "### Slice the string\n",
    "စာကြာင်း တစ်ခုအတွင်းမှာရှိသော စာလုံးတစ်လုံး/စကားစု တစ်ခုကို  ရယူခြင်း"
   ]
  },
  {
   "cell_type": "code",
   "execution_count": null,
   "metadata": {},
   "outputs": [],
   "source": [
    "print(greeting[2])\n",
    "print(greeting[0:5:1])  # stringName[start : end : step]\n",
    "print(greeting[-12:-1:1])  # နောက်ဆုံး index ကို -၁ အဖြစ်သတ်မှတ်ရယူနိုင်ပါတယ်။ \n",
    "                         #နောက်ဆုံး index မပါတာကို သတိပြုပါ ။\n",
    "print(greeting[6:len(greeting)]) \n",
    "print(greeting[::-1]) # reverse order ဆီလို့ရတယ် ။"
   ]
  },
  {
   "cell_type": "markdown",
   "metadata": {},
   "source": [
    "### split ပိုင်းဖြတ်ခြင်း\n",
    "default split is space \n",
    "string က ummutable ဖြစ်လို့ ရတဲ့ Result ကို variable တစ်ခုအတွင်းမှာ assign လုပ်ပေးရပါမယ် ။\n",
    "ရလာတဲ့ Result ကို Python list object type ဖြင့် return ပြန်ပေးမှာပါ ။"
   ]
  },
  {
   "cell_type": "code",
   "execution_count": null,
   "metadata": {},
   "outputs": [],
   "source": [
    "name = 'John Willi Smit'\n",
    "split_name=name.split(' ')\n",
    "print(split_name)\n",
    "print(f'First name is {split_name[0]},Middle name is {split_name[1]} and Last name is {split_name[2]}.')\n",
    "\n",
    "str2list = list(name)\n",
    "print(str2list)"
   ]
  },
  {
   "cell_type": "code",
   "execution_count": null,
   "metadata": {},
   "outputs": [],
   "source": [
    "dir(str)"
   ]
  },
  {
   "cell_type": "markdown",
   "metadata": {},
   "source": [
    "#1 Immutability"
   ]
  },
  {
   "cell_type": "code",
   "execution_count": 1,
   "metadata": {},
   "outputs": [
    {
     "name": "stdout",
     "output_type": "stream",
     "text": [
      "Python\n",
      "Cython\n"
     ]
    }
   ],
   "source": [
    "name = 'Python'\n",
    "print(name)\n",
    "name = 'Cython'\n",
    "print(name)"
   ]
  },
  {
   "cell_type": "markdown",
   "metadata": {},
   "source": [
    "ဒီမှာတော့ name variable ကို ပြင်ဆင်လို့ ရပါတယ် ။ Python string က immutable ဆိုတာကတော့ string type variable တစ်ခုကြေငြာပြီးသွားရင် ၎င်း string အတွင်းမှာ ရှိတဲ့ index value တွေကို ပြင်ဆင်ခွင့် မရှိတာကို ဆိုလိုခြင်းဖြစ်ပါတယ် ။\n",
    "ဥပမာ ကြည့်ကြရအောင် ........"
   ]
  },
  {
   "cell_type": "code",
   "execution_count": 2,
   "metadata": {},
   "outputs": [
    {
     "name": "stdout",
     "output_type": "stream",
     "text": [
      "Python\n"
     ]
    },
    {
     "ename": "TypeError",
     "evalue": "'str' object does not support item assignment",
     "output_type": "error",
     "traceback": [
      "\u001b[0;31m---------------------------------------------------------------------------\u001b[0m",
      "\u001b[0;31mTypeError\u001b[0m                                 Traceback (most recent call last)",
      "Input \u001b[0;32mIn [2]\u001b[0m, in \u001b[0;36m<module>\u001b[0;34m\u001b[0m\n\u001b[1;32m      1\u001b[0m name \u001b[38;5;241m=\u001b[39m \u001b[38;5;124m'\u001b[39m\u001b[38;5;124mPython\u001b[39m\u001b[38;5;124m'\u001b[39m\n\u001b[1;32m      2\u001b[0m \u001b[38;5;28mprint\u001b[39m(name)\n\u001b[0;32m----> 3\u001b[0m name[\u001b[38;5;241m0\u001b[39m] \u001b[38;5;241m=\u001b[39m \u001b[38;5;124m'\u001b[39m\u001b[38;5;124mC\u001b[39m\u001b[38;5;124m'\u001b[39m\n\u001b[1;32m      4\u001b[0m \u001b[38;5;28mprint\u001b[39m(name)\n",
      "\u001b[0;31mTypeError\u001b[0m: 'str' object does not support item assignment"
     ]
    }
   ],
   "source": [
    "name = 'Python'\n",
    "print(name)\n",
    "name[0] = 'C'\n",
    "print(name)"
   ]
  },
  {
   "cell_type": "code",
   "execution_count": 3,
   "metadata": {},
   "outputs": [
    {
     "name": "stdout",
     "output_type": "stream",
     "text": [
      "Python\n",
      "Cython\n"
     ]
    }
   ],
   "source": [
    "name = 'Python'\n",
    "print(name)\n",
    "name = name.replace('P','C')\n",
    "print(name)"
   ]
  },
  {
   "cell_type": "code",
   "execution_count": null,
   "metadata": {},
   "outputs": [],
   "source": [
    "name = 'Python'\n",
    "print(name)\n",
    "print(id(name))\n",
    "name = name + 'C'\n",
    "print(name)\n",
    "print(id(name))"
   ]
  },
  {
   "cell_type": "code",
   "execution_count": null,
   "metadata": {},
   "outputs": [],
   "source": [
    "help(str.rstrip)"
   ]
  },
  {
   "cell_type": "code",
   "execution_count": 4,
   "metadata": {},
   "outputs": [
    {
     "name": "stdout",
     "output_type": "stream",
     "text": [
      "18\n",
      " my name is Johne \n",
      "17\n",
      "my name is Johne \n"
     ]
    }
   ],
   "source": [
    "str1  = ' my name is Johne '\n",
    "print(len(str1))\n",
    "print(str1)\n",
    "str1 =  str1.lstrip()\n",
    "print(len(str1))\n",
    "print(str1)"
   ]
  },
  {
   "cell_type": "code",
   "execution_count": 1,
   "metadata": {
    "tags": []
   },
   "outputs": [
    {
     "name": "stdin",
     "output_type": "stream",
     "text": [
      "Enter the Name :  Kyaw Myo Swe\n",
      "Enter the age :  42\n",
      "Enter the genter(Male/Female) :  Male\n",
      "Enter the City :  Mandalay\n"
     ]
    },
    {
     "name": "stdout",
     "output_type": "stream",
     "text": [
      "Kyaw Myo Swe is a man, He is 42 years old.He lives in Mandalay.\n"
     ]
    }
   ],
   "source": [
    "check = True\n",
    "while check:\n",
    "    name = input('Enter the Name : ')\n",
    "    age = int(input('Enter the age : '))\n",
    "    genter = input('Enter the genter(Male/Female) : ')\n",
    "    city = input('Enter the City : ')\n",
    "    if genter == 'Male':\n",
    "        gerter_pronoun = 'He'\n",
    "        if age <=20 :\n",
    "            level = 'boy'\n",
    "        else :\n",
    "            level = 'man'\n",
    "    else :\n",
    "        gerter_pronoun = 'She'\n",
    "        if age <=20 :\n",
    "            level = 'girl'\n",
    "        else:\n",
    "            level = 'woman'\n",
    "    print(f'{name} is a {level}, {gerter_pronoun} is {age} years old.{gerter_pronoun} lives in {city}.')\n",
    "    "
   ]
  },
  {
   "cell_type": "code",
   "execution_count": 6,
   "metadata": {},
   "outputs": [
    {
     "name": "stdin",
     "output_type": "stream",
     "text": [
      "Enter the number of person : 3\n",
      "Enter the person ID :  001\n",
      "Enter the Name :  Kyaw Myo Swe\n",
      "Enter the age :  23\n",
      "Enter the genter(Male/Female) :  Male\n",
      "Enter the City :  Mandalay\n"
     ]
    },
    {
     "name": "stdout",
     "output_type": "stream",
     "text": [
      "Kyaw Myo Swe is a man, He is 23 years old.He lives in Mandalay.\n"
     ]
    },
    {
     "name": "stdin",
     "output_type": "stream",
     "text": [
      "Enter the person ID :  002\n",
      "Enter the Name :  Thinzar Wint Kyaw\n",
      "Enter the age :  30\n",
      "Enter the genter(Male/Female) :  Female\n",
      "Enter the City :  Yangon\n"
     ]
    },
    {
     "name": "stdout",
     "output_type": "stream",
     "text": [
      "Thinzar Wint Kyaw is a woman, She is 30 years old.She lives in Yangon.\n"
     ]
    },
    {
     "name": "stdin",
     "output_type": "stream",
     "text": [
      "Enter the person ID :  003\n",
      "Enter the Name :  Lisa\n",
      "Enter the age :  22\n",
      "Enter the genter(Male/Female) :  Female\n",
      "Enter the City :  Sole\n"
     ]
    },
    {
     "name": "stdout",
     "output_type": "stream",
     "text": [
      "Lisa is a woman, She is 22 years old.She lives in Sole.\n"
     ]
    }
   ],
   "source": [
    "class PersonInfo():\n",
    "    def __init__(self, name,age, genter, city):\n",
    "        self.name = name\n",
    "        self.age = age\n",
    "        self.genter = genter\n",
    "        self.city = city\n",
    "    def displayInfo(self):\n",
    "        if self.genter == 'Male':\n",
    "            gerter_pronoun = 'He'\n",
    "            if self.age <=20 :\n",
    "                level = 'boy'\n",
    "            else :\n",
    "                level = 'man'\n",
    "        else :\n",
    "            gerter_pronoun = 'She'\n",
    "            if self.age <=20 :\n",
    "                level = 'girl'\n",
    "            else:\n",
    "                level = 'woman'\n",
    "        print(f'{self.name} is a {level}, {gerter_pronoun} is {self.age} years old.{gerter_pronoun} lives in {self.city}.')\n",
    "        \n",
    "def callPersonInfo():\n",
    "    pid = input('Enter the person ID : ')\n",
    "    personID = 'person'+pid\n",
    "    name = input('Enter the Name : ')\n",
    "    age = int(input('Enter the age : '))\n",
    "    genter = input('Enter the genter(Male/Female) : ')\n",
    "    city = input('Enter the City : ')\n",
    "    personID = PersonInfo(name, age, genter, city)\n",
    "    personID.displayInfo()\n",
    "\n",
    "    \n",
    "personAmound = int(input('Enter the number of person :'))\n",
    "for i in range(personAmound):\n",
    "    callPersonInfo()"
   ]
  },
  {
   "cell_type": "code",
   "execution_count": null,
   "metadata": {},
   "outputs": [],
   "source": []
  }
 ],
 "metadata": {
  "kernelspec": {
   "display_name": "Python 3 (ipykernel)",
   "language": "python",
   "name": "python3"
  },
  "language_info": {
   "codemirror_mode": {
    "name": "ipython",
    "version": 3
   },
   "file_extension": ".py",
   "mimetype": "text/x-python",
   "name": "python",
   "nbconvert_exporter": "python",
   "pygments_lexer": "ipython3",
   "version": "3.8.8"
  }
 },
 "nbformat": 4,
 "nbformat_minor": 4
}
