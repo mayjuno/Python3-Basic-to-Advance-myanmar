{
 "cells": [
  {
   "cell_type": "markdown",
   "metadata": {},
   "source": [
    "အစပိုင်းမှာ ကျနော်တို့ Python Data type တွေကို လေ့လာပြီးသွားပြီ ။ ဒီဒေတာတွေကို ဘယ်လိုကိုင်တွယ်ထိန်းချုပ်ရမယ်ဆိုတာလိုအပ်ပါတယ် ။\n",
    "ဒေတာတွေက ရှိနေတယ် သူတို့ကို အလုပ်လုပ်စေဖို့အတွက် Action တွေလိုအပ်ပါတယ် ။ အဲ့ဒီ Action တွေကို function တွေအဖြစ်ရေးရပါမယ် ။\n",
    "Python Inteprector က စာကြောင်း အစကုတ်ကနေ လိုင်းပါင်း သိန်းသန်းချီ ၍ Line by Line တစ်ကြောင်းပြီးတစ်ကြောင်းအလုပ်လုပ်သွားမှာဖြစ်ပါတယ်။\n",
    "အကြောင်းအရာတစ်ခုကို အကြိမ်ပေါင်းများစွာ ထပ်ကာ ထပ်ကာ လုပ်တာတွေလည်း ပါနိုင်သလို ၊ အခြေအနေတစ်ရပ်နဲ့တိုက်ဆိုင်စစ်ဆေးပြီး ကိုက်ညီမှု ရှိမှ လုပ်ရမည့် အပိုင်းတွေလည်းရှိနိုင်ပါတယ် ။ အခြေအနေနဲ့ မကိုက်ညီရင် ဘာလုပ်ရမည်ဆို့တဲ့ အချက်တွေလည်းပါကောင်းပါနိုင်ပါတယ် ။"
   ]
  },
  {
   "cell_type": "markdown",
   "metadata": {},
   "source": [
    "# Conditional Logic\n",
    "-------------------\n",
    "ကျနော်တို့  boolean ကိုလေ့လာခဲ့ပြီးပါပြီ  ။ True and False / 0 and 1 ။ မှန်ရင်လုပ်မယ် မှားရင် ဘာလုပ်မယ်ဆိုတာပါပဲ ။ \n",
    "အောက်မှာ ကားမောင်းတာကို အသက်ပြည့်မပြည် စစ်မယ် ၊ အသက်ပြည်ရင် လိုင်စင်ရှိမရှိစစ်မယ် ။ မောင်းခွင့်ပြုမယ် / မပြုဘူး ဆိုတာလေးကိုကြည့်ကြရအောင် ။"
   ]
  },
  {
   "cell_type": "code",
   "execution_count": 4,
   "metadata": {},
   "outputs": [
    {
     "name": "stdout",
     "output_type": "stream",
     "text": [
      "You are not enought to Drive a car!\n",
      "Done!\n"
     ]
    }
   ],
   "source": [
    "is_age  = True\n",
    "is_licenced = False\n",
    "\n",
    "if is_age :\n",
    "    print('Check The Licence!')\n",
    "    if is_licenced:\n",
    "        print('You can drive !')\n",
    "    else : \n",
    "        print('You need to make Driving Licence!')\n",
    "else:\n",
    "    print('You are not enought to Drive a car!')\n",
    "print('Done!')"
   ]
  },
  {
   "cell_type": "markdown",
   "metadata": {},
   "source": [
    "### Truthy and Falsy"
   ]
  },
  {
   "cell_type": "code",
   "execution_count": 4,
   "metadata": {},
   "outputs": [
    {
     "name": "stdout",
     "output_type": "stream",
     "text": [
      "You are not enought to Drive a car!\n",
      "Done!\n"
     ]
    }
   ],
   "source": [
    "is_age  = 17\n",
    "is_licenced = False\n",
    "\n",
    "if is_age >= 18:\n",
    "    print('Check The Licence!')\n",
    "    if is_licenced:\n",
    "        print('You can drive !')\n",
    "    else : \n",
    "        print('You need to make Driving Licence!')\n",
    "else:\n",
    "    print('You are not enought to Drive a car!')\n",
    "print('Done!')"
   ]
  },
  {
   "cell_type": "markdown",
   "metadata": {},
   "source": [
    "ဒီတစ်ခါမှာတော့  အသက်က သတ်မှတ်ချက်ပြည့်တယ် လိုင်စင်လည်းရှိတယ် ၊ သို့သော် အရက်သောက်ထားမယ်ဆိုရင် မောင်းခွင့်မပြုဘူးဆိုတာလေးရေးကြရအောင် ။"
   ]
  },
  {
   "cell_type": "code",
   "execution_count": 17,
   "metadata": {},
   "outputs": [
    {
     "name": "stdout",
     "output_type": "stream",
     "text": [
      "You have a Driving licence!\n",
      "But you can't drive.You are very Drank.\n"
     ]
    }
   ],
   "source": [
    "is_age = 20\n",
    "is_licenced = True\n",
    "is_alchol_level = 90\n",
    "#age check\n",
    "if is_age >= 18:\n",
    "    #licence check\n",
    "    if is_licenced :\n",
    "        #check alchol test\n",
    "        print('You have a Driving licence!')\n",
    "        if is_alchol_level > 80:\n",
    "            print('But you can\\'t drive.You are very Drunk.')\n",
    "        elif is_alchol_level <= 80 and is_alchol_level >= 40:\n",
    "            print('But you must be wait afew minutes, untail undrunk.')\n",
    "        elif is_alchol_level >20:\n",
    "            print('You can drive but take care!.')\n",
    "        else :\n",
    "            print('Please! Drive safty.')\n",
    "            \n",
    "    else:\n",
    "        print('You can\\'t Drive! You haven\\'t Driving licence!.')\n",
    "else:\n",
    "    print('You are not enought to Drive!.')"
   ]
  },
  {
   "cell_type": "markdown",
   "metadata": {},
   "source": [
    "### Ternary Operator\n",
    "(do_if_True) if (condition) else (do_if_false)\n",
    "(မှန်ရင်လုပ်ရန်) if (စစ်ဆေးရမည့်အခြေအနေ) else (မှားရင်လုပ်ရန်)\n",
    "\n",
    "ဥပမာ အနေနဲ့ facebook မှာ friend ဖြစ်ရင် message ပို့လို့ရမယ် ။ friend မဟုတ်ရင် message ပို့လို့မရဘူး ဆိုတဲ့ ပုံစံမျိုးလေးရေးကြည့်ရအောင် ။"
   ]
  },
  {
   "cell_type": "code",
   "execution_count": 4,
   "metadata": {},
   "outputs": [
    {
     "name": "stdout",
     "output_type": "stream",
     "text": [
      "message allow\n"
     ]
    }
   ],
   "source": [
    "is_friend = True\n",
    "can_message = \"message allow\" if is_friend else \"message not allow\"\n",
    "print(can_message)"
   ]
  },
  {
   "cell_type": "markdown",
   "metadata": {},
   "source": [
    "### Short Circuiting\n",
    "### and / or"
   ]
  },
  {
   "cell_type": "code",
   "execution_count": 1,
   "metadata": {},
   "outputs": [
    {
     "name": "stdout",
     "output_type": "stream",
     "text": [
      "message can send.\n",
      "Your not in member\n"
     ]
    }
   ],
   "source": [
    "is_friend = True\n",
    "is_group_member = False\n",
    "is_friend_of_friend = True\n",
    "if is_friend or is_friend_of_friend:\n",
    "    print('message can send.')\n",
    "if is_friend and is_group_member:\n",
    "    print('You can write Post.')\n",
    "else:\n",
    "    print('Your not in member')"
   ]
  },
  {
   "cell_type": "markdown",
   "metadata": {},
   "source": [
    "# Logical Operators\n",
    "--------------------"
   ]
  },
  {
   "cell_type": "markdown",
   "metadata": {},
   "source": [
    "     > Greater Than\n",
    "     < Lessthan\n",
    "     == equal\n",
    "     >= Greater than or equal\n",
    "     <= lessthan or equal\n",
    "     === definately equal\n",
    "     != not equal\n",
    "     and \n",
    "     or\n",
    "     not\n",
    "     is\n"
   ]
  },
  {
   "cell_type": "code",
   "execution_count": 21,
   "metadata": {},
   "outputs": [
    {
     "name": "stdout",
     "output_type": "stream",
     "text": [
      "True\n",
      "False\n",
      "True\n",
      "True\n",
      "False\n"
     ]
    }
   ],
   "source": [
    "print([]==[])\n",
    "print([] is [])\n",
    "print([1,2,3]==[1,2,3])\n",
    "a = [1,2,3]\n",
    "b = [1,2,3]\n",
    "print(a==b)\n",
    "print(a is b)"
   ]
  },
  {
   "cell_type": "markdown",
   "metadata": {},
   "source": [
    "# Loop\n",
    "------------"
   ]
  },
  {
   "cell_type": "markdown",
   "metadata": {},
   "source": [
    "### for (something) in iterable:\n",
    "---------------------------------\n",
    "python မှာတော့ for in loop  နှင့် for each loop ဆိုပြီး for loop ၂မျိုးတွေ့ရပါတယ် ။\n",
    "for in loop က အသုံးများပါတယ် ။\n",
    "ရေးသားသည့် ပုံစံကတော့ \n",
    "for somethin in iterable: \n",
    "ဖြစ်ပါတယ် ။ အင်္ဂလိပ်လို ရှင်းရှင်း လေးမှတ်သားနိုင်ပါတယ် ။\n",
    "something က variable ပါ iterable ကတော့  iterable sequence type data ပဲဖြစ်ပါတယ် ။ နောက်မှာ (:)ကော်လံလေးခံရေးယုံပါပဲ ။"
   ]
  },
  {
   "cell_type": "markdown",
   "metadata": {},
   "source": [
    "## Iterable\n",
    "    -list\n",
    "    -dictionary\n",
    "    -tuple\n",
    "    -set\n",
    "    -string\n",
    "## iterate \n",
    "    -one by one check each item in the collection.\n",
    "    -iterate လုပ်တယ်ဆိုတာကတော့ collection data တွေထဲက item တွေကို တစ်ခုခြင်း စစ်ဆေးသွားတာပဲဖြစ်ပါတယ် ။"
   ]
  },
  {
   "cell_type": "markdown",
   "metadata": {},
   "source": [
    "list တစ်ခုကို iterate လုပ်ကြည့်ကြရအောင်"
   ]
  },
  {
   "cell_type": "code",
   "execution_count": 24,
   "metadata": {},
   "outputs": [
    {
     "name": "stdout",
     "output_type": "stream",
     "text": [
      "1\n",
      "2\n",
      "3\n",
      "4\n",
      "5\n",
      "~~~~~~~~~~~~~~~~~~~~\n",
      "1\n",
      "2\n",
      "3\n",
      "4\n",
      "5\n",
      "6\n"
     ]
    }
   ],
   "source": [
    "mylist = [1,2,3,4,5,6]\n",
    "for item in [1,2,3,4,5]:\n",
    "    print(item)\n",
    "print('~'*20)\n",
    "for mylist_item in mylist:\n",
    "    print(mylist_item)"
   ]
  },
  {
   "cell_type": "markdown",
   "metadata": {},
   "source": [
    "list ကဲ့သို့ပဲ set(), tuple နဲ့ string တွေကိုလည်း iterate လုပ်လို့ရပါတယ် ။"
   ]
  },
  {
   "cell_type": "markdown",
   "metadata": {},
   "source": [
    "Dictionary တစ်ခုကို iterate လုပ်ကြည့်ကြရအောင်"
   ]
  },
  {
   "cell_type": "code",
   "execution_count": 28,
   "metadata": {},
   "outputs": [
    {
     "name": "stdout",
     "output_type": "stream",
     "text": [
      "name\n",
      "age\n",
      "job\n",
      "married\n"
     ]
    }
   ],
   "source": [
    "user = {\n",
    "    'name':'John',\n",
    "    'age' : 29,\n",
    "    'job' :'junior Programmer',\n",
    "    'married' : False\n",
    "}\n",
    "for item in user:\n",
    "    print(item)"
   ]
  },
  {
   "cell_type": "markdown",
   "metadata": {},
   "source": [
    "ဒီမှာဆိုရင်တော့ dictionary ရဲ့  key value တွေကိုပဲ ရမှာဖြစ်ပါတယ် ။\n",
    "Dictionary မှာ key,value နှင့် keyရော value ရောပါတဲ့ items  ဆိုပြီး ၃ မျိုးရှိပါတယ် ။\n"
   ]
  },
  {
   "cell_type": "code",
   "execution_count": 29,
   "metadata": {},
   "outputs": [
    {
     "name": "stdout",
     "output_type": "stream",
     "text": [
      "('name', 'john')\n",
      "('age', 29)\n",
      "('job', 'Junior Programmer')\n",
      "('married', False)\n"
     ]
    }
   ],
   "source": [
    "user = {\n",
    "    'name':'john',\n",
    "    'age': 29,\n",
    "    'job': \"Junior Programmer\",\n",
    "    'married': False\n",
    "}\n",
    "for item in user.items():\n",
    "    print(item)"
   ]
  },
  {
   "cell_type": "markdown",
   "metadata": {},
   "source": [
    "ဒီမှာ ဆိုရင်တော့ key,value pair tuple တစ်စုံကိုရမှာဖြစ်ပါတယ် ။ အဲဒါကို key သပ်သပ် value သပ်သပ်လိုချင်ရင်တော့ အခုလိုထုတ်ရနိုင်ပါတယ် ။"
   ]
  },
  {
   "cell_type": "code",
   "execution_count": 40,
   "metadata": {},
   "outputs": [
    {
     "name": "stdout",
     "output_type": "stream",
     "text": [
      "name = john\n",
      "age = 29\n",
      "job = Junior Programmer\n",
      "married = False\n",
      "~~~~~~~~~~~~~~~~~~~~~~~~~~~~~~~~~~~~~~~~~~~~~~~~~~\n",
      "name = john\n",
      "age = 29\n",
      "job = Junior Programmer\n",
      "married = False\n",
      "~~~~~~~~~~~~~~~~~~~~~~~~~~~~~~~~~~~~~~~~~~~~~~~~~~\n",
      "name\n",
      "age\n",
      "job\n",
      "married\n",
      "~~~~~~~~~~~~~~~~~~~~~~~~~~~~~~~~~~~~~~~~~~~~~~~~~~\n",
      "john\n",
      "29\n",
      "Junior Programmer\n",
      "False\n"
     ]
    }
   ],
   "source": [
    "user = {\n",
    "    'name':'john',\n",
    "    'age': 29,\n",
    "    'job': \"Junior Programmer\",\n",
    "    'married': False\n",
    "}\n",
    "\n",
    "for item in user.items():\n",
    "    key,value = item;\n",
    "    print(key,'=',value)\n",
    "print('~'*50)\n",
    "# အထက်ဖော်ပြပါကို အတိုပြန်ရေးရင် အခုလိုရေးလို့ရပါတယ် ။\n",
    "for key,value in user.items():\n",
    "    print(key,'=',value)\n",
    "print('~'*50)\n",
    "for item3 in user.keys():\n",
    "    print(item3)\n",
    "print('~'*50)\n",
    "for item2 in user.values():\n",
    "    print(item2)\n"
   ]
  },
  {
   "cell_type": "markdown",
   "metadata": {},
   "source": [
    "အထက်မှာ ဖော်ပြခဲ့တဲ့ items(),keys(),values() တွေက python Dictionary iterable မှာ အလွန်အသုံးဝင်ပါတယ် ။"
   ]
  },
  {
   "cell_type": "markdown",
   "metadata": {},
   "source": [
    "ဒီတစ်ခါမှာတော့ number တစ်ခုကို  iterate လုပ်ကြည့်ရင် ဘယ်လိုဖြစ်မလည်း ကြည့်ကြရအောင်ပါ ။"
   ]
  },
  {
   "cell_type": "code",
   "execution_count": 41,
   "metadata": {},
   "outputs": [
    {
     "ename": "TypeError",
     "evalue": "'int' object is not iterable",
     "output_type": "error",
     "traceback": [
      "\u001b[0;31m---------------------------------------------------------------------------\u001b[0m",
      "\u001b[0;31mTypeError\u001b[0m                                 Traceback (most recent call last)",
      "\u001b[0;32m<ipython-input-41-d9678e501635>\u001b[0m in \u001b[0;36m<module>\u001b[0;34m\u001b[0m\n\u001b[0;32m----> 1\u001b[0;31m \u001b[0;32mfor\u001b[0m \u001b[0mi\u001b[0m \u001b[0;32min\u001b[0m \u001b[0;36m50\u001b[0m\u001b[0;34m:\u001b[0m\u001b[0;34m\u001b[0m\u001b[0;34m\u001b[0m\u001b[0m\n\u001b[0m\u001b[1;32m      2\u001b[0m     \u001b[0mprint\u001b[0m\u001b[0;34m(\u001b[0m\u001b[0mi\u001b[0m\u001b[0;34m)\u001b[0m\u001b[0;34m\u001b[0m\u001b[0;34m\u001b[0m\u001b[0m\n",
      "\u001b[0;31mTypeError\u001b[0m: 'int' object is not iterable"
     ]
    }
   ],
   "source": [
    "for i in 50:\n",
    "    print(i)"
   ]
  },
  {
   "cell_type": "markdown",
   "metadata": {},
   "source": [
    "TypeError: 'int' object is not iterable လို့ပြပါတယ် ။ တကယ်လို့ number တွေကို iterate လုပ်ခြင်ရင်တော့ range(start,stop,step) function() ကို သုံးရပါမယ် ။"
   ]
  },
  {
   "cell_type": "code",
   "execution_count": 42,
   "metadata": {},
   "outputs": [
    {
     "name": "stdout",
     "output_type": "stream",
     "text": [
      "0\n",
      "1\n",
      "2\n",
      "3\n",
      "4\n",
      "5\n",
      "6\n",
      "7\n",
      "8\n",
      "9\n"
     ]
    }
   ],
   "source": [
    "for i in range(0,10,1): # range method မှာ start ရဲ့ default value က 0 ဖြစ်ပြီး\n",
    "    print(i)            #step ရဲ့ default value ကတော့ 1 ဖြစ်ပါတယ် ။"
   ]
  },
  {
   "cell_type": "markdown",
   "metadata": {},
   "source": [
    "range မှာ 0 ကစပြီး 9 မှာဆုံးသွားပါတယ် ။ စုစုပေါင်း ၁၀ ကြိမ် loop ပတ်သွားတာကိုတွေ့ရမှာပါ ။ ၁ ကနေစပြီး ၁၀ မှာဆုံးချင်ရင်တော့ range ရဲ့ start,stop\n",
    "ကို ပြင်ရပါမယ် ။ ထို့အတူ reverse order ပြောင်းပြန် ပတ်ချင်ရင်လည်း step ကို (-) အနှတ်ပြောင်းရပါမယ် ။\n",
    "python မှာ တစ်ခါတစ်ရံ iterate variable ကို (_) underscore ကိုလည်းထားပြီး iterate လုပ်နိုင်ပါတယ် ။"
   ]
  },
  {
   "cell_type": "code",
   "execution_count": 5,
   "metadata": {},
   "outputs": [
    {
     "name": "stdout",
     "output_type": "stream",
     "text": [
      "1\n",
      "2\n",
      "3\n",
      "4\n",
      "5\n",
      "6\n",
      "7\n",
      "8\n",
      "9\n",
      "10\n",
      "This is reverse order\n",
      "10\n",
      "9\n",
      "8\n",
      "7\n",
      "6\n",
      "5\n",
      "4\n",
      "3\n",
      "2\n",
      "1\n",
      "This is 2 step order\n",
      "0\n",
      "2\n",
      "4\n",
      "6\n",
      "8\n",
      "This is underscore variables\n",
      "0\n",
      "1\n",
      "2\n",
      "3\n",
      "4\n",
      "5\n",
      "6\n",
      "7\n",
      "8\n",
      "9\n",
      "<class 'int'>\n"
     ]
    }
   ],
   "source": [
    "for i in range(1,11,1):\n",
    "    print(i)\n",
    "print('This is reverse order')\n",
    "for x in range(10,0,-1):\n",
    "    print(x)\n",
    "print('This is 2 step order')\n",
    "for y in range(0,10,2):\n",
    "    print(y)\n",
    "print('This is underscore variables')\n",
    "for _ in range(10):\n",
    "    print(_)"
   ]
  },
  {
   "cell_type": "markdown",
   "metadata": {},
   "source": [
    "#### counter\n",
    "counter က iterable sequence တွေရဲ့ index ကိုရေတွက်မှာပါ ။"
   ]
  },
  {
   "cell_type": "code",
   "execution_count": 50,
   "metadata": {},
   "outputs": [
    {
     "name": "stdout",
     "output_type": "stream",
     "text": [
      "55\n"
     ]
    }
   ],
   "source": [
    "nums_list = [1,2,3,4,5,6,7,8,9,10]\n",
    "counter = 0\n",
    "for num in nums_list:\n",
    "    counter += num\n",
    "print(counter)"
   ]
  },
  {
   "cell_type": "markdown",
   "metadata": {},
   "source": [
    "ဒီနေရာမှာ သတိထားဖို့က ကိုယ်အဖြေထုတ်တာက looping code block ထဲရှိမနေဖို့လိုပါတယ် ။ ကိုယ်အဖြေထုတ်တာက looping code block ထဲမှာဆိုရင် ရလာဒ်ကပြောင်းလဲသွားနိုင်ပါတယ် ။ အခြား C နှင့် JavaScript တို့မှာတော့ code block ကို {} အတွင်းမှာ ရေးရလို့ မမှားနိုင်ပေမဲ့ python မှာ မှားနိုင်ပါတယ် ။\n"
   ]
  },
  {
   "cell_type": "markdown",
   "metadata": {},
   "source": [
    "####  enumerate()\n",
    "အခြား range() function ကဲ့သို့ အသုံးများတဲ့ function တစ်ခုကတော့ enumerate() function ပဲဖြစ်ပါတယ် ။\n",
    "enumerate() function က အခြား objects  တွေပေါ်မှာ iterate လုပ်ပေးထာဖြစ်ပါတယ် ။ အထူးသဖြင့် sequencial objectတွေမှာရှိတဲ့\n",
    "items တွေရဲ့ index ကိုမှတ်သားတာဖြစ်ပါတယ် ။\n",
    "enumerate()က  looping အတွင်းမှာ အလွန်အသုံးဝင်သော index counter တစ်ခုဖြစ်ပါတယ် ။\n",
    "ရေးသားပုံကတော့\n",
    "     \n",
    "     for i,char in enumerate(iterable_object):\n",
    " "
   ]
  },
  {
   "cell_type": "code",
   "execution_count": 6,
   "metadata": {},
   "outputs": [
    {
     "name": "stdout",
     "output_type": "stream",
     "text": [
      "Help on class enumerate in module builtins:\n",
      "\n",
      "class enumerate(object)\n",
      " |  enumerate(iterable, start=0)\n",
      " |  \n",
      " |  Return an enumerate object.\n",
      " |  \n",
      " |    iterable\n",
      " |      an object supporting iteration\n",
      " |  \n",
      " |  The enumerate object yields pairs containing a count (from start, which\n",
      " |  defaults to zero) and a value yielded by the iterable argument.\n",
      " |  \n",
      " |  enumerate is useful for obtaining an indexed list:\n",
      " |      (0, seq[0]), (1, seq[1]), (2, seq[2]), ...\n",
      " |  \n",
      " |  Methods defined here:\n",
      " |  \n",
      " |  __getattribute__(self, name, /)\n",
      " |      Return getattr(self, name).\n",
      " |  \n",
      " |  __iter__(self, /)\n",
      " |      Implement iter(self).\n",
      " |  \n",
      " |  __next__(self, /)\n",
      " |      Implement next(self).\n",
      " |  \n",
      " |  __reduce__(...)\n",
      " |      Return state information for pickling.\n",
      " |  \n",
      " |  ----------------------------------------------------------------------\n",
      " |  Static methods defined here:\n",
      " |  \n",
      " |  __new__(*args, **kwargs) from builtins.type\n",
      " |      Create and return a new object.  See help(type) for accurate signature.\n",
      "\n"
     ]
    }
   ],
   "source": [
    "help('enumerate')"
   ]
  },
  {
   "cell_type": "code",
   "execution_count": 33,
   "metadata": {},
   "outputs": [
    {
     "name": "stdout",
     "output_type": "stream",
     "text": [
      "H 10\n",
      "e 11\n",
      "l 12\n",
      "l 13\n",
      "o 14\n",
      "  15\n",
      "W 16\n",
      "o 17\n",
      "r 18\n",
      "l 19\n",
      "d 20\n",
      "{'H': 10, 'e': 11, 'l': 19, 'o': 17, ' ': 15, 'W': 16, 'r': 18, 'd': 20}\n"
     ]
    }
   ],
   "source": [
    "my_dict = {}\n",
    "for i,char in enumerate('Hello World',start=10):\n",
    "    print(char,i)\n",
    "    my_dict[char] = i\n",
    "print(my_dict)"
   ]
  },
  {
   "cell_type": "code",
   "execution_count": 54,
   "metadata": {},
   "outputs": [
    {
     "name": "stdout",
     "output_type": "stream",
     "text": [
      "0 1\n",
      "1 2\n",
      "2 3\n",
      "3 4\n",
      "4 5\n"
     ]
    }
   ],
   "source": [
    "for i,item  in enumerate([1,2,3,4,5]):\n",
    "    print(i,item)"
   ]
  },
  {
   "cell_type": "code",
   "execution_count": 55,
   "metadata": {},
   "outputs": [
    {
     "name": "stdout",
     "output_type": "stream",
     "text": [
      "0 a\n",
      "1 b\n",
      "2 c\n",
      "3 d\n"
     ]
    }
   ],
   "source": [
    "for i,char in enumerate(['a', 'b', 'c', 'd']):\n",
    "    print(i,char)"
   ]
  },
  {
   "cell_type": "code",
   "execution_count": 56,
   "metadata": {},
   "outputs": [
    {
     "name": "stdout",
     "output_type": "stream",
     "text": [
      "0 1\n",
      "1 2\n",
      "2 a\n",
      "3 0.12\n",
      "4 False\n"
     ]
    }
   ],
   "source": [
    "for i,item in enumerate((1,2,'a',0.12,False)):\n",
    "    print(i,item)"
   ]
  },
  {
   "cell_type": "markdown",
   "metadata": {},
   "source": [
    "လေ့ကျင့်ခန်းလေးတစ်ခုလုပ်ကြည့်ကြရအောင် ။"
   ]
  },
  {
   "cell_type": "code",
   "execution_count": 16,
   "metadata": {},
   "outputs": [
    {
     "name": "stdout",
     "output_type": "stream",
     "text": [
      "0 1\n",
      "1 2\n",
      "2 3\n",
      "3 4\n",
      "4 5\n",
      "5 6\n",
      "6 7\n",
      "index of 7 is 6\n",
      "7 8\n",
      "8 9\n",
      "9 10\n",
      "10 11\n",
      "11 12\n",
      "12 13\n",
      "13 14\n",
      "14 15\n"
     ]
    }
   ],
   "source": [
    "for i,num in enumerate(list(range(1,16))):\n",
    "    print(i,num)\n",
    "    if num == 7 :\n",
    "        print(f'index of 7 is {i}')"
   ]
  },
  {
   "cell_type": "code",
   "execution_count": 72,
   "metadata": {},
   "outputs": [
    {
     "name": "stdout",
     "output_type": "stream",
     "text": [
      "vowel 'i' is 3th vowel\n"
     ]
    }
   ],
   "source": [
    "for i,vowel in enumerate(['a', 'e', 'i', 'o', 'u']):\n",
    "    if vowel == 'i' :\n",
    "        print(f'vowel \\'i\\' is {i+1}th vowel')"
   ]
  },
  {
   "cell_type": "code",
   "execution_count": 27,
   "metadata": {},
   "outputs": [
    {
     "name": "stdout",
     "output_type": "stream",
     "text": [
      "40th character in this sentence is '''\n",
      "\"'\" symblos is at 40th index.\n"
     ]
    }
   ],
   "source": [
    "for i,char  in enumerate('There is to manay words in this story.I\\'m too lazy to read this story'):\n",
    "    if i == 39:\n",
    "        print(f'40th character in this sentence is \\'{char}\\'')\n",
    "    if char == \"\\'\":\n",
    "        print(f'\\\"\\'\\\" symblos is at {i+1}th index.')"
   ]
  },
  {
   "cell_type": "markdown",
   "metadata": {},
   "source": [
    "# While Loop\n",
    "-------------\n",
    "while loop ကို \"while True loop\" လို့မှတ်ရင် ပို အဆင်ပြေပါလိမ့်မယ်လို့ထင်ပါတယ် ။ ဘာကြောင့်လည်း ဆိုရင် while  နောက်မှာရှိတဲ့ Expression က\n",
    "True ဖြစ်နေသမျှ ကာလပါတ်လုံး looping အလုပ်ကိုလုပ်နေမှာမို့ဖြစ်ပါတယ် ။ ဒါကြောင့် while loop ကိုအသုံးပြုမည်ဆိုပါ က လုံးဝ မထွက်တော့သည့် looping များမှ အပ condition False ဖြစ်စေမည့် အခြေအနေကိုထည့် သွင်းစဥ်းစားရမှာဖြစ်ပါတယ် ။ အဲ့လိုမှ မဟုတ်ရင် loop ကမထွက်ပဲ စက် ဟန်းတာမျိုးဖြစ်တတ်ပါတယ်။\n",
    "while loop ကိုတော့ condition false ဖြစ်မဲ့ အခြေအနေကို သိတဲ့ အခါ တနည်းအားဖြင့် အဆုံးမှတ်ကို သိတဲ့အခါမျိုးမှာ သုံးပါတယ် ။ အထူးသဖြင့် infinate  loop (အဆုံးမဲ့ loop )တွေမှာသုံးပါတယ် ။"
   ]
  },
  {
   "cell_type": "code",
   "execution_count": 77,
   "metadata": {},
   "outputs": [
    {
     "name": "stdout",
     "output_type": "stream",
     "text": [
      "1\n",
      "2\n",
      "3\n",
      "4\n",
      "5\n",
      "6\n",
      "7\n",
      "8\n",
      "9\n",
      "10\n",
      "11\n",
      "12\n",
      "13\n",
      "14\n",
      "15\n",
      "Done!\n"
     ]
    }
   ],
   "source": [
    "i = 0\n",
    "while i < 15:\n",
    "    i+=1  # to false the condition after i >= 50\n",
    "    print(i)\n",
    "else :\n",
    "    print('Done!')"
   ]
  },
  {
   "cell_type": "markdown",
   "metadata": {},
   "source": [
    "ဒီနေရာမှာ သတိထားရမှာကတော့ လိုချင်တဲ့ result ကို ထုပ်ပြီးမှ increment ကိုလုပ်မှာလား၊ increment  လုပ်ပြီးမှ result ကိုထုပ်မှာလားစဥ်းစားဖို့လိုပါတယ်။"
   ]
  },
  {
   "cell_type": "markdown",
   "metadata": {},
   "source": [
    "brake အသုံးပြုတာထပ်ထည့်ရန်"
   ]
  },
  {
   "cell_type": "code",
   "execution_count": 6,
   "metadata": {},
   "outputs": [
    {
     "name": "stdout",
     "output_type": "stream",
     "text": [
      "   *   \n",
      "  ***  \n",
      " ***** \n",
      "*******\n",
      "   *   \n",
      "   *   \n",
      "  ***  \n"
     ]
    }
   ],
   "source": [
    "xmas_tree = [\n",
    "    [0,0,0,1,0,0,0],\n",
    "    [0,0,1,1,1,0,0],\n",
    "    [0,1,1,1,1,1,0],\n",
    "    [1,1,1,1,1,1,1],\n",
    "    [0,0,0,1,0,0,0],\n",
    "    [0,0,0,1,0,0,0],\n",
    "    [0,0,1,1,1,0,0],\n",
    "] \n",
    "space = ' '\n",
    "star = '*'\n",
    "#1 iterate over xmas_tree\n",
    "    # if 0  -> print ' '\n",
    "    # if 1  -> print '*'\n",
    "for row in xmas_tree:\n",
    "    for pixel in row:\n",
    "        if (pixel == 1):\n",
    "            print(star,end = '')\n",
    "        else :\n",
    "            print(space, end = '')\n",
    "    print('')\n",
    "            "
   ]
  },
  {
   "cell_type": "markdown",
   "metadata": {},
   "source": [
    "# Developer Fundamentals\n",
    "-------------------------\n",
    "### What is a good code?\n",
    "------------------------\n",
    "#### Good coder\n",
    "#### Senior Programmer\n",
    "#### Expert\n",
    "#### Tech leader\n",
    "#### Genius\n",
    "What is PEP8\n",
    "------------\n",
    "PEP stands for **Python Enhancement Proposal**. A PEP is a design document providing information to the Python community, or describing a new feature for Python or its processes or environment. The PEP should provide a concise technical specification of the feature and a rationale for the feature."
   ]
  },
  {
   "cell_type": "markdown",
   "metadata": {},
   "source": [
    "### Clean Code ဖြစ်ဖို့လိုအပ်ပါတယ် \n",
    "#### clean           (သန့်ရှင်း)\n",
    "#### Readability     (ဖတ်နိုင်မှု)\n",
    "#### predictability  (ကြိုတင်ခန့်မှန်းနိုင်မှု)\n",
    "#### DRY principle   (Don't Repeat Your Self)\n"
   ]
  },
  {
   "cell_type": "markdown",
   "metadata": {},
   "source": [
    "### Exercise\n",
    "Check for duplicate elements in list \n",
    "*** ဒီ လေ့ကျင့်ခန်းမှာတော့ set() ကို အသုံးမပြုပဲ ရေးသားသွားမှာဖြစ်ပါတယ် ။"
   ]
  },
  {
   "cell_type": "code",
   "execution_count": 8,
   "metadata": {},
   "outputs": [
    {
     "name": "stdout",
     "output_type": "stream",
     "text": [
      "['b', 'd']\n"
     ]
    }
   ],
   "source": [
    "some_list  = ['a', 'b', 'c', 'd', 'b', 'e', 'd', 'f', 'g']\n",
    "duplicates = []\n",
    "for char in some_list: \n",
    "    if some_list.count(char) > 1 : # char အရေအတွက် က ၁ ခါထက်ပိုရင်\n",
    "        if char not in duplicates: # duplicates list ထဲမှာရှိပြီးသားမဟုတ်မသာ \n",
    "            duplicates.append(char)# char ကို duplicates list ထဲထပ်ပေါင်းထည့်ပါ ။\n",
    "print(duplicates)"
   ]
  },
  {
   "cell_type": "markdown",
   "metadata": {},
   "source": [
    "# Functions\n",
    "--------------"
   ]
  },
  {
   "cell_type": "markdown",
   "metadata": {},
   "source": [
    "functions ဆိုတာကတော့ programming language အားလုံးမှာပါ လေ့ရှိပါတယ် ။\n",
    "DRY principle အရ ကုတ်တွေကို ထပ်ခါထပ်ခါ မရေးချင်တဲ့အတွက် ။ လိုအပ်တဲ့ အချိန်မှာ ခေါ်သုံးရန် ရေးသားထားတဲ့ ကုတ်အစုအဝေးတစ်ခုပါပဲ ။\n",
    "function  တစ်ခုမှာ Declaration/Defining နှင့် Callaing function ဆိုပြီးအပိုင်း ၃ ပိုင်းပါ  ပါတယ် ။\n",
    "python မှာတော့  def keyword ကို  Declaration and Defining အတွက် အသုံးပြုပါတယ် ။\n",
    "def ရဲ့နောက်မှာတော့ varibale  ကြေညာသလိုရေးသားပြီးနောက်မှာ ()  ထည့်ပေးရပါမယ် ။\n",
    "() ထဲမှာတော့ အသုံးပြုမည့် arguments များထည့်ပးရမယ် ။ \n",
    "(*args,**kwargs) ထည့်ရင်လည်း အဆင်ပြေပါတယ် ။ args နှင့် kwargs ကိုနောက်ပိုင်းမှာ အသေးစိတ်ရှင်းပြပါမယ် ။\n",
    "ဥပမာ \n",
    "\n",
    "def function_name():\n",
    "\n",
    "  အဲ့ဒီ အောက်မှာတော့ space 4 ချက် သို့မဟုတ် Tab  တစ်ချက်ခုန်ပြီး မိမိရေးသားလိုသော instruction set ညွန်ကြားချက်ကုတ် အစုအဝေးရေးသားရပါမယ် ။\n",
    "\n",
    "function define လုပ်ပြီးနောက်ပိုင်းမှာတော့ function name() ဖြင့် မိမိ  function ကို လိုအပ်သလို ပြန်ခေါ်၍ အသုံးပြုနိုင်ပါတယ် ။\n",
    "function defining မလုပ်ခင်မှာတော့ ခေါ်ယူ အသုံးပြုနိုင်မှာ မဟုတ်ပါဘူး ။\n",
    "function name ကိုပဲ ခေါ်ပြီး () မပါရင်တော့ function result တွေကို memory ပေါ်မှာပဲ သိမ်းစည်းထားမှာဖြစ်ပါတယ် ။\n",
    "ဥပမာ ။ ။\n",
    "\n",
    "def function_name():\n",
    "    some coding...\n",
    "    some coding...\n",
    "function_name()"
   ]
  },
  {
   "cell_type": "code",
   "execution_count": 10,
   "metadata": {},
   "outputs": [
    {
     "name": "stdout",
     "output_type": "stream",
     "text": [
      "Hello function\n"
     ]
    }
   ],
   "source": [
    "def say_hello():\n",
    "    print('Hello function')\n",
    "    \n",
    "say_hello()"
   ]
  },
  {
   "cell_type": "markdown",
   "metadata": {},
   "source": [
    "အပေါ်က Xmas Tree လေးကို function ထဲထည့်ကြည့်ရအောင် "
   ]
  },
  {
   "cell_type": "code",
   "execution_count": 30,
   "metadata": {},
   "outputs": [
    {
     "name": "stdout",
     "output_type": "stream",
     "text": [
      "   *   \n",
      "  ***  \n",
      " ***** \n",
      "*******\n",
      "   *   \n",
      "   *   \n",
      "  ***  \n",
      "~~~~~~~~~~~~~~~~~~~~~~~~~~~~~~~~~~~~~~~~~~~~~~~~~~\n",
      "Calling the show_xmas_tree in loop\n",
      "   *   \n",
      "  ***  \n",
      " ***** \n",
      "*******\n",
      "   *   \n",
      "   *   \n",
      "  ***  \n",
      "   *   \n",
      "  ***  \n",
      " ***** \n",
      "*******\n",
      "   *   \n",
      "   *   \n",
      "  ***  \n",
      "   *   \n",
      "  ***  \n",
      " ***** \n",
      "*******\n",
      "   *   \n",
      "   *   \n",
      "  ***  \n"
     ]
    }
   ],
   "source": [
    "xmas_tree = [\n",
    "    [0,0,0,1,0,0,0],\n",
    "    [0,0,1,1,1,0,0],\n",
    "    [0,1,1,1,1,1,0],\n",
    "    [1,1,1,1,1,1,1],\n",
    "    [0,0,0,1,0,0,0],\n",
    "    [0,0,0,1,0,0,0],\n",
    "    [0,0,1,1,1,0,0],\n",
    "] \n",
    "space = ' '\n",
    "star = '*'\n",
    "\n",
    "def show_xmas_tree():\n",
    "    for row in xmas_tree:\n",
    "        for pixel in row:\n",
    "            if (pixel == 1):\n",
    "                print(star,end = '')\n",
    "            else :\n",
    "                print(space, end = '')\n",
    "        print('')\n",
    "\n",
    "show_xmas_tree()\n",
    "print('~'*50)\n",
    "print('Calling the show_xmas_tree in loop')\n",
    "\n",
    "for i in range(3):\n",
    "    show_xmas_tree()\n",
    "\n",
    "    \n",
    "\n"
   ]
  },
  {
   "cell_type": "markdown",
   "metadata": {},
   "source": [
    "ထိုကဲ့သို့ ရေးသားခြင်းဖြင့် ကုတ်များအားထပ်ကာ ထပ်ကာ ရေးသားနေဖို့မလိုအပ်တော့ပါဘူး ။ DRY, Don't Repeat Your Self.\n",
    "အကယ်၍ function ခေါ်ရာတွင် () မပါ ပါက function ကို ထုတ်ပြမှာမဟုတ်ပဲ memory အတွင်းမှာ သိမ်းစည်းသွားမှာဖြစ်ပါတယ် ။"
   ]
  },
  {
   "cell_type": "code",
   "execution_count": 16,
   "metadata": {},
   "outputs": [
    {
     "name": "stdout",
     "output_type": "stream",
     "text": [
      "<function show_xmas_tree at 0x7f8afba511f0>\n"
     ]
    }
   ],
   "source": [
    "print(show_xmas_tree)"
   ]
  },
  {
   "cell_type": "markdown",
   "metadata": {},
   "source": [
    "## Arguments VS Parameters\n",
    "--------------------------"
   ]
  },
  {
   "cell_type": "markdown",
   "metadata": {},
   "source": [
    "function တစ်ခုကို အသုံးပြုပြီဆိုလျှင် function ရဲ့ variable တွေက Dyanamic လည်းဖြစ်ကောင်းဖြစ်နိုင်ပါတယ် ။\n",
    "ဒါကြောင့် function ရဲ့ Arguments နှင် Parameters တွေကိုလည်းသိဖို့လိုအပ်ပါတယ် ။\n",
    "function Declaration /Defining လုပ်စဥ်မှာ ပါတာကတော့ Parameters  တွေဖြစ်ပြီး naming သက်သက်သာဖြစ်ပါတယ် ။\n",
    "function Calling မှာ ပါတာကတော့ Arguments တွေဖြစ်ပြီး actual value တွေဖြစ်ပါတယ် ။\n",
    "ဥပမာ အောက်မှာကြည့်ကြရအောင် "
   ]
  },
  {
   "cell_type": "code",
   "execution_count": 21,
   "metadata": {},
   "outputs": [
    {
     "name": "stdout",
     "output_type": "stream",
     "text": [
      "My name is John.I'm  29 years old.I'm a Software Developer.\n",
      "My name is Raymond.I'm  12 years old.I'm a Student.\n"
     ]
    }
   ],
   "source": [
    "#function Declaration/Defining\n",
    "# Parameters \n",
    "def person_info(name, age , job):\n",
    "    print(f'My name is {name}.I\\'m  {age} years old.I\\'m a {job}.')\n",
    "#function calling/invoking\n",
    "# Arguments  \n",
    "person_info('John', 29, 'Software Developer')\n",
    "person_info('Raymond', 12, 'Student')"
   ]
  },
  {
   "cell_type": "markdown",
   "metadata": {},
   "source": [
    "#### Arguments အမျိုးအစားများ\n",
    "    -positional arguments\n",
    "    -keyword arguments\n",
    "    -default parameter\n",
    "    -builtin arguments\n",
    "    \n",
    "  positional arguments ။    ။ positional arguments တွေက parameter မှာ ထည့်သွင်းရမည့်  နေရာနှင့်ကိုက်ညီရန်လိုအပ်ပါတယ် ။\n",
    "  keyword arguments ။    ။ keyword arguments တွေက တော့ အစီအစဥ်မကြလည်းရပါတယ် ။ သို့သော function calling  မှာ parameter မှာ pass လုပ်မည့် parameter  နဲ့ argument ကို အတွဲလိုက်တိတိကျကျသတ်မှတ်ပေးရပါမယ် ။ positional argument က keyword arguments  တွေရဲ့နောက်မှာရှိမနေရပါဘူး။ function define  လုပ်ကတည်းကပင် keyword argument များအား နောက်ဆုံးမှာသီးသန့်ထားရေးသားသင့်ပါတယ် ။\n",
    "  default parameter ။   ။ default parametes တွေကတော့  function calling လုပ်စဥ်မှာ arguments များထည့်သွင်းရန်မေ့သည့်အခါမျိုး နှင့် မထည့်ချင်သည့် အခါမျိုးမှာ function က ပုံသေသတ်မှတ်ထည့်သွင်းသွားမှာဖြစ်ပါတယ် ။"
   ]
  },
  {
   "cell_type": "code",
   "execution_count": 26,
   "metadata": {},
   "outputs": [
    {
     "name": "stdout",
     "output_type": "stream",
     "text": [
      "My name is John.I'm  29 years old.I'm a Software Developer.\n",
      "My name is Raymond.I'm  12 years old.I'm a Student.\n",
      "My name is William.I'm  10 years old.I'm a Student.\n"
     ]
    }
   ],
   "source": [
    "#function Declaration/Defining\n",
    "# Parameters \n",
    "def person_info(name, age , job):\n",
    "    print(f'My name is {name}.I\\'m  {age} years old.I\\'m a {job}.')\n",
    "#function calling/invoking\n",
    "#positional arguments\n",
    "person_info('John', 29, 'Software Developer')\n",
    "#keyword arguments\n",
    "person_info(age =12,name = 'Raymond', job ='Student')\n",
    "person_info('William',age = 10,job='Student')"
   ]
  },
  {
   "cell_type": "markdown",
   "metadata": {},
   "source": [
    "အထက်ဖော်ပြပါ function မှာ တကယ်လို့ name ကို keyword argument အဖြစ်သတ်မှတ်အသုံးပြုချင်ရင်တော့ function defining  မှာ ပြန်ပြင်ရပါမယ် ။"
   ]
  },
  {
   "cell_type": "code",
   "execution_count": 28,
   "metadata": {},
   "outputs": [
    {
     "name": "stdout",
     "output_type": "stream",
     "text": [
      "My name is John.I'm  29 years old.I'm a Software Developer.\n",
      "My name is William.I'm  29 years old.I'm a Student.\n"
     ]
    }
   ],
   "source": [
    "def person_info( age,name, job):\n",
    "    print(f'My name is {name}.I\\'m  {age} years old.I\\'m a {job}.')\n",
    "#positional arguments\n",
    "person_info( 29,'John', 'Software Developer')\n",
    "#keyword arguments\n",
    "person_info(29,name = 'William',job='Student')"
   ]
  },
  {
   "cell_type": "code",
   "execution_count": 29,
   "metadata": {},
   "outputs": [
    {
     "name": "stdout",
     "output_type": "stream",
     "text": [
      "My name is John.I'm  29 years old.I'm a Software Developer.\n",
      "My name is William.I'm  29 years old.I'm a Student.\n",
      "My name is Eirs.I'm  30 years old.I'm a Jobeless.\n"
     ]
    }
   ],
   "source": [
    "# Default parameters\n",
    "def person_info( age,name, job='Jobeless'):\n",
    "    print(f'My name is {name}.I\\'m  {age} years old.I\\'m a {job}.')\n",
    "#positional arguments\n",
    "person_info( 29,'John', 'Software Developer')\n",
    "#keyword arguments\n",
    "person_info(29,name = 'William',job='Student')\n",
    "person_info(30,'Eirs') # job အတွက် argument ထည့်သွင်းထားခြင်းမရှိပါဘူး ။"
   ]
  },
  {
   "cell_type": "markdown",
   "metadata": {},
   "source": [
    "# return\n",
    "----------"
   ]
  },
  {
   "cell_type": "markdown",
   "metadata": {},
   "source": [
    "#### function \n",
    "    -Should do one thing really well.\n",
    "    -Should return something.\n",
    "#### function တစ်ခု တည်ဆောက်ရခြင်း က \n",
    "    အကြောင်းအရာတစ်ခုခုကို သေခြာပေါက် အလုပ် လုပ်ဖို့ပါပဲ ။ function တစ်ခုတည်ဆောက်ပြီး ဘာတစ်ခုမှ မယ်မယ်ရရ မလုပ်ရင် အဓိပ္ပါယ်မရှိပါဘူး ။\n",
    "    \n",
    "    return value တစ်ခုပြန်ပေးသင့်ပါတယ်။ return မပေးခဲ့ရင်တော့ None value တစ်ခု return ပြန်လာမှာဖြစ်ပါတယ် ။ None value ဆိုတာကတော့\n",
    "    \n",
    "    python intepreter က သတ်မှတ်ထားတဲ့ value တစ်ခုဖြစ်ပါတယ် ။ တန်ဖိုးတစ်ခုတော့ တစ်ခုပဲ ဒါပေမဲ့ ဘာတန်ဖိုးရှိလည်းဆိုတော့လည်း မရှိပြန်ဘူး ။\n",
    "    \n",
    "    function တစ်ခုရဲ့ code block မှာ return ရဲ့ နောက်က code များကို တော့ ဆက်လက်အလုပ် လုပ်မှာ မဟုတ်ပါဘူး ။ return တွေတာနဲ့ return \n",
    "    \n",
    "    value များကို ယူပြီး function ကနေထွက်သွားမှာ ဖြစ်ပါတယ် ။\n",
    "    \n",
    "    ကျန်တဲ့ အပိုင်းများကိုတော့ functional programming  အပိုင်းမှာ ဆက်လေ့လာကြရအောင် ။"
   ]
  },
  {
   "cell_type": "code",
   "execution_count": 30,
   "metadata": {},
   "outputs": [
    {
     "name": "stdout",
     "output_type": "stream",
     "text": [
      "in function\n",
      "None\n"
     ]
    }
   ],
   "source": [
    "def sum_func(num1,num2):\n",
    "    print('in function')\n",
    "    num1 + num2\n",
    "print(sum_func(4,5))"
   ]
  },
  {
   "cell_type": "code",
   "execution_count": 31,
   "metadata": {},
   "outputs": [
    {
     "name": "stdout",
     "output_type": "stream",
     "text": [
      "in function\n",
      "9\n"
     ]
    }
   ],
   "source": [
    "def sum_func(num1,num2):\n",
    "    print('in function')\n",
    "    return num1 + num2\n",
    "    print('After return')\n",
    "print(sum_func(4,5))"
   ]
  },
  {
   "cell_type": "code",
   "execution_count": 34,
   "metadata": {},
   "outputs": [
    {
     "name": "stdout",
     "output_type": "stream",
     "text": [
      "25\n"
     ]
    }
   ],
   "source": [
    "def sum_func(num1,num2):\n",
    "    return num1 + num2\n",
    "total = sum_func(10,5)\n",
    "print(sum_func(total,10))"
   ]
  },
  {
   "cell_type": "markdown",
   "metadata": {},
   "source": [
    "combining function in a function"
   ]
  },
  {
   "cell_type": "code",
   "execution_count": 2,
   "metadata": {},
   "outputs": [
    {
     "name": "stdout",
     "output_type": "stream",
     "text": [
      "30\n"
     ]
    }
   ],
   "source": [
    "def sum_func(num1, num2):\n",
    "    def another_sum_func(n1,n2):\n",
    "        return n1 + n2 \n",
    "    return another_sum_func(num1,num2)\n",
    "total = sum_func(10,20)   \n",
    "print(total)"
   ]
  },
  {
   "cell_type": "markdown",
   "metadata": {},
   "source": [
    "## Methods VS Functions"
   ]
  },
  {
   "cell_type": "markdown",
   "metadata": {},
   "source": [
    "    lsit()\n",
    "    print()\n",
    "    max()\n",
    "    min()\n",
    "    input()\n",
    "\n",
    "    စတဲ့ Python function တွေကို ကျနောတို့ ကိုယ်တိုင် လေ့လာလို့ရတယ် ။ ကိုယ်တိုင်လည်းတည်ဆောက်ပြီး ခေါ်ယူ အသုံးပြုနိုင်ပါတယ် ။\n",
    "\n",
    "    method ကတော့ objects တွေရဲ့ နောက်မှာ (.) dot ခံပြီးအသုံးပြုရပါမယ် ။ အဲ့ဒီ method ကိုတော့ dot ရဲ့ ရှေ့ ဘယ်ဘက်မှာရှိတဲ့ Object ကသာပိုင်ဆိုင်\n",
    "\n",
    "    ပါတယ် ။Builtin Objects တွေရဲ့ method တွေကိုတော့ Python Documentation မှာ လေ့လာနိုင်ပါတယ် ။\n",
    "\n",
    "    ဥပမာ အနေနဲ့ ပြရရင်တော့ 'hello'. လို့ရေးလိုက်တာနဲ့ python intepreter က 'hello' string ပိုင်ဆိုင်တဲ့ \n",
    "\n",
    "    'hello'.lower()\n",
    "    'hello'.upper()\n",
    "    'hello'.format()\n",
    "    'hello'.count()\n",
    "    'hello'.split() စတဲ့ method တွေကို ပြသပေးမှာဖြစ်ပါတယ် ။"
   ]
  },
  {
   "cell_type": "code",
   "execution_count": null,
   "metadata": {},
   "outputs": [],
   "source": [
    "'hello'."
   ]
  },
  {
   "cell_type": "markdown",
   "metadata": {},
   "source": [
    "# doc string\n",
    "------------\n",
    "docstring ကို ''' (single code) ၃ခုဖြင့်ရေးလေ့ရှိပြီး comment အနေနှင့်လည်း အသုံးပြုနိုင်ပါတယ် ။ comments တွေက တော့ အခြား programmer\n",
    "တွေ အနေနဲ့ code  တွေအားကြည့်ရာမှာ အထောက်အကူပြုဖို့ပါပဲ ။ code တွေရဲ့ information တွေကို docstring အနေနဲ့ function တွေ classes တွေရဲ့ အတွင်းမှာ ထည့်သွင်းရေးသားလေ့ရှိပါတယ် ။ အခြား အသုံးပြုတာကတော့ အထက်မှာဖော်ပြခဲ့သလို function တွေ classes တွေအတွင်းမှာ ထည့်သွင်းရေးသားခြင်း\n",
    "ဖြင့် help(object) ကိုခေါ်ကြည့်တဲ့ အခါမှာ docstring မှ အချက်အလက်များကို လေ့လာနိုင်မှာဖြစ်ပါတယ် ။"
   ]
  },
  {
   "cell_type": "code",
   "execution_count": 45,
   "metadata": {},
   "outputs": [
    {
     "name": "stdin",
     "output_type": "stream",
     "text": [
      "Enter a word help\n"
     ]
    },
    {
     "name": "stdout",
     "output_type": "stream",
     "text": [
      "You are a clever guy! You have been looked help function!\n"
     ]
    }
   ],
   "source": [
    "userinput = input('Enter a word :')\n",
    "def docstr_func(word):\n",
    "    '''\n",
    "    This is a docstring in function\n",
    "    This function is example of docstring function\n",
    "    This function have one parameter from user input, if you input from keyboard a word\n",
    "    \"help\" , you will see reply message. Other wise you can see anything.\n",
    "    Example\n",
    "    Enter a word : help\n",
    "    Result -> You are a clever guy! You have been looked help functin!\n",
    "    '''\n",
    "    if word == 'help':\n",
    "        print('You are a clever guy! You have been looked help function!')\n",
    "docstr_func(userinput)"
   ]
  },
  {
   "cell_type": "code",
   "execution_count": 42,
   "metadata": {},
   "outputs": [
    {
     "name": "stdout",
     "output_type": "stream",
     "text": [
      "Help on function docstr_func in module __main__:\n",
      "\n",
      "docstr_func(word)\n",
      "    This is a docstring in function\n",
      "    This function is example of docstring function\n",
      "    This function have one parameter from user input, if you input from keyboard a word\n",
      "    \"help\" , you will see reply message. Other wise you can see anything.\n",
      "    Example\n",
      "    Enter a word : help\n",
      "    Result -> You are a clever guy! You have been looked help functin!\n",
      "\n"
     ]
    }
   ],
   "source": [
    "help(docstr_func)"
   ]
  },
  {
   "cell_type": "markdown",
   "metadata": {},
   "source": [
    "docstring ကို help(object) function ကို သုံးပြီးကြည့်လို့ ရသလို object.__doc__  method  (dunder method or magic method)ကို အသုံးပြုပြီးလည်းကြည့်နိုင်ပါတယ် ။\n",
    "အလွန် အလွန် အသုံးဝင်ပြီး functions တွေရဲ့ definations တွေကိုကြည့်နိုင်မှာဖြစ်ပါတယ် ။ အခြား programmer များဖြင့်ပေါင်းစပ်ရေးသားသော project များမှာ တစ်ယောက်နဲ့ တစ်ယောက်နားလည်နိုင်မှာဖြစ်ပါတယ်"
   ]
  },
  {
   "cell_type": "code",
   "execution_count": 43,
   "metadata": {},
   "outputs": [
    {
     "name": "stdout",
     "output_type": "stream",
     "text": [
      "\n",
      "    This is a docstring in function\n",
      "    This function is example of docstring function\n",
      "    This function have one parameter from user input, if you input from keyboard a word\n",
      "    \"help\" , you will see reply message. Other wise you can see anything.\n",
      "    Example\n",
      "    Enter a word : help\n",
      "    Result -> You are a clever guy! You have been looked help functin!\n",
      "    \n"
     ]
    }
   ],
   "source": [
    "print(docstr_func.__doc__)"
   ]
  },
  {
   "cell_type": "markdown",
   "metadata": {},
   "source": [
    "## Clean Code"
   ]
  },
  {
   "cell_type": "markdown",
   "metadata": {},
   "source": [
    "    - clean code ကို ပြောမယ်ဆိုရင် even number or odd number စစ်တဲ့ program လေးနဲ့ ပြချင်ပါတယ်။"
   ]
  },
  {
   "cell_type": "code",
   "execution_count": 6,
   "metadata": {},
   "outputs": [
    {
     "data": {
      "text/plain": [
       "True"
      ]
     },
     "execution_count": 6,
     "metadata": {},
     "output_type": "execute_result"
    }
   ],
   "source": [
    "def is_even(num):\n",
    "    if num % 2 == 0 :\n",
    "        return True\n",
    "    elif num % 2 != 0 :\n",
    "        return False\n",
    "is_even(10)"
   ]
  },
  {
   "cell_type": "markdown",
   "metadata": {},
   "source": [
    "    အထက်မှာ ဖော်ပြခဲတဲ့  function မှာ number တစ်ခုကို ၂ နဲ့စားမယ် စားကြွင်း က သုည နဲ့ညီရင်  True return ပြန်မယ် ။\n",
    "    တကယ်လို number တစ်ခုကို ၂ နဲ့စားမယ် စားကြွင်း က သုည နဲ့ မညီရင်တော့ False return ပြန်ပါမယ်လို့ ရေးလိုက်တယ် ။ \n",
    "    ဒါဆိုရင် ကျနော်တို့ က number ကို ၂ နဲ့စားလို့ စားကြွင်း က သုညနဲ့ ညီ/မညီ ကို ၂ ခါပြန်စစ်နေပါတယ် ။ \n",
    "    number တစ်ခုကို ၂ နဲ့စားမယ် စားကြွင်း က သုည နဲ့ညီရင်  True return ပြန်မယ် ။ မဟုတ်ရင်တော့ False return ပြန်ပါမယ်လို့ ရေးလိုက်ရင်ရော"
   ]
  },
  {
   "cell_type": "code",
   "execution_count": 7,
   "metadata": {},
   "outputs": [
    {
     "data": {
      "text/plain": [
       "True"
      ]
     },
     "execution_count": 7,
     "metadata": {},
     "output_type": "execute_result"
    }
   ],
   "source": [
    "def is_even(num):\n",
    "    if num % 2 == 0:\n",
    "        return True\n",
    "    else: \n",
    "        return False\n",
    "is_even(10)"
   ]
  },
  {
   "cell_type": "markdown",
   "metadata": {},
   "source": [
    "    number တစ်ခုကို ၂ နဲ့စားမယ် စားကြွင်း က သုည နဲ့ညီရင်  True return ပြန်မယ် ။ ကျန်တာ False ဆိုရင်ကော မရဘူးလား"
   ]
  },
  {
   "cell_type": "code",
   "execution_count": 8,
   "metadata": {},
   "outputs": [
    {
     "data": {
      "text/plain": [
       "True"
      ]
     },
     "execution_count": 8,
     "metadata": {},
     "output_type": "execute_result"
    }
   ],
   "source": [
    "def is_even(num):\n",
    "    if num % 2 == 0:\n",
    "        return True \n",
    "    return False\n",
    "is_even(10)"
   ]
  },
  {
   "cell_type": "markdown",
   "metadata": {},
   "source": [
    "    num % 2 == 0 ဆိုတဲ့ Expression တစ်ခုကနေ  True နဲ့ False ပြန်တာဆိုတော့ if ကို မသုံးတော့ပဲ Expression ကပြန်တဲ့\n",
    "    return  Truen / False ကို တိုက်ရိုက်သုံးလိုက်ရင်ရော"
   ]
  },
  {
   "cell_type": "code",
   "execution_count": 10,
   "metadata": {},
   "outputs": [
    {
     "data": {
      "text/plain": [
       "True"
      ]
     },
     "execution_count": 10,
     "metadata": {},
     "output_type": "execute_result"
    }
   ],
   "source": [
    "def is_even(num):\n",
    "    return num % 2 == 0\n",
    "is_even(10)"
   ]
  },
  {
   "cell_type": "markdown",
   "metadata": {},
   "source": [
    "# *args, **kwargs\n",
    "------------------\n",
    "#### ORoP (Order Rule of Parameters)\n",
    "    -function တစ်ခုအား parameters pass လုပ်မယ်ဆိုရင်တော့ ဖော်ပြပါ အစီအစဥ်အတိုင်း pass လုပ်ရပါမယ် ။ \n",
    "    Parameters,*args,default parameters,**kwargs"
   ]
  },
  {
   "cell_type": "markdown",
   "metadata": {},
   "source": [
    "    *args ဆိုတာ function calling ရဲ့ positional arguments အားလုံးကို parameter pass  လုပ်တာကိုဆိုလိုခြင်းဖြစ်ပါတယ် ။ \n",
    "    *args(all positional arguments as parameter)တွေက function  အတွင်းမှာ Tuple အနေနဲ့ အလုပ် လုပ်ပါတယ် ။"
   ]
  },
  {
   "cell_type": "code",
   "execution_count": 11,
   "metadata": {},
   "outputs": [
    {
     "name": "stdout",
     "output_type": "stream",
     "text": [
      "(1, 2, 3, 4, 5)\n",
      "15\n"
     ]
    }
   ],
   "source": [
    "def func(*args):\n",
    "    print(args)\n",
    "    return sum(args) # sum() is python built in function\n",
    "print(func(1,2,3,4,5))"
   ]
  },
  {
   "cell_type": "markdown",
   "metadata": {},
   "source": [
    "    **kwargs ဆိုတာကတော့ function calling ရဲ့ keyword arguments အားလုံးကို parameter pass လုပ်ခြင်းဖြစ်ပါတယ် ။\n",
    "    **kwargs(all keyword arguemnts as parameter) တွေကတော့ function အတွင်းမှာ Dictionary အနေနဲ့ အလုပ် လုပ်ပါတယ် ။"
   ]
  },
  {
   "cell_type": "code",
   "execution_count": 12,
   "metadata": {},
   "outputs": [
    {
     "name": "stdout",
     "output_type": "stream",
     "text": [
      "{'num1': 5, 'num2': 10}\n",
      "15\n"
     ]
    }
   ],
   "source": [
    "def func(*args, **kwargs):\n",
    "    print(kwargs)\n",
    "    return sum(args) # sum() is python built in function\n",
    "print(func(1,2,3,4,5,num1=5,num2 = 10))"
   ]
  },
  {
   "cell_type": "markdown",
   "metadata": {},
   "source": [
    "ဒီမှာ Dictionary ကို iterate လုပ်သလိုလိုပ်ပြီး keyword arguments တွေကို ပေါင်းကြည့်ကြရအောင် ။"
   ]
  },
  {
   "cell_type": "code",
   "execution_count": 16,
   "metadata": {},
   "outputs": [
    {
     "name": "stdout",
     "output_type": "stream",
     "text": [
      "15\n",
      "30\n",
      "45\n"
     ]
    }
   ],
   "source": [
    "def func(*args, **kwargs):\n",
    "    arg_total =sum(args)\n",
    "    print(arg_total)\n",
    "    \n",
    "    kw_total = 0\n",
    "    for items in kwargs.values():\n",
    "        kw_total += items\n",
    "    print(kw_total)\n",
    "    \n",
    "    return arg_total + kw_total \n",
    "print(func(1,2,3,4,5,num1=10,num2 = 20))"
   ]
  },
  {
   "cell_type": "markdown",
   "metadata": {},
   "source": [
    "#### ORoP (Order Rule of Parameters)\n",
    "    -function တစ်ခုအား parameters pass လုပ်မယ်ဆိုရင်တော့ ဖော်ပြပါ အစီအစဥ်အတိုင်း pass လုပ်ရပါမယ် ။ \n",
    "    Parameters,*args,default parameters,**kwargs\n",
    "    ဥပမာ \n",
    "    def func_name(name, *args, age=18, **kwargs):\n",
    "     လို့သတ်မှတ်ရမှာ ဖြစ်ပါတယ် ။သို့သော်လည်း အများ အားဖြင့် *args နှင့် *kwargs ကိုသာ အသုံးများပါတယ် ။ အောက်မှာ example လေးကြည့်ရအောင်"
   ]
  },
  {
   "cell_type": "code",
   "execution_count": 24,
   "metadata": {},
   "outputs": [
    {
     "name": "stdout",
     "output_type": "stream",
     "text": [
      "William is 20 years old.\n",
      "Total positional arguments = 15\n",
      "Total keyword arguments = 30\n",
      "45\n"
     ]
    }
   ],
   "source": [
    "def func(name,*args,age = 18, **kwargs): # age =18 က default parameter \n",
    "    print(f'{name} is {age} years old.')\n",
    "    \n",
    "    arg_total =sum(args)\n",
    "    print(f'Total positional arguments = {arg_total}')\n",
    "    \n",
    "    kw_total = 0\n",
    "    for items in kwargs.values():\n",
    "        kw_total += items\n",
    "    print(f'Total keyword arguments = {kw_total}')\n",
    "    \n",
    "    return arg_total + kw_total \n",
    "print(func('William',1,2,3,4,5,age=20,num1=10,num2 = 20)) # age=20"
   ]
  },
  {
   "cell_type": "markdown",
   "metadata": {},
   "source": [
    "    -Exercise လေးတစ်ခုလုပ်ကြည့်ကြမယ် ။ list တစ်ခုအတွင်းက အကြီးဆုံး even number ကိုရှာကြည့်ကြရအောင်"
   ]
  },
  {
   "cell_type": "code",
   "execution_count": 10,
   "metadata": {},
   "outputs": [
    {
     "name": "stdout",
     "output_type": "stream",
     "text": [
      "10\n"
     ]
    }
   ],
   "source": [
    "def highest_even(list):\n",
    "    even = [] # empty even list တစ်ခုတည်ဆောက်က်ပါမယ် ။\n",
    "    for item in list:\n",
    "        if item % 2 == 0 :\n",
    "            even.append(item) # even ဖြစ်တဲ့ item ကို even list  မှာပေါင်းထည့်ပါမယ် ။\n",
    "    return max(even)  # python builtin max()  function ကို သုံးပြီး အကြီးဆုံးကိုရှာမယ် ။\n",
    "print(highest_even([1,2,10,4,6,5,7,9,11,8]))"
   ]
  },
  {
   "cell_type": "markdown",
   "metadata": {},
   "source": [
    "    -ဒီမှာတော့ return ပြန်တဲ့နေရာကို သတိထားရပါမယ် ။ if expression code block အတွင်းမှာ  return ပြန်ရင်တော့ ပထမဆုံး စတွေ့တဲ့ even number ကိုပဲရမှာဖြစ်ပြီး လိုချင်တဲ့ အဖြေမရနိုင်ပဲဖြစ်တတ်ပါတယ် "
   ]
  },
  {
   "cell_type": "code",
   "execution_count": 37,
   "metadata": {},
   "outputs": [
    {
     "name": "stdout",
     "output_type": "stream",
     "text": [
      "2\n"
     ]
    }
   ],
   "source": [
    "def highest_even(list):\n",
    "    even = [] # empty even list တစ်ခုတည်ဆောက်က်ပါမယ် ။\n",
    "    for item in list:\n",
    "        if item % 2 == 0 :\n",
    "            even.append(item) # even ဖြစ်တဲ့ item ကို even list  မှာပေါင်းထည့်ပါမယ် ။\n",
    "            return max(even)  # python builtin max()  function ကို သုံးပြီး အကြီးဆုံးကိုရှာမယ် ။\n",
    "print(highest_even([1,2,10,4,6,5,7,9,11,8]))"
   ]
  },
  {
   "cell_type": "markdown",
   "metadata": {},
   "source": [
    "# Scope\n",
    "--------\n",
    "    -global\n",
    "    -local\n",
    "    -nonlocal"
   ]
  },
  {
   "cell_type": "markdown",
   "metadata": {},
   "source": [
    "    -scope ကို programming language တော်တော်များများမှာ သတ်မှတ် အသုံးပြုကြပါတယ် ။\n",
    "    scope ဆိုတာကိုရိုးရိုးရှင်းရှငိးပြောရရင် variable တစ်ခုရဲ့ ဘယ်တန်ဖိုးကို အသုံးပြုတွက်ချက်ရမယ်ဆိုတာပါပဲ ။\n",
    "    variable တစ်ခုက နေရာအလိုက်တန်ဖိုးတွေ အမျိုးမျိုးရှိနေနိုင်လို့ပါပဲ ။\n",
    "    scope -> what variables do to I have access to ?\n",
    "    scope မှာတော့ globle scope နှင် local scope ဆိုပြီး ၂ မျိုးအပြင် Python3 မှာ ထပ်ပါလာတဲ့ nonlocal ဆိုပြီး ၃ မျိုးရှိပါတယ် ။\n",
    "    python ကတော့  local scope ကို functional scope လို့သုံးပါတယ် ။\n",
    "    \n",
    "    globle scope ကို ဘယ်နေရာကမဆိုခေါ်ယူ အသုံးပြုနိုင်ပါတယ် ။ Expression scope အတွင်းမှာလည်းသုံးနိုင်တယ် ။ functional scope အတွင်းမှာ\n",
    "    လည်း အသုံးပြုနိုင်ပါတယ် ။\n",
    "    *** nonlocal အကြာင်းကိုတော့ နောက်မှ ပြောကြရအောင် ။"
   ]
  },
  {
   "cell_type": "code",
   "execution_count": 38,
   "metadata": {},
   "outputs": [
    {
     "ename": "NameError",
     "evalue": "name 'name' is not defined",
     "output_type": "error",
     "traceback": [
      "\u001b[0;31m---------------------------------------------------------------------------\u001b[0m",
      "\u001b[0;31mNameError\u001b[0m                                 Traceback (most recent call last)",
      "\u001b[0;32m<ipython-input-38-9ba126b17b03>\u001b[0m in \u001b[0;36m<module>\u001b[0;34m\u001b[0m\n\u001b[0;32m----> 1\u001b[0;31m \u001b[0mprint\u001b[0m\u001b[0;34m(\u001b[0m\u001b[0mname\u001b[0m\u001b[0;34m)\u001b[0m\u001b[0;34m\u001b[0m\u001b[0;34m\u001b[0m\u001b[0m\n\u001b[0m",
      "\u001b[0;31mNameError\u001b[0m: name 'name' is not defined"
     ]
    }
   ],
   "source": [
    "print(name)"
   ]
  },
  {
   "cell_type": "markdown",
   "metadata": {},
   "source": [
    "    အထက်မှာဖော်ပြထားတာကတော့ variable ကို ဘယ် scope မှာသုံးမယ်လို့ကြေညာမထားလို့ဖြစ်ပါတယ် ။\n",
    "    ဒီတစ်ခု function တစ်ခုတည်ဆောက်ပြီး function အတွင်းမှာ functional scope variable တစ်ခုကြေညာပြီး သုံးကြည့်ရအောင်"
   ]
  },
  {
   "cell_type": "code",
   "execution_count": 1,
   "metadata": {},
   "outputs": [
    {
     "ename": "NameError",
     "evalue": "name 'x' is not defined",
     "output_type": "error",
     "traceback": [
      "\u001b[0;31m---------------------------------------------------------------------------\u001b[0m",
      "\u001b[0;31mNameError\u001b[0m                                 Traceback (most recent call last)",
      "\u001b[0;32m<ipython-input-1-c8775bd6a062>\u001b[0m in \u001b[0;36m<module>\u001b[0;34m\u001b[0m\n\u001b[1;32m      1\u001b[0m \u001b[0;32mdef\u001b[0m \u001b[0msome_func\u001b[0m\u001b[0;34m(\u001b[0m\u001b[0;34m)\u001b[0m\u001b[0;34m:\u001b[0m\u001b[0;34m\u001b[0m\u001b[0;34m\u001b[0m\u001b[0m\n\u001b[1;32m      2\u001b[0m     \u001b[0mx\u001b[0m \u001b[0;34m=\u001b[0m \u001b[0;36m100\u001b[0m\u001b[0;34m\u001b[0m\u001b[0;34m\u001b[0m\u001b[0m\n\u001b[0;32m----> 3\u001b[0;31m \u001b[0mprint\u001b[0m\u001b[0;34m(\u001b[0m\u001b[0mx\u001b[0m\u001b[0;34m)\u001b[0m\u001b[0;34m\u001b[0m\u001b[0;34m\u001b[0m\u001b[0m\n\u001b[0m",
      "\u001b[0;31mNameError\u001b[0m: name 'x' is not defined"
     ]
    }
   ],
   "source": [
    "def some_func():\n",
    "    x = 100\n",
    "print(x)"
   ]
  },
  {
   "cell_type": "markdown",
   "metadata": {},
   "source": [
    "    NameError: name 'x' is not defined  ဆိုတဲ့ Error ပြပါတယ် ။ ဘာလို့လည်းဆိုရင်  functional scope/local scope variable\n",
    "    x ကို အပြင်ကနေခေါ်တဲ့ အခါ မသိလို့ဖြစ်ပါတယ် ။ ဒီတစ်ခါမှာတော့ Expression scope တစ်ခုအတွင်းမှာ y variable ကိုကြေညာပြီး အပြင်ကယူသုံးမယ်\n",
    "    ဆိုရင် တော့ ခေါ်သုံးလို့ရပါတယ် ။ x variable ကိုတော့ some_func function ကပဲပိုင်လို့ဖြစ်ပါတယ်  ။"
   ]
  },
  {
   "cell_type": "code",
   "execution_count": 2,
   "metadata": {},
   "outputs": [
    {
     "name": "stdout",
     "output_type": "stream",
     "text": [
      "50\n"
     ]
    }
   ],
   "source": [
    "if True :\n",
    "    y = 50\n",
    "def some_func():\n",
    "    x = 100\n",
    "print(y)"
   ]
  },
  {
   "cell_type": "markdown",
   "metadata": {},
   "source": [
    "#### Who access to Whom ?\n",
    "    ဘယ်သူက ဘယ်သူ ကို လက်ခံမှာလည်း ? ဒီနေရာမှာတော့ နည်းနည်းရှုပ်ထွေးပါတယ် ။ variable name က တူတယ် ။ scope က မတူဘူး ။ value တွေ\n",
    "    ကလည်း မတူဘူး ။ ခေါ် အသုံးပြုမဲ့ နေရာလည်း မတူ ဘူး အမျိုးမျိုးကွဲပြားနိုင်ပါတယ် ။"
   ]
  },
  {
   "cell_type": "code",
   "execution_count": 12,
   "metadata": {},
   "outputs": [
    {
     "name": "stdout",
     "output_type": "stream",
     "text": [
      "This \"a\" is Global :1\n",
      "This \"a\" is in function : 5\n",
      "5\n",
      "1\n"
     ]
    }
   ],
   "source": [
    "a = 1 # Global scope variable\n",
    "def func(): # function\n",
    "    a = 5   # local/functional scope variable\n",
    "    print(f'This \"a\" is in function : {a}')\n",
    "    return a\n",
    "print(f'This \"a\" is Global :{a}') # calling Global scope variable 'a'\n",
    "print(func()) # calling function and functional scope variable 'a'\n",
    "print(a) # calling Global scope variabe 'a' again"
   ]
  },
  {
   "cell_type": "markdown",
   "metadata": {},
   "source": [
    "#### Checking the variable Roles\n",
    "##### ဒီနေရာမှာ ဘယ် variable ကို အသုံးပြုရမလဲ ဆိုတာကို အောက်ဖော်ပြပါ Order အတိုင်း စဥ်းစားဆောင်ရွက်ပါတယ် ။\n",
    "    -1st-> start with local\n",
    "    -2nd-> Parent local ?\n",
    "    -3rd-> Global\n",
    "    -final-> Built in Python function"
   ]
  },
  {
   "cell_type": "markdown",
   "metadata": {},
   "source": [
    "     အထက်က Example မှာတော့ local variable 'a' ရှိတဲ့ အတွက် local 'a' ကိုပဲယူတာပါ ။ တကယ်လို့ လိုကယ် မရှိဘူးဆိုရင်တော့ \n",
    "     parent local ကို ရှာမယ် parent local မရှိဘူးဆိုရင်တော့ Global ကို သုံးမယ် အဲ့ဒါမှ မရှိရင်တော့ Python Built in ကိုသုံးမှာဖြစ်ပါတယ်။"
   ]
  },
  {
   "cell_type": "code",
   "execution_count": 6,
   "metadata": {},
   "outputs": [
    {
     "name": "stdout",
     "output_type": "stream",
     "text": [
      "10\n",
      "1\n"
     ]
    }
   ],
   "source": [
    "a = 1 # Global scope variable 'a'\n",
    "def parent_func(): # parent function\n",
    "    a = 10      # parent function variable 'a' 10 သတ်မှတ်ထားပါတယ် ။\n",
    "    def func():\n",
    "        return a  # variable 'a' ကိုသုံးထားတယ်  ။ func အတွင်းမှာ 'a' ကိုကြေညာထားတာမရှိပါဘူး ။\n",
    "    return func()\n",
    "print(parent_func())\n",
    "print(a)"
   ]
  },
  {
   "cell_type": "code",
   "execution_count": 7,
   "metadata": {},
   "outputs": [
    {
     "name": "stdout",
     "output_type": "stream",
     "text": [
      "1\n",
      "1\n"
     ]
    }
   ],
   "source": [
    "a = 1 # Global scope variable 'a'\n",
    "def parent_func(): # parent function\n",
    "    def func():\n",
    "        return a  # variable 'a' ကိုသုံးထားတယ်  ။ func အတွင်းမှာ 'a' ကိုကြေညာထားတာမရှိပါဘူး ။\n",
    "    return func()\n",
    "print(parent_func())\n",
    "print(a)"
   ]
  },
  {
   "cell_type": "markdown",
   "metadata": {},
   "source": [
    "    နောက်ဆုံးတစ်ခုကတော့ Python built in Function ဖြစ်ပါတယ်  ။ sum(),max(),min() စတာတွေဖြစ်ပါတယ် ။ sum ဆိုတဲ့ variable ကို\n",
    "    ဘယ်မှ ကြေညာမထားပါဘူး အဲ့ အတွက် sum variable အတွက် Python Built in function ကိုပဲ ယူမှာဖြစ်ပါတယ် ။"
   ]
  },
  {
   "cell_type": "code",
   "execution_count": 15,
   "metadata": {},
   "outputs": [
    {
     "name": "stdout",
     "output_type": "stream",
     "text": [
      "<built-in function sum>\n",
      "1\n"
     ]
    }
   ],
   "source": [
    "a = 1 # Global scope variable 'a'\n",
    "def parent_func(): # parent function\n",
    "    def func():\n",
    "        return sum  # variable 'sum' ကိုသုံးထားတယ်  ။ func အတွင်းမှာ 'sum' ကိုကြေညာထားတာမရှိပါဘူး ။\n",
    "    return func()\n",
    "print(parent_func())\n",
    "print(a)"
   ]
  },
  {
   "cell_type": "markdown",
   "metadata": {},
   "source": [
    "    ဒီတစ်ခါမှာတော့ ရှုပ်ထွေးတဲ့ Example လေးကြည့်ကြရအောင် "
   ]
  },
  {
   "cell_type": "code",
   "execution_count": 13,
   "metadata": {},
   "outputs": [
    {
     "name": "stdout",
     "output_type": "stream",
     "text": [
      "\"in func\"-> sum = 13\n",
      "\"in parent\"-> func + a =18\n",
      "\"in Global\"-> parent + a = 19\n"
     ]
    }
   ],
   "source": [
    "a = 1 # Global scope variabel 'a'\n",
    "def parent_func():\n",
    "    a = 5\n",
    "    b = 3\n",
    "    def func():\n",
    "        a = 10\n",
    "        sum = a + b\n",
    "        print(f'\"in func\"-> sum = {sum}')\n",
    "        return sum\n",
    "    parent_sum = func() + a\n",
    "    print(f'\"in parent\"-> func + a ={parent_sum}')\n",
    "    return parent_sum\n",
    "print(f'\"in Global\"-> parent + a = {parent_func() + a}')"
   ]
  },
  {
   "cell_type": "markdown",
   "metadata": {},
   "source": [
    "#### Parameter vales က local variable ?\n",
    "----------------------------------------\n",
    "       parameter တွေက function အတွင်းမှာပဲ အလုပ်လုပ်နိုင်ပြီး function အပြင်မှာ အလုပ်မလုပ်နိုင်တဲ့ အတွက်  parameter တွေကို local variables အဖြစ်အသုံးပြုနိုင်ပါတယ်။\n",
    "       "
   ]
  },
  {
   "cell_type": "code",
   "execution_count": 17,
   "metadata": {},
   "outputs": [
    {
     "name": "stdout",
     "output_type": "stream",
     "text": [
      "200\n",
      "10\n"
     ]
    }
   ],
   "source": [
    "a = 100\n",
    "def func(b):\n",
    "    print(b)\n",
    "    a =10\n",
    "    return a\n",
    "\n",
    "print(func(200))"
   ]
  },
  {
   "cell_type": "markdown",
   "metadata": {},
   "source": [
    "global scope variables ကို function အတွင်းမှာ သုံးပြီး တွက်ချက်မှဲများလုပ်မယ် ဆိုရင်တော့ global keyword ကို အသုံးပြုရပါမယ် ။ count function တစ်ခုရေးသားစမ်းသပ်ကြည့်ကြရအောင်"
   ]
  },
  {
   "cell_type": "code",
   "execution_count": 18,
   "metadata": {},
   "outputs": [
    {
     "ename": "UnboundLocalError",
     "evalue": "local variable 'total' referenced before assignment",
     "output_type": "error",
     "traceback": [
      "\u001b[0;31m---------------------------------------------------------------------------\u001b[0m",
      "\u001b[0;31mUnboundLocalError\u001b[0m                         Traceback (most recent call last)",
      "\u001b[0;32m<ipython-input-18-7039fe0b2899>\u001b[0m in \u001b[0;36m<module>\u001b[0;34m\u001b[0m\n\u001b[1;32m      3\u001b[0m     \u001b[0mtotal\u001b[0m \u001b[0;34m+=\u001b[0m \u001b[0;36m1\u001b[0m\u001b[0;34m\u001b[0m\u001b[0;34m\u001b[0m\u001b[0m\n\u001b[1;32m      4\u001b[0m     \u001b[0;32mreturn\u001b[0m \u001b[0mtotal\u001b[0m\u001b[0;34m\u001b[0m\u001b[0;34m\u001b[0m\u001b[0m\n\u001b[0;32m----> 5\u001b[0;31m \u001b[0mprint\u001b[0m\u001b[0;34m(\u001b[0m\u001b[0mcount_func\u001b[0m\u001b[0;34m(\u001b[0m\u001b[0;34m)\u001b[0m\u001b[0;34m)\u001b[0m\u001b[0;34m\u001b[0m\u001b[0;34m\u001b[0m\u001b[0m\n\u001b[0m",
      "\u001b[0;32m<ipython-input-18-7039fe0b2899>\u001b[0m in \u001b[0;36mcount_func\u001b[0;34m()\u001b[0m\n\u001b[1;32m      1\u001b[0m \u001b[0mtotal\u001b[0m \u001b[0;34m=\u001b[0m \u001b[0;36m0\u001b[0m \u001b[0;31m# global scope variable\u001b[0m\u001b[0;34m\u001b[0m\u001b[0;34m\u001b[0m\u001b[0m\n\u001b[1;32m      2\u001b[0m \u001b[0;32mdef\u001b[0m \u001b[0mcount_func\u001b[0m\u001b[0;34m(\u001b[0m\u001b[0;34m)\u001b[0m\u001b[0;34m:\u001b[0m\u001b[0;34m\u001b[0m\u001b[0;34m\u001b[0m\u001b[0m\n\u001b[0;32m----> 3\u001b[0;31m     \u001b[0mtotal\u001b[0m \u001b[0;34m+=\u001b[0m \u001b[0;36m1\u001b[0m\u001b[0;34m\u001b[0m\u001b[0;34m\u001b[0m\u001b[0m\n\u001b[0m\u001b[1;32m      4\u001b[0m     \u001b[0;32mreturn\u001b[0m \u001b[0mtotal\u001b[0m\u001b[0;34m\u001b[0m\u001b[0;34m\u001b[0m\u001b[0m\n\u001b[1;32m      5\u001b[0m \u001b[0mprint\u001b[0m\u001b[0;34m(\u001b[0m\u001b[0mcount_func\u001b[0m\u001b[0;34m(\u001b[0m\u001b[0;34m)\u001b[0m\u001b[0;34m)\u001b[0m\u001b[0;34m\u001b[0m\u001b[0;34m\u001b[0m\u001b[0m\n",
      "\u001b[0;31mUnboundLocalError\u001b[0m: local variable 'total' referenced before assignment"
     ]
    }
   ],
   "source": [
    "total = 0 # global scope variable\n",
    "def count_func():\n",
    "    total += 1\n",
    "    return total\n",
    "print(count_func())"
   ]
  },
  {
   "cell_type": "markdown",
   "metadata": {},
   "source": [
    "    UnboundLocalError: local variable 'total' referenced before assignment\n",
    "    Error ပြမှာဖြစ်ပါတယ် ။ ဒါကို အဆင်ပြေအောင် total variabel ကို local/functional scope variable အဖြစ်ပြောင်းလိုက် မယ်ဆိုရင်ရော\n"
   ]
  },
  {
   "cell_type": "code",
   "execution_count": 19,
   "metadata": {},
   "outputs": [
    {
     "name": "stdout",
     "output_type": "stream",
     "text": [
      "1\n"
     ]
    }
   ],
   "source": [
    "total = 0 # global scope variable\n",
    "def count_func():\n",
    "    total = 0 #local/functional scope variable အဖြစ်ထပ်ကြေညာလိုက်ပါတယ် ။\n",
    "    total += 1\n",
    "    return total\n",
    "print(count_func())"
   ]
  },
  {
   "cell_type": "markdown",
   "metadata": {},
   "source": [
    "    အလုပ် လုပ်တာကို တွေ့ရပါတယ် ။ ဒီတစ်ခါ count_func function ကို ထပ်ခါထပ်ခါ ခေါ်ပြီး total variable ရဲ့ တန်ဖိုးတိုးလာလားကြည်ရအောင် ။"
   ]
  },
  {
   "cell_type": "code",
   "execution_count": 20,
   "metadata": {},
   "outputs": [
    {
     "name": "stdout",
     "output_type": "stream",
     "text": [
      "1\n"
     ]
    }
   ],
   "source": [
    "total = 0 # global scope variable\n",
    "def count_func():\n",
    "    total = 0 #local/functional scope variable အဖြစ်ထပ်ကြေညာလိုက်ပါတယ် ။\n",
    "    total += 1\n",
    "    return total\n",
    "count_func() # ပထမ အကြိမ်\n",
    "count_func() #ဒုတိယ အကြိမ်\n",
    "print(count_func()) # တတိယ အကြိမ်"
   ]
  },
  {
   "cell_type": "markdown",
   "metadata": {},
   "source": [
    "    ပြောင်းလဲမှု မရှိတာကို တွေ့ရပါတယ် ။ ဘာလို့လည်းဆိုရင် count_func function ကို ခေါ်တိုင်း ခေါ်တိုင်း total variable ကို \n",
    "    initialize zero ပြန်လုပ်နေလို့ပဲ ဖြစ်ပါတယ် ။ ဒါဆိုရင်တော့ total variable ကို function ထဲမှာ local variable အဖြစ် \n",
    "    initialize လုပ်လို့မရတော့ပါဘူး။\n",
    "    ဒါကြောင့် global keyword ကို သုံးပြီး function  အတွင်းမှာ ပြင်ဆင်ခွင့်ကို ရယူပါမယ် ။\n",
    "    ဒါဆိုရင်ရော အလုပ် လုပ်မလား"
   ]
  },
  {
   "cell_type": "code",
   "execution_count": 22,
   "metadata": {},
   "outputs": [
    {
     "name": "stdout",
     "output_type": "stream",
     "text": [
      "3\n",
      "3\n"
     ]
    }
   ],
   "source": [
    "total = 0 # global scope variable\n",
    "def count_func():\n",
    "    global total #global keyword ကိုသုံးပြီးပြင်ဆင်ခွင့်ယူလိုက်ပါတယ် အဖြစ်ထပ်ကြေညာလိုက်ပါတယ် ။\n",
    "    total += 1\n",
    "    return total\n",
    "count_func() # ပထမ အကြိမ်\n",
    "count_func() #ဒုတိယ အကြိမ်\n",
    "print(count_func()) # တတိယ အကြိမ်\n",
    "print(total)"
   ]
  },
  {
   "cell_type": "markdown",
   "metadata": {},
   "source": [
    "#### code dependency injection    \n",
    "    အမှန်တကယ် အလုပ် လုပ်ပေမဲ့ total variable က global variable ဖြစ်တာကြောင့် ပြင်ပက အခြားကုတ် ၊ အခြား programmer နှင့် အခြား စက်တစ်ခုခုပြင်လိုက်နိုင်ပါတယ် ။ တွက်ချက်မှုမှားယွင်းမှုများဖြစ်ပေါ်လာနိုင်ပါတယ် ။ ဒါကြော်င် ရှုပ်ထွေးတဲ့ program  တွေကိုရေးတဲ့အခါမှာတော့ ဒီလိုနောက်ထပ်ရေးနိုင်ပါတယ်။    \n",
    "    အထက်မှာ parameter တွေက local variable အဖြစ်အသုံးပြုနိုင်ကြောင်းဖော်ပြခဲ့ပြီးပါပြီ ။ parameter ကို local variable အဖြစ် အသုံးပြုတာ\n",
    "    လေးကြည့်ကြရအောင်ပါ ။ ဒီနေရာမှာတော့ global variable total ကို function parameter အဖြစ်  pass လုပ်ပြီး local variable လုပ်လိုက်တာပါပဲ ။"
   ]
  },
  {
   "cell_type": "code",
   "execution_count": 25,
   "metadata": {},
   "outputs": [
    {
     "name": "stdout",
     "output_type": "stream",
     "text": [
      "3\n",
      "0\n"
     ]
    }
   ],
   "source": [
    "total = 0 # global scope variable\n",
    "def count_func(total): # global variable total pass as a parameter\n",
    "    total += 1\n",
    "    return total\n",
    "print(count_func(count_func(count_func(total))))\n",
    "print(total)"
   ]
  },
  {
   "cell_type": "markdown",
   "metadata": {},
   "source": [
    "    ဒီမှာတော့ global variable total ကိုလည်းထိခိုက်မှုမရှိတော့ဘူး ၊ ပြင်ပကနေ function အတွင်းကို အကျိုးသက်ရောက်မှုလည်းမရှိတော့ဘူ။\n",
    "    ဒါပေမဲ့ အလွန်ရှုပ်ထွေးတဲ့ function ကို function ရဲ့ parameter အဖြစ်ပြန်ပေးတာကိုတော့ အထူးဂရုစိုက်ရမှာဖြစ်ပါတယ် ။"
   ]
  },
  {
   "cell_type": "markdown",
   "metadata": {},
   "source": [
    "#### nonlocal\n",
    "    nonlocal variable က python3 ရဲ့ ထပ်မံပါဝင်လာတဲ့ new keyword  ဖြစ်ပါတယ် ။ အထက်မှာဖော်ပြခဲ့တဲ့ parent local scope ကို \n",
    "    ကိုယ်စားပြုပါတယ် ။ global variable မဟုတ်ဘူး ဒါပေမဲ့ သူ့ function scope ရဲ့ အပြင်မှာရှိပါတယ် ။"
   ]
  },
  {
   "cell_type": "code",
   "execution_count": 26,
   "metadata": {},
   "outputs": [
    {
     "name": "stdout",
     "output_type": "stream",
     "text": [
      "inner: nonlocal\n",
      "outer : nonlocal\n"
     ]
    }
   ],
   "source": [
    "def outer():\n",
    "    x = \"local\"\n",
    "    def inner():\n",
    "        nonlocal x\n",
    "        x = \"nonlocal\"\n",
    "        print(\"inner:\",x)\n",
    "    inner()\n",
    "    print(\"outer :\",x)\n",
    "outer()"
   ]
  },
  {
   "cell_type": "code",
   "execution_count": 27,
   "metadata": {},
   "outputs": [
    {
     "name": "stdout",
     "output_type": "stream",
     "text": [
      "inner: nonlocal\n",
      "outer : local\n"
     ]
    }
   ],
   "source": [
    "def outer():\n",
    "    x = \"local\"\n",
    "    def inner():\n",
    "        #nonlocal x\n",
    "        x = \"nonlocal\"\n",
    "        print(\"inner:\",x)\n",
    "    inner()\n",
    "    print(\"outer :\",x)\n",
    "outer()"
   ]
  },
  {
   "cell_type": "code",
   "execution_count": null,
   "metadata": {},
   "outputs": [],
   "source": []
  }
 ],
 "metadata": {
  "kernelspec": {
   "display_name": "Python 3 (ipykernel)",
   "language": "python",
   "name": "python3"
  },
  "language_info": {
   "codemirror_mode": {
    "name": "ipython",
    "version": 3
   },
   "file_extension": ".py",
   "mimetype": "text/x-python",
   "name": "python",
   "nbconvert_exporter": "python",
   "pygments_lexer": "ipython3",
   "version": "3.8.8"
  }
 },
 "nbformat": 4,
 "nbformat_minor": 4
}
