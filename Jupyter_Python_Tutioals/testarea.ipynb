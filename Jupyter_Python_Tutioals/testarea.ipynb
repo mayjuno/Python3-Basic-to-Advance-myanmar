{
 "cells": [
  {
   "cell_type": "code",
   "execution_count": null,
   "id": "42f9e373-e047-4a69-b491-84250afc5dce",
   "metadata": {},
   "outputs": [],
   "source": [
    "even = []\n",
    "for x in range(1,101):\n",
    "    if x % 2 == 0:\n",
    "        even.append(x)\n",
    "print(even)"
   ]
  },
  {
   "cell_type": "code",
   "execution_count": null,
   "id": "adb72792-9b65-404f-88de-20e94f3b11fc",
   "metadata": {},
   "outputs": [],
   "source": [
    "myinfo ={\"name\": \"Kyaw Myo sew\" , \"location\":\"Mandalay\"}\n",
    "type(list(myinfo.keys())[0])\n"
   ]
  },
  {
   "cell_type": "code",
   "execution_count": null,
   "id": "7e9e5761-bbaf-47f6-9ffb-21c8aa1f610e",
   "metadata": {},
   "outputs": [],
   "source": [
    "employee1 = {\"name\": \"John\", \"age\": 29, \"selary\": 1500, \"class\":\"Senior Programmer\"}\n",
    "employee2 = {\"name\": \"Raymond\", \"age\": 20, \"selary\": 1000, \"class\":\"junior Programmer\"}\n",
    "employee3 = {\"name\": \"William\", \"age\": 42, \"selary\": 2500, \"class\":\"Software Engineer\"}\n",
    "my_employees = [employee1,employee2,employee3]\n",
    "for employee in my_employees:\n",
    "    print(employee[\"name\"])"
   ]
  },
  {
   "cell_type": "code",
   "execution_count": null,
   "id": "b9d21c75-2e40-4138-973e-9ba75515b9ea",
   "metadata": {},
   "outputs": [],
   "source": [
    "employee1 = {\"id\":1, \"name\": \"John\", \"age\": 29, \"selary\": 1500, \"class\":\"Senior Programmer\"}\n",
    "employee2 = {\"id\":2, \"name\": \"Raymond\", \"age\": 20, \"selary\": 1000, \"class\":\"junior Programmer\"}\n",
    "employee3 = {\"id\":3, \"name\": \"William\", \"age\": 42, \"selary\": 2500, \"class\":\"Software Engineer\"}\n",
    "my_employees = [employee1,employee2,employee3]\n",
    "selected_employee = {}\n",
    "look_up_employee = 2\n",
    "for employee in my_employees:\n",
    "    if employee[\"id\"] == look_up_employee:\n",
    "        selected_employee = employee\n",
    "print(selected_employee)"
   ]
  },
  {
   "cell_type": "code",
   "execution_count": 7,
   "id": "d9855693-467b-489e-8b46-361e84f5866c",
   "metadata": {},
   "outputs": [
    {
     "name": "stdout",
     "output_type": "stream",
     "text": [
      "ကျပ် သိန်း ၁၀၀၀ ဆုကြီး\n",
      "ဗစ ၈၄၅၀၆၅၉၆၂၀\n"
     ]
    }
   ],
   "source": [
    "import random\n",
    "alphabart_list = ['က','ခ','ဂ','ဃ','င','စ','ဆ','ဇ','ဈ','ည','ဋ','ဌ','ဍ','ၒ','ဏ','တ','ထ','ဒ','ဓ','န','ပ','ဖ','ဗ','ဘ','မ','ယ','ရ','လ','ဝ','သ','ဟ','ဠ','အ']\n",
    "alphabart_size = 2\n",
    "random_2_alphabart = [str(random.choice(alphabart_list)) for _ in range(alphabart_size)]\n",
    "new_random_2_alphabart =''.join(random_2_alphabart)\n",
    "number_list  = ['၀','၁','၂','၃','၄','၅','၆','၇','၈','၉']\n",
    "number_size = 10\n",
    "new_number_list = [str(random.choice(number_list)) for _ in range(number_size)]\n",
    "new_number_str = \"\".join(new_number_list)\n",
    "print(f\"ကျပ် သိန်း ၁၀၀၀ ဆုကြီး\\n{new_random_2_alphabart} {new_number_str}\")"
   ]
  },
  {
   "cell_type": "code",
   "execution_count": 3,
   "id": "7d98b62a-2412-4be8-909d-e4ef4e428c66",
   "metadata": {},
   "outputs": [
    {
     "name": "stdout",
     "output_type": "stream",
     "text": [
      "d/c/b/a\n"
     ]
    }
   ],
   "source": [
    "full_part = ['a', 'b', 'c', 'd']\n",
    "result = '/'.join(full_part[::-1])\n",
    "print(result)\n"
   ]
  },
  {
   "cell_type": "code",
   "execution_count": null,
   "id": "88ebf002-c684-484c-865c-76e807d7f520",
   "metadata": {},
   "outputs": [],
   "source": [
    "print(type(5))\n"
   ]
  },
  {
   "cell_type": "code",
   "execution_count": null,
   "id": "704638a4-0f4a-4e9c-9041-41bd4be74108",
   "metadata": {},
   "outputs": [],
   "source": [
    "import keyword\n",
    "print(keyword.kwlist)"
   ]
  },
  {
   "cell_type": "code",
   "execution_count": null,
   "id": "5a291060-b71d-47af-87d2-6796a89a035a",
   "metadata": {},
   "outputs": [],
   "source": [
    "import math\n",
    "for method in dir(math):\n",
    "    print (method)"
   ]
  },
  {
   "cell_type": "code",
   "execution_count": null,
   "id": "e5a8ce14-3bdf-46e8-8e9e-2a42db8b8451",
   "metadata": {},
   "outputs": [],
   "source": [
    "import math\n",
    "print(math.__doc__)"
   ]
  },
  {
   "cell_type": "code",
   "execution_count": null,
   "id": "4fb11b3b-9ee9-4f95-bfd2-f9ee5f1e0a27",
   "metadata": {},
   "outputs": [],
   "source": [
    "print(math.pow.__doc__)"
   ]
  },
  {
   "cell_type": "code",
   "execution_count": null,
   "id": "c4730ff4-b5e8-4cac-895c-960da6e44734",
   "metadata": {},
   "outputs": [],
   "source": [
    "print(math.acos.__doc__)"
   ]
  },
  {
   "cell_type": "code",
   "execution_count": null,
   "id": "b7cde52e-8195-4a42-bdf3-3e55e5537251",
   "metadata": {},
   "outputs": [],
   "source": [
    "import math\n",
    "\n",
    "Tup = (0.21, 0.12, 0.39, -0.89 , 0.42) # Tuple Declaration\n",
    "Lis = [-0.1, 0.92, 0.35, -0.46 , 0.85] # List Declaration\n",
    "\n",
    "print('Arc Cosine value of Positive Number = %.2f' %math.acos(1))\n",
    "print(f'Arc Cosine value of Positive Number = {math.acos(1):.2f}')\n",
    "print('Arc Cosine value of Negative Number = %.2f' %math.acos(-1))\n",
    "print(f'Arc Cosine value of Negative Number = {math.acos(-1):.2f}')\n",
    "print('Arc Cosine value of Tuple Item = %.2f' %math.acos(Tup[3]))\n",
    "print('Arc Cosine value of List Item = %.2f' %math.acos(Lis[2]))\n",
    "\n",
    "print('Arc Cosine value of Multiple Number = %.2f' %math.acos(0.10 + 0.20 - 0.40))\n",
    "# print('Arc Cosine value of String Value = ', math.acos('Python'))"
   ]
  },
  {
   "cell_type": "code",
   "execution_count": null,
   "id": "30c29e5e-cc82-46c9-be92-e3517d38e97f",
   "metadata": {},
   "outputs": [],
   "source": [
    "print(bin(5))"
   ]
  },
  {
   "cell_type": "code",
   "execution_count": null,
   "id": "8376d5ed-548b-4479-b4ac-9667a282583e",
   "metadata": {},
   "outputs": [],
   "source": [
    "print(int('0b101',2))"
   ]
  },
  {
   "cell_type": "code",
   "execution_count": null,
   "id": "a5fddb3e-a9f3-4b2a-8366-acb8a29383d6",
   "metadata": {},
   "outputs": [],
   "source": [
    "print(int.__doc__)"
   ]
  },
  {
   "cell_type": "code",
   "execution_count": null,
   "id": "c1bca3ea-48eb-4ceb-9149-b242dc46ed15",
   "metadata": {},
   "outputs": [],
   "source": [
    "print(bin.__doc__)"
   ]
  },
  {
   "cell_type": "code",
   "execution_count": null,
   "id": "fd45feeb-6f8e-424c-9f08-b876c71041f0",
   "metadata": {},
   "outputs": [],
   "source": [
    "print(oct.__doc__)"
   ]
  },
  {
   "cell_type": "code",
   "execution_count": null,
   "id": "ef73bf94-b1c5-479d-b173-0f00656d0aa2",
   "metadata": {},
   "outputs": [],
   "source": [
    "print(oct(int('0b1010101010101010101010',2)))"
   ]
  },
  {
   "cell_type": "code",
   "execution_count": null,
   "id": "ce8918a8-2cb5-4ab5-a831-69e2000d5ac7",
   "metadata": {},
   "outputs": [],
   "source": [
    "print(int('0b1010101010101010101010',2))"
   ]
  },
  {
   "cell_type": "code",
   "execution_count": null,
   "id": "39f9aec0-9af0-4111-872c-f9e2a35bc9d3",
   "metadata": {},
   "outputs": [],
   "source": [
    "print(oct(2796202))"
   ]
  },
  {
   "cell_type": "code",
   "execution_count": null,
   "id": "b900ef77-b86b-4359-873f-e7f3f773685b",
   "metadata": {},
   "outputs": [],
   "source": [
    "print(hex(2796202))"
   ]
  },
  {
   "cell_type": "code",
   "execution_count": null,
   "id": "a0803f05-2b30-45e7-820c-01189cd0a588",
   "metadata": {},
   "outputs": [],
   "source": [
    "print(int('0x2aaaaa',base=16))"
   ]
  },
  {
   "cell_type": "code",
   "execution_count": null,
   "id": "849c69da-010c-4a32-a541-5797ed939fed",
   "metadata": {},
   "outputs": [],
   "source": [
    "name = 'ကျော်မျိုးဆွေ'\n",
    "pronoun = 'ကျနော်'\n",
    "age = '၄၃'\n",
    "print(f'{pronoun} နာမည် {name}ပါ ။ အသက်က {age}  နှစ်ပါ')"
   ]
  },
  {
   "cell_type": "code",
   "execution_count": null,
   "id": "0cf7f51f-b158-4b22-be8d-8b3a4819d62a",
   "metadata": {},
   "outputs": [],
   "source": [
    "name = 'Kyaw Myo Swe'\n",
    "age = 23\n",
    "print('hello {}. Are you {} years old.'.format(name,age))\n",
    "print('hello {name}. Are you {age} years old.'.format(name='William',age=9))\n",
    "print('hello {name}. Are you {age} years old.'.format(age=9, name='William'))"
   ]
  },
  {
   "cell_type": "code",
   "execution_count": null,
   "id": "84cd96a3-2306-45a8-97e8-6edfdf0f311b",
   "metadata": {},
   "outputs": [],
   "source": [
    "num_str = '01234567' \n",
    "print(id(num_str))\n",
    "num_str = num_str + '8'  # ပထမ string ကို memory မှ ပယ်ဖျက်ပြီးမှ အသစ်ပြန် assign လုပ်တာပြခြင်း\n",
    "print(id(num_str))"
   ]
  },
  {
   "cell_type": "code",
   "execution_count": null,
   "id": "914729b6-1d9b-4658-95a3-2f002c8416e9",
   "metadata": {},
   "outputs": [],
   "source": [
    "help('modules')"
   ]
  },
  {
   "cell_type": "code",
   "execution_count": null,
   "id": "c087ed22-4660-48f6-9cf1-1214b6c172a6",
   "metadata": {},
   "outputs": [],
   "source": [
    "help('builtins')"
   ]
  },
  {
   "cell_type": "code",
   "execution_count": null,
   "id": "8bc36458-c0e0-4670-ba57-f2e29ddda374",
   "metadata": {},
   "outputs": [],
   "source": [
    "print(dir())"
   ]
  },
  {
   "cell_type": "code",
   "execution_count": null,
   "id": "a42d8bf7-4b75-4c6e-8c95-1a4719703fc1",
   "metadata": {},
   "outputs": [],
   "source": [
    "print(dir(__builtin__))"
   ]
  },
  {
   "cell_type": "code",
   "execution_count": null,
   "id": "e3a29da2-b65a-4b1a-bf76-f8b238120c14",
   "metadata": {},
   "outputs": [],
   "source": [
    "\n"
   ]
  },
  {
   "cell_type": "code",
   "execution_count": null,
   "id": "eaf8f0b2-1f06-422a-a441-ed721fb059a1",
   "metadata": {},
   "outputs": [],
   "source": [
    "dir(print)"
   ]
  },
  {
   "cell_type": "code",
   "execution_count": null,
   "id": "d211cc71-02ba-4a7b-96f9-cc6a295a8082",
   "metadata": {},
   "outputs": [],
   "source": [
    "help(format)"
   ]
  },
  {
   "cell_type": "code",
   "execution_count": null,
   "id": "415946d8-8a2d-4265-ae33-5030f2bd80ef",
   "metadata": {},
   "outputs": [],
   "source": [
    "format(__doc__)"
   ]
  },
  {
   "cell_type": "code",
   "execution_count": null,
   "id": "d3526b4c-1c56-4d11-8270-f87062b7ea41",
   "metadata": {},
   "outputs": [],
   "source": [
    "l= list()\n",
    "print(dir(l))\n",
    "l.append('a')\n",
    "l.append('b')\n",
    "l.append('c')\n",
    "l.append('a')\n",
    "print(l)\n",
    "# l.clear()\n",
    "# print(l)\n",
    "new_l = l.copy()\n",
    "print(new_l)\n",
    "print(new_l.count('a'))\n",
    "number_l = [1,2,3,4]\n",
    "new_l.extend(number_l)\n",
    "print(new_l)\n",
    "print(new_l.index('c'))\n",
    "new_l.insert(2,'Q')\n",
    "print(new_l)\n",
    "pop_list = new_l.pop()\n",
    "print(new_l)\n",
    "print(pop_list)\n",
    "new_l.remove('Q')\n",
    "print(new_l)\n",
    "number_l.reverse()\n",
    "print(number_l)\n",
    "number_l.sort()\n",
    "print(number_l)\n",
    "print(new_l.__add__(number_l))\n",
    "print(len(new_l))\n",
    "print(new_l.__len__())\n",
    "print(new_l.__sizeof__())\n",
    "print(str(new_l))"
   ]
  },
  {
   "cell_type": "code",
   "execution_count": null,
   "id": "0744a5c8-ccd8-464b-84a4-3dddcea1777b",
   "metadata": {},
   "outputs": [],
   "source": [
    "# Dictionary\n",
    "dictionary = {\n",
    "    'a': 1,\n",
    "    'b':1.2,\n",
    "    'c':True,\n",
    "    'd':[1,2,3],\n",
    "    'e':['a','b',[1,2,3],True],\n",
    "    'f':{'a':'apple','b':'ball'},\n",
    "}\n",
    "print(type(dictionary))\n",
    "print(dir(dictionary))\n",
    "print(dictionary['e'][2][2])"
   ]
  },
  {
   "cell_type": "code",
   "execution_count": null,
   "id": "817c4f6b-935c-4b4d-b890-e70bff3cf14d",
   "metadata": {},
   "outputs": [],
   "source": [
    "# Tuples\n",
    "tuples = (1,2,3,4)\n",
    "print(dir(tuples))"
   ]
  },
  {
   "cell_type": "code",
   "execution_count": 9,
   "id": "0a4ee582-a265-4f59-9f0b-28cc0566b5f0",
   "metadata": {},
   "outputs": [
    {
     "name": "stdout",
     "output_type": "stream",
     "text": [
      "[1, 3]\n",
      "(1, 3)\n",
      "Help on class filter in module builtins:\n",
      "\n",
      "class filter(object)\n",
      " |  filter(function or None, iterable) --> filter object\n",
      " |  \n",
      " |  Return an iterator yielding those items of iterable for which function(item)\n",
      " |  is true. If function is None, return the items that are true.\n",
      " |  \n",
      " |  Methods defined here:\n",
      " |  \n",
      " |  __getattribute__(self, name, /)\n",
      " |      Return getattr(self, name).\n",
      " |  \n",
      " |  __iter__(self, /)\n",
      " |      Implement iter(self).\n",
      " |  \n",
      " |  __next__(self, /)\n",
      " |      Implement next(self).\n",
      " |  \n",
      " |  __reduce__(...)\n",
      " |      Return state information for pickling.\n",
      " |  \n",
      " |  ----------------------------------------------------------------------\n",
      " |  Static methods defined here:\n",
      " |  \n",
      " |  __new__(*args, **kwargs) from builtins.type\n",
      " |      Create and return a new object.  See help(type) for accurate signature.\n",
      "\n"
     ]
    }
   ],
   "source": [
    "my_list = [1,2,3]\n",
    "\n",
    "def only_odd(item):\n",
    "    return item % 2 !=0\n",
    "\n",
    "print(list(filter(only_odd,my_list)))\n",
    "print(tuple(filter(only_odd,my_list)))\n",
    "help(filter)"
   ]
  },
  {
   "cell_type": "code",
   "execution_count": 38,
   "id": "7d98f15e-86d4-49f7-b2a5-a8b13ecc45d9",
   "metadata": {},
   "outputs": [
    {
     "name": "stdout",
     "output_type": "stream",
     "text": [
      "frontend\n"
     ]
    }
   ],
   "source": [
    "python = False\n",
    "php = False\n",
    "javascript = True\n",
    "if python and php and javascript:\n",
    "    print('your genius')\n",
    "if not python and php and javascript:\n",
    "    print('laravan fullstack')\n",
    "elif not php and python and javascript:\n",
    "    print('django fule stack') \n",
    "elif python and not php and not javascript:\n",
    "    print('Python')\n",
    "elif php and not python and not javascript:\n",
    "    print('php')\n",
    "elif not python and not php and javascript:\n",
    "    print('frontend')\n",
    "elif not python and not php and not javascript:\n",
    "    print('learn some programming language')"
   ]
  },
  {
   "cell_type": "code",
   "execution_count": 3,
   "id": "2f114128-fe10-41ab-85ed-96ad48043f71",
   "metadata": {},
   "outputs": [
    {
     "name": "stdin",
     "output_type": "stream",
     "text": [
      " sngksgksgksgksgksgnskgnskdgnsdngksdgnsdngksdngknsdkgnsdkgnsdkgnsdkgsdkgnskdgnsdglsdliiiiiiiiiiiiiiii\n"
     ]
    },
    {
     "name": "stdout",
     "output_type": "stream",
     "text": [
      "100\n"
     ]
    }
   ],
   "source": [
    "input_str = input()\n",
    "input_under50=input_str[0:50]\n",
    "print(f'{len(input_str)}')"
   ]
  },
  {
   "cell_type": "code",
   "execution_count": 7,
   "id": "c6185f6f-9108-43aa-95e0-6d74928c45ca",
   "metadata": {},
   "outputs": [
    {
     "name": "stdin",
     "output_type": "stream",
     "text": [
      "What is your name : kYaw Myo Swe\n"
     ]
    },
    {
     "name": "stdout",
     "output_type": "stream",
     "text": [
      "Kyaw myo swe\n",
      "None\n"
     ]
    }
   ],
   "source": [
    "# This program is Capitallize the first letter of name which input \n",
    "name = input('What is your name :')\n",
    "first_letter = name[0:1]\n",
    "capitalize_first_letter = first_letter.upper()\n",
    "rest_letter = name[1:len(name)]\n",
    "lower_to_rest_letter = rest_letter.lower()\n",
    "print(f'{capitalize_first_letter}{lower_to_rest_letter}')\n"
   ]
  },
  {
   "cell_type": "code",
   "execution_count": 15,
   "id": "efc77423-25b1-4130-b140-dd574dd7085e",
   "metadata": {},
   "outputs": [
    {
     "name": "stdin",
     "output_type": "stream",
     "text": [
      "What is your name : kYaw mYo SWe\n"
     ]
    },
    {
     "name": "stdout",
     "output_type": "stream",
     "text": [
      "Kyaw Myo Swe\n"
     ]
    }
   ],
   "source": [
    "name = input('What is your name :')\n",
    "name_list = list(name.split(' '))\n",
    "cap_name_list=[]\n",
    "for world in name_list:\n",
    "    first_letter = world[0].upper()\n",
    "    rest_letter = world[1:len(world)].lower()\n",
    "    full_world = first_letter+rest_letter\n",
    "    cap_name_list.append(full_world)\n",
    "print(' '.join(cap_name_list))"
   ]
  },
  {
   "cell_type": "code",
   "execution_count": 18,
   "id": "da3a60b7-ff05-4345-be17-15abb8b2419e",
   "metadata": {},
   "outputs": [
    {
     "name": "stdin",
     "output_type": "stream",
     "text": [
      "How old is your dog? : 7\n"
     ]
    },
    {
     "name": "stdout",
     "output_type": "stream",
     "text": [
      "Your dog is 41 years old in human years. \n"
     ]
    }
   ],
   "source": [
    "# Dog age to Human Age convertor\n",
    "# Human Age = (Dog Age-2) x 4 + 21\n",
    "dog_age =int(input('How old is your dog? :'))\n",
    "human_age = (dog_age - 2) * 4 + 21\n",
    "print(f'Your dog is {human_age} years old in human years. ')"
   ]
  },
  {
   "cell_type": "code",
   "execution_count": 57,
   "id": "e96f30fb-f2da-410e-b020-a81368aedb9a",
   "metadata": {},
   "outputs": [
    {
     "name": "stdin",
     "output_type": "stream",
     "text": [
      "Enter your weight in kg : 85\n",
      "Enter  your height in cm : 168\n"
     ]
    },
    {
     "name": "stdout",
     "output_type": "stream",
     "text": [
      "30\n",
      "You are over weight.\n"
     ]
    }
   ],
   "source": [
    "# BMI calculating\n",
    "# BMI = weight/(heigh**2) , weight-kg, height-meter\n",
    "import math\n",
    "weight = float(input('Enter your weight in kg :'))\n",
    "heigh = (float(input('Enter  your height in cm :')))/100\n",
    "def cal_BMI(weight,heigh):\n",
    "    return math.floor(weight/(pow(heigh,2)))\n",
    "result=cal_BMI(weight,heigh)\n",
    "print(result)\n",
    "if result < 18 :\n",
    "    print('Your are under weight.')\n",
    "elif 18 <= result <=25 :\n",
    "    print('You are fix position.')\n",
    "elif 25 < result <=29 :\n",
    "    print('You normal condition not fat.')\n",
    "else:\n",
    "    print('You are over weight.')"
   ]
  },
  {
   "cell_type": "code",
   "execution_count": 15,
   "id": "5845ef30-7692-4cde-98be-3244840475d6",
   "metadata": {},
   "outputs": [
    {
     "name": "stdout",
     "output_type": "stream",
     "text": [
      "2\n",
      "4\n",
      "6\n",
      "5\n",
      "3\n",
      "5\n",
      "4\n",
      "2\n",
      "4\n",
      "1\n"
     ]
    }
   ],
   "source": [
    "# this program is random number testing\n",
    "# die example\n",
    "import random\n",
    "import math\n",
    "\n",
    "for _ in range(0,10):\n",
    "    num = math.floor(random.random()*6) + 1\n",
    "    print(num)"
   ]
  },
  {
   "cell_type": "code",
   "execution_count": 1,
   "id": "bc49e490-f34b-4a2a-97d8-398c2efb4109",
   "metadata": {},
   "outputs": [
    {
     "name": "stdin",
     "output_type": "stream",
     "text": [
      "Do you want to check leap year Yes for press \"Y\" and No for press \"N\" Y\n",
      "Enter a year : 2000\n"
     ]
    },
    {
     "name": "stdout",
     "output_type": "stream",
     "text": [
      "2000 is leap year .\n"
     ]
    },
    {
     "name": "stdin",
     "output_type": "stream",
     "text": [
      "Do you want to check leap year Yes for press \"Y\" and No for press \"N\" Y\n",
      "Enter a year : 2001\n"
     ]
    },
    {
     "name": "stdout",
     "output_type": "stream",
     "text": [
      "2001 is not leap year .\n"
     ]
    },
    {
     "name": "stdin",
     "output_type": "stream",
     "text": [
      "Do you want to check leap year Yes for press \"Y\" and No for press \"N\" y\n",
      "Enter a year : 2022\n"
     ]
    },
    {
     "name": "stdout",
     "output_type": "stream",
     "text": [
      "2022 is not leap year .\n"
     ]
    },
    {
     "name": "stdin",
     "output_type": "stream",
     "text": [
      "Do you want to check leap year Yes for press \"Y\" and No for press \"N\" n\n"
     ]
    }
   ],
   "source": [
    "# This program is testing for leap year\n",
    "\n",
    "\n",
    "def is_leap_year(y):\n",
    "    if year % 4 == 0:\n",
    "        if year % 100 == 0:\n",
    "            if year % 400 == 0:\n",
    "                print(f'{year} is leap year .')\n",
    "            else:\n",
    "                print(f'{year} is not leap year .')\n",
    "        else :\n",
    "            print(f'{year} is leap year .')\n",
    "    else:\n",
    "        print(f'{year} is not leap year .')\n",
    "continue_check = True\n",
    "while continue_check:\n",
    "    check = input('Do you want to check leap year Yes for press \"Y\" and No for press \"N\"')\n",
    "    if check == 'Y' or check == 'y' :\n",
    "        year = int(input('Enter a year :'))\n",
    "        is_leap_year(year)\n",
    "    elif check == 'N' or check == 'n' :\n",
    "        continue_check = False\n",
    "    else:\n",
    "        print('Please enter Y or N')\n",
    "        continue\n",
    "    "
   ]
  },
  {
   "cell_type": "code",
   "execution_count": 10,
   "id": "040db04d-e5fd-4320-8f2e-3e3dc6b63c62",
   "metadata": {},
   "outputs": [
    {
     "name": "stdout",
     "output_type": "stream",
     "text": [
      "True\n",
      "True\n",
      "False\n"
     ]
    }
   ],
   "source": [
    "import calendar as c\n",
    "print(c.isleap(2000))\n",
    "print(c.isleap(2020))\n",
    "print(c.isleap(2022))"
   ]
  },
  {
   "cell_type": "code",
   "execution_count": 1,
   "id": "b0ec2244-186f-47b2-9689-a84a85486402",
   "metadata": {},
   "outputs": [
    {
     "name": "stdout",
     "output_type": "stream",
     "text": [
      "Ok\n"
     ]
    }
   ],
   "source": [
    "a = 1\n",
    "b = 2\n",
    "a_str = \"a\"\n",
    "b_str = \"a\"\n",
    "if all([(a!=b),(a_str==b_str)]):\n",
    "    print(\"Ok\")"
   ]
  },
  {
   "cell_type": "code",
   "execution_count": 14,
   "id": "044cd4c5-e855-4629-9ddf-b3bb93910552",
   "metadata": {},
   "outputs": [
    {
     "name": "stdout",
     "output_type": "stream",
     "text": [
      "Ok\n"
     ]
    }
   ],
   "source": [
    "int_a = 1\n",
    "str_a = \"a\"\n",
    "if all([(isinstance(int_a, int)),(isinstance(str_a,str))]):\n",
    "    print(\"Ok\")"
   ]
  },
  {
   "cell_type": "code",
   "execution_count": 8,
   "id": "3ac733e1-6068-4921-aa22-d068e0737d51",
   "metadata": {},
   "outputs": [
    {
     "name": "stdout",
     "output_type": "stream",
     "text": [
      "deque(['a', 'b', 'c', 'A', 'B'])\n",
      "deque(['c', 'A', 'B'])\n"
     ]
    },
    {
     "ename": "AttributeError",
     "evalue": "'list' object has no attribute 'popleft'",
     "output_type": "error",
     "traceback": [
      "\u001b[0;31m---------------------------------------------------------------------------\u001b[0m",
      "\u001b[0;31mAttributeError\u001b[0m                            Traceback (most recent call last)",
      "Input \u001b[0;32mIn [8]\u001b[0m, in \u001b[0;36m<module>\u001b[0;34m\u001b[0m\n\u001b[1;32m      8\u001b[0m \u001b[38;5;28mprint\u001b[39m(char_list)\n\u001b[1;32m      9\u001b[0m num_list \u001b[38;5;241m=\u001b[39m [\u001b[38;5;241m1\u001b[39m,\u001b[38;5;241m2\u001b[39m,\u001b[38;5;241m3\u001b[39m]\n\u001b[0;32m---> 10\u001b[0m \u001b[43mnum_list\u001b[49m\u001b[38;5;241;43m.\u001b[39;49m\u001b[43mpopleft\u001b[49m()\n\u001b[1;32m     11\u001b[0m \u001b[38;5;28mprint\u001b[39m(num_list)\n",
      "\u001b[0;31mAttributeError\u001b[0m: 'list' object has no attribute 'popleft'"
     ]
    }
   ],
   "source": [
    "from collections import deque\n",
    "char_list = deque(['a', 'b', 'c'])\n",
    "char_list.append('A')\n",
    "char_list.append('B')\n",
    "print(char_list)\n",
    "char_list.popleft()\n",
    "char_list.popleft()\n",
    "print(char_list)\n",
    "num_list = [1,2,3]\n",
    "num_list.popleft() # AttributeError: 'list' object has no attribute 'popleft'\n",
    "print(num_list)"
   ]
  },
  {
   "cell_type": "code",
   "execution_count": 35,
   "id": "783761ab-43fe-4db8-924b-08576c682ed4",
   "metadata": {},
   "outputs": [
    {
     "name": "stdout",
     "output_type": "stream",
     "text": [
      "PYTHON python\n",
      "LARAVAN laravan\n",
      "LARAVAN\n",
      "laravan\n"
     ]
    }
   ],
   "source": [
    "def upper_lower(*args):\n",
    "    for _ in args:\n",
    "        u=_.upper()\n",
    "        l=_.lower()\n",
    "        print(u,l)\n",
    "    return u,l\n",
    "u,l=upper_lower(\"Python\", \"Laravan\")\n",
    "print(u)\n",
    "print(l)\n"
   ]
  },
  {
   "cell_type": "code",
   "execution_count": 3,
   "id": "d33b70aa-51e6-46a4-945e-1282350ddc6b",
   "metadata": {},
   "outputs": [
    {
     "name": "stdout",
     "output_type": "stream",
     "text": [
      "jpg\n"
     ]
    }
   ],
   "source": [
    "image ='kms.JPG'\n",
    "image_ext = image.rsplit('.',1)[1].lower()\n",
    "print(image_ext)"
   ]
  },
  {
   "cell_type": "code",
   "execution_count": 5,
   "id": "0d1e4f5f-ed52-4221-a969-479c854d7d62",
   "metadata": {},
   "outputs": [
    {
     "name": "stdout",
     "output_type": "stream",
     "text": [
      "Help on built-in function rsplit:\n",
      "\n",
      "rsplit(sep=None, maxsplit=-1) method of builtins.str instance\n",
      "    Return a list of the words in the string, using sep as the delimiter string.\n",
      "    \n",
      "      sep\n",
      "        The delimiter according which to split the string.\n",
      "        None (the default value) means split according to any whitespace,\n",
      "        and discard empty strings from the result.\n",
      "      maxsplit\n",
      "        Maximum number of splits to do.\n",
      "        -1 (the default value) means no limit.\n",
      "    \n",
      "    Splits are done starting at the end of the string and working to the front.\n",
      "\n"
     ]
    }
   ],
   "source": [
    "help(image.rsplit)"
   ]
  },
  {
   "cell_type": "code",
   "execution_count": 9,
   "id": "00a0e35e-b01e-4b47-b8fa-515832cf7278",
   "metadata": {},
   "outputs": [
    {
     "name": "stdout",
     "output_type": "stream",
     "text": [
      "[1, 2, 'fix', 4, 'bizz', 'fix', 7, 8, 'fix', 'bizz', 11, 'fix', 13, 14, 'fixbizz', 16, 17, 'fix', 19, 'bizz']\n"
     ]
    }
   ],
   "source": [
    "# This program is testing Angalar Yu javaScript tutioal with my python exercise\n",
    "num_list = []\n",
    "for num in range(1,21):\n",
    "    if num % 3 == 0 and num % 5 == 0:\n",
    "        num_list.append('fizzbizz')\n",
    "        continue\n",
    "    if num % 3 == 0:\n",
    "        num_list.append('fizz')\n",
    "        continue\n",
    "    if num % 5 == 0:\n",
    "        num_list.append('bizz')\n",
    "        continue\n",
    "    else:\n",
    "        num_list.append(num)\n",
    "print(num_list)"
   ]
  },
  {
   "cell_type": "code",
   "execution_count": 10,
   "id": "6874a8cf-cac5-4f54-9187-9b97a97ba709",
   "metadata": {},
   "outputs": [
    {
     "name": "stdout",
     "output_type": "stream",
     "text": [
      "[1, 2, 'fizz', 4, 'bizz', 'fizz', 7, 8, 'fizz', 'bizz', 11, 'fizz', 13, 14, 'fizzbizz', 16, 17, 'fizz', 19, 'bizz']\n"
     ]
    }
   ],
   "source": [
    "# This is what the different of if statement and if elif statement\n",
    "# This program is testing Angalar Yu javaScript tutioal with my python exercise\n",
    "num_list = []\n",
    "for num in range(1,21):\n",
    "    if num % 3 == 0 and num % 5 == 0:\n",
    "        num_list.append('fizzbizz')\n",
    "    elif num % 3 == 0:\n",
    "        num_list.append('fizz')\n",
    "    elif num % 5 == 0:\n",
    "        num_list.append('bizz')\n",
    "    else:\n",
    "        num_list.append(num)\n",
    "print(num_list)"
   ]
  },
  {
   "cell_type": "code",
   "execution_count": 2,
   "id": "9baac85a-1c4e-40c5-acd1-5b5696364bc7",
   "metadata": {},
   "outputs": [
    {
     "name": "stdout",
     "output_type": "stream",
     "text": [
      "[1, 2, 'fizz', 4, 'bizz', 'fizz', 7, 8, 'fizz', 'bizz', 11, 'fizz', 13, 14, 'fizzbizz', 16, 17, 'fizz', 19, 'bizz']\n"
     ]
    }
   ],
   "source": [
    "# This is what the different of while loop and for loop\n",
    "# This program is testing Angalar Yu javaScript tutioal with my python exercise\n",
    "num_list = []\n",
    "num = 1\n",
    "while num <=20:    \n",
    "    if num % 3 == 0 and num % 5 == 0:\n",
    "        num_list.append('fizzbizz')\n",
    "    elif num % 3 == 0:\n",
    "        num_list.append('fizz')\n",
    "    elif num % 5 == 0:\n",
    "        num_list.append('bizz')\n",
    "    else:\n",
    "        num_list.append(num)\n",
    "    num+=1     \n",
    "print(num_list)"
   ]
  },
  {
   "cell_type": "code",
   "execution_count": 9,
   "id": "47d131c7-5074-4b63-9984-db086c9e326f",
   "metadata": {},
   "outputs": [
    {
     "name": "stdin",
     "output_type": "stream",
     "text": [
      "Do you want to add Person?(Press 1 for Yes/ 0 for No  kms\n"
     ]
    },
    {
     "name": "stdout",
     "output_type": "stream",
     "text": [
      "You must Enter 0 or 1\n"
     ]
    },
    {
     "name": "stdin",
     "output_type": "stream",
     "text": [
      "Do you want to add Person?(Press 1 for Yes/ 0 for No  10\n",
      "Enter the name : kms\n",
      "Do you want to add Person?(Press 1 for Yes/ 0 for No  1\n",
      "Enter the name : Kyaw Myo Swe\n",
      "Do you want to add Person?(Press 1 for Yes/ 0 for No  1\n",
      "Enter the name : Ye Bhone Au\n",
      "Do you want to add Person?(Press 1 for Yes/ 0 for No  1\n",
      "Enter the name : Agga Min\n",
      "Do you want to add Person?(Press 1 for Yes/ 0 for No  0\n"
     ]
    },
    {
     "name": "stdout",
     "output_type": "stream",
     "text": [
      "Kyaw Myo Swe is Selectet Person.\n"
     ]
    }
   ],
   "source": [
    "import random\n",
    "name_list = []\n",
    "check_input = True\n",
    "def name_input():\n",
    "    name = input('Enter the name :')\n",
    "    name_list.append(name)\n",
    "def random_name():\n",
    "    print(f'{name_list[random.randint(0,len(name_list))]} is Selected Person.')\n",
    "while check_input:    \n",
    "    try:\n",
    "        check = int(input('Do you want to add Person?(Press 1 for Yes/ 0 for No '))\n",
    "        if check:\n",
    "            name_input()\n",
    "        else:\n",
    "            random_name()\n",
    "            check_input = False\n",
    "    except :\n",
    "        print('You must Enter 0 or 1')\n",
    "        "
   ]
  },
  {
   "cell_type": "code",
   "execution_count": 15,
   "id": "4c0a6ef9-49f8-4987-a4b9-b6b8b793886a",
   "metadata": {},
   "outputs": [
    {
     "name": "stdout",
     "output_type": "stream",
     "text": [
      "[0, 1]\n"
     ]
    }
   ],
   "source": [
    "# This program is Testing The Dr. Angalar Yu javascript fibonacci to python exercise\n",
    "def fibonacci(num):\n",
    "    fibonacci_num =[]\n",
    "    if num == 1:\n",
    "        fibonacci_num = [0]\n",
    "    elif num == 2:\n",
    "        fibonacci_num = [0,1]\n",
    "    else:\n",
    "        fibonacci_num = [0,1]\n",
    "        for i in range(0,num+1):\n",
    "            fibonacci_num.append(fibonacci_num[len(fibonacci_num)-2]+fibonacci_num[len(fibonacci_num)-1])\n",
    "    print (fibonacci_num)\n",
    "fibonacci(2)    "
   ]
  },
  {
   "cell_type": "code",
   "execution_count": 1,
   "id": "c7c7dae6-973a-4f3c-9263-f723dfc81159",
   "metadata": {},
   "outputs": [
    {
     "name": "stdout",
     "output_type": "stream",
     "text": [
      "5\n"
     ]
    }
   ],
   "source": [
    "# Normarl Function and calling with parameters\n",
    "def sum(a,b):\n",
    "    result = a +b\n",
    "    return result\n",
    "print(sum(2,3))"
   ]
  },
  {
   "cell_type": "code",
   "execution_count": 3,
   "id": "00ddc4a8-8815-420c-b605-1dd0a83ba3de",
   "metadata": {},
   "outputs": [
    {
     "name": "stdout",
     "output_type": "stream",
     "text": [
      "5\n"
     ]
    }
   ],
   "source": [
    "# a function assigned to a variable and calling variable with parameters\n",
    "def sum(a,b):\n",
    "    result = a +b\n",
    "    return result\n",
    "s = sum\n",
    "print(s(2,3))"
   ]
  },
  {
   "cell_type": "code",
   "execution_count": 14,
   "id": "3963e38a-fe00-4150-9670-708c56b04ad6",
   "metadata": {},
   "outputs": [
    {
     "name": "stdout",
     "output_type": "stream",
     "text": [
      "5\n"
     ]
    }
   ],
   "source": [
    "# writing upper condition with lambda experssions\n",
    "s =lambda a,b : a + b\n",
    "print(s(2,3))"
   ]
  },
  {
   "cell_type": "code",
   "execution_count": 1,
   "id": "e394b846-3c9a-4b99-afcc-ed784f7f4f1a",
   "metadata": {},
   "outputs": [
    {
     "name": "stdout",
     "output_type": "stream",
     "text": [
      "hello world\n"
     ]
    }
   ],
   "source": [
    "hello =lambda : \"hello world\"\n",
    "print(hello())"
   ]
  },
  {
   "cell_type": "code",
   "execution_count": 3,
   "id": "94ad0c83-56b7-4cd5-9a45-24fff9442974",
   "metadata": {},
   "outputs": [
    {
     "name": "stdout",
     "output_type": "stream",
     "text": [
      "30\n"
     ]
    }
   ],
   "source": [
    "def func(num):\n",
    "    return num +1\n",
    "lambda_test= lambda num,func : func(num) * 5\n",
    "print(lambda_test(5,func))"
   ]
  },
  {
   "cell_type": "code",
   "execution_count": 8,
   "id": "06c31aaf-2f91-44cf-b5c6-04a198c023dc",
   "metadata": {},
   "outputs": [
    {
     "name": "stdout",
     "output_type": "stream",
     "text": [
      "kyaw myo swe\n",
      "<class 'list'>\n"
     ]
    }
   ],
   "source": [
    "name_list = ['kyaw', 'myo', 'swe']\n",
    "name = ' '.join(name_list)\n",
    "print(name)"
   ]
  },
  {
   "cell_type": "code",
   "execution_count": 18,
   "id": "b14cb0bf-3954-4873-8363-bd29086c296d",
   "metadata": {},
   "outputs": [
    {
     "name": "stdout",
     "output_type": "stream",
     "text": [
      "[1, 4, 9, 16, 25]\n"
     ]
    }
   ],
   "source": [
    "num_list =[1,2,3,4,5]\n",
    "def square(num):\n",
    "    return num*num\n",
    "square_num_list =map(square,num_list)\n",
    "print(list(square_num_list))"
   ]
  },
  {
   "cell_type": "code",
   "execution_count": 20,
   "id": "3be2a1dc-d707-4a6c-9326-f901bad10c24",
   "metadata": {},
   "outputs": [
    {
     "name": "stdout",
     "output_type": "stream",
     "text": [
      "[1, 4, 9, 16, 25]\n"
     ]
    }
   ],
   "source": [
    "num_list2 = [1,2,3,4,5]\n",
    "square_num_list_lambda = map(lambda x : x*x,num_list2)\n",
    "print(list(square_num_list_lambda))"
   ]
  },
  {
   "cell_type": "code",
   "execution_count": 21,
   "id": "f9f34b3c-373d-4b8d-beca-17c5f8d32215",
   "metadata": {},
   "outputs": [
    {
     "name": "stdout",
     "output_type": "stream",
     "text": [
      "[2, 4]\n"
     ]
    }
   ],
   "source": [
    "filter_num_list = filter(lambda x : x%2 == 0,num_list2)\n",
    "print(list(filter_num_list))"
   ]
  },
  {
   "cell_type": "code",
   "execution_count": 25,
   "id": "c0e9af6f-37f1-4d5d-83e8-e79e0b0ea6e7",
   "metadata": {},
   "outputs": [
    {
     "name": "stdout",
     "output_type": "stream",
     "text": [
      "[1, 9, 25]\n"
     ]
    }
   ],
   "source": [
    "num_list =[1,2,3,4,5]\n",
    "odd_of_square = filter(lambda x:x%2!=0,map(lambda x:x*x,num_list))\n",
    "print(list(odd_of_square))"
   ]
  },
  {
   "cell_type": "code",
   "execution_count": 3,
   "id": "170702eb-5fcc-4d1c-b5cd-45c006691256",
   "metadata": {},
   "outputs": [
    {
     "name": "stdout",
     "output_type": "stream",
     "text": [
      "she said, \"I'm hungry!\"\n",
      "['s', 'h', 'e', ' ', 's', 'a', 'i', 'd', ',', ' ', '\"', 'I', \"'\", 'm', ' ', 'h', 'u', 'n', 'g', 'r', 'y', '!', '\"']\n"
     ]
    }
   ],
   "source": [
    "shout ='she said, \"I\\'m hungry!\"'\n",
    "print(shout)\n",
    "shout_list = list(shout)\n",
    "print(shout_list)"
   ]
  },
  {
   "cell_type": "code",
   "execution_count": 31,
   "id": "5cb02b96-bf39-4edb-bced-31db7f5c9a6f",
   "metadata": {},
   "outputs": [
    {
     "name": "stdout",
     "output_type": "stream",
     "text": [
      "[1, 2, 3, 4, 5, 1, 2, 3, 4, 5, 1, 2, 3, 4, 5, 1, 2, 3, 4, 5, 1, 2, 3, 4, 5, 1, 2, 3, 4, 5, 1, 2, 3, 4, 5, 1, 2, 3, 4, 5, 1, 2, 3, 4, 5, 1, 2, 3, 4, 5, 1, 2, 3, 4, 5, 1, 2, 3, 4, 5, 1, 2, 3, 4, 5, 1, 2, 3, 4, 5, 1, 2, 3, 4, 5, 1, 2, 3, 4, 5]\n"
     ]
    }
   ],
   "source": [
    "my_list = [1,2,3,4,5]\n",
    "def func(li):\n",
    "    my_list = li*2\n",
    "    return my_list\n",
    "my_list=func(my_list)\n",
    "for i in range(3):\n",
    "    my_list=func(my_list)\n",
    "print(my_list)"
   ]
  },
  {
   "cell_type": "code",
   "execution_count": 38,
   "id": "1058a3c3-71fe-474e-a798-5e8d1e7e46b6",
   "metadata": {},
   "outputs": [
    {
     "name": "stdout",
     "output_type": "stream",
     "text": [
      "[1, 2, 3, 4, 5, 1, 2, 3, 4, 5]\n"
     ]
    }
   ],
   "source": [
    "my_list = [1,2,3,4,5]\n",
    "def func(li):\n",
    "    my_list = li*2\n",
    "    return my_list\n",
    "my_list=func(my_list)\n",
    "print(my_list)"
   ]
  },
  {
   "cell_type": "code",
   "execution_count": null,
   "id": "3c02703a-6136-42b9-8e9d-9665d2155a14",
   "metadata": {},
   "outputs": [],
   "source": []
  },
  {
   "cell_type": "code",
   "execution_count": 1,
   "id": "80cbcf80-fc35-437f-8b19-4b767cb122be",
   "metadata": {},
   "outputs": [
    {
     "name": "stdout",
     "output_type": "stream",
     "text": [
      "42\n"
     ]
    }
   ],
   "source": [
    "# Age Calculator using Python\n",
    "def ageCalculator(y, m, d):\n",
    "    import datetime\n",
    "    today = datetime.datetime.now().date()\n",
    "    dob = datetime.date(y,m,d)\n",
    "    age = int((today-dob).days / 365.25)\n",
    "    print(age)\n",
    "    \n",
    "#y=year m=month d =day\n",
    "ageCalculator(1979,11,26)"
   ]
  },
  {
   "cell_type": "code",
   "execution_count": 16,
   "id": "c6e6d449-7303-4d1c-bbf7-6bf0a6c674ff",
   "metadata": {},
   "outputs": [
    {
     "name": "stdout",
     "output_type": "stream",
     "text": [
      "2022-04-04\n",
      "13:40:48.325946\n",
      "13\n",
      "40\n",
      "15470 days, 0:00:00\n"
     ]
    }
   ],
   "source": [
    "import datetime\n",
    "print(datetime.datetime.now().date())\n",
    "print(datetime.datetime.now().time())\n",
    "#print(dir(datetime.datetime.now().time()))\n",
    "print(datetime.datetime.now().time().hour)\n",
    "print(datetime.datetime.now().time().minute)\n",
    "print(datetime.datetime.now().date()-datetime.date(1979,11,26))"
   ]
  },
  {
   "cell_type": "code",
   "execution_count": 19,
   "id": "885ad81b-2aed-4455-91fa-a3e02eddfeb0",
   "metadata": {},
   "outputs": [
    {
     "name": "stdin",
     "output_type": "stream",
     "text": [
      "Enter your name : kyaw myo swe\n",
      "Enter your password : kyaw myo swe\n"
     ]
    },
    {
     "name": "stdout",
     "output_type": "stream",
     "text": [
      "User Name is kyaw myo swe and password is ************ 12 long.\n"
     ]
    }
   ],
   "source": [
    "user = input('Enter your name :')\n",
    "password = input('Enter your password :')\n",
    "print(f\"User Name is {user} and password is {'*'* len(password)} {len(password)} long.\")"
   ]
  },
  {
   "cell_type": "code",
   "execution_count": 40,
   "id": "ff389468-ca9a-456a-8dc2-8f1cbcb1c62c",
   "metadata": {},
   "outputs": [
    {
     "name": "stdin",
     "output_type": "stream",
     "text": [
      "Enter the name for search : Kyaw\n"
     ]
    },
    {
     "name": "stdout",
     "output_type": "stream",
     "text": [
      "The name is not included in the list.\n"
     ]
    }
   ],
   "source": [
    "name_list = ['Johne', 'William', 'Thoma', 'Shally', 'Skarlet', 'Raymond']\n",
    "search_name = input('Enter the name for search :')\n",
    "if search_name in name_list:\n",
    "    print(name_list.index(search_name))\n",
    "else:\n",
    "    print('The name is not included in the list.')"
   ]
  },
  {
   "cell_type": "code",
   "execution_count": 11,
   "id": "63ad89d6-8608-48e4-8b90-ae52bced444f",
   "metadata": {},
   "outputs": [
    {
     "name": "stdout",
     "output_type": "stream",
     "text": [
      "12\n"
     ]
    }
   ],
   "source": [
    "# This program is Height even number from number list\n",
    "def highest_even_num(li):\n",
    "    evens = []\n",
    "    for item in li:\n",
    "        if item%2==0:\n",
    "            evens.append(item)\n",
    "    #return sorted(evens)[-1]\n",
    "    return max(evens)\n",
    "print(highest_even_num([4,7,9,3,2,1,8,10,12,11]))"
   ]
  },
  {
   "cell_type": "code",
   "execution_count": 22,
   "id": "332af8ae-6e67-4064-92bc-0458b1c3e6a4",
   "metadata": {},
   "outputs": [
    {
     "name": "stdout",
     "output_type": "stream",
     "text": [
      "ဦးကျော်\n",
      "တာတီး\n",
      "('ငစော', 'ပိုးတီ', 'ဘူကြီး')\n",
      "တပ်ကြပ်ကြီးဖိုးစီ\n"
     ]
    }
   ],
   "source": [
    "ကျော်ဟိန်း = 'ဦးကျော်'\n",
    "သျှိုင်းအောင် = 'ဘူကြီး'\n",
    "\n",
    "def ပန်းမြိုင်လည်ကဥယျာဥ်မှူး():\n",
    "    ကျော်ဟိန်း = 'တာတီး' # local variable\n",
    "    return ကျော်ဟိန်း\n",
    "\n",
    "def ဝေလည်းမွှေးကြွေလည်းမွှေး():\n",
    "    ကျော်ဟိန်း = 'တပ်ကြပ်ကြီးဖိုးစီ' # local variable\n",
    "    return ကျော်ဟိန်း\n",
    "\n",
    "def မိုက်ချက်ကတော့ကန်းကုန်():\n",
    "    ကျော်ဟိန်း = 'ငစော' # parents local variable\n",
    "    def မင်းသားများ():\n",
    "        ချစ်ဖွယ် = 'ပိုးတီ' # local variable\n",
    "        return ကျော်ဟိန်း,ချစ်ဖွယ်,သျှိုင်းအောင် #  သျှိုင်းအောင် Gloval variable\n",
    "    return မင်းသားများ()\n",
    "print(ကျော်ဟိန်း)\n",
    "print(ပန်းမြိုင်လည်ကဥယျာဥ်မှူး())\n",
    "print(မိုက်ချက်ကတော့ကန်းကုန်())\n",
    "print(ဝေလည်းမွှေးကြွေလည်းမွှေး())"
   ]
  },
  {
   "cell_type": "code",
   "execution_count": 62,
   "id": "a283a1db-83a8-436f-a065-93ae93eb33fe",
   "metadata": {},
   "outputs": [
    {
     "name": "stdout",
     "output_type": "stream",
     "text": [
      "1980.0\n"
     ]
    }
   ],
   "source": [
    "from functools import reduce\n",
    "products_list = {\n",
    "    'laptop': 1200,\n",
    "    'iphone':800,\n",
    "    'glass':200\n",
    "}\n",
    "prices_list = [v for k,v in products_list.items()]\n",
    "total_amount=reduce(lambda  acc,item : acc+item,prices_list,0)\n",
    "discount_amount = total_amount*.10\n",
    "definiate_amount=total_amount-discount_amount\n",
    "print(definiate_amount)\n"
   ]
  },
  {
   "cell_type": "code",
   "execution_count": 66,
   "id": "23934704-2970-4a5b-a314-29675e22787b",
   "metadata": {},
   "outputs": [
    {
     "name": "stdout",
     "output_type": "stream",
     "text": [
      "['a', 'c']\n"
     ]
    }
   ],
   "source": [
    "alphabart_list=['a','b','c','a','d','e','c','f','g','h']\n",
    "duplicate = list(set([x for x in alphabart_list if alphabart_list.count(x) > 1 ]))\n",
    "print(duplicate)"
   ]
  },
  {
   "cell_type": "code",
   "execution_count": 8,
   "id": "746fc716-c56f-4ea5-9f51-742f7215bb94",
   "metadata": {},
   "outputs": [
    {
     "name": "stdout",
     "output_type": "stream",
     "text": [
      "========================================\n",
      "Performance testing for \"For Loop & append() method\"\n",
      "========================================\n",
      "For Loop Result is : 50000005000000\n",
      "Time taken :1.140070915222168 s.\n",
      "\n",
      "\n",
      "========================================\n",
      "Performance testing for \"Comprehension\"\n",
      "========================================\n",
      "List Comprehension Result is : 50000005000000\n",
      "Time taken :0.9245717525482178 s.\n"
     ]
    }
   ],
   "source": [
    "from time import time\n",
    "from functools import reduce\n",
    "def performance_tester(func):\n",
    "    def wrapper(*args, **kwargs):\n",
    "        print('='* 40)\n",
    "        start_time = time()\n",
    "        func_result=func(*args, **kwargs)\n",
    "        end_time = time()\n",
    "        print(f'Time taken :{end_time-start_time} s.')\n",
    "        return func_result\n",
    "    return wrapper\n",
    "\n",
    "@performance_tester\n",
    "def for_loop_calculation():\n",
    "    print('Performance testing for \"For Loop & append() method\"')\n",
    "    print('='* 40)\n",
    "    num_list_f = []\n",
    "    for i in range(1,10000001):\n",
    "        num_list_f.append(i)\n",
    "    result_f = reduce(lambda acc,item : acc+item,num_list_f,0 )  \n",
    "    print(f'For Loop Result is : {result_f}')\n",
    "for_loop_calculation()\n",
    "print('');print('');\n",
    "@performance_tester\n",
    "def list_comprehension_calculation():\n",
    "    print('Performance testing for \"Comprehension\"')\n",
    "    print('='* 40)\n",
    "    num_list_c = [item for item in range(1,10000001)]\n",
    "    result_c = reduce(lambda acc,item : acc+item,num_list_c,0 )\n",
    "    print(f'List Comprehension Result is : {result_c}')\n",
    "list_comprehension_calculation()"
   ]
  },
  {
   "cell_type": "code",
   "execution_count": 4,
   "id": "1b05e612-ff47-43d8-979c-89924be550e1",
   "metadata": {},
   "outputs": [
    {
     "name": "stdout",
     "output_type": "stream",
     "text": [
      "1\n",
      "2\n",
      "3\n",
      "4\n",
      "5\n"
     ]
    }
   ],
   "source": [
    "# This program is creating the owne generator function:\n",
    "def generator_func(num):\n",
    "    for i in range(1,num):\n",
    "        yield i\n",
    "# for i in generator_func(100):\n",
    "#     print(i)\n",
    "g = generator_func(100)\n",
    "print(next(g))\n",
    "print(next(g))\n",
    "print(next(g))\n",
    "print(next(g))\n",
    "print(next(g))"
   ]
  },
  {
   "cell_type": "code",
   "execution_count": 16,
   "id": "d81002cc-498f-4c33-b21f-0f21f9d80cf1",
   "metadata": {},
   "outputs": [
    {
     "name": "stdout",
     "output_type": "stream",
     "text": [
      "0,1,2,3,4,5,6,7,8,9,"
     ]
    }
   ],
   "source": [
    "class MyGen():\n",
    "    current = 0\n",
    "    def __init__(self, first, last):\n",
    "        self.first = first\n",
    "        self.last = last\n",
    "    \n",
    "    def __iter__(self):\n",
    "        return self\n",
    "    \n",
    "    def __next__(self):\n",
    "        if MyGen.current < self.last:\n",
    "            num = MyGen.current\n",
    "            MyGen.current += 1\n",
    "            return num\n",
    "        raise StopIteration\n",
    "        \n",
    "gen = MyGen(0,10)\n",
    "for i in gen:\n",
    "    print(i, end=',')"
   ]
  },
  {
   "cell_type": "code",
   "execution_count": 7,
   "id": "ed9bd712-b45b-402a-8f09-bf38c175a51b",
   "metadata": {},
   "outputs": [
    {
     "name": "stdout",
     "output_type": "stream",
     "text": [
      "0,1,1,2,3,5,8,13,21,34,55,89,144,233,377,610,987,1597,2584,4181,"
     ]
    }
   ],
   "source": [
    "def fib_by_generator(number):\n",
    "    a,b = 0,1\n",
    "    for i in range(0,number):\n",
    "        yield a\n",
    "        temp = a;a = b;b = temp + b\n",
    "for num in fib_by_generator(20):\n",
    "    print(num,end=',')"
   ]
  },
  {
   "cell_type": "code",
   "execution_count": 4,
   "id": "c2f53e52-ce9a-4732-91d7-12331af57542",
   "metadata": {},
   "outputs": [
    {
     "name": "stdout",
     "output_type": "stream",
     "text": [
      "[0, 1, 1, 2, 3, 5, 8, 13, 21, 34, 55, 89, 144, 233, 377, 610, 987, 1597, 2584, 4181]\n"
     ]
    }
   ],
   "source": [
    "def fib_by_iterator(number):\n",
    "    a,b = 0,1\n",
    "    result = []\n",
    "    for i in range(number):\n",
    "        result.append(a)\n",
    "        temp = a;a = b; b = temp + b\n",
    "    return result\n",
    "print(fib_by_iterator(20))\n",
    "        "
   ]
  },
  {
   "cell_type": "code",
   "execution_count": 1,
   "id": "571d9fda-a22a-41ec-b2c5-fe4b82f3f19e",
   "metadata": {},
   "outputs": [
    {
     "data": {
      "text/plain": [
       "7"
      ]
     },
     "execution_count": 1,
     "metadata": {},
     "output_type": "execute_result"
    }
   ],
   "source": [
    "3+4"
   ]
  },
  {
   "cell_type": "code",
   "execution_count": 3,
   "id": "e8edf3cf-dcc4-4ecd-9d0c-b8d15a9c8fa2",
   "metadata": {},
   "outputs": [
    {
     "name": "stdout",
     "output_type": "stream",
     "text": [
      "7\n"
     ]
    }
   ],
   "source": [
    "ပေါင်းလဒ် =  3 + 4\n",
    "print(ပေါင်းလဒ်)"
   ]
  },
  {
   "cell_type": "code",
   "execution_count": 4,
   "id": "b61a028a-9906-4f86-b297-2eaf733f2904",
   "metadata": {},
   "outputs": [
    {
     "name": "stdout",
     "output_type": "stream",
     "text": [
      "မောင်ရဲဘုဏ်းဦး\n"
     ]
    }
   ],
   "source": [
    "name = \"မောင်ရဲဘုဏ်းဦး\"\n",
    "print(name)"
   ]
  },
  {
   "cell_type": "code",
   "execution_count": 2,
   "id": "da523782-15c0-4a99-9024-417bfc098a54",
   "metadata": {},
   "outputs": [
    {
     "name": "stdout",
     "output_type": "stream",
     "text": [
      "63\n"
     ]
    }
   ],
   "source": [
    "num1=23\n",
    "num2=40\n",
    "\n",
    "result=num1+num2\n",
    "\n",
    "print(result)"
   ]
  },
  {
   "cell_type": "code",
   "execution_count": 3,
   "id": "43f017f5-5515-4971-8a1c-4bddd2ddbb11",
   "metadata": {},
   "outputs": [
    {
     "name": "stdout",
     "output_type": "stream",
     "text": [
      "Kyaw Myo Swe \n",
      " 42 \n",
      " PhD\n"
     ]
    }
   ],
   "source": [
    "first_name = 'Kyaw'\n",
    "middle_name='Myo'\n",
    "last_name ='Swe'\n",
    "age=42\n",
    "gread='PhD'\n",
    "print(first_name,middle_name,last_name,'\\n',age,'\\n',gread)"
   ]
  },
  {
   "cell_type": "code",
   "execution_count": 6,
   "id": "3d0ddd86-840c-4fa0-8e58-0f5292c7682e",
   "metadata": {},
   "outputs": [
    {
     "name": "stdin",
     "output_type": "stream",
     "text": [
      "Enter your first name : Agga\n"
     ]
    },
    {
     "name": "stdout",
     "output_type": "stream",
     "text": [
      "Agga\n"
     ]
    }
   ],
   "source": [
    "first_name = input('Enter your first name :')\n",
    "print(first_name)"
   ]
  },
  {
   "cell_type": "code",
   "execution_count": 6,
   "id": "451b24e2-89bb-44a4-a711-cf8b56e1d204",
   "metadata": {},
   "outputs": [
    {
     "name": "stdin",
     "output_type": "stream",
     "text": [
      "Enter firsat number : 10\n",
      "Enter the operator +,-,*,/ : /\n",
      "Enter second number : 3\n"
     ]
    },
    {
     "name": "stdout",
     "output_type": "stream",
     "text": [
      "The sum of two number is :3.3333333333333335\n"
     ]
    }
   ],
   "source": [
    "number1 = int(input('Enter firsat number :'))\n",
    "operator = input('Enter the operator +,-,*,/ :')\n",
    "number2 = int(input('Enter second number :'))\n",
    "\n",
    "if operator == '+':\n",
    "    result = number1 + number2\n",
    "if operator == '-':\n",
    "    result = number1 - number2\n",
    "if operator == '*':\n",
    "    result = number1 * number2\n",
    "if operator == '/':\n",
    "    result = number1 / number2\n",
    "print(f'The sum of two number is :{result}')"
   ]
  },
  {
   "cell_type": "code",
   "execution_count": 2,
   "id": "d4bc76db-1913-4437-9873-2296cf1e8907",
   "metadata": {},
   "outputs": [
    {
     "name": "stdout",
     "output_type": "stream",
     "text": [
      "4\n"
     ]
    }
   ],
   "source": [
    "import random\n",
    "num = random.choice(range(1,10))\n",
    "print(num)"
   ]
  },
  {
   "cell_type": "code",
   "execution_count": null,
   "id": "9cd8d58c-e7ed-4bfe-9419-7c7f50f74550",
   "metadata": {},
   "outputs": [],
   "source": [
    "\"\"\"\n",
    "if <condition> :\n",
    "elif <condition>:\n",
    "else:\n",
    "\n",
    "\"\"\""
   ]
  },
  {
   "cell_type": "code",
   "execution_count": null,
   "id": "c9193ae1-b270-4aad-8de2-19d42160e08c",
   "metadata": {},
   "outputs": [],
   "source": [
    "name = input('Enter name :')\n",
    "age = int(input('Enter your age'))\n",
    "light = True\n"
   ]
  },
  {
   "cell_type": "code",
   "execution_count": null,
   "id": "37895630-c6cc-4ad2-8f14-3bee71649190",
   "metadata": {},
   "outputs": [],
   "source": []
  }
 ],
 "metadata": {
  "kernelspec": {
   "display_name": "Python 3 (ipykernel)",
   "language": "python",
   "name": "python3"
  },
  "language_info": {
   "codemirror_mode": {
    "name": "ipython",
    "version": 3
   },
   "file_extension": ".py",
   "mimetype": "text/x-python",
   "name": "python",
   "nbconvert_exporter": "python",
   "pygments_lexer": "ipython3",
   "version": "3.8.8"
  }
 },
 "nbformat": 4,
 "nbformat_minor": 5
}
