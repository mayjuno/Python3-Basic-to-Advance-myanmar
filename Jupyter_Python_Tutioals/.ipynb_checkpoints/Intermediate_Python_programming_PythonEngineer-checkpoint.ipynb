{
 "cells": [
  {
   "cell_type": "markdown",
   "metadata": {
    "slideshow": {
     "slide_type": "subslide"
    },
    "tags": []
   },
   "source": [
    "Intermediate Python Programming Course\n",
    "--------------------------------------\n",
    "\n"
   ]
  },
  {
   "cell_type": "markdown",
   "metadata": {},
   "source": [
    "OutLine\n",
    "--------\n",
    "    1.Lists\n",
    "    2.Tuples\n",
    "    3.Dictionary\n",
    "    4.Sets\n",
    "    5.Strings\n",
    "    6.Collections\n",
    "    7.Itertools\n",
    "    8.Lambda Functions\n",
    "    9.Exceptions and Errors\n",
    "    10.Logging\n",
    "    11.JSON\n",
    "    12.Random Numbers\n",
    "    13.Decoractors\n",
    "    14.Generators\n",
    "    15.Threading VS Multiprocessing\n",
    "    16.Multithreading\n",
    "    17.Multiprocessing\n",
    "    18.Function Arguments\n",
    "    19.Shallow vs Deep Copying\n",
    "    20.The Asterisk (*) Operator\n",
    "    21.Context Manager"
   ]
  },
  {
   "cell_type": "markdown",
   "metadata": {},
   "source": [
    "1.Lists\n",
    "--------\n",
    "    1.list သည် collection data type  အမျိုးအစားဖြစ်သည် ။\n",
    "    2.Ordered ->list ကို အစီအစဥ် စိနိုင်သည်။\n",
    "    3.mutable ပြင်ဆင်နိုင်သည်။\n",
    "    4.allows duplicate elements(element တစ်ခုအားထပ်ကာထပ်ကာပါခွင့်ပြုသည်။)"
   ]
  },
  {
   "cell_type": "markdown",
   "metadata": {},
   "source": [
    "empty list တစ်ခုတည်ဆောက်ခြင်း"
   ]
  },
  {
   "cell_type": "code",
   "execution_count": 2,
   "metadata": {},
   "outputs": [
    {
     "name": "stdout",
     "output_type": "stream",
     "text": [
      "[]\n",
      "[]\n"
     ]
    }
   ],
   "source": [
    "mylist = [] # square bracket ဖြင့်လည်းတည်ဆောက်နိုင်သည်။\n",
    "mylist2 = list() # list() function ကို အသုံးပြုပြီးလည်းတည်ဆောက်နိုင်သည်။\n",
    "print(mylist)\n",
    "print(mylist2)"
   ]
  },
  {
   "cell_type": "code",
   "execution_count": 1,
   "metadata": {},
   "outputs": [
    {
     "name": "stdout",
     "output_type": "stream",
     "text": [
      "['banana', 'cherry', 'apple']\n"
     ]
    }
   ],
   "source": [
    "mylist = ['banana', 'cherry', 'apple']\n",
    "print(mylist)"
   ]
  },
  {
   "cell_type": "markdown",
   "metadata": {},
   "source": [
    "list တစ်ခုအတွင်းရှိ elements များကို list index ကို အသုံးပြု၍ထုတ်ယူနိုင်သည်။\n",
    "ဥပမာ။ ။"
   ]
  },
  {
   "cell_type": "code",
   "execution_count": 5,
   "metadata": {},
   "outputs": [
    {
     "name": "stdout",
     "output_type": "stream",
     "text": [
      "cherry\n"
     ]
    }
   ],
   "source": [
    "item = mylist[1]\n",
    "print(item)"
   ]
  },
  {
   "cell_type": "code",
   "execution_count": 6,
   "metadata": {},
   "outputs": [
    {
     "ename": "IndexError",
     "evalue": "list index out of range",
     "output_type": "error",
     "traceback": [
      "\u001b[0;31m---------------------------------------------------------------------------\u001b[0m",
      "\u001b[0;31mIndexError\u001b[0m                                Traceback (most recent call last)",
      "\u001b[0;32m<ipython-input-6-7476197429eb>\u001b[0m in \u001b[0;36m<module>\u001b[0;34m\u001b[0m\n\u001b[0;32m----> 1\u001b[0;31m \u001b[0mitem\u001b[0m \u001b[0;34m=\u001b[0m \u001b[0mmylist\u001b[0m\u001b[0;34m[\u001b[0m\u001b[0;36m3\u001b[0m\u001b[0;34m]\u001b[0m\u001b[0;34m\u001b[0m\u001b[0;34m\u001b[0m\u001b[0m\n\u001b[0m\u001b[1;32m      2\u001b[0m \u001b[0mprint\u001b[0m\u001b[0;34m(\u001b[0m\u001b[0mitem\u001b[0m\u001b[0;34m)\u001b[0m\u001b[0;34m\u001b[0m\u001b[0;34m\u001b[0m\u001b[0m\n",
      "\u001b[0;31mIndexError\u001b[0m: list index out of range"
     ]
    }
   ],
   "source": [
    "#list index သည် 0(သုည) မှ စတင်သည်။ list index ထက်ကျော်လွန်ပါက list index outof range Errorဖြစ်မည်။\n",
    "item = mylist[3]\n",
    "print(item)"
   ]
  },
  {
   "cell_type": "markdown",
   "metadata": {},
   "source": [
    "list index ကို [-1] ဖြင့်ထုတ်ယူပါက နောက်ဆုံး element ကိုရရှိမည်။ [-1],[-2] ..[-n] စသည်ဖြင့် list index range ကို ပြောင်းပြန် reverse order အဖြစ်ထုတ်ယူနိုင်သည်။"
   ]
  },
  {
   "cell_type": "code",
   "execution_count": 7,
   "metadata": {},
   "outputs": [
    {
     "name": "stdout",
     "output_type": "stream",
     "text": [
      "apple\n"
     ]
    }
   ],
   "source": [
    "print(mylist[-1])"
   ]
  },
  {
   "cell_type": "markdown",
   "metadata": {},
   "source": [
    "list အတွင်မှ elements များကို for in loop ဖြင့် element တစ်ခုခြင်းစီထုတ်ယူနိုင်သည်။\n",
    "ဥပမာ။  ။"
   ]
  },
  {
   "cell_type": "code",
   "execution_count": 8,
   "metadata": {},
   "outputs": [
    {
     "name": "stdout",
     "output_type": "stream",
     "text": [
      "banana\n",
      "cherry\n",
      "apple\n"
     ]
    }
   ],
   "source": [
    "for item in mylist: # item နေရာကို သင်ကြိုက်နှစ်သက်ရာ variable name ပေးနိုင်သည်။ ဥပမာ i သို့ x\n",
    "    print(item)"
   ]
  },
  {
   "cell_type": "markdown",
   "metadata": {},
   "source": [
    "list တစ်ခုအတွင်းမှာ ပါသည် element များဖြင့်လည်း list ကို စစ်ဆေးနိုင်သည်။\n",
    "ဥပမာ ။ ။"
   ]
  },
  {
   "cell_type": "code",
   "execution_count": 9,
   "metadata": {},
   "outputs": [
    {
     "name": "stdout",
     "output_type": "stream",
     "text": [
      "yes\n"
     ]
    }
   ],
   "source": [
    "if \"banana\" in mylist:\n",
    "    print(\"yes\")\n",
    "else:\n",
    "    print(\"no\")"
   ]
  },
  {
   "cell_type": "code",
   "execution_count": 10,
   "metadata": {},
   "outputs": [
    {
     "name": "stdout",
     "output_type": "stream",
     "text": [
      "no\n"
     ]
    }
   ],
   "source": [
    "if \"lemon\" in mylist:\n",
    "    print(\"yes\")\n",
    "else:\n",
    "    print(\"no\")"
   ]
  },
  {
   "cell_type": "markdown",
   "metadata": {},
   "source": [
    "အခြား အသုံးများသော method  တစ်ခုဖြစ်တဲ့ len() method ဖြင့် list အတွင်းမှာရှိသော elements အရေအတွက်ကို စစ်ဆေးနိုင်သည်"
   ]
  },
  {
   "cell_type": "code",
   "execution_count": 11,
   "metadata": {},
   "outputs": [
    {
     "name": "stdout",
     "output_type": "stream",
     "text": [
      "3\n"
     ]
    }
   ],
   "source": [
    "print(len(mylist))"
   ]
  },
  {
   "cell_type": "markdown",
   "metadata": {},
   "source": [
    "append() method ကိုအသုံးပြုပြီး မိမိ list အား elements များထပ်ပေါင်းထည့်နိုင်သည်။\n",
    "ဥပမာ။ ။"
   ]
  },
  {
   "cell_type": "code",
   "execution_count": 12,
   "metadata": {},
   "outputs": [
    {
     "name": "stdout",
     "output_type": "stream",
     "text": [
      "['banana', 'cherry', 'apple']\n",
      "['banana', 'cherry', 'apple', 'lemon']\n"
     ]
    }
   ],
   "source": [
    "print(mylist)# မူရင်း list\n",
    "mylist.append(\"lemon\")\n",
    "print(mylist) # ပေါင်းထည့်ပြီးသော list"
   ]
  },
  {
   "cell_type": "markdown",
   "metadata": {},
   "source": [
    "insert() method ကို အသုံးပြုပြီး မိမိ list အတွင်း index နေရာသတ်မှတ်၍လည်း ထည့်သွင်းနိုင်သည်။\n",
    "ဥပမာ ။ ။"
   ]
  },
  {
   "cell_type": "code",
   "execution_count": 13,
   "metadata": {},
   "outputs": [
    {
     "name": "stdout",
     "output_type": "stream",
     "text": [
      "['banana', 'cherry', 'apple', 'lemon']\n",
      "['banana', 'blueberry', 'cherry', 'apple', 'lemon']\n"
     ]
    }
   ],
   "source": [
    "print(mylist)\n",
    "mylist.insert(1,'blueberry')\n",
    "print(mylist)"
   ]
  },
  {
   "cell_type": "markdown",
   "metadata": {},
   "source": [
    "pop() method ကို အသုံးပြုပြီး မိမိ list အတွင်းမှ element ကို ဖယ်ထုတ်လို့ရသည်။\n",
    "pop() method သည် နောက်ဆုံး element ကို သာ ဖယ်ထုတ်မည် ဖြစ်ပြီး ၊ ၎င်းဖယ်ထုတ်လိုက်သော element ကို သိမ်းစည်းပေးထားမည်။ ဥပမာ ။ ။"
   ]
  },
  {
   "cell_type": "code",
   "execution_count": 14,
   "metadata": {},
   "outputs": [
    {
     "name": "stdout",
     "output_type": "stream",
     "text": [
      "['banana', 'blueberry', 'cherry', 'apple', 'lemon']\n",
      "lemon\n",
      "['banana', 'blueberry', 'cherry', 'apple']\n"
     ]
    }
   ],
   "source": [
    "print(mylist) #မူရင်း list\n",
    "rmelement = mylist.pop() # ဖယ်ထုတ်လိုက်သော list အား rmelemnt variable ထဲသို့ သိမ်းဆည်းထားမည်။\n",
    "                         # pop(index) method ကို သုံးလျှင် index value ပေးရမည် ။\n",
    "print(rmelement)\n",
    "print(mylist) #ဖဘ်ထုတ်ပြီး list\n"
   ]
  },
  {
   "cell_type": "code",
   "execution_count": null,
   "metadata": {},
   "outputs": [],
   "source": [
    "remove() method ကိုအသုံးပြုပြီး မိမိနှစ်သက်ရာ elements များကို ဖယ်ထုတ်ပြစ်နိုင်သည်။\n",
    "မိမိ သတ်မှတ်ဖယ်ရှားလိုသော elementသည် list အတွင်းမရှိလျှင် error တက်မည်ကို သတိပြုပါ။"
   ]
  },
  {
   "cell_type": "code",
   "execution_count": 15,
   "metadata": {},
   "outputs": [
    {
     "name": "stdout",
     "output_type": "stream",
     "text": [
      "['banana', 'blueberry', 'cherry', 'apple']\n",
      "['banana', 'blueberry', 'apple']\n"
     ]
    }
   ],
   "source": [
    "print(mylist)\n",
    "mylist.remove(\"cherry\") # remove(value) method ကိုသုံးလျှင်  value  ကို ပေးရမည် ။\n",
    "print(mylist)"
   ]
  },
  {
   "cell_type": "code",
   "execution_count": null,
   "metadata": {},
   "outputs": [],
   "source": [
    "reverse() , sort() method များကို အသုံးပြုပြီးလည်း မိမိ list ကို စီစဥ်နိုင်သည်။"
   ]
  },
  {
   "cell_type": "code",
   "execution_count": 1,
   "metadata": {},
   "outputs": [
    {
     "name": "stdout",
     "output_type": "stream",
     "text": [
      "<class 'list_reverseiterator'>\n"
     ]
    }
   ],
   "source": [
    "mylist = ['banana', 'cherry', 'apple']\n",
    "reverse_mylist = reversed(mylist)\n",
    "print(type(reverse_mylist))"
   ]
  },
  {
   "cell_type": "code",
   "execution_count": 32,
   "metadata": {},
   "outputs": [
    {
     "name": "stdout",
     "output_type": "stream",
     "text": [
      "[-1, 1, 3, 4, 6, 10]\n"
     ]
    }
   ],
   "source": [
    "number_list = [10,4,6,3,1,-1]\n",
    "sort_number_list = sorted(number_list)\n",
    "print(sort_number_list)"
   ]
  },
  {
   "cell_type": "markdown",
   "metadata": {},
   "source": [
    "မိမိ list အတွင်းမှာ တူညီတဲ့ elements များ တစ်ကြိမ်တည်း တစ်ပြိုင်တည်းထည့်လိုလျှင် list['element'] * number of times"
   ]
  },
  {
   "cell_type": "code",
   "execution_count": 36,
   "metadata": {},
   "outputs": [
    {
     "name": "stdout",
     "output_type": "stream",
     "text": [
      "[0, 0, 0, 0, 0]\n"
     ]
    }
   ],
   "source": [
    "my_new_list = [0] * 5\n",
    "print(my_new_list)"
   ]
  },
  {
   "cell_type": "markdown",
   "metadata": {},
   "source": [
    "list တစ်ခုနှင့် တစ်ခုပေါင်းလို လျှင် + operatorကို အသုံးပြုနိုင်သည်။"
   ]
  },
  {
   "cell_type": "code",
   "execution_count": 37,
   "metadata": {},
   "outputs": [
    {
     "name": "stdout",
     "output_type": "stream",
     "text": [
      "[0, 0, 0, 0, 0]\n",
      "[0, 0, 0, 0, 0, 1, 2, 3, 4, 5]\n"
     ]
    }
   ],
   "source": [
    "print(my_new_list)\n",
    "my_new_list2 = [1,2,3,4,5]\n",
    "my_new_list = my_new_list + my_new_list2\n",
    "print(my_new_list)"
   ]
  },
  {
   "cell_type": "markdown",
   "metadata": {},
   "source": [
    "မိမိ list ရဲ့ အစိတ်အပိုင်း တစ်ခုအား new list အဖြစ်တည်ဆောက်ခြင်း data ထုတ်ယူခြင်းများလည်းပြုလုပ်နိုင်သည်\n",
    "nwe_list = oldlist[startIndex:stopIndex:step] ပုံစံဖြင့်တည်ဆောက်နိုင်သည်။\n",
    "မှတ်ချက်\n",
    " startIndex မပါလျှင် 0(သုည) index က စတင်မည်။ oldlist = [ ;5:1]\n",
    " stopIndex  မပါလျှင် last  index အထိ လုပ်မည်။ oldlist = [2 ; :1]\n",
    " step မပါလျှင် one step ပဲလုပ်မည် oldlist = [ 1;5]"
   ]
  },
  {
   "cell_type": "code",
   "execution_count": 38,
   "metadata": {},
   "outputs": [
    {
     "name": "stdout",
     "output_type": "stream",
     "text": [
      "[3, 4, 5]\n"
     ]
    }
   ],
   "source": [
    "number_list = [1,2,3,4,5,6,7,8,9]\n",
    "sub_list = number_list[2:5]\n",
    "print(sub_list)"
   ]
  },
  {
   "cell_type": "markdown",
   "metadata": {},
   "source": [
    "list ကို copy ကူးရာတွင် assigning,assigning with slicing[:], copy() method ,list() function တွင် argument အဖြစ်ထည့်သွင်းခြင်းဖြင့်ဆောင်ရွက်နိုင်သည်။ assigning လုပ်ခြင်းသည် မူရင်း list ပြောင်းလဲပါက လိုက်ပါပြောင်းလဲမည်"
   ]
  },
  {
   "cell_type": "code",
   "execution_count": 40,
   "metadata": {},
   "outputs": [
    {
     "name": "stdout",
     "output_type": "stream",
     "text": [
      "['banana', 'cherry', 'apple']\n",
      "['banana', 'cherry', 'apple']\n",
      "['banana', 'cherry', 'apple', 'blueberry']\n",
      "['banana', 'cherry', 'apple', 'blueberry']\n"
     ]
    }
   ],
   "source": [
    "# list copy by assigning\n",
    "print(mylist)\n",
    "cpy_mylist = mylist\n",
    "print(cpy_mylist)\n",
    "cpy_mylist.append('blueberry')\n",
    "print(mylist)\n",
    "print(cpy_mylist)"
   ]
  },
  {
   "cell_type": "code",
   "execution_count": 2,
   "metadata": {},
   "outputs": [
    {
     "name": "stdout",
     "output_type": "stream",
     "text": [
      "['banana', 'cherry', 'apple']\n",
      "['banana', 'cherry', 'apple']\n",
      "['Watermellon', 'cherry', 'apple']\n"
     ]
    }
   ],
   "source": [
    "# List copy by slicing \n",
    "print(mylist)\n",
    "cpy_slic_mylist = mylist[:]\n",
    "cpy_slic_mylist[0] = 'Watermellon'\n",
    "print(mylist)\n",
    "print(cpy_slic_mylist)"
   ]
  },
  {
   "cell_type": "code",
   "execution_count": 41,
   "metadata": {},
   "outputs": [
    {
     "name": "stdout",
     "output_type": "stream",
     "text": [
      "['banana', 'cherry', 'apple', 'blueberry']\n",
      "['banana', 'cherry', 'apple', 'blueberry', 'Orange']\n",
      "['banana', 'cherry', 'apple', 'blueberry']\n"
     ]
    }
   ],
   "source": [
    "#list copy by copy() method\n",
    "print(mylist)\n",
    "cpy_method_mylist = mylist.copy()\n",
    "cpy_method_mylist.append('Orange')\n",
    "print(cpy_method_mylist)\n",
    "print(mylist)"
   ]
  },
  {
   "cell_type": "code",
   "execution_count": 42,
   "metadata": {},
   "outputs": [
    {
     "name": "stdout",
     "output_type": "stream",
     "text": [
      "['banana', 'cherry', 'apple', 'blueberry']\n",
      "['banana', 'cherry', 'apple', 'blueberry']\n",
      "['banana', 'cherry', 'apple', 'blueberry', 'Orange']\n"
     ]
    }
   ],
   "source": [
    "# list copy by list() function as a parameter\n",
    "print(mylist)\n",
    "cpy_listfunc_mylist = list(mylist)\n",
    "cpy_listfunc_mylist.append('Orange')\n",
    "print(mylist)\n",
    "print(cpy_listfunc_mylist)"
   ]
  },
  {
   "cell_type": "code",
   "execution_count": 22,
   "metadata": {},
   "outputs": [
    {
     "name": "stdout",
     "output_type": "stream",
     "text": [
      "['apple', 'banana', 'banana', 'cherry', 'corn', 'pineapple']\n",
      "['apple', 'corn', 'banana', 'banana', 'cherry', 'corn', 'pineapple']\n"
     ]
    }
   ],
   "source": [
    "print(mylist)\n",
    "mylist.insert(1,'corn') # insert(index,value)\n",
    "print(mylist)"
   ]
  },
  {
   "cell_type": "code",
   "execution_count": 3,
   "metadata": {},
   "outputs": [
    {
     "name": "stdout",
     "output_type": "stream",
     "text": [
      "['banana', 'cherry', 'apple']\n",
      "['banana', 'cherry', 'apple', 'banana', 'pineapple']\n"
     ]
    }
   ],
   "source": [
    "print(mylist)\n",
    "mylist.extend(['banana','pineapple'])\n",
    "print(mylist)"
   ]
  },
  {
   "cell_type": "code",
   "execution_count": 4,
   "metadata": {},
   "outputs": [
    {
     "name": "stdout",
     "output_type": "stream",
     "text": [
      "['banana', 'cherry', 'apple', 'banana', 'pineapple']\n",
      "2\n",
      "['pineapple', 'banana', 'apple', 'cherry', 'banana']\n",
      "['apple', 'banana', 'banana', 'cherry', 'pineapple']\n",
      "['banana', 'cherry', 'apple', 'banana', 'pineapple']\n"
     ]
    }
   ],
   "source": [
    "print(mylist)\n",
    "count_banana=mylist.count('banana')\n",
    "print(count_banana)\n",
    "rev_mylist = mylist[:]\n",
    "rev_mylist.reverse()\n",
    "print(rev_mylist)\n",
    "sort_mylist = mylist[:]\n",
    "sort_mylist.sort()\n",
    "print(sort_mylist)\n",
    "print(mylist)"
   ]
  },
  {
   "cell_type": "code",
   "execution_count": 6,
   "metadata": {},
   "outputs": [
    {
     "name": "stdout",
     "output_type": "stream",
     "text": [
      "['banana', 'cherry', 'apple', 'banana', 'pineapple']\n",
      "['apple', 'banana', 'banana', 'cherry', 'pineapple']\n",
      "['banana', 'cherry', 'apple', 'banana', 'pineapple']\n"
     ]
    }
   ],
   "source": [
    "print(mylist)\n",
    "#Python buit in function sorted() ကို အသုံးပြုပြီးလည်း စီစဥ်နိုင်ပါတယ်် ။\n",
    "# sorted() function ကတော့ New list object တစ်ခု သီးခြားဖန်တီးလိုက်မှာဖြစ်ပါတယ် ။\n",
    "print(sorted(mylist))\n",
    "print(mylist)"
   ]
  },
  {
   "cell_type": "code",
   "execution_count": 5,
   "metadata": {},
   "outputs": [
    {
     "name": "stdout",
     "output_type": "stream",
     "text": [
      "['banana', 'cherry', 'apple', 'banana', 'pineapple']\n",
      "2\n"
     ]
    }
   ],
   "source": [
    "print(mylist)\n",
    "print(mylist.index('apple',0,4)) # index(value,start,end)\n",
    "# index(value) value ကိုပဲပေးပြီး star and end ကို default value အနေနဲ့ အသုံးပြုလို့ရပါတယ် ။"
   ]
  },
  {
   "cell_type": "code",
   "execution_count": 14,
   "metadata": {},
   "outputs": [
    {
     "name": "stdout",
     "output_type": "stream",
     "text": [
      "[1, 2, 3, 4, 5, 6]\n",
      "[1, 4, 9, 16, 25, 36]\n",
      "[6, 5, 4, 3, 2, 1]\n"
     ]
    }
   ],
   "source": [
    "number_list = [1,2,3,4,5,6]\n",
    "sqr_number_list = [i*i for i in number_list]\n",
    "print(number_list)\n",
    "print(sqr_number_list)\n",
    "number_list.reverse()\n",
    "print(number_list)"
   ]
  },
  {
   "cell_type": "code",
   "execution_count": 3,
   "metadata": {},
   "outputs": [
    {
     "name": "stdout",
     "output_type": "stream",
     "text": [
      "[1, 4, 9, 16, 25, 36]\n"
     ]
    }
   ],
   "source": [
    "number_list = [1,2,3,4,5,6]\n",
    "sqr_number_list = []\n",
    "for i in number_list:\n",
    "    sqr_number_list.append(i*i)\n",
    "print(sqr_number_list)"
   ]
  },
  {
   "cell_type": "markdown",
   "metadata": {},
   "source": [
    "List နှင့်ပါတ်သတ်၍ အသုံးပြုနိုင်သော functions များ"
   ]
  },
  {
   "cell_type": "code",
   "execution_count": null,
   "metadata": {},
   "outputs": [],
   "source": [
    "dirlist = [1,1.3, 'A',\"list\",(1,2,3,),('a','b','c',),{'animal' : 'goat'}]\n",
    "dir(dirlist)"
   ]
  },
  {
   "cell_type": "code",
   "execution_count": null,
   "metadata": {},
   "outputs": [],
   "source": [
    "# join() method"
   ]
  },
  {
   "cell_type": "code",
   "execution_count": 8,
   "metadata": {},
   "outputs": [
    {
     "name": "stdout",
     "output_type": "stream",
     "text": [
      "my name is Johne .\n"
     ]
    }
   ],
   "source": [
    "mylist =  ['my', 'name', 'is', 'Johne', '.']\n",
    "sentence = ' '.join(mylist)\n",
    "print(sentence)"
   ]
  },
  {
   "cell_type": "code",
   "execution_count": null,
   "metadata": {},
   "outputs": [],
   "source": [
    "# List unpacking"
   ]
  },
  {
   "cell_type": "code",
   "execution_count": 14,
   "metadata": {},
   "outputs": [
    {
     "name": "stdout",
     "output_type": "stream",
     "text": [
      "a: 1\n",
      "b: 2\n",
      "c: 3\n",
      "d: 4\n",
      "~~~~~~~~~~~~~~~~~~~~~~~~~~~~~~~~~~~~~~~~~~~~~~~~~~\n",
      "a: 1\n",
      "b: 2\n",
      "c: 3\n",
      "d: 4\n",
      "other : [5, 6, 7, 8, 9, 10]\n",
      "~~~~~~~~~~~~~~~~~~~~~~~~~~~~~~~~~~~~~~~~~~~~~~~~~~\n",
      "a: 1\n",
      "b: 2\n",
      "c: 3\n",
      "other : [4, 5, 6, 7, 8, 9]\n",
      "d: 10\n",
      "~~~~~~~~~~~~~~~~~~~~~~~~~~~~~~~~~~~~~~~~~~~~~~~~~~\n",
      "a: 1\n",
      "b: 2\n",
      "other : [3, 4, 5, 6, 7, 8]\n",
      "c: 9\n",
      "d: 10\n"
     ]
    }
   ],
   "source": [
    "a,b,c,d = [1,2,3,4]\n",
    "print('a:',a)\n",
    "print('b:',b)\n",
    "print('c:',c)\n",
    "print('d:',d)\n",
    "print('~'*50)\n",
    "a,b,c,d,*other = [1,2,3,4,5,6,7,8,9,10]\n",
    "print('a:',a)\n",
    "print('b:',b)\n",
    "print('c:',c)\n",
    "print('d:',d)\n",
    "print('other :',other)\n",
    "\n",
    "print('~'*50)\n",
    "a,b,c,*other,d = [1,2,3,4,5,6,7,8,9,10] \n",
    "print('a:',a)\n",
    "print('b:',b)\n",
    "print('c:',c)\n",
    "print('other :',other)\n",
    "print('d:',d)\n",
    "\n",
    "print('~'*50)\n",
    "a,b,*other,c,d = [1,2,3,4,5,6,7,8,9,10]\n",
    "print('a:',a)\n",
    "print('b:',b)\n",
    "print('other :',other)\n",
    "print('c:',c)\n",
    "print('d:',d)"
   ]
  },
  {
   "cell_type": "markdown",
   "metadata": {},
   "source": [
    "2.Tuples\n",
    "--------\n",
    "    1.Tupel is  collection data type\n",
    "    2. Tuple is Ordered\n",
    "    3. Tuple is immutable\n",
    "    4. Tuple allows duplicate elements\n",
    "Tuple ကို () လက်သည်းကွင်းဖြင့်ရေးရပြီး အထဲက elements များကို (,) ကော်မာဖြင့်ပိုင်းခြားထားပါတယ်။\n",
    "Tupel ဆိုတာ collection data type အမျိုး အစားဖြစ်ပါတယ်။ အစီအစဥ်ရှိပါတယ်။ ပြောင်းရွှေ့ပြင်ဆင်ခွင့်မရှိပါဘူး ။ တူညီတဲ့ elements များ တစ်ခုထက်မက ပါဝင်နိုင်ပါတယ်။ \n",
    "Tuple က အခြေခံအားဖြင့် lists နဲ့ အတူတူပဲဖြစ်ပါတယ်။ \n",
    "List က ပြင်ဆင်ခွင့်ရှိတယ်။\n",
    "Tuple က ပြင်ဆင်ခွင့်မရှိပါဘူး"
   ]
  },
  {
   "cell_type": "code",
   "execution_count": null,
   "metadata": {},
   "outputs": [],
   "source": []
  },
  {
   "cell_type": "code",
   "execution_count": 44,
   "metadata": {},
   "outputs": [
    {
     "name": "stdout",
     "output_type": "stream",
     "text": [
      "('john', 29, 'London')\n",
      "<class 'tuple'>\n"
     ]
    }
   ],
   "source": [
    "mytuple = (\"john\",29,\"London\")\n",
    "print(mytuple)\n",
    "print(type(mytuple))"
   ]
  },
  {
   "cell_type": "markdown",
   "metadata": {},
   "source": [
    "Tuple တစ်ခုကို လက်သည်းကွင်း မပါပဲ  elements များအား (,) comma ကော်မာခံရေးခြင်းဖြင့် assign ပြုလုပ်နိုင်ပါတယ်။\n",
    "သို့ သော် element တစ်ခုတည်းဖြစ်ပါကလည်း နောက်တွင် ကော်မာထည့်ပေးရပါမည် ။ မထည်ုပါက string အဖြစ်သတ်မှတ်သွားပါမည်။\n"
   ]
  },
  {
   "cell_type": "code",
   "execution_count": 46,
   "metadata": {},
   "outputs": [
    {
     "name": "stdout",
     "output_type": "stream",
     "text": [
      "('john', 29, 'London')\n",
      "<class 'tuple'>\n",
      "john\n",
      "<class 'str'>\n",
      "('john',)\n",
      "<class 'tuple'>\n"
     ]
    }
   ],
   "source": [
    "mytupel = \"john\",29,\"US\"\n",
    "print(mytuple)\n",
    "print(type(mytuple))\n",
    "mytuple2 = (\"john\")\n",
    "print(mytuple2)\n",
    "print(type(mytuple2))\n",
    "mytuple3 = (\"john\",)\n",
    "print(mytuple3)\n",
    "print(type(mytuple3))"
   ]
  },
  {
   "cell_type": "markdown",
   "metadata": {},
   "source": [
    "Tuple တစ်ခုကို tuple() function အသုံးပြုပြီးလည်းတည်ဆောက်နိုင်ပါတယ်။\n",
    "List တစ်ခုအားလည်း Tuple အဖြစ်ပြောင်းလည်းနိုင်ပါတယ်။\n"
   ]
  },
  {
   "cell_type": "code",
   "execution_count": 47,
   "metadata": {},
   "outputs": [
    {
     "name": "stdout",
     "output_type": "stream",
     "text": [
      "('banana', 'cherry', 'apple', 'blueberry')\n",
      "<class 'tuple'>\n"
     ]
    }
   ],
   "source": [
    "mytuple = tuple(mylist)\n",
    "print(mytuple)\n",
    "print(type(mytuple))"
   ]
  },
  {
   "cell_type": "markdown",
   "metadata": {},
   "source": [
    "Tuple တစ်ခုရဲ့ elements များကို list မှာကဲ့သို့ index number ဖြင့်ထုတ်ယူရနိုင်ပါတယ်။"
   ]
  },
  {
   "cell_type": "code",
   "execution_count": 48,
   "metadata": {},
   "outputs": [
    {
     "name": "stdout",
     "output_type": "stream",
     "text": [
      "banana\n",
      "cherry\n"
     ]
    }
   ],
   "source": [
    "print(mytuple[0])\n",
    "print(mytuple[1])\n"
   ]
  },
  {
   "cell_type": "markdown",
   "metadata": {},
   "source": [
    "index number က elements  အရေအတွက်ထက်ကျော်လွန်ပါက tuple index out of range err ပြပါလိမ့်မည်။"
   ]
  },
  {
   "cell_type": "code",
   "execution_count": 49,
   "metadata": {},
   "outputs": [
    {
     "ename": "IndexError",
     "evalue": "tuple index out of range",
     "output_type": "error",
     "traceback": [
      "\u001b[0;31m---------------------------------------------------------------------------\u001b[0m",
      "\u001b[0;31mIndexError\u001b[0m                                Traceback (most recent call last)",
      "\u001b[0;32m<ipython-input-49-bfadb20d77a9>\u001b[0m in \u001b[0;36m<module>\u001b[0;34m\u001b[0m\n\u001b[0;32m----> 1\u001b[0;31m \u001b[0mprint\u001b[0m\u001b[0;34m(\u001b[0m\u001b[0mmytuple\u001b[0m\u001b[0;34m[\u001b[0m\u001b[0;36m5\u001b[0m\u001b[0;34m]\u001b[0m\u001b[0;34m)\u001b[0m\u001b[0;34m\u001b[0m\u001b[0;34m\u001b[0m\u001b[0m\n\u001b[0m",
      "\u001b[0;31mIndexError\u001b[0m: tuple index out of range"
     ]
    }
   ],
   "source": [
    "print(mytuple[5])"
   ]
  },
  {
   "cell_type": "markdown",
   "metadata": {},
   "source": [
    "list မှာ ကဲ့သို့ပင် index number ကို negative value ဖြင့် index အရေအတွက်အတိုင်းပြောင်းပြန်ထုပ်ယူနိုင်မှာဖြစ်ပါတယ်။\n",
    "[-1] ဟုထုတ်ယူပါက နောက်ဆုံး element ကိုရရှိမည်ဖြစ်ပါတယ်။ [-2] ဖြင့်ထုပ်ယူပါက ဒုတီယ နောက်ဆုံး element ကို ရရှိမည်ဖြစ်ပါတယ်။"
   ]
  },
  {
   "cell_type": "code",
   "execution_count": 8,
   "metadata": {},
   "outputs": [
    {
     "name": "stdout",
     "output_type": "stream",
     "text": [
      "('banana', 'cherry', 'apple')\n",
      "apple\n",
      "cherry\n"
     ]
    }
   ],
   "source": [
    "mytuple = tuple(mylist)\n",
    "print(mytuple)\n",
    "print(mytuple[-1])\n",
    "print(mytuple[-2])\n"
   ]
  },
  {
   "cell_type": "markdown",
   "metadata": {},
   "source": [
    "Tuple တစ်ခုအတွင်းမှာ ရှိတဲ့ Element ကို  List မှာကဲ့သို့ ပြောင်းလဲကြည့်လျှင် မရနိုင်ပါဘူး\n",
    "object does not support item assignment Error ပြမှာဖြစ်ပါတယ်။"
   ]
  },
  {
   "cell_type": "code",
   "execution_count": 11,
   "metadata": {},
   "outputs": [
    {
     "ename": "TypeError",
     "evalue": "'tuple' object does not support item assignment",
     "output_type": "error",
     "traceback": [
      "\u001b[0;31m---------------------------------------------------------------------------\u001b[0m",
      "\u001b[0;31mTypeError\u001b[0m                                 Traceback (most recent call last)",
      "\u001b[0;32m<ipython-input-11-d0a5c4869269>\u001b[0m in \u001b[0;36m<module>\u001b[0;34m\u001b[0m\n\u001b[1;32m      1\u001b[0m \u001b[0mmytuple\u001b[0m \u001b[0;34m=\u001b[0m \u001b[0;34m(\u001b[0m\u001b[0;34m\"john\"\u001b[0m\u001b[0;34m,\u001b[0m\u001b[0;36m29\u001b[0m\u001b[0;34m,\u001b[0m\u001b[0;34m\"London\"\u001b[0m\u001b[0;34m)\u001b[0m\u001b[0;34m\u001b[0m\u001b[0;34m\u001b[0m\u001b[0m\n\u001b[0;32m----> 2\u001b[0;31m \u001b[0mmytuple\u001b[0m\u001b[0;34m[\u001b[0m\u001b[0;36m0\u001b[0m\u001b[0;34m]\u001b[0m \u001b[0;34m=\u001b[0m \u001b[0;34m\"Jenny\"\u001b[0m\u001b[0;34m\u001b[0m\u001b[0;34m\u001b[0m\u001b[0m\n\u001b[0m\u001b[1;32m      3\u001b[0m \u001b[0mprint\u001b[0m\u001b[0;34m(\u001b[0m\u001b[0mmytuple\u001b[0m\u001b[0;34m)\u001b[0m\u001b[0;34m\u001b[0m\u001b[0;34m\u001b[0m\u001b[0m\n",
      "\u001b[0;31mTypeError\u001b[0m: 'tuple' object does not support item assignment"
     ]
    }
   ],
   "source": [
    "mytuple = (\"john\",29,\"London\")\n",
    "mytuple[0] = \"Jenny\"\n",
    "print(mytuple)"
   ]
  },
  {
   "cell_type": "markdown",
   "metadata": {},
   "source": [
    "Tuple ကို လည်း Lists မှာကဲ့သို့ Iterable ပြုလုပ်လို့ရပါတယ်။\n",
    "for - in -- ဖြင့်လုပ်ကြည့်ကြရအောင်"
   ]
  },
  {
   "cell_type": "code",
   "execution_count": 12,
   "metadata": {},
   "outputs": [
    {
     "name": "stdout",
     "output_type": "stream",
     "text": [
      "john\n",
      "29\n",
      "London\n"
     ]
    }
   ],
   "source": [
    "for i in mytuple:\n",
    "    print(i)"
   ]
  },
  {
   "cell_type": "markdown",
   "metadata": {},
   "source": [
    "if condition စစ်ဆေးကြည့်လို့လည်းရပါတယ်။"
   ]
  },
  {
   "cell_type": "code",
   "execution_count": 13,
   "metadata": {},
   "outputs": [
    {
     "name": "stdout",
     "output_type": "stream",
     "text": [
      "yes\n"
     ]
    }
   ],
   "source": [
    "if \"john\" in mytuple:\n",
    "    print(\"yes\")\n",
    "else:\n",
    "    print(\"No\")"
   ]
  },
  {
   "cell_type": "markdown",
   "metadata": {},
   "source": [
    "len(), count() တို့ကို လည်း အသုံးပြုနိုင်ပါတယ်။\n",
    "len() function ကို သုံးပြီး Tuple အတွင်းရှိ elements တွေကို ရေတွက်လို့ရပါတယ်။\n",
    "count() method  ကိုသုံးပြီး တူညီတဲ့ elements တွေကိုရေတွက်နိုင်ပါတယ်။\n",
    "index() method ကိုသုံးပြီး elements တွေရဲ့ index ကိုရရှိနိုင်ပါတယ်။ တူညီတဲ့ elements တွေရှိခဲ့ရင်တော့ ပထမဆုံး elements ကိုပဲပြမှာဖြစ်ပါတယ်။"
   ]
  },
  {
   "cell_type": "code",
   "execution_count": 14,
   "metadata": {},
   "outputs": [
    {
     "name": "stdout",
     "output_type": "stream",
     "text": [
      "3\n"
     ]
    }
   ],
   "source": [
    "print(len(mytuple))"
   ]
  },
  {
   "cell_type": "code",
   "execution_count": 18,
   "metadata": {},
   "outputs": [
    {
     "name": "stdout",
     "output_type": "stream",
     "text": [
      "apple\n",
      "('a', 'p', 'p', 'l', 'e')\n",
      "2\n",
      "0\n",
      "3\n"
     ]
    }
   ],
   "source": [
    "str_Fruit = \"apple\"\n",
    "print(str_Fruit)\n",
    "tuple_Fruit = tuple(str_Fruit)\n",
    "print(tuple_Fruit)\n",
    "print(tuple_Fruit.count(\"p\"))\n",
    "print(tuple_Fruit.index('a'))\n",
    "print(tuple_Fruit.index('l'))"
   ]
  },
  {
   "cell_type": "markdown",
   "metadata": {},
   "source": [
    "ကို ရှာဖွေလိုတဲ့ element က tuple ထဲမှာ မပါရင်တော့ valeError  ပြပါလိမ့်မယ်"
   ]
  },
  {
   "cell_type": "code",
   "execution_count": 19,
   "metadata": {},
   "outputs": [
    {
     "ename": "ValueError",
     "evalue": "tuple.index(x): x not in tuple",
     "output_type": "error",
     "traceback": [
      "\u001b[0;31m---------------------------------------------------------------------------\u001b[0m",
      "\u001b[0;31mValueError\u001b[0m                                Traceback (most recent call last)",
      "\u001b[0;32m<ipython-input-19-0e73e57ce4da>\u001b[0m in \u001b[0;36m<module>\u001b[0;34m\u001b[0m\n\u001b[0;32m----> 1\u001b[0;31m \u001b[0mprint\u001b[0m\u001b[0;34m(\u001b[0m\u001b[0mtuple_Fruit\u001b[0m\u001b[0;34m.\u001b[0m\u001b[0mindex\u001b[0m\u001b[0;34m(\u001b[0m\u001b[0;34m'k'\u001b[0m\u001b[0;34m)\u001b[0m\u001b[0;34m)\u001b[0m\u001b[0;34m\u001b[0m\u001b[0;34m\u001b[0m\u001b[0m\n\u001b[0m",
      "\u001b[0;31mValueError\u001b[0m: tuple.index(x): x not in tuple"
     ]
    }
   ],
   "source": [
    "print(tuple_Fruit.index('k'))"
   ]
  },
  {
   "cell_type": "markdown",
   "metadata": {},
   "source": [
    "Tuple ကနေ List , List ကနေ Tuple ကို အလွယ်တကူပြောင်းလဲရနိုင်ပါတယ်။"
   ]
  },
  {
   "cell_type": "code",
   "execution_count": 22,
   "metadata": {},
   "outputs": [
    {
     "name": "stdout",
     "output_type": "stream",
     "text": [
      "apple\n",
      "('a', 'p', 'p', 'l', 'e')\n",
      "['a', 'p', 'p', 'l', 'e']\n",
      "('a', 'p', 'p', 'l', 'e')\n"
     ]
    }
   ],
   "source": [
    "str_Fruit = \"apple\"\n",
    "print(str_Fruit)\n",
    "tuple_Fruit = tuple(str_Fruit)\n",
    "print(tuple_Fruit)\n",
    "list_Fruit = list(tuple_Fruit)\n",
    "print(list_Fruit)\n",
    "rev_tuple_Fruit = tuple(list_Fruit)\n",
    "print(rev_tuple_Fruit)"
   ]
  },
  {
   "cell_type": "markdown",
   "metadata": {},
   "source": [
    "Tuple ကို slicing ပြုလုပ်၍လည်းထုပ်ယူရနိုင်ပါတယ်။\n",
    "sub_tuple = orginal_tuple[startIndex : stopIndex : step ]\n",
    "starIndex မပါရင် default 0(သုည) က စမှာဖြစ်ပါတယ်\n",
    "အထူးသတိပြုရန်မှာ stopIndex (မပါ) ထုပ်ပေးမှာ ဖြစ်ပါတယ်။"
   ]
  },
  {
   "cell_type": "code",
   "execution_count": 27,
   "metadata": {},
   "outputs": [
    {
     "name": "stdout",
     "output_type": "stream",
     "text": [
      "[1, 2, 3, 4, 5, 6, 7, 8, 9]\n",
      "[2, 3, 4, 5]\n"
     ]
    }
   ],
   "source": [
    "tuple_number = [1,2,3,4,5,6,7,8,9]\n",
    "print(tuple_number)\n",
    "sub_tuple_number = tuple_number[1:5]\n",
    "print(sub_tuple_number)"
   ]
  },
  {
   "cell_type": "markdown",
   "metadata": {},
   "source": [
    "Unpacking the elements\n",
    "Tuple အတွင်းမှာ ရှိတဲ့ element ကို အခြား variables များထဲသို့ unpacking ပြုလုပ်နိုင်ပါတယ်။\n",
    "Tuple အတွင်းရှိ elements  အရေအတွက်နဲ့ variables အရေအတွက်ကိုက်ညီမှုရှိရန်လိုအပ်တယ်။\n",
    "ကိုက်ညီမှု မရှိရင် value Error  ဖြစ်ပါလိမ်မယ်။"
   ]
  },
  {
   "cell_type": "code",
   "execution_count": null,
   "metadata": {},
   "outputs": [],
   "source": []
  },
  {
   "cell_type": "code",
   "execution_count": 30,
   "metadata": {},
   "outputs": [
    {
     "ename": "ValueError",
     "evalue": "too many values to unpack (expected 2)",
     "output_type": "error",
     "traceback": [
      "\u001b[0;31m---------------------------------------------------------------------------\u001b[0m",
      "\u001b[0;31mValueError\u001b[0m                                Traceback (most recent call last)",
      "\u001b[0;32m<ipython-input-30-52ef210a8194>\u001b[0m in \u001b[0;36m<module>\u001b[0;34m\u001b[0m\n\u001b[1;32m      1\u001b[0m \u001b[0mtuple_info\u001b[0m \u001b[0;34m=\u001b[0m \u001b[0;34m(\u001b[0m\u001b[0;34m\"John\"\u001b[0m\u001b[0;34m,\u001b[0m \u001b[0;36m29\u001b[0m\u001b[0;34m,\u001b[0m \u001b[0;34m\"London\"\u001b[0m\u001b[0;34m)\u001b[0m\u001b[0;34m\u001b[0m\u001b[0;34m\u001b[0m\u001b[0m\n\u001b[0;32m----> 2\u001b[0;31m \u001b[0mname\u001b[0m\u001b[0;34m,\u001b[0m \u001b[0mage\u001b[0m \u001b[0;34m=\u001b[0m \u001b[0mtuple_info\u001b[0m\u001b[0;34m\u001b[0m\u001b[0;34m\u001b[0m\u001b[0m\n\u001b[0m\u001b[1;32m      3\u001b[0m \u001b[0mprint\u001b[0m\u001b[0;34m(\u001b[0m\u001b[0mname\u001b[0m\u001b[0;34m)\u001b[0m\u001b[0;34m\u001b[0m\u001b[0;34m\u001b[0m\u001b[0m\n\u001b[1;32m      4\u001b[0m \u001b[0mprint\u001b[0m\u001b[0;34m(\u001b[0m\u001b[0mage\u001b[0m\u001b[0;34m)\u001b[0m\u001b[0;34m\u001b[0m\u001b[0;34m\u001b[0m\u001b[0m\n\u001b[1;32m      5\u001b[0m \u001b[0mprint\u001b[0m\u001b[0;34m(\u001b[0m\u001b[0mcountry\u001b[0m\u001b[0;34m)\u001b[0m\u001b[0;34m\u001b[0m\u001b[0;34m\u001b[0m\u001b[0m\n",
      "\u001b[0;31mValueError\u001b[0m: too many values to unpack (expected 2)"
     ]
    }
   ],
   "source": [
    "tuple_info = (\"John\", 29, \"London\")\n",
    "name, age = tuple_info\n",
    "print(name)\n",
    "print(age)\n",
    "print(country)"
   ]
  },
  {
   "cell_type": "markdown",
   "metadata": {},
   "source": [
    "name, age, country = tuple_info\n",
    "print(name)\n",
    "print(age)\n",
    "print(country)"
   ]
  },
  {
   "cell_type": "markdown",
   "metadata": {},
   "source": [
    "Tuple ရှိ elements နှင့် variables ကိုက်ညီမှု မရှိလျှင် *  ကိုသုံးပြီး ကျန်တာအားလုံး List ဟုသတ်မှတ်အသုံးပြုနိုင်ပါတယ်"
   ]
  },
  {
   "cell_type": "code",
   "execution_count": 37,
   "metadata": {},
   "outputs": [
    {
     "name": "stdout",
     "output_type": "stream",
     "text": [
      "1\n",
      "2\n",
      "3\n",
      "[4, 5, 6, 7, 8]\n",
      "9\n",
      "<class 'int'>\n",
      "<class 'list'>\n"
     ]
    }
   ],
   "source": [
    "tuple_numbers = (1,2,3,4,5,6,7,8,9)\n",
    "x1,x2,x3,*x4,x5 = tuple_numbers\n",
    "print(x1)\n",
    "print(x2)\n",
    "print(x3)\n",
    "print(x4)\n",
    "print(x5)\n",
    "print(type(x1))\n",
    "print(type(x4))"
   ]
  },
  {
   "cell_type": "markdown",
   "metadata": {},
   "source": [
    "အနှစ်ချုပ် အနေနဲ့ က Tuples နဲံ Lists ကတူတယ်။\n",
    "List က mutable(ပြင်ဆင်ဖြည့်စွပ်လို့ရတယ်) Tuple က ummutabel(ပြင်ဆင်ဖြည့်စွပ်ခွင့်မပြုဘူး)\n",
    "များပြားလှတဲ့ data များတွက်ချက်ရာတွင် Tuple ကပိုပြီး  Efficient ဖြစ်တယ် ။ ပိုမြန်တယ်။"
   ]
  },
  {
   "cell_type": "markdown",
   "metadata": {},
   "source": [
    "### Tupel မှာတော့ count()/ index() method ၂ ခုပဲရှိပါတယ် ။"
   ]
  },
  {
   "cell_type": "code",
   "execution_count": 21,
   "metadata": {},
   "outputs": [
    {
     "name": "stdout",
     "output_type": "stream",
     "text": [
      "9\n",
      "3\n",
      "6\n"
     ]
    }
   ],
   "source": [
    "mytuple = (1,2,3,4,4,5,6,5,4)\n",
    "print(len(mytuple))\n",
    "print(mytuple.count(4))\n",
    "print(mytuple.index(6))"
   ]
  },
  {
   "cell_type": "code",
   "execution_count": 20,
   "metadata": {},
   "outputs": [
    {
     "name": "stdout",
     "output_type": "stream",
     "text": [
      "Help on class tuple in module builtins:\n",
      "\n",
      "class tuple(object)\n",
      " |  tuple(iterable=(), /)\n",
      " |  \n",
      " |  Built-in immutable sequence.\n",
      " |  \n",
      " |  If no argument is given, the constructor returns an empty tuple.\n",
      " |  If iterable is specified the tuple is initialized from iterable's items.\n",
      " |  \n",
      " |  If the argument is a tuple, the return value is the same object.\n",
      " |  \n",
      " |  Built-in subclasses:\n",
      " |      asyncgen_hooks\n",
      " |      UnraisableHookArgs\n",
      " |  \n",
      " |  Methods defined here:\n",
      " |  \n",
      " |  __add__(self, value, /)\n",
      " |      Return self+value.\n",
      " |  \n",
      " |  __contains__(self, key, /)\n",
      " |      Return key in self.\n",
      " |  \n",
      " |  __eq__(self, value, /)\n",
      " |      Return self==value.\n",
      " |  \n",
      " |  __ge__(self, value, /)\n",
      " |      Return self>=value.\n",
      " |  \n",
      " |  __getattribute__(self, name, /)\n",
      " |      Return getattr(self, name).\n",
      " |  \n",
      " |  __getitem__(self, key, /)\n",
      " |      Return self[key].\n",
      " |  \n",
      " |  __getnewargs__(self, /)\n",
      " |  \n",
      " |  __gt__(self, value, /)\n",
      " |      Return self>value.\n",
      " |  \n",
      " |  __hash__(self, /)\n",
      " |      Return hash(self).\n",
      " |  \n",
      " |  __iter__(self, /)\n",
      " |      Implement iter(self).\n",
      " |  \n",
      " |  __le__(self, value, /)\n",
      " |      Return self<=value.\n",
      " |  \n",
      " |  __len__(self, /)\n",
      " |      Return len(self).\n",
      " |  \n",
      " |  __lt__(self, value, /)\n",
      " |      Return self<value.\n",
      " |  \n",
      " |  __mul__(self, value, /)\n",
      " |      Return self*value.\n",
      " |  \n",
      " |  __ne__(self, value, /)\n",
      " |      Return self!=value.\n",
      " |  \n",
      " |  __repr__(self, /)\n",
      " |      Return repr(self).\n",
      " |  \n",
      " |  __rmul__(self, value, /)\n",
      " |      Return value*self.\n",
      " |  \n",
      " |  count(self, value, /)\n",
      " |      Return number of occurrences of value.\n",
      " |  \n",
      " |  index(self, value, start=0, stop=9223372036854775807, /)\n",
      " |      Return first index of value.\n",
      " |      \n",
      " |      Raises ValueError if the value is not present.\n",
      " |  \n",
      " |  ----------------------------------------------------------------------\n",
      " |  Static methods defined here:\n",
      " |  \n",
      " |  __new__(*args, **kwargs) from builtins.type\n",
      " |      Create and return a new object.  See help(type) for accurate signature.\n",
      "\n"
     ]
    }
   ],
   "source": [
    "help(tuple)"
   ]
  },
  {
   "cell_type": "markdown",
   "metadata": {},
   "source": [
    "3.Dictionary\n",
    "------------\n",
    "    1.Dictionary က Collection Datatype  အမျိုးအစားဖြစ်တယ်။\n",
    "    2.Unordered အစီအစဥ် စီလို့မရနိုင်ဘူး\n",
    "    3.Mutable ပြင်ဆင်ဖြည့်စွပ်ပိုင်ခွင့်ရှိတယ်\n",
    "    4. Dictionary မှာ key နှင့် value ဆိုတဲ့ key:value pair တစ်စုံပါရမယ်။ Dictionary ကို {} ဖြင့်ထည့်သွင်းသတ်မှတ်ရတယ်။ key:value paries များကို (,)ကော်မာဖြင့် ခွဲခြားဖော်ပြပေးရမယ်။\n",
    "    5.kye သို့ vale ဖြင့် ရှာဖွေခြင်း Itearateပြုလုပ်ခြင်းတို့ပြုလုပ်နိုင်ပါတယ်။\n",
    "မှတ်ချက် ။ ။ Python3.7 နှင့်နောက်ပိုင်းမှာတော့ dictionary တွေက insertion order ကို မှတ်သားသိမ်းစီးနှိုင်ပါသည် ။\n",
    "          Python3.7 မတိုင်ခင် version  များကို မူ OrederedDict module ကိုအသုံးပြုနိုင်ပါသည်။"
   ]
  },
  {
   "cell_type": "markdown",
   "metadata": {},
   "source": [
    "Empty Dictionary တစ်ခုသတ်မှတ် မယ်ဆိုရင် {} ဖြင့် သတ်မှတ်နိုင်သလို dict() function ကို သုံးပြီးလည်းသတ်မှတ်နိုင်ပါတယ်။\n",
    "{} ဖြင့်သတ်မှတ်လျှင် 'key':value ကို (:) coloum ဖြင့်သတ်မှတ် ပြီး\n",
    "dict() function ဖြင့်သတ်မှတ်လိုလျှင် key = value ကို (=)equal ညီမျှခြင်းဖြင့် သတ်မှတ်ရမယ် ။\n",
    "အထူးမှတ်သားရန် ။ ။ Dictionary ရဲ့ key တွေက mutable data type ဖြစ်လို့ မရပါဘူး ။"
   ]
  },
  {
   "cell_type": "code",
   "execution_count": 15,
   "metadata": {},
   "outputs": [
    {
     "name": "stdout",
     "output_type": "stream",
     "text": [
      "{}\n",
      "<class 'dict'>\n",
      "{}\n",
      "<class 'dict'>\n"
     ]
    }
   ],
   "source": [
    "mydict={}\n",
    "print(mydict)\n",
    "print(type(mydict))\n",
    "func_dict = dict()\n",
    "print(func_dict)\n",
    "print(type(func_dict))"
   ]
  },
  {
   "cell_type": "code",
   "execution_count": 50,
   "metadata": {},
   "outputs": [
    {
     "name": "stdout",
     "output_type": "stream",
     "text": [
      "{'name': 'John', 'age': 29, 'address': 'Mandalay', 'married': True, 'wife': ('Juliar',), 'child': ['Raymond', 'william']}\n"
     ]
    }
   ],
   "source": [
    "dict_info = {'name':'John', 'age':29, 'address': 'Mandalay', 'married':True, \"wife\":(\"Juliar\",), \"child\":[\"Raymond\", \"william\"]}\n",
    "print(dict_info)"
   ]
  },
  {
   "cell_type": "code",
   "execution_count": 49,
   "metadata": {},
   "outputs": [
    {
     "name": "stdout",
     "output_type": "stream",
     "text": [
      "{'name': 'Kyaw', 'age': 40, 'address': 'Mandalay', 'married': True, 'wife': 'Thinzar Wint Kyaw', 'child': ['YeBhone', 'Agga']}\n"
     ]
    }
   ],
   "source": [
    "dict_info_kyaw = dict(name=\"Kyaw\", age=40, address=\"Mandalay\", married = True, wife=\"Thinzar Wint Kyaw\", child=[\"YeBhone\", \"Agga\"])\n",
    "print(dict_info_kyaw)"
   ]
  },
  {
   "cell_type": "markdown",
   "metadata": {},
   "source": [
    "Diction တစ်ခုအတွင်းရှိ values တွေက type အမျိုးမျိုးဖြစ်နိုင်တယ်။"
   ]
  },
  {
   "cell_type": "code",
   "execution_count": 47,
   "metadata": {},
   "outputs": [
    {
     "name": "stdout",
     "output_type": "stream",
     "text": [
      "<class 'str'>\n",
      "<class 'int'>\n",
      "<class 'str'>\n",
      "<class 'bool'>\n",
      "<class 'tuple'>\n",
      "<class 'list'>\n"
     ]
    }
   ],
   "source": [
    "print(type(dict_info[\"name\"]))\n",
    "print(type(dict_info[\"age\"]))\n",
    "print(type(dict_info[\"address\"]))\n",
    "print(type(dict_info[\"married\"]))\n",
    "print(type(dict_info[\"wife\"]))\n",
    "print(type(dict_info[\"child\"]))"
   ]
  },
  {
   "cell_type": "markdown",
   "metadata": {},
   "source": [
    "Dictionary ထဲမှာရှိတဲ့ value တွေကို key ဖြင့်ရှာဖွေနိုင်ပါတယ်။ key က မိမိ Dictionary မရှိရင် KeyError ပြပါလိမ့်မည်။"
   ]
  },
  {
   "cell_type": "code",
   "execution_count": 57,
   "metadata": {},
   "outputs": [
    {
     "name": "stdout",
     "output_type": "stream",
     "text": [
      "Kyaw\n",
      "40\n",
      "Mandalay\n",
      "True\n",
      "Thinzar Wint Kyaw\n",
      "['YeBhone', 'Agga']\n",
      "Agga\n"
     ]
    }
   ],
   "source": [
    "print(dict_info_kyaw[\"name\"])\n",
    "print(dict_info_kyaw[\"age\"])\n",
    "print(dict_info_kyaw[\"address\"])\n",
    "print(dict_info_kyaw[\"married\"])\n",
    "print(dict_info_kyaw[\"wife\"])\n",
    "print(dict_info_kyaw[\"child\"])\n",
    "print(dict_info_kyaw[\"child\"][1])\n",
    "\n"
   ]
  },
  {
   "cell_type": "markdown",
   "metadata": {},
   "source": [
    "Dictionary က  mutable  ဖြစ်တဲ့အတွက် ပြင်ဆင်ဖြည့်စွပ်လို့ရပါတယ်။"
   ]
  },
  {
   "cell_type": "code",
   "execution_count": 59,
   "metadata": {},
   "outputs": [
    {
     "name": "stdout",
     "output_type": "stream",
     "text": [
      "{'name': 'Kyaw', 'age': 40, 'address': 'Mandalay', 'married': True, 'wife': 'Thinzar Wint Kyaw', 'child': ['YeBhone', 'Agga'], 'email': 'mayjuno@gmail.com'}\n"
     ]
    }
   ],
   "source": [
    "dict_info_kyaw[\"email\"] = \"mayjuno@gmail.com\"\n",
    "print(dict_info_kyaw)"
   ]
  },
  {
   "cell_type": "code",
   "execution_count": null,
   "metadata": {},
   "outputs": [],
   "source": [
    "တကယ်လို့ Key က ရှိပြီးသားဆိုလျှင် ၎င်း Kye ရဲ့ value ကို over write လုပ်ပြင်ဆင်သွားမှာဖြစ်ပါတယ်။"
   ]
  },
  {
   "cell_type": "code",
   "execution_count": 63,
   "metadata": {},
   "outputs": [
    {
     "name": "stdout",
     "output_type": "stream",
     "text": [
      "{'name': 'Kyaw', 'age': 40, 'address': 'Mandalay', 'married': True, 'child': ['YeBhone', 'Agga'], 'email': 'mayjuno@gmail.com'}\n",
      "{'name': 'Kyaw', 'age': 40, 'address': 'Mandalay', 'married': True, 'child': ['YeBhone', 'Agga'], 'email': 'mayjuno@gmail.com', 'wife': 'lisa'}\n"
     ]
    }
   ],
   "source": [
    "print(dict_info_kyaw)\n",
    "dict_info_kyaw[\"wife\"] = \"lisa\"\n",
    "print(dict_info_kyaw)"
   ]
  },
  {
   "cell_type": "markdown",
   "metadata": {},
   "source": [
    "del keyword ကို အသုံးပြုပြီး Dictionary ရဲ့ key:value များကို ပယ်ဖျက်နိုင်ပါတယ်။"
   ]
  },
  {
   "cell_type": "code",
   "execution_count": 66,
   "metadata": {},
   "outputs": [
    {
     "name": "stdout",
     "output_type": "stream",
     "text": [
      "{'name': 'Kyaw', 'age': 40, 'address': 'Mandalay', 'married': True, 'child': ['YeBhone', 'Agga'], 'email': 'mayjuno@gmail.com', 'wife': 'lisa'}\n",
      "{'name': 'Kyaw', 'age': 40, 'address': 'Mandalay', 'child': ['YeBhone', 'Agga'], 'email': 'mayjuno@gmail.com'}\n"
     ]
    }
   ],
   "source": [
    "print(dict_info_kyaw)\n",
    "del dict_info_kyaw[\"married\"]\n",
    "del dict_info_kyaw[\"wife\"]\n",
    "\n",
    "print(dict_info_kyaw)"
   ]
  },
  {
   "cell_type": "markdown",
   "metadata": {},
   "source": [
    "pop() method ကို အသုံးပြုပြီးလည်း key:value များကို ပယ်ဖျက်နိုင်ပါတယ်။ pop() method ကို သုံးလျှင် ပယ်ဖျက်လိုက်တဲ့ item ကိုသိမ်းစည်းထားနိုင်မှာဖြစ်ပါတယ်။"
   ]
  },
  {
   "cell_type": "code",
   "execution_count": 67,
   "metadata": {},
   "outputs": [
    {
     "name": "stdout",
     "output_type": "stream",
     "text": [
      "{'name': 'Kyaw', 'age': 40, 'address': 'Mandalay', 'child': ['YeBhone', 'Agga'], 'email': 'mayjuno@gmail.com'}\n",
      "{'name': 'Kyaw', 'age': 40, 'address': 'Mandalay', 'child': ['YeBhone', 'Agga']}\n",
      "mayjuno@gmail.com\n"
     ]
    }
   ],
   "source": [
    "print(dict_info_kyaw)\n",
    "rm_dict_info_kyaw = dict_info_kyaw.pop(\"email\")\n",
    "print(dict_info_kyaw)\n",
    "print(rm_dict_info_kyaw)"
   ]
  },
  {
   "cell_type": "markdown",
   "metadata": {},
   "source": [
    "Python 3.7 မှာ ထည့်သွင်းလာတဲ့ popitem() method ဖြင့်လည်း item တွေကို ပယ်ဖျက်လို့ရပါတယ်။"
   ]
  },
  {
   "cell_type": "code",
   "execution_count": 68,
   "metadata": {},
   "outputs": [
    {
     "name": "stdout",
     "output_type": "stream",
     "text": [
      "{'name': 'Kyaw', 'age': 40, 'address': 'Mandalay', 'child': ['YeBhone', 'Agga']}\n",
      "{'name': 'Kyaw', 'age': 40, 'address': 'Mandalay'}\n",
      "('child', ['YeBhone', 'Agga'])\n"
     ]
    }
   ],
   "source": [
    "print(dict_info_kyaw)\n",
    "rm2_dict_info_kyaw = dict_info_kyaw.popitem()\n",
    "print(dict_info_kyaw)\n",
    "print(rm2_dict_info_kyaw)"
   ]
  },
  {
   "cell_type": "markdown",
   "metadata": {},
   "source": [
    "Dictionary ရဲ့ key များကိုသုံး၍ လည်း if statement နှင့်စစ်ဆေးနိုင်ပါတယ်။"
   ]
  },
  {
   "cell_type": "code",
   "execution_count": 71,
   "metadata": {},
   "outputs": [
    {
     "name": "stdout",
     "output_type": "stream",
     "text": [
      "John\n"
     ]
    }
   ],
   "source": [
    "if \"name\" in dict_info:\n",
    "    print(dict_info['name'])\n",
    "else:\n",
    "    print(\"No Key in this dictionary\")"
   ]
  },
  {
   "cell_type": "markdown",
   "metadata": {},
   "source": [
    "try: statement \n",
    "except : statement တို့ဖြင့်လည်းစစ်ဆေးနိုင်ပါတယ်"
   ]
  },
  {
   "cell_type": "code",
   "execution_count": 73,
   "metadata": {},
   "outputs": [
    {
     "name": "stdout",
     "output_type": "stream",
     "text": [
      "Key Error\n"
     ]
    }
   ],
   "source": [
    "try:\n",
    "    print(dict_info[\"name\"])\n",
    "except:\n",
    "    print(\"Key Error\")"
   ]
  },
  {
   "cell_type": "markdown",
   "metadata": {},
   "source": [
    "Dictionary ရဲ့ key နှင့် values ကိုအသုံးပြုပြီး loop ပုံစံအမျိုးနှင့်  iterate ပြုလုပ်ရနိုင်ပါတယ်။"
   ]
  },
  {
   "cell_type": "code",
   "execution_count": 74,
   "metadata": {},
   "outputs": [
    {
     "name": "stdout",
     "output_type": "stream",
     "text": [
      "name\n",
      "age\n",
      "address\n",
      "married\n",
      "wife\n",
      "child\n"
     ]
    }
   ],
   "source": [
    "for key in dict_info:\n",
    "    print(key)"
   ]
  },
  {
   "cell_type": "code",
   "execution_count": 78,
   "metadata": {},
   "outputs": [
    {
     "name": "stdout",
     "output_type": "stream",
     "text": [
      "John\n",
      "<class 'str'>\n",
      "29\n",
      "<class 'int'>\n",
      "Mandalay\n",
      "<class 'str'>\n",
      "True\n",
      "<class 'bool'>\n",
      "('Juliar',)\n",
      "<class 'tuple'>\n",
      "['Raymond', 'william']\n",
      "<class 'list'>\n"
     ]
    }
   ],
   "source": [
    "for value in dict_info.values(): # values က အများ (s) ပါတာကို ဂရုပြုရန်လိုအပ်ပါတယ်\n",
    "    print(value)\n",
    "    print(type(value))"
   ]
  },
  {
   "cell_type": "code",
   "execution_count": 79,
   "metadata": {},
   "outputs": [
    {
     "name": "stdout",
     "output_type": "stream",
     "text": [
      "name  =  John\n",
      "age  =  29\n",
      "address  =  Mandalay\n",
      "married  =  True\n",
      "wife  =  ('Juliar',)\n",
      "child  =  ['Raymond', 'william']\n"
     ]
    }
   ],
   "source": [
    "for key,value in dict_info.items():# items က အများ (s) ပါတာကို ဂရုပြုရန်လိုအပ်ပါတယ်\n",
    "    print(key,\" = \",value)"
   ]
  },
  {
   "cell_type": "code",
   "execution_count": null,
   "metadata": {},
   "outputs": [],
   "source": [
    "Dictionary ကို Lists နှင့် Tuples တို့ကဲ့သို့ copy ကူးယူနိုင်ပါတယ်။\n",
    "assignment operator အသုံးပြု၍ကူးယူလျှင် အသစ်ကို ပြင်ဆင်ရာတွင် မူရင်း Dictionary ပါပြင်ဆင်သွားမှာဖြစ်ပါတယ်။\n"
   ]
  },
  {
   "cell_type": "code",
   "execution_count": 80,
   "metadata": {},
   "outputs": [
    {
     "name": "stdout",
     "output_type": "stream",
     "text": [
      "{'name': 'John', 'age': 29, 'address': 'Mandalay', 'married': True, 'wife': ('Juliar',), 'child': ['Raymond', 'william']}\n",
      "{'name': 'John', 'age': 29, 'address': 'Mandalay', 'married': True, 'wife': ('Juliar',), 'child': ['Raymond', 'william']}\n",
      "{'name': 'John', 'age': 29, 'address': 'Mandalay', 'married': True, 'wife': ('Juliar',), 'child': ['Raymond', 'william'], 'email': 'john@gmail.com'}\n",
      "{'name': 'John', 'age': 29, 'address': 'Mandalay', 'married': True, 'wife': ('Juliar',), 'child': ['Raymond', 'william'], 'email': 'john@gmail.com'}\n"
     ]
    }
   ],
   "source": [
    "print(dict_info)\n",
    "cpy_dict_info = dict_info\n",
    "print(cpy_dict_info)\n",
    "cpy_dict_info[\"email\"] = 'john@gmail.com'\n",
    "print(dict_info)\n",
    "print(cpy_dict_info)"
   ]
  },
  {
   "cell_type": "markdown",
   "metadata": {},
   "source": [
    "copy() method နှင့် dict() function တွင် parameter အဖြစ်ထည့်သွင်း ကူးယူခြင်းသည် သီးခြား ကူးယူခြင်းဖြစ်သဖြင့် ပြင်ဆင်ဖြည့်စွပ်ရာတွင် မူရင်း  Dictionary  အားထိခိုက်မှုမရှိနိုင်ပါ။"
   ]
  },
  {
   "cell_type": "code",
   "execution_count": 84,
   "metadata": {},
   "outputs": [
    {
     "name": "stdout",
     "output_type": "stream",
     "text": [
      "{'name': 'John', 'age': 29, 'address': 'Mandalay', 'married': True, 'wife': ('Juliar',), 'child': ['Raymond', 'william'], 'email': 'john@gmail.com'}\n",
      "{'name': 'John', 'age': 29, 'address': 'Mandalay', 'married': True, 'wife': ('Juliar',), 'child': ['Raymond', 'william'], 'email': 'john@gmail.com'}\n",
      "{'name': 'John', 'age': 29, 'address': 'Mandalay', 'married': True, 'wife': ('Juliar',), 'child': ['Raymond', 'william'], 'email': 'john@gmail.com'}\n",
      "{'name': 'John', 'age': 29, 'address': 'Mandalay', 'married': True, 'wife': ('Juliar',), 'child': ['Raymond', 'william'], 'email': 'john@gmail.com'}\n",
      "{'name': 'John', 'age': 29, 'address': 'Mandalay', 'married': True, 'wife': ('Juliar',), 'child': ['Raymond', 'william'], 'email': 'cpyjohn@gmail.com'}\n",
      "{'name': 'John', 'age': 29, 'address': 'Mandalay', 'married': True, 'wife': ('Juliar',), 'child': ['Raymond', 'william']}\n"
     ]
    }
   ],
   "source": [
    "print(dict_info)\n",
    "cpy_method_info_dict = dict_info.copy()\n",
    "func_method_info_dict = dict(dict_info)\n",
    "print(cpy_method_info_dict)\n",
    "print(func_method_info_dict)\n",
    "cpy_method_info_dict['email'] = 'cpyjohn@gmail.com'\n",
    "func_method_info_dict.pop('email')\n",
    "print(dict_info)\n",
    "print(cpy_method_info_dict)\n",
    "print(func_method_info_dict)"
   ]
  },
  {
   "cell_type": "code",
   "execution_count": null,
   "metadata": {},
   "outputs": [],
   "source": [
    "Dictionary မှာ အခြား အသုံးများတဲ့ method တစ်ခုကတော့ update() method ဖြစ်ပါတယ်။\n",
    "Dictionary တစ်ခုကို အခြားDictionar နောက်တစ်ခုနဲ့ update() လုပ်သွားမှာပါ။"
   ]
  },
  {
   "cell_type": "code",
   "execution_count": 86,
   "metadata": {},
   "outputs": [
    {
     "name": "stdout",
     "output_type": "stream",
     "text": [
      "{'name': 'john', 'age': 29, 'address': 'London', 'email': 'mayjuno@gmail.com'}\n",
      "{'name': 'Kyaw Myo Swe', 'age': 40, 'address': 'Mandalay', 'email': 'mayjuno@gmail.com'}\n"
     ]
    }
   ],
   "source": [
    "info_dict = {\"name\":\"john\", \"age\":29, \"address\":\"London\", 'email':'mayjuno@gmail.com'}\n",
    "new_info_dict = dict(name = \"Kyaw Myo Swe\", age = 40, address = \"Mandalay\")\n",
    "print(info_dict)\n",
    "info_dict.update(new_info_dict)\n",
    "print(info_dict)\n"
   ]
  },
  {
   "cell_type": "markdown",
   "metadata": {},
   "source": [
    "Dictionary ရဲ့ keys တွေကို strings များသုံးသလို integer များလည်းသုံးလို့ရပါတယ်။\n",
    "Tuples ကိုလည်း key  အဖြစ်အသုံးပြုနိုင်သော်လည်း List ကိုမူ အသုံးမပြုနိုင်ပါဘူး ။\n",
    "အထူးမှတ်သားရန် ။ ။ Dictionary ရဲ့ key တွေက mutable data type ဖြစ်လို့ မရပါဘူး ။\n",
    "               key တူလျှင် နောက်ဆုံး key ရဲ့ value ကို သာ ယူပါတယ် ။"
   ]
  },
  {
   "cell_type": "code",
   "execution_count": 87,
   "metadata": {},
   "outputs": [
    {
     "name": "stdout",
     "output_type": "stream",
     "text": [
      "{3: 9, 6: 36, 9: 81}\n",
      "9\n"
     ]
    }
   ],
   "source": [
    "number_dict = {3:9, 6:36, 9:81}\n",
    "print(number_dict)\n",
    "print(number_dict[3]) # အထူးသတိပြုရန်မှာ list နှင့် Tuplesများကဲ့သို့ Index number ကိုအသုံးပြု၍မရပါ ။ \n",
    "                     # Key valueကိုသာသုံးရမည်ဖြစ်ပါသည်။"
   ]
  },
  {
   "cell_type": "code",
   "execution_count": 89,
   "metadata": {},
   "outputs": [
    {
     "name": "stdout",
     "output_type": "stream",
     "text": [
      "{3: 9, 6: 36, 9: 81, (8, 7): 15}\n"
     ]
    }
   ],
   "source": [
    "num_tuple = (8,7)\n",
    "number_dict[num_tuple] = 15\n",
    "print(number_dict)"
   ]
  },
  {
   "cell_type": "code",
   "execution_count": 17,
   "metadata": {},
   "outputs": [
    {
     "ename": "KeyError",
     "evalue": "'d'",
     "output_type": "error",
     "traceback": [
      "\u001b[0;31m---------------------------------------------------------------------------\u001b[0m",
      "\u001b[0;31mKeyError\u001b[0m                                  Traceback (most recent call last)",
      "\u001b[0;32m<ipython-input-17-7b77c00a06b6>\u001b[0m in \u001b[0;36m<module>\u001b[0;34m\u001b[0m\n\u001b[1;32m      4\u001b[0m     \u001b[0;34m'c'\u001b[0m\u001b[0;34m:\u001b[0m \u001b[0;36m3\u001b[0m\u001b[0;34m\u001b[0m\u001b[0;34m\u001b[0m\u001b[0m\n\u001b[1;32m      5\u001b[0m }\n\u001b[0;32m----> 6\u001b[0;31m \u001b[0mprint\u001b[0m\u001b[0;34m(\u001b[0m\u001b[0mmydict\u001b[0m\u001b[0;34m[\u001b[0m\u001b[0;34m'd'\u001b[0m\u001b[0;34m]\u001b[0m\u001b[0;34m)\u001b[0m\u001b[0;34m\u001b[0m\u001b[0;34m\u001b[0m\u001b[0m\n\u001b[0m",
      "\u001b[0;31mKeyError\u001b[0m: 'd'"
     ]
    }
   ],
   "source": [
    "mydict = {\n",
    "    'a': 1,\n",
    "    'b': 2,\n",
    "    'c': 3\n",
    "}\n",
    "print(mydict['d'])"
   ]
  },
  {
   "cell_type": "markdown",
   "metadata": {},
   "source": [
    "### get() method\n",
    "----------------\n",
    "    အထက်မှာ ဖော်ပြခဲ့သလို diction မှာ key မရှိလျှင်  keyError ဖြစ်နိုင်ပါတယ် ။\n",
    "    ဒါကြောင့် get() method ကိုအသုံးပြုခြင်းဖြင့် keyError မဖြစ်အောင် ရှောင်ရှားနိူင်ပါတယ် ။ "
   ]
  },
  {
   "cell_type": "code",
   "execution_count": 18,
   "metadata": {},
   "outputs": [
    {
     "name": "stdout",
     "output_type": "stream",
     "text": [
      "None\n"
     ]
    }
   ],
   "source": [
    "mydict = {\n",
    "    'a': 1,\n",
    "    'b': 2,\n",
    "    'c': 3\n",
    "}\n",
    "print(mydict.get('d'))"
   ]
  },
  {
   "cell_type": "markdown",
   "metadata": {},
   "source": [
    "### Dictionary အတွက် အသုံးပြုနိုင်သော method နှင့် function များ"
   ]
  },
  {
   "cell_type": "code",
   "execution_count": 16,
   "metadata": {},
   "outputs": [
    {
     "name": "stdout",
     "output_type": "stream",
     "text": [
      "Help on class dict in module builtins:\n",
      "\n",
      "class dict(object)\n",
      " |  dict() -> new empty dictionary\n",
      " |  dict(mapping) -> new dictionary initialized from a mapping object's\n",
      " |      (key, value) pairs\n",
      " |  dict(iterable) -> new dictionary initialized as if via:\n",
      " |      d = {}\n",
      " |      for k, v in iterable:\n",
      " |          d[k] = v\n",
      " |  dict(**kwargs) -> new dictionary initialized with the name=value pairs\n",
      " |      in the keyword argument list.  For example:  dict(one=1, two=2)\n",
      " |  \n",
      " |  Built-in subclasses:\n",
      " |      StgDict\n",
      " |  \n",
      " |  Methods defined here:\n",
      " |  \n",
      " |  __contains__(self, key, /)\n",
      " |      True if the dictionary has the specified key, else False.\n",
      " |  \n",
      " |  __delitem__(self, key, /)\n",
      " |      Delete self[key].\n",
      " |  \n",
      " |  __eq__(self, value, /)\n",
      " |      Return self==value.\n",
      " |  \n",
      " |  __ge__(self, value, /)\n",
      " |      Return self>=value.\n",
      " |  \n",
      " |  __getattribute__(self, name, /)\n",
      " |      Return getattr(self, name).\n",
      " |  \n",
      " |  __getitem__(...)\n",
      " |      x.__getitem__(y) <==> x[y]\n",
      " |  \n",
      " |  __gt__(self, value, /)\n",
      " |      Return self>value.\n",
      " |  \n",
      " |  __init__(self, /, *args, **kwargs)\n",
      " |      Initialize self.  See help(type(self)) for accurate signature.\n",
      " |  \n",
      " |  __iter__(self, /)\n",
      " |      Implement iter(self).\n",
      " |  \n",
      " |  __le__(self, value, /)\n",
      " |      Return self<=value.\n",
      " |  \n",
      " |  __len__(self, /)\n",
      " |      Return len(self).\n",
      " |  \n",
      " |  __lt__(self, value, /)\n",
      " |      Return self<value.\n",
      " |  \n",
      " |  __ne__(self, value, /)\n",
      " |      Return self!=value.\n",
      " |  \n",
      " |  __repr__(self, /)\n",
      " |      Return repr(self).\n",
      " |  \n",
      " |  __reversed__(self, /)\n",
      " |      Return a reverse iterator over the dict keys.\n",
      " |  \n",
      " |  __setitem__(self, key, value, /)\n",
      " |      Set self[key] to value.\n",
      " |  \n",
      " |  __sizeof__(...)\n",
      " |      D.__sizeof__() -> size of D in memory, in bytes\n",
      " |  \n",
      " |  clear(...)\n",
      " |      D.clear() -> None.  Remove all items from D.\n",
      " |  \n",
      " |  copy(...)\n",
      " |      D.copy() -> a shallow copy of D\n",
      " |  \n",
      " |  get(self, key, default=None, /)\n",
      " |      Return the value for key if key is in the dictionary, else default.\n",
      " |  \n",
      " |  items(...)\n",
      " |      D.items() -> a set-like object providing a view on D's items\n",
      " |  \n",
      " |  keys(...)\n",
      " |      D.keys() -> a set-like object providing a view on D's keys\n",
      " |  \n",
      " |  pop(...)\n",
      " |      D.pop(k[,d]) -> v, remove specified key and return the corresponding value.\n",
      " |      If key is not found, d is returned if given, otherwise KeyError is raised\n",
      " |  \n",
      " |  popitem(self, /)\n",
      " |      Remove and return a (key, value) pair as a 2-tuple.\n",
      " |      \n",
      " |      Pairs are returned in LIFO (last-in, first-out) order.\n",
      " |      Raises KeyError if the dict is empty.\n",
      " |  \n",
      " |  setdefault(self, key, default=None, /)\n",
      " |      Insert key with a value of default if key is not in the dictionary.\n",
      " |      \n",
      " |      Return the value for key if key is in the dictionary, else default.\n",
      " |  \n",
      " |  update(...)\n",
      " |      D.update([E, ]**F) -> None.  Update D from dict/iterable E and F.\n",
      " |      If E is present and has a .keys() method, then does:  for k in E: D[k] = E[k]\n",
      " |      If E is present and lacks a .keys() method, then does:  for k, v in E: D[k] = v\n",
      " |      In either case, this is followed by: for k in F:  D[k] = F[k]\n",
      " |  \n",
      " |  values(...)\n",
      " |      D.values() -> an object providing a view on D's values\n",
      " |  \n",
      " |  ----------------------------------------------------------------------\n",
      " |  Class methods defined here:\n",
      " |  \n",
      " |  fromkeys(iterable, value=None, /) from builtins.type\n",
      " |      Create a new dictionary with keys from iterable and values set to value.\n",
      " |  \n",
      " |  ----------------------------------------------------------------------\n",
      " |  Static methods defined here:\n",
      " |  \n",
      " |  __new__(*args, **kwargs) from builtins.type\n",
      " |      Create and return a new object.  See help(type) for accurate signature.\n",
      " |  \n",
      " |  ----------------------------------------------------------------------\n",
      " |  Data and other attributes defined here:\n",
      " |  \n",
      " |  __hash__ = None\n",
      "\n"
     ]
    }
   ],
   "source": [
    "help(dict)"
   ]
  },
  {
   "cell_type": "markdown",
   "metadata": {},
   "source": [
    "4.Sets\n",
    "------\n",
    "    1. sets က collections  data type အမျိုးအစားဖြစ်ပါတယ်။\n",
    "    2. Sets က  unoreded ဖြစ်လို့ အစီအစဥ် စဥ်လို့ မရနိုင်ပါဘူး\n",
    "    3. mutable ဖြစ်တဲ့အတွက် ပြင်ဆင်ခြင်း ပယ်ဖျက်ခြင်းများပြုလုပ်နိုင်ပါတယ်။\n",
    "    4. Lists , Tuples တို့ ကဲ့သို့  တူညီသော elements များ တစ်ခုထက်ပို၍ပါဝင်လို့ (မရ)နိုင်ပါဘူး။\n",
    "    5. sets ကို  Dictionary ကဲ့သို့ {} တွန့်ကွင်း အတွင်း elements များထည့်သွင်း သတ်မှတ်နိုင်ပါတယ်။ သို့သော် Dictionary ကဲ့သို့ key:value ပါဝင်စရာမလိုပါဘူး။\n",
    "        element တစ်ခုနှင့်တစ်ခုကြား (,) comma ကော်မာဖြင့်ပိုင်းခြားသတ်မှတ်ပေးရပါမယ်။\n",
    "    6. empty set တစ်ခုအား သတ်မှတ်ရာတွင် myset = {} လို့သတ်မှတ် မရနိုင်ပါဘူး။ထိုသို့ သတ်မှတ်လျှင်  Dictionary  အဖြစ်သတ်မှတ်သွားမှာဖြစ်ပါတယ်။\n",
    "        set() method ဖြင့်သာ သတ်မှတ်ရမှာဖြစ်ပါတယ်။\n",
    "    7. set() တွင် list, tuple တို့ကဲ့သို့ index ဖြင့်ရှာလို့ မရနိုင်ပါဘူး ။ item value ဖြင့်သာ ရှာဖွေနိုင်ပါတယ် ။"
   ]
  },
  {
   "cell_type": "code",
   "execution_count": 93,
   "metadata": {},
   "outputs": [
    {
     "name": "stdout",
     "output_type": "stream",
     "text": [
      "{1, 2, 3, 4, 5}\n",
      "<class 'set'>\n",
      "{}\n",
      "<class 'dict'>\n",
      "set()\n",
      "<class 'set'>\n",
      "[1, 2, 2, 2, 3, 4, 5, 5]\n",
      "<class 'list'>\n",
      "{1, 2, 3, 4, 5}\n",
      "<class 'set'>\n"
     ]
    }
   ],
   "source": [
    "number_set = { 1, 2, 3, 4, 5}\n",
    "print(number_set)\n",
    "print(type(number_set))\n",
    "wron_empty_set = {}\n",
    "print(wron_empty_set)\n",
    "print(type(wron_empty_set))\n",
    "real_empty_set = set()\n",
    "print(real_empty_set)\n",
    "print(type(real_empty_set))\n",
    "number_list = [1,2,2,2,3,4,5,5]\n",
    "number_set1 = number_list\n",
    "print(number_set1)\n",
    "print(type(number_set1))\n",
    "number_set2 = set(number_list)\n",
    "print(number_set2)\n",
    "print(type(number_set2))"
   ]
  },
  {
   "cell_type": "markdown",
   "metadata": {},
   "source": [
    "String, Lists , Tuples  တို့မှ Set တစ်ခုအဖြစ်ပြောင်းလဲ သတ်မှတ်နိုင်ပါတယ်။"
   ]
  },
  {
   "cell_type": "code",
   "execution_count": 95,
   "metadata": {},
   "outputs": [
    {
     "name": "stdout",
     "output_type": "stream",
     "text": [
      "{'p', 'l', 's', 'a', 'e'}\n",
      "<class 'set'>\n",
      "{1, 2, 3, 'apple', 14.3}\n",
      "<class 'set'>\n",
      "{1, 2, 3, 'apple', 14.3}\n",
      "<class 'set'>\n"
     ]
    }
   ],
   "source": [
    "str_set = set(\"apples\")\n",
    "print(str_set)\n",
    "print(type(str_set))\n",
    "list_set = set([1,2,2,3,\"apple\",14.3,True,'apple'])\n",
    "print(list_set)\n",
    "print(type(list_set))\n",
    "tuple_set = set((1,2,2,3,\"apple\",14.3,True,'apple'))\n",
    "print(tuple_set)\n",
    "print(type(tuple_set))"
   ]
  },
  {
   "cell_type": "markdown",
   "metadata": {},
   "source": [
    "Sets က mutable ဖြစ်တဲ့အတွက် add() method အသုံးပြု၍ ပေါင်းထည့်ခြင်း remove(),discard() methods များ အသုံးပြု၍ ဖယ်ရှားခြင်းတို့ဆောင်ရွက်နိုင်ပါတယ်။"
   ]
  },
  {
   "cell_type": "code",
   "execution_count": 97,
   "metadata": {},
   "outputs": [
    {
     "name": "stdout",
     "output_type": "stream",
     "text": [
      "{1, 2, 3}\n",
      "{1, 2, 3}\n",
      "{1, 2}\n",
      "{1}\n"
     ]
    }
   ],
   "source": [
    "myset = set()\n",
    "myset.add(1)\n",
    "myset.add(2)\n",
    "myset.add(3)\n",
    "print(myset)\n",
    "myset.add(3)\n",
    "print(myset)\n",
    "myset.remove(3)\n",
    "print(myset)\n",
    "myset.discard(2)\n",
    "print(myset)"
   ]
  },
  {
   "cell_type": "markdown",
   "metadata": {},
   "source": [
    "Set အတွင်းမှာ မရှိသည့် elements ကို remote() method အသုံးပြုဖယ်ရှားပါက  KeyError ပြမှာဖြစ်ပါတယ်။\n",
    "discard() method ကို သုံးရင်တော့ Error ပြမှာမဟုတ်ပါဘူး"
   ]
  },
  {
   "cell_type": "code",
   "execution_count": 98,
   "metadata": {},
   "outputs": [
    {
     "ename": "KeyError",
     "evalue": "3",
     "output_type": "error",
     "traceback": [
      "\u001b[0;31m---------------------------------------------------------------------------\u001b[0m",
      "\u001b[0;31mKeyError\u001b[0m                                  Traceback (most recent call last)",
      "\u001b[0;32m<ipython-input-98-cf48d789d6d5>\u001b[0m in \u001b[0;36m<module>\u001b[0;34m\u001b[0m\n\u001b[0;32m----> 1\u001b[0;31m \u001b[0mmyset\u001b[0m\u001b[0;34m.\u001b[0m\u001b[0mremove\u001b[0m\u001b[0;34m(\u001b[0m\u001b[0;36m3\u001b[0m\u001b[0;34m)\u001b[0m\u001b[0;34m\u001b[0m\u001b[0;34m\u001b[0m\u001b[0m\n\u001b[0m",
      "\u001b[0;31mKeyError\u001b[0m: 3"
     ]
    }
   ],
   "source": [
    "myset.remove(3)\n"
   ]
  },
  {
   "cell_type": "code",
   "execution_count": 101,
   "metadata": {},
   "outputs": [
    {
     "name": "stdout",
     "output_type": "stream",
     "text": [
      "{1}\n"
     ]
    }
   ],
   "source": [
    "myset.discard(3)\n",
    "print(myset)"
   ]
  },
  {
   "cell_type": "markdown",
   "metadata": {},
   "source": [
    "clear() method ကိုအသုံးပြုပြီး မိမိ set ကို empty set ပြုလုပ်နိုင်ပါတယ်။"
   ]
  },
  {
   "cell_type": "code",
   "execution_count": 102,
   "metadata": {},
   "outputs": [
    {
     "name": "stdout",
     "output_type": "stream",
     "text": [
      "{1, 2, 3, 4}\n",
      "set()\n"
     ]
    }
   ],
   "source": [
    "myset = {1,2,3,4}\n",
    "print(myset)\n",
    "myset.clear()\n",
    "print(myset)"
   ]
  },
  {
   "cell_type": "markdown",
   "metadata": {},
   "source": [
    "pop() method ကိုသုံးပြီး မိမိ set အတွင်းရှိ elements တွေကို ဖယ်ရှားလို့ရပါတယ်။ pop() method က ဖယ်ရှားလိုက်တဲ့ element ကိုမှတ်သားသိမ်းစည်းနိုင်ပါတယ်။\n",
    "ဒီမှာထူးခြားတာက  List မှာ ညာဘက်အစွန်ဆုံး(နောက်ဆုံး) element ကိုဖယ်ရှားတာဖြစ်ပြီး ၊ Set မှာတော့ ဘယ်ဘက်အစွန်ဆုံး(ရှေ့ဆုံး) element ကို ဖယ်ရှားသွားမှာဖြစ်ပါတယ်။ ကွဲပြားမှုရှိနေတယ် ပြန်ကြည့်ရန် ။ random element ကိုဖယ်ရှားတယ်လို့လည်းပြောတယ် ၊"
   ]
  },
  {
   "cell_type": "code",
   "execution_count": 1,
   "metadata": {},
   "outputs": [
    {
     "name": "stdout",
     "output_type": "stream",
     "text": [
      "{1, 2, 3, 4}\n",
      "{2, 3, 4}\n",
      "1\n"
     ]
    }
   ],
   "source": [
    "myset = {1,2,3,4}\n",
    "print(myset)\n",
    "pop_emement = myset.pop()\n",
    "print(myset)\n",
    "print(pop_emement)"
   ]
  },
  {
   "cell_type": "code",
   "execution_count": 106,
   "metadata": {},
   "outputs": [
    {
     "name": "stdout",
     "output_type": "stream",
     "text": [
      "[1, 2, 3, 4]\n",
      "[1, 2, 3]\n",
      "4\n"
     ]
    }
   ],
   "source": [
    "mylist = [1,2,3,4]\n",
    "print(mylist)\n",
    "pop_element_list = mylist.pop()\n",
    "print(mylist)\n",
    "print(pop_element_list)"
   ]
  },
  {
   "cell_type": "code",
   "execution_count": 22,
   "metadata": {},
   "outputs": [
    {
     "ename": "TypeError",
     "evalue": "'set' object is not subscriptable",
     "output_type": "error",
     "traceback": [
      "\u001b[0;31m---------------------------------------------------------------------------\u001b[0m",
      "\u001b[0;31mTypeError\u001b[0m                                 Traceback (most recent call last)",
      "\u001b[0;32m<ipython-input-22-07abfa648c28>\u001b[0m in \u001b[0;36m<module>\u001b[0;34m\u001b[0m\n\u001b[1;32m      1\u001b[0m \u001b[0;31m#set() တွင် list, tuple တို့ကဲ့သို့ index ဖြင့်ရှာလို့ မရနိုင်ပါဘူး ။ item value ဖြင့်သာ ရှာဖွေနိုင်ပါတယ် ။\u001b[0m\u001b[0;34m\u001b[0m\u001b[0;34m\u001b[0m\u001b[0;34m\u001b[0m\u001b[0m\n\u001b[1;32m      2\u001b[0m \u001b[0mmyset\u001b[0m \u001b[0;34m=\u001b[0m \u001b[0;34m{\u001b[0m\u001b[0;36m1\u001b[0m\u001b[0;34m,\u001b[0m\u001b[0;36m2\u001b[0m\u001b[0;34m,\u001b[0m\u001b[0;36m3\u001b[0m\u001b[0;34m,\u001b[0m\u001b[0;36m4\u001b[0m\u001b[0;34m}\u001b[0m\u001b[0;34m\u001b[0m\u001b[0;34m\u001b[0m\u001b[0m\n\u001b[0;32m----> 3\u001b[0;31m \u001b[0mprint\u001b[0m\u001b[0;34m(\u001b[0m\u001b[0mmyset\u001b[0m\u001b[0;34m[\u001b[0m\u001b[0;36m0\u001b[0m\u001b[0;34m]\u001b[0m\u001b[0;34m)\u001b[0m \u001b[0;31m# index[0] ကိုရှာကြည့်သော်လည်း မရနိုင်ပါဘူး။\u001b[0m\u001b[0;34m\u001b[0m\u001b[0;34m\u001b[0m\u001b[0m\n\u001b[0m",
      "\u001b[0;31mTypeError\u001b[0m: 'set' object is not subscriptable"
     ]
    }
   ],
   "source": [
    "#set() တွင် list, tuple တို့ကဲ့သို့ index ဖြင့်ရှာလို့ မရနိုင်ပါဘူး ။ item value ဖြင့်သာ ရှာဖွေနိုင်ပါတယ် ။\n",
    "myset = {1,2,3,4}\n",
    "print(myset[0]) # index[0] ကိုရှာကြည့်သော်လည်း မရနိုင်ပါဘူး။"
   ]
  },
  {
   "cell_type": "markdown",
   "metadata": {},
   "source": [
    "Sets ကို Lists , Tuples တို့ကဲ့သို့ပဲ (for - in --) loop ကို သုံးပြီး Itearte လုပ်နိုင်ပါတယ်။"
   ]
  },
  {
   "cell_type": "code",
   "execution_count": 107,
   "metadata": {},
   "outputs": [
    {
     "name": "stdout",
     "output_type": "stream",
     "text": [
      "1\n",
      "2\n",
      "3\n",
      "1.4\n",
      "apple\n"
     ]
    }
   ],
   "source": [
    "myset = {1,2,3,\"apple\",1.4}\n",
    "for i in myset:\n",
    "    print(i)"
   ]
  },
  {
   "cell_type": "markdown",
   "metadata": {},
   "source": [
    "မိမိ Set အတွင်းမှာရှိသော elements များကိုလည်း if statement ဖြင့် အလွယ်တကူ စစ်ဆေးနိုင်ပါတယ်။"
   ]
  },
  {
   "cell_type": "code",
   "execution_count": 108,
   "metadata": {},
   "outputs": [
    {
     "name": "stdout",
     "output_type": "stream",
     "text": [
      "apple is in myset\n"
     ]
    }
   ],
   "source": [
    "if \"apple\" in myset:\n",
    "    print(\"apple is in myset\")\n",
    "else:\n",
    "    print(\"apple doesn't in myset\")"
   ]
  },
  {
   "cell_type": "markdown",
   "metadata": {},
   "source": [
    "Sets ရဲ့ အဓိကလုပ်ငန်းစဥ်ဖြစ်တဲ့ union,interset တို့ကို union(), interset() method တို့ကိုအဓိကလုပ်ဆောင်မှာဖြစ်ပါတယ်။"
   ]
  },
  {
   "cell_type": "code",
   "execution_count": 111,
   "metadata": {},
   "outputs": [
    {
     "name": "stdout",
     "output_type": "stream",
     "text": [
      "{1, 2, 3, 4, 5, 6, 7, 8, 9}\n",
      "{2}\n"
     ]
    }
   ],
   "source": [
    "odd_number_set = {1,3,5,7,9}\n",
    "even_number_set = {2,4,6,8}\n",
    "primes_number_set ={2,3,5,7}\n",
    "union_oddNeven_set = odd_number_set.union(even_number_set)\n",
    "print(union_oddNeven_set)\n",
    "interset_evenNprimes_set = even_number_set.intersection(primes_number_set)\n",
    "print(interset_evenNprimes_set)"
   ]
  },
  {
   "cell_type": "markdown",
   "metadata": {},
   "source": [
    "difference() method ကိုသုံးပြီး မူလ သတ်မှတ်ထားသော sets ရဲ့ မတူညီတဲ့ elements များကိုလည်းထုတ်ယူနိုင်ပါတယ်။\n",
    "ဒီမှာ သတိပြုရမှာက မိမိ အခြေပြု ယူတဲ့ Set ပေါ်မူတည်ပြီး result က ကွဲပြားခြားနားသွားမှာဖြစ်ပါတယ်။\n",
    "သတ်မှတ်ထားတဲ့ setရဲ့ elements များက အခြား set တစ်ခုမှာ မပါတဲ့ elements များကိုဆိုလိုတာဖြစ်ပါတယ်။"
   ]
  },
  {
   "cell_type": "code",
   "execution_count": 112,
   "metadata": {},
   "outputs": [
    {
     "name": "stdout",
     "output_type": "stream",
     "text": [
      "{1, 9}\n"
     ]
    }
   ],
   "source": [
    "diff_oddNprime_set = odd_number_set.difference(primes_number_set)\n",
    "print(diff_oddNprime_set)"
   ]
  },
  {
   "cell_type": "code",
   "execution_count": 113,
   "metadata": {},
   "outputs": [
    {
     "name": "stdout",
     "output_type": "stream",
     "text": [
      "{2}\n"
     ]
    }
   ],
   "source": [
    "diff_primeNodd_set = primes_number_set.difference(odd_number_set)\n",
    "print(diff_primeNodd_set)"
   ]
  },
  {
   "cell_type": "markdown",
   "metadata": {},
   "source": [
    "Sets ၂ ခုရဲ့ မတူညီတဲ့ elements များအားလုံး ၊ sets ၂ ခုစလုံးရဲ့ တစ်ခုကို တစ်ခုမတူညီတဲ့ elements အားလုံးကိုလိုခြင်ရင် symmetric_difference() method ကိုသုံးရမှာဖြစ်ပါတယ်။"
   ]
  },
  {
   "cell_type": "code",
   "execution_count": 115,
   "metadata": {},
   "outputs": [
    {
     "name": "stdout",
     "output_type": "stream",
     "text": [
      "{1, 2, 3, 4, 5, 6, 7, 8, 9}\n",
      "{1, 2, 3, 4, 5, 6, 7, 8, 9}\n"
     ]
    }
   ],
   "source": [
    "sys_diff_oddNeven_set = odd_number_set.symmetric_difference(even_number_set)\n",
    "print(sys_diff_oddNeven_set)\n",
    "sys_diff_oddNeven_set2 = even_number_set.symmetric_difference(odd_number_set)\n",
    "print(sys_diff_oddNeven_set2)"
   ]
  },
  {
   "cell_type": "markdown",
   "metadata": {},
   "source": [
    "အထက်မှာ ဖော်ပြခဲ့တာတွေက မူရင်း Sets များကိုပြင်ဆင်ဖြည့်စွပ်ခြင်းမရှိပါဘူး။။\n",
    "ပြင်ဆင်ဖြည့်စွပ်ချင်ရင် _update method ကို အသုံးပြုရပါမယ်။\n",
    "\n"
   ]
  },
  {
   "cell_type": "code",
   "execution_count": 120,
   "metadata": {},
   "outputs": [
    {
     "name": "stdout",
     "output_type": "stream",
     "text": [
      "{1, 2, 3, 4, 5, 6, 7, 8, 9}\n",
      "{8, 9}\n",
      "{8, 9}\n",
      "{5, 6, 7}\n"
     ]
    }
   ],
   "source": [
    "setA = {1,2,3,4,5}\n",
    "setB = {5,6,7,8,9}\n",
    "setC = {8,9,10,11,12}\n",
    "setA.update(setB)\n",
    "print(setA)\n",
    "setA.intersection_update(setC)\n",
    "print(setA)\n",
    "setC.difference_update(setA)\n",
    "print(setA)\n",
    "setA.symmetric_difference_update(setB)\n",
    "print(setA)"
   ]
  },
  {
   "cell_type": "code",
   "execution_count": 4,
   "metadata": {},
   "outputs": [
    {
     "name": "stdout",
     "output_type": "stream",
     "text": [
      "True\n",
      "False\n",
      "True\n"
     ]
    }
   ],
   "source": [
    "setA = {1,2,3,4,5,6,7,8,9}\n",
    "setB = {5,6,7,8,9}\n",
    "setC = {10,11,12}\n",
    "print(setA.issuperset(setB))\n",
    "print(setA.isdisjoint(setB))\n",
    "print(setA.isdisjoint(setC))"
   ]
  },
  {
   "cell_type": "markdown",
   "metadata": {},
   "source": [
    "Sets copy ကူယူခြင်းကတော့ Lists မှာကဲ့သို့ပင် Assignment operator ဖြင့် assignment ပြုလုပ်ခြင်း။ Memory addressတစ်ခုတည်းကိုသာညွန်ပြသဖြင့် ပြင်ဆင်ပယ်ဖျက်မှုအားလုံးသည် မူရင်း Set အားလည်းအကြိုးသက်ရောက်စေသည်။\n",
    "copy() method နှင့် set() function အား parameterပေးပို့ သတ်မှတ်ခြင်းတို့ဆောင်ရွက်နိုင်သည်။ Memory သီးခြားစီ သိမ်းစည်းသည်။သီးခြားစီပယ်ဖျက်ပြင်ဆင်နိုင်သည်။မူလ set ကို အကြိုးသက်ရောက်မှုမရှိပေ။"
   ]
  },
  {
   "cell_type": "code",
   "execution_count": 11,
   "metadata": {},
   "outputs": [
    {
     "name": "stdout",
     "output_type": "stream",
     "text": [
      "{1, 2, 3}\n",
      "{1, 2, 3, 4}\n",
      "{1, 2, 3, 4}\n",
      "--------------------\n",
      "{1, 2, 3, 4}\n",
      "{1, 2, 3, 4}\n",
      "--------------------\n",
      "{1, 2, 3, 4}\n",
      "{1, 2, 3}\n",
      "{1, 2, 3, 4, 5}\n"
     ]
    }
   ],
   "source": [
    "org_set = {1,2,3}\n",
    "cpy_assign_set = org_set\n",
    "print(cpy_assign_set)\n",
    "cpy_assign_set.add(4)\n",
    "print(org_set)\n",
    "print(cpy_assign_set)\n",
    "cpy_cpy_set = org_set.copy()\n",
    "print(\"-\"*20)\n",
    "print(cpy_cpy_set)\n",
    "cpy_func_set = set(org_set)\n",
    "print(cpy_func_set)\n",
    "cpy_cpy_set.remove(4)\n",
    "cpy_func_set.add(5)\n",
    "print(\"-\"*20)\n",
    "print(org_set)\n",
    "print(cpy_cpy_set)\n",
    "print(cpy_func_set)"
   ]
  },
  {
   "cell_type": "markdown",
   "metadata": {},
   "source": [
    "frozenset ကတော့ collection data  type ဖြစ်ပြီး normal set ကို immutable ဖြစ်သွားတာဖြစ်ပါတယ်။\n",
    "add(),remove() နှင့် update() methods များ အသုံးပြုလို့မရနိုင်တော့ပဲ အခြား union နှင့် intersection များအသုံးပြုလို့ရပ်တယ်။"
   ]
  },
  {
   "cell_type": "code",
   "execution_count": 12,
   "metadata": {},
   "outputs": [
    {
     "name": "stdout",
     "output_type": "stream",
     "text": [
      "frozenset({1, 2, 3, 4})\n"
     ]
    }
   ],
   "source": [
    "frozenset_set = frozenset([1,2,3,4])\n",
    "print(frozenset_set)"
   ]
  },
  {
   "cell_type": "markdown",
   "metadata": {},
   "source": [
    "5.Strings\n",
    "---------\n",
    "    1.Strings က collections data types အမျိုးအစားဖြစ်ပါတယ်။\n",
    "    2. Ordered ဖြစ်လို့ စီစဥ်နိုင်ပါသည်\n",
    "    3. immutable ဖြစ်တဲ့အတွက် ပြင်ဆင်၊ပယ်ဖျက်၊ထပ်ပေါင်းခြင်း ပြုလုပ်လို့မရပါဘူး။\n",
    "    4. Python မှာ အလွန်အသုံးများသော data type တစ်မျိုးဖြစ်ပါတယ်။  \" \" သို့ ' '  နှစ်ခုကြားမှာရေးသား၍ တခါတရံ \"\"\" \"\"\" သတ်မှတ်ပေးရမှာဖြစ်ပါတယ်။\n",
    "    5. dot string အကြောင်း သီးခြား ဖော်ပြပေးသွားပါမယ် ။"
   ]
  },
  {
   "cell_type": "code",
   "execution_count": 19,
   "metadata": {},
   "outputs": [
    {
     "name": "stdout",
     "output_type": "stream",
     "text": [
      "Hello World\n",
      "Hello World\n",
      "Hello World\n",
      "Hello World\n",
      "Hello world\n",
      "I'm a string\n",
      "The filim  title is 'Gone With the Wind'.\n",
      "https://www.google.com\n",
      "C:\\python3.8\\myproject\\string.py\n"
     ]
    }
   ],
   "source": [
    "mystring = \"Hello World\"\n",
    "print(mystring)\n",
    "mystring2 = \"\"\"Hello World\"\"\"\n",
    "print(mystring2)\n",
    "mystring3 = 'Hello World'\n",
    "print(mystring3)\n",
    "mystring4 = \"\"\"Hello \\\n",
    "World\\nHello world\"\"\"\n",
    "print(mystring4)\n",
    "mystring5 = \"I\\'m a string\"\n",
    "print(mystring5)\n",
    "mystring6 = \"The filim  title is 'Gone With the Wind'.\"\n",
    "print(mystring6)\n",
    "mystring7 = \"https://www.google.com\"\n",
    "print(mystring7)\n",
    "mystring8 = \"C:\\\\python3.8\\\\myproject\\\\string.py\"\n",
    "print(mystring8)"
   ]
  },
  {
   "cell_type": "code",
   "execution_count": 21,
   "metadata": {},
   "outputs": [
    {
     "name": "stdout",
     "output_type": "stream",
     "text": [
      "H\n",
      "o\n",
      "d\n",
      "d\n",
      "H\n"
     ]
    }
   ],
   "source": [
    "mystring = \"Hello World\"\n",
    "print(mystring[0])\n",
    "print(mystring[4])\n",
    "print(mystring[10])\n",
    "print(mystring[-1])\n",
    "print(mystring[-11])"
   ]
  },
  {
   "cell_type": "code",
   "execution_count": 22,
   "metadata": {},
   "outputs": [
    {
     "ename": "TypeError",
     "evalue": "'str' object does not support item assignment",
     "output_type": "error",
     "traceback": [
      "\u001b[0;31m---------------------------------------------------------------------------\u001b[0m",
      "\u001b[0;31mTypeError\u001b[0m                                 Traceback (most recent call last)",
      "\u001b[0;32m<ipython-input-22-19e172b62283>\u001b[0m in \u001b[0;36m<module>\u001b[0;34m\u001b[0m\n\u001b[0;32m----> 1\u001b[0;31m \u001b[0mmystring\u001b[0m\u001b[0;34m[\u001b[0m\u001b[0;36m0\u001b[0m\u001b[0;34m]\u001b[0m \u001b[0;34m=\u001b[0m \u001b[0;34m'h'\u001b[0m\u001b[0;34m\u001b[0m\u001b[0;34m\u001b[0m\u001b[0m\n\u001b[0m",
      "\u001b[0;31mTypeError\u001b[0m: 'str' object does not support item assignment"
     ]
    }
   ],
   "source": [
    "mystring[0] = 'h'"
   ]
  },
  {
   "cell_type": "code",
   "execution_count": 24,
   "metadata": {},
   "outputs": [
    {
     "name": "stdout",
     "output_type": "stream",
     "text": [
      "ello\n",
      "dlroW olleH\n"
     ]
    }
   ],
   "source": [
    "substring = mystring[1:5:]\n",
    "print(substring)\n",
    "substring = mystring[::-1]\n",
    "print(substring)"
   ]
  },
  {
   "cell_type": "markdown",
   "metadata": {},
   "source": [
    "string တစ်ခု ၊ တစ်ခုထက်ပိုသော strings များကို + operator အသုံးပြုပြီး (concatenate )ဆက်လို့ရပါတယ် ။"
   ]
  },
  {
   "cell_type": "code",
   "execution_count": 28,
   "metadata": {},
   "outputs": [
    {
     "name": "stdout",
     "output_type": "stream",
     "text": [
      "Hello John!\n"
     ]
    }
   ],
   "source": [
    "greeting = \"Hello\"\n",
    "name = \"John\"\n",
    "sentense = greeting + \" \"+ name + \"!\"\n",
    "print(sentense)"
   ]
  },
  {
   "cell_type": "markdown",
   "metadata": {},
   "source": [
    "string ကို  if statement ဖြင့်စစ်ဆေးခြင်း ၊ for _ in __ loop ဖြင့် Iterate လုပ်ခြင်းများလည်းးပြုလုပ်နိုင်ပါတယ်။"
   ]
  },
  {
   "cell_type": "code",
   "execution_count": 31,
   "metadata": {},
   "outputs": [
    {
     "name": "stdout",
     "output_type": "stream",
     "text": [
      "yes\n"
     ]
    }
   ],
   "source": [
    "good_sentense = \"         The quick brown fox jump on the lazy dog.\"\n",
    "if 'fox' in good_sentense:\n",
    "    print(\"yes\")\n",
    "else:\n",
    "    print(\"no\")"
   ]
  },
  {
   "cell_type": "code",
   "execution_count": 33,
   "metadata": {},
   "outputs": [
    {
     "name": "stdout",
     "output_type": "stream",
     "text": [
      "H\n",
      "e\n",
      "l\n",
      "l\n",
      "o\n"
     ]
    }
   ],
   "source": [
    "for i in \"Hello\":\n",
    "    print(i)"
   ]
  },
  {
   "cell_type": "markdown",
   "metadata": {},
   "source": [
    "strip() method ဖြင့် whitespace များကို လည်းဖယ်ရှားနိုင်ပါတယ်။"
   ]
  },
  {
   "cell_type": "code",
   "execution_count": 49,
   "metadata": {},
   "outputs": [
    {
     "name": "stdout",
     "output_type": "stream",
     "text": [
      "   Hello world    \n",
      "Hello world\n",
      "   Hello world    \n",
      "Hello world\n"
     ]
    }
   ],
   "source": [
    "whtiespace ='   Hello world    '\n",
    "whtiespace.strip() # string က immutable ဖြစ်တဲ့ အတွက် ပြင်လို့မရပါဘူး\n",
    "print(whtiespace)\n",
    "whtiespace_1 = whtiespace.strip() # ဒါကြောင့် နောက်တစ်ကြိမ် assigment ပြန်လုပ်ပြီး  over write လုပ်ပြစ်ရပါမယ်။\n",
    "print(whtiespace_1)\n",
    "print(whtiespace) # မူရင်း string က မပြောင်းလဲပဲ ရှိနေပါတယ်\n",
    "whtiespace = whtiespace.strip() # ဒါကြောင့် နောက်တစ်ကြိမ် assigment ပြန်လုပ်ပြီး  over write လုပ်ပြစ်ရပါမယ်။\n",
    "print(whtiespace)"
   ]
  },
  {
   "cell_type": "markdown",
   "metadata": {},
   "source": [
    "upper()/lower() methods များကိုသုံး၍ string တစ်ခုလုံးအား upper case/lower case ပြောင်းနိုင်ပါတယ်။\n",
    "title() method ကိုသုံး၍ Title ပြုလုပ်နိုင်ပါတယ်။"
   ]
  },
  {
   "cell_type": "code",
   "execution_count": 56,
   "metadata": {},
   "outputs": [
    {
     "name": "stdout",
     "output_type": "stream",
     "text": [
      "GONE WITH THE WIND.\n",
      "gone with the wind.\n",
      "Gone With The Wind.\n",
      "gone with the wind.\n"
     ]
    }
   ],
   "source": [
    "filim_name = \"gone with the wind.\"\n",
    "print(filim_name.upper())\n",
    "print(filim_name.lower())\n",
    "print(filim_name.title())\n",
    "print(filim_name)\n"
   ]
  },
  {
   "cell_type": "markdown",
   "metadata": {},
   "source": [
    "startswith()/endswith() methods တို့ဖြင့် အစ/အဆုံး စာလုံးများဖြင့်လည်း စစ်ဆေးနိူင်ပါတယ်။"
   ]
  },
  {
   "cell_type": "code",
   "execution_count": 60,
   "metadata": {},
   "outputs": [
    {
     "name": "stdout",
     "output_type": "stream",
     "text": [
      "True\n",
      "False\n",
      "True\n",
      "True\n",
      "True\n",
      "False\n",
      "False\n"
     ]
    }
   ],
   "source": [
    "print(filim_name.startswith('g'))\n",
    "print(filim_name.startswith('G'))\n",
    "print(filim_name.startswith('gone'))\n",
    "print(filim_name.endswith('d.'))\n",
    "print(filim_name.endswith('wind.')) \n",
    "print(filim_name.endswith('d'))\n",
    "print(filim_name.endswith('wind'))  "
   ]
  },
  {
   "cell_type": "markdown",
   "metadata": {},
   "source": [
    "find() method string အတွင်းရှိ character တစ်ခု၏ index / substring တစ်ခု၏ index ကိုလည်းရှာဖွေနိုင်ပါတယ်။\n",
    "ရှာမတွေ့ရင်တော့  -1 return ပြန်ပေးမှာဖြစ်ပါတယ်။"
   ]
  },
  {
   "cell_type": "code",
   "execution_count": 63,
   "metadata": {},
   "outputs": [
    {
     "name": "stdout",
     "output_type": "stream",
     "text": [
      "7\n",
      "10\n",
      "-1\n"
     ]
    }
   ],
   "source": [
    "print(filim_name.find('t'))\n",
    "print(filim_name.find('the'))\n",
    "print(filim_name.find('sub'))"
   ]
  },
  {
   "cell_type": "markdown",
   "metadata": {},
   "source": [
    "count() method ဖြင့် string အတွင်းရှိ character/ substring အရေအတွက်ကိုလည်း ရေတွက်နိုင်ပါတယ်။"
   ]
  },
  {
   "cell_type": "code",
   "execution_count": 64,
   "metadata": {},
   "outputs": [
    {
     "name": "stdout",
     "output_type": "stream",
     "text": [
      "2\n",
      "2\n"
     ]
    }
   ],
   "source": [
    "print(filim_name.count('w'))\n",
    "print(filim_name.count('th'))"
   ]
  },
  {
   "cell_type": "markdown",
   "metadata": {},
   "source": [
    "replace() method ဖြင့် string အတွင်းရှိ chaeacters/words များကို အစားထိုးပြင်ဆင်နိုင်ပါတယ်။ သို့သော မူရင်း string တော့ပြောင်းလည်းမသွားပါဘူး။\n",
    "အစားထိုးလိုသော wordရှာမတွေ့ရင်တော့မူရင်း string ကိုပဲ return ပြန်ပေးမှာဖြစ်ပါတယ်။"
   ]
  },
  {
   "cell_type": "code",
   "execution_count": 68,
   "metadata": {},
   "outputs": [
    {
     "name": "stdout",
     "output_type": "stream",
     "text": [
      "done with the wind.\n",
      "gone with the wind.\n"
     ]
    }
   ],
   "source": [
    "print(filim_name.replace('gone','done'))\n",
    "print(filim_name)"
   ]
  },
  {
   "cell_type": "markdown",
   "metadata": {},
   "source": [
    "split() method ဖြင့် string အတွင်းရှိ စာလုံးများအား ပိုင်းဖြတ်၍ List အတွင်းသို့ ကူးပြောင်းနိုင်ပါသည်။ default delimiter ကတော့ space ဖြစ်ပါတယ်။"
   ]
  },
  {
   "cell_type": "code",
   "execution_count": 69,
   "metadata": {},
   "outputs": [
    {
     "name": "stdout",
     "output_type": "stream",
     "text": [
      "['gone', 'with', 'the', 'wind.']\n"
     ]
    }
   ],
   "source": [
    "filim_name_list = filim_name.split(' ')\n",
    "print(filim_name_list)"
   ]
  },
  {
   "cell_type": "markdown",
   "metadata": {},
   "source": [
    "join() method ဖြင့် List အတွင်းရှိ elements များအား string တစ်ခုအဖြစ်လည်းပြောင်းလဲနိုင်ပါသည်။ "
   ]
  },
  {
   "cell_type": "code",
   "execution_count": 70,
   "metadata": {},
   "outputs": [
    {
     "name": "stdout",
     "output_type": "stream",
     "text": [
      "['gone', 'with', 'the', 'wind.']\n",
      "gone with the wind.\n"
     ]
    }
   ],
   "source": [
    "print(filim_name_list)\n",
    "re_filim_name = ' '.join(filim_name_list)\n",
    "print(re_filim_name)"
   ]
  },
  {
   "cell_type": "code",
   "execution_count": 3,
   "metadata": {},
   "outputs": [
    {
     "name": "stdout",
     "output_type": "stream",
     "text": [
      "9.519823802998872\n",
      "0.49045746400224743\n"
     ]
    }
   ],
   "source": [
    "from timeit import default_timer as timer\n",
    "mylist = ['a']*100000000\n",
    "\n",
    "#bad method\n",
    "start = timer()\n",
    "mystring = ''\n",
    "for i in mylist:\n",
    "    mystring += i\n",
    "stop =timer()\n",
    "print(stop-start)\n",
    "\n",
    "#good method\n",
    "start = timer()\n",
    "mystring = ''.join(mylist)\n",
    "stop =timer()\n",
    "print(stop-start)"
   ]
  },
  {
   "cell_type": "markdown",
   "metadata": {},
   "source": [
    "### formating\n",
    "----------------\n",
    "    formating မှာ ၃ မျိုးရှိတယ် ။\n",
    "    1. old style (%) method (%s, %d ,%.3f place holder)\n",
    "    2. .format() method (:.2f)\n",
    "    3. Python3.6 မှာ ပါလာတဲ့ f-string method တို့ဖြစ်တယ်။"
   ]
  },
  {
   "cell_type": "code",
   "execution_count": 8,
   "metadata": {},
   "outputs": [
    {
     "name": "stdout",
     "output_type": "stream",
     "text": [
      "Hello John! Today temperature is 26.00\n",
      "Hello John! Today temperature is 26.00\n",
      "Hello John! Today temperature is 26.00\n"
     ]
    }
   ],
   "source": [
    "greeting = \"Hello\"\n",
    "name = \"John\"\n",
    "temp = 25.999999\n",
    "sentense = \"%s %s! Today temperature is %.2f\"% (greeting,name,temp)\n",
    "print(sentense)\n",
    "print(\"{} {}! Today temperature is {:.2f}\".format(greeting,name,temp))\n",
    "print(f'{greeting} {name}! Today temperature is {temp:.2f}')"
   ]
  },
  {
   "cell_type": "markdown",
   "metadata": {},
   "source": [
    "f-string ကို သုံးဖို့ အကြံပြုလိုပါတယ် ။ f-string ထဲမှာပါတဲ့ place holder {} တွေထဲမှာလည်း mathmetic functions တွေကို အသုံးပြုလို့ ရနိုင်တာကိုတွေ့ရပါတယ် ။\n",
    "အောက်က ဥပမာ မှာတော့ float ကို interger ပြောင်းတဲ့ function နဲ့  -1 ပါ မြောက်ထားတဲ့ လုပ်ဆောင်ချက်ကို တွေ့ရမှာဖြစ်ပါတယ် ။"
   ]
  },
  {
   "cell_type": "code",
   "execution_count": 13,
   "metadata": {},
   "outputs": [
    {
     "name": "stdout",
     "output_type": "stream",
     "text": [
      "Hello John! Today temperature is 26.00\n",
      "Hello John! Today temperature is 26.00\n",
      "Hello John! Today temperature is 26.00\n",
      "It's -25 ?\n"
     ]
    }
   ],
   "source": [
    "greeting = \"Hello\"\n",
    "name = \"John\"\n",
    "temp = 25.999999\n",
    "sentense = \"%s %s! Today temperature is %.2f\"% (greeting,name,temp)\n",
    "print(sentense)\n",
    "print(\"{} {}! Today temperature is {:.2f}\".format(greeting,name,temp))\n",
    "print(f'{greeting} {name}! Today temperature is {temp:.2f}')\n",
    "print(f'It\\'s {int(temp) * -1} ?')"
   ]
  },
  {
   "cell_type": "markdown",
   "metadata": {},
   "source": [
    "# 6.collections modules\n",
    "-----------------------\n"
   ]
  },
  {
   "cell_type": "markdown",
   "metadata": {},
   "source": [
    "        collections modlul of container data type is five different types of collection modules\n",
    "        collections modules ကို import လုပ်ရပါမယ် ။ \n",
    "            1.Counter()\n",
    "            2.nametuple()\n",
    "            3.OrderDict()\n",
    "            4.defaultdict()\n",
    "            5.deque()"
   ]
  },
  {
   "cell_type": "markdown",
   "metadata": {},
   "source": [
    "### 6.1 Counter()\n",
    "--------------\n",
    "    1.Counter() is a container that stores the elements as dictionary, dictionary keys and dictionary values\n",
    "    Counter() က list,tuple တို့လိုပဲ  container အမျိုးအစားပဲဖြစ်ပါတယ် ။ ဒါပေမဲ့  emementsတွေကိုတော့ dictionary လို key:value တွေနဲ့ သိမ်းစည်းပေးမှာပါ ။\n",
    "    ဒါကြောင့် ရလာတဲ့ dictionary objects တွေ မှ keys , values နဲ့  itemsများကို ထုတ်ကြည့်နိုင်ပါတယ်  ။ list ပုံစံသိမ်းစည်းထားမှာ ဖြစ်ပါတယ် ။\n",
    "    itemsကို ထုတ်တဲ့ အခါမှာတော့ list အတွင်းမှာ key နဲ့ value တစ်စုံစီပါတဲ့ tupls များပြပေးမှာပါ ။\n",
    "    most_common() method ကတော့ dictionary object ထဲမှာ အများဆုံးပါတဲ့ ကိုထုတ်ယူနိုင်မှာ ဖြစ်ပါတယ်  ။ အများဆုံး ဘယ်နှစ်နေရာအထိရှာမယ် ဆိုတာကို တော့\n",
    "    method မှာ integer argument အနေနဲ့ ပေးရမှာဖြစ်ပါတယ် ။\n",
    "    Counter() class ရဲ့ elements method ကတော့ elements တွေ ကို တူညီရာ စုစည်းပြပေးမှာပါ ။ object ဖြစ်တဲ့ အတွက် list function ကို အသုံးပြုပြီး \n",
    "    example မှာတော့ ထုတ်ပြထားပါတယ် ။\n",
    "    Counter() class ရဲ့ method() များမှာ \n",
    "        1.items()\n",
    "        2.keys()\n",
    "        3.values()\n",
    "        4.most_common()->return Tuple in List \n",
    "        5.elements()"
   ]
  },
  {
   "cell_type": "code",
   "execution_count": 32,
   "metadata": {},
   "outputs": [
    {
     "name": "stdout",
     "output_type": "stream",
     "text": [
      "Counter({'this': 3, 'example': 2, 'the': 2, 'string': 2, '.': 2, 'is': 1, 'an': 1, 'of': 1, 'counter': 1, 'function': 1, 'testing': 1, 'to': 1, 'find': 1, 'how': 1, 'many': 1, 'word': 1, 'in': 1, 'i': 1, 'hope': 1, 'that': 1, 'helpful': 1, 'for': 1, 'you': 1})\n",
      "~~~~~~~~~~~~~~~~~~~~~~~~~~~~~~~~~~~~~~~~~~~~~~~~~~\n",
      "dict_values([3, 1, 1, 2, 1, 1, 1, 1, 2, 2, 2, 1, 1, 1, 1, 1, 1, 1, 1, 1, 1, 1, 1])\n",
      "~~~~~~~~~~~~~~~~~~~~~~~~~~~~~~~~~~~~~~~~~~~~~~~~~~\n",
      "dict_keys(['this', 'is', 'an', 'example', 'of', 'counter', 'function', 'testing', 'the', 'string', '.', 'to', 'find', 'how', 'many', 'word', 'in', 'i', 'hope', 'that', 'helpful', 'for', 'you'])\n",
      "~~~~~~~~~~~~~~~~~~~~~~~~~~~~~~~~~~~~~~~~~~~~~~~~~~\n",
      "dict_items([('this', 3), ('is', 1), ('an', 1), ('example', 2), ('of', 1), ('counter', 1), ('function', 1), ('testing', 1), ('the', 2), ('string', 2), ('.', 2), ('to', 1), ('find', 1), ('how', 1), ('many', 1), ('word', 1), ('in', 1), ('i', 1), ('hope', 1), ('that', 1), ('helpful', 1), ('for', 1), ('you', 1)])\n"
     ]
    }
   ],
   "source": [
    "# Counter() example\n",
    "from collections import Counter\n",
    "my_string = 'This is an example of Counter function testing the string . To find the how many word \\\n",
    "in this string . I hope that this example helpful for you'\n",
    "my_string_char_counter = Counter(my_string.lower().split(\" \"))\n",
    "# ပထမ my_string ကို  space နဲ့ split လုပ်မယ် စကားလုံးတွေကိုရယူမယ် \n",
    "# ဒုတိယ အားလုံးကို lower case လုပ်မယ် \n",
    "# တတိယ Counter() function သုံးပြီး တူညီတဲ့ စကားလုံးတွေကို ရေတွက်မယ် ။\n",
    "# '.' dot နောက်ကပါတဲ့ method တွေက အမြဲ ဘယ်မှ ညာသို့ အလုပ် လုပ်တာ ဖြစ်ပါတယ် ။\n",
    "print(my_string_char_counter)\n",
    "print('~' * 50)\n",
    "print(my_string_char_counter.values())\n",
    "print('~' * 50)\n",
    "print(my_string_char_counter.keys()) \n",
    "print('~' * 50)\n",
    "print(my_string_char_counter.items())"
   ]
  },
  {
   "cell_type": "code",
   "execution_count": 36,
   "metadata": {},
   "outputs": [
    {
     "name": "stdout",
     "output_type": "stream",
     "text": [
      "[('this', 3), ('example', 2)]\n",
      "~~~~~~~~~~~~~~~~~~~~~~~~~~~~~~~~~~~~~~~~~~~~~~~~~~\n",
      "['this', 'this', 'this', 'is', 'an', 'example', 'example', 'of', 'counter', 'function', 'testing', 'the', 'the', 'string', 'string', '.', '.', 'to', 'find', 'how', 'many', 'word', 'in', 'i', 'hope', 'that', 'helpful', 'for', 'you']\n"
     ]
    }
   ],
   "source": [
    "# Counter(), most_commond() method example \n",
    "from collections import Counter\n",
    "my_string = 'This is an example of Counter function testing the string . To find the how many word \\\n",
    "in this string . I hope that this example helpful for you'\n",
    "my_string_char_counter = Counter(my_string.lower().split(\" \"))\n",
    "print(my_string_char_counter.most_common(2))\n",
    "print('~' * 50)\n",
    "print(list(my_string_char_counter.elements()))"
   ]
  },
  {
   "cell_type": "markdown",
   "metadata": {},
   "source": [
    "### 6.2 nametuple()\n",
    "-------------------\n",
    "    2.nametuple() ->lightweight object type\n",
    "    eg; ClassName = nametuple('ClassName','fields')\n",
    "        obj = ClassName(fields)\n",
    "    nametuple() ကိုသုံးရန် collections modules ကနေ nametuple() module ကို import လုပ်သုံးရပါမယ် ။\n",
    "    nametuple က ဖန်တီးရလွယ် ကူပြီး အလွန် ပေါ့ပါးတဲ့ object type တစ်ခုဖြစ်ပါတယ်  ။ C programming မှာဆိုရင်တော့ structure နဲ့တူပါတယ် ။\n",
    "    တည်ဆောက်ပုံကတော့ \n",
    "    ပထမ Class variable တစ်ခုတည်ဆောက်မယ်။ အဲ့ဒီ Class ရဲ့ Expression အနေနဲ့ nametuple() က အလုပ်လုပ်ပါမယ် ။\n",
    "    nametuple() မှာ string type arguments ၂ခုပါ ပါ မယ် ။ ပထမ argument ကတော့ Assign လုပ်လိုက်တဲ့ Class Variable ရဲ့ name ကို \n",
    "    string အနေနဲ့ ပြန်ထည့်ပေးရပါ့မယ် ။ နောက်ထပ် argument ကတော့ fields arguments တွေဖြစ်ပါတယ် ။ fields arguments များကိုတော့ အားလုံးပေါင်းပြီး \n",
    "    string တစ်ခုအတွင်းမှာ ရေးရမှာဖြစ်ပါတယ် ။\n",
    "    နောက်မှာတော့ objects တွေ တည်ဆောက်ပြီး Class Variable ရဲ့ instanciate အဖြစ် အသုံးပြုနိုင်မှာဖြစ်ပါတယ် ။\n",
    "        \n",
    "        \n",
    "\n",
    "        "
   ]
  },
  {
   "cell_type": "code",
   "execution_count": 39,
   "metadata": {},
   "outputs": [
    {
     "name": "stdout",
     "output_type": "stream",
     "text": [
      "Point(x=-3, y=4)\n",
      "-3 4\n"
     ]
    }
   ],
   "source": [
    "from collections import namedtuple\n",
    "Point = namedtuple('Point', 'x,y')\n",
    "pt = Point(-3,4)\n",
    "print(pt)\n",
    "print(pt.x, pt.y)\n"
   ]
  },
  {
   "cell_type": "markdown",
   "metadata": {},
   "source": [
    "### 6.3 OrderdDict() \n",
    "-------------------\n",
    "        ရိုးရိုး dictionary လိုပါပဲ ။ ရိုးရိုး dictionary က unordered ဖြစ်တယ်။ ဘယ် item က အရင်သွင်းတယ် ဆိုတာကို မှတ်သားမထားနိုင်ပါ ဘူး ။\n",
    "        ဒါကြောင် အစီအစဥ် စီစဥ်လို့ မရနိုင်ပါဘူး ။\n",
    "        Orderddict ကတော့ (They remenber the oreder that the items were inserted.) ထည့်သွင်းလိုက်တဲ့ items တွေရဲ့ အစီအစဥ်ကို \n",
    "        မှတ်သားထားနိုင်ပါတယ်။ ဒါကြောင့် အစီအစဥ်အတိုင်း စီစဥ်လို့ ရနိုင်ပါတယ် ။ မူလ Dictionary ထက်ပိုပြီး အသုံးဝင်လာပါတယ် ။ python3.7 မတိုင်ခင် version များကို\n",
    "        dictionary  ကို ပိုမိုကောင်းမွန်စာလုပ်ဆောင်နိုင်အောင် စီမံထားတာဖြစ်ပါတယ် ။\n",
    "        သို့သော် Python 3.7 နောက်ပိုင်းမှာ မူလ dictionary ကလည်း ထည့်သွင်းမှုအစီအစဥ်တွေကို မှတ်သားလာနိုင်ပါပြီ ။\n",
    "        \n"
   ]
  },
  {
   "cell_type": "code",
   "execution_count": 41,
   "metadata": {},
   "outputs": [
    {
     "name": "stdout",
     "output_type": "stream",
     "text": [
      "{'b': 2, 'd': 4, 'c': 3, 'e': 5, 'a': 1}\n",
      "{'b': 2, 'c': 3, 'd': 4, 'e': 5, 'a': 1}\n",
      "OrderedDict([('b', 2), ('c', 3), ('d', 4), ('e', 5), ('a', 1)])\n"
     ]
    }
   ],
   "source": [
    "from collections import OrderedDict\n",
    "dict_nor = { 'b':2, 'd':4, 'c':3, 'e':5,'a':1}\n",
    "print(dict_nor)\n",
    "dict1 = {}\n",
    "dict1['b'] = 2\n",
    "dict1['c'] = 3\n",
    "dict1['d'] = 4\n",
    "dict1['e'] = 5\n",
    "dict1['a'] = 1\n",
    "print(dict1)\n",
    "orddict1 = OrderedDict()\n",
    "orddict1['b'] = 2\n",
    "orddict1['c'] = 3\n",
    "orddict1['d'] = 4\n",
    "orddict1['e'] = 5\n",
    "orddict1['a'] = 1\n",
    "print(orddict1)"
   ]
  },
  {
   "cell_type": "markdown",
   "metadata": {},
   "source": [
    "### 6.4 defaultdict()      \n",
    "---------------------\n",
    "    4.defaultdict() -> ရိုးရိုး dictionary လိုပဲ ကွဲပြားတာတစ်ခုက  ရိုးရိုး dictionary မှာ key ကိုသုံးပြီးရှာလျှင် key မရှိလျှင် KeyError ဖြစ်နိုင်တယ်။ defaultdict\n",
    "    ကတော့ သတ်မှတ်ထားသော key type ကို return ပြန်ပေးမှာပါ။ default key type ကိုတော့ integer,float,list စသည်ဖြင့်ကြိုက်ရာထားလို့ရပါတယ် ။\n",
    "    default key return type and value တွေကတော့ အောက်ပါအတိုင်းဖြစ်ပါတယ် ။\n",
    "    defaultdict(int) -> return 0\n",
    "    defaultdict(float) -> return 0.0\n",
    "    defaultdict(list) -> return [] empty list\n",
    "    eg; myddict = defaultdict(int)\n",
    "    \n",
    "    \n"
   ]
  },
  {
   "cell_type": "code",
   "execution_count": 42,
   "metadata": {},
   "outputs": [
    {
     "name": "stdout",
     "output_type": "stream",
     "text": [
      "1\n",
      "2\n",
      "0\n"
     ]
    }
   ],
   "source": [
    "from collections import defaultdict\n",
    "d_dict = defaultdict(int)\n",
    "d_dict['a'] = 1\n",
    "d_dict['b'] = 2\n",
    "print(d_dict['a'])\n",
    "print(d_dict['b'])\n",
    "print(d_dict['c']) # return must be 0\n"
   ]
  },
  {
   "cell_type": "markdown",
   "metadata": {},
   "source": [
    "### 6.5 deque() (double ended queue)\n",
    "---------------\n",
    "    5.deque() -> list အစားသုံးပါတယ် ။ list မှာ append(),pop(),extend() method များကို ညာဘက်အစွန်း တစ်ဖက်တည်းကပဲ ဆောင်ရွက်နိုင်ပါတယ် ။\n",
    "    ဒါကြောင့် အစွန်းနှစ်ဖက်လုံးက ဆောင်ရွက်နိုင်အောင် double ended queue ကို တည်ဆောက်အသုံးပြုနိုင်ပါတယ် ။\n",
    "        1.append()/appendleft()\n",
    "        2.pop()/popleft()\n",
    "        3.clear()\n",
    "        4.extend()/extendleft()\n",
    "        5.roate()\n",
    "            roate(1) ၁ နေရာလည့်မယ်\n",
    "            roate(2) ၂ နေရာလည့်မယ်\n",
    "            roate(3) ၃ နေရာလည့်မယ်\n",
    "            roate(-1) ၁ နေရာပြောင်းပြန်လည့်မယ်"
   ]
  },
  {
   "cell_type": "code",
   "execution_count": 48,
   "metadata": {},
   "outputs": [
    {
     "name": "stdout",
     "output_type": "stream",
     "text": [
      "deque([1, 2])\n",
      "deque([3, 1, 2])\n",
      "deque([6, 5, 4, 3, 1, 2])\n",
      "deque([2, 6, 5, 4, 3, 1])\n",
      "deque([3, 1, 2, 6, 5, 4])\n",
      "deque([2, 6, 5, 4, 3, 1])\n"
     ]
    }
   ],
   "source": [
    "from collections import deque\n",
    "dq_list = deque()\n",
    "dq_list.append(1)\n",
    "dq_list.append(2)\n",
    "print(dq_list)\n",
    "dq_list.appendleft(3) # This append from the leftside of queue\n",
    "print(dq_list)\n",
    "dq_list.extendleft([4,5,6])\n",
    "print(dq_list)\n",
    "dq_list.rotate(1) # this is rotate right to left one place\n",
    "print(dq_list)\n",
    "dq_list.rotate(2) # this is rotate right to left two place\n",
    "print(dq_list)\n",
    "dq_list.rotate(-2) # this is rotate left to right two place\n",
    "print(dq_list)"
   ]
  },
  {
   "cell_type": "markdown",
   "metadata": {},
   "source": [
    "# 7.itertools module\n",
    "------------------- \n",
    " \n",
    "    itertools ဆိုတာ collection tools တစ်ခုဖြစ်ပါသည် ။ iterator လုပ်ငန်းစဥ်များ ကို ထိန်းချုပ်ကိုင်တွယ်ရန်ဖြစ်ပါသည်။ iterator tools တွေကို for loop \n",
    "    iterate လုပ်တဲ့နေရာတွေမှာ သုံးပါသည်။ ဥပမာ အနေဖြင့် Lists တွေကို iterate လုပ်တဲ့အခါ ပိုမို အကြိုးရှိစေပါသည်။\n",
    "              "
   ]
  },
  {
   "cell_type": "markdown",
   "metadata": {},
   "source": [
    "### 7.1 product\n",
    "---------------\n",
    "    product function ကို List ၂ ခု မြောက်တဲ့နေရာမှာ အသုံးပြုပြီး Object တစ်ခု အနေဖြင့် Return ပြန်မှာ ဖြစ်ပါတယ်။ ဒါကြောင့် return object ကို List အဖြစ် convert လုပ်၍အသုံးပြုနိုင်ပါတယ် ။ ရလဒ် ကတော့ List အတွင်းမှာ Tuples များအနေနဲ့ ရရှိမှာဖြစ်ပါတယ် ။\n",
    "            ဥပမာ ။ ။\n",
    "            from itertools import product\n",
    "            listA = [1,2]\n",
    "            listB = [3,4]\n",
    "            pro_list = product(listA,listB)\n",
    "            print(List(pro_list))\n",
    "            repeat လုပ်ချင်သည့် အကြိမ် အရေအတွက်ကို parameter အဖြစ်ထည့်သွင်းသတ်မှတ်နိုင်ပါသည် ။\n",
    "            pro_list = product(listA,listB, repeat = 2)"
   ]
  },
  {
   "cell_type": "code",
   "execution_count": 4,
   "metadata": {},
   "outputs": [
    {
     "name": "stdout",
     "output_type": "stream",
     "text": [
      "[(1, 3), (1, 4), (2, 3), (2, 4)]\n",
      "[(1, 3, 1, 3), (1, 3, 1, 4), (1, 3, 2, 3), (1, 3, 2, 4), (1, 4, 1, 3), (1, 4, 1, 4), (1, 4, 2, 3), (1, 4, 2, 4), (2, 3, 1, 3), (2, 3, 1, 4), (2, 3, 2, 3), (2, 3, 2, 4), (2, 4, 1, 3), (2, 4, 1, 4), (2, 4, 2, 3), (2, 4, 2, 4)]\n"
     ]
    }
   ],
   "source": [
    "from itertools import product\n",
    "listA = [1,2]\n",
    "listB = [3,4]\n",
    "pro_list = product(listA,listB)\n",
    "print(list(pro_list))\n",
    "#repeat လုပ်ချင်သည့် အကြိမ် အရေအတွက်ကို parameter အဖြစ်ထည့်သွင်းသတ်မှတ်နိုင်ပါသည် ။\n",
    "pro_list2 = product(listA,listB,repeat=2)\n",
    "print(list(pro_list2))"
   ]
  },
  {
   "cell_type": "markdown",
   "metadata": {},
   "source": [
    "### 7.2 permutations ပြောင်းလဲခြင်း\n",
    "-----------------------------\n",
    "    permutations function ကို List တစ်ခုအတွင်း ဖြစ်နိုင်သော ordering အစီအစဥ်များဖြင့် list ရဲ့ elements  တွေကို နေရာပြောင်း၍ စီစဥ်ပေးနိုင်ပါသည်။ \n",
    "    စီစဥ်မည့် နေရာအရေအတွက်ကို argument ပေး၍ သတ်မှတ်ပေးနိုင်ပါသည် ။ ရလဒ် ကတော့ List အတွင်းမှာ Tuples များအနေနဲ့ ရရှိမှာဖြစ်ပါတယ် ။\n",
    "        ဥပမာ ။ ။\n",
    "           from itertools import permutations\n",
    "           mylist = [1,2,3]\n",
    "           permu_list = permutations(mylist,2) # length of the permutations, mylist အတွင်းမှာရှိသော elements များကို ၂\n",
    "           နေရာအထိနေရာပြောင်း၍ စီစဥ်ပါ ။\n",
    "        permutations ပြောင်းလဲစီစဥ်မဲ့ အစီအစဥ်ရဲ့ elements ပါဝင်မှုကို integer argument ပေး၍သတ်မှတ်နိုင်ပါတယ် ။"
   ]
  },
  {
   "cell_type": "code",
   "execution_count": 11,
   "metadata": {},
   "outputs": [
    {
     "name": "stdout",
     "output_type": "stream",
     "text": [
      "[(1, 2, 3), (1, 3, 2), (2, 1, 3), (2, 3, 1), (3, 1, 2), (3, 2, 1)]\n",
      "[(1, 2), (1, 3), (2, 1), (2, 3), (3, 1), (3, 2)]\n"
     ]
    }
   ],
   "source": [
    "from itertools import permutations\n",
    "mylist = [1,2,3]\n",
    "permu_list = permutations(mylist) # default permutations length is  length of original sequence\n",
    "print(list(permu_list))\n",
    "permu_list = permutations(mylist,2) #definde length of the permutations by argument\n",
    "#ဖြစ်ပေါ်လာမည် permutations အတွင်းမှာရှိသော elements ၂ ခုပဲ လို့ သတ်မှတ်လိုက်တာပါ။\n",
    "print(list(permu_list))"
   ]
  },
  {
   "cell_type": "markdown",
   "metadata": {},
   "source": [
    "### 7.3 combinations / combinations_with_replacement ပေါင်းစပ်ခြင်း\n",
    "-----------------------------------------------------------------\n",
    "\n",
    "        List တစ်ခုအတွင်း ဖြစ်နိုင်ခြေရှိသော List  elementsအတွဲ များ ပြသခြင်းဖြစ်ပါသည် ။ combinaion ပြုလုပ်လိုသည့် အတွဲlength ကို argument ပေး၍သတ်မှတ်နိုင်\n",
    "        ပါသည် ။ မူရင်း list  lenght ထက်ရှည်ပါက empty list ပဲရပါမယ် ။\n",
    "        Object တစ်ခု အနေဖြင့် Return ပြန်မှာ ဖြစ်ပါတယ်။ ဒါကြောင့် return object ကို List အဖြစ် convert လုပ်၍အသုံးပြုနိုင်ပါတယ် ။ \n",
    "        ရလဒ် ကတော့ List အတွင်းမှာ Tuples များအနေနဲ့ ရရှိမှာဖြစ်ပါတယ် ။\n",
    "        combinations_with_replacement  ကတော့ elements တွေက မိမိကိုယ်ကိုမိမိ (combination) လုပ်ခြင်းတိုပါထည့်သွင်းမည်လို့ ဆိုလိုခြင်းဖြစ်ပါသည်။\n",
    "        \n",
    "        ဥပမာ ။ ။\n",
    "        from itertools import combinations\n",
    "        listA = [1,2,3,4]\n",
    "        comb = combinations(listA,2)\n",
    "        print(list(comb))"
   ]
  },
  {
   "cell_type": "code",
   "execution_count": 15,
   "metadata": {},
   "outputs": [
    {
     "name": "stdout",
     "output_type": "stream",
     "text": [
      "[(1, 2), (1, 3), (1, 4), (2, 3), (2, 4), (3, 4)]\n",
      "[(1, 2, 3), (1, 2, 4), (1, 3, 4), (2, 3, 4)]\n",
      "[(1, 2, 3, 4)]\n",
      "[]\n"
     ]
    }
   ],
   "source": [
    "from itertools import combinations\n",
    "listA = [1,2,3,4]\n",
    "comb = combinations(listA,2)\n",
    "print(list(comb))\n",
    "comb = combinations(listA,3)\n",
    "print(list(comb))\n",
    "comb = combinations(listA,4) # combination lenght is equal the original sequence\n",
    "print(list(comb))\n",
    "comb = combinations(listA,5) # combination lenght is grether than the original sequence\n",
    "print(list(comb))"
   ]
  },
  {
   "cell_type": "markdown",
   "metadata": {},
   "source": [
    "### 7.4 accumulate စုပြုံ\n",
    "------------------------\n",
    "    \n",
    "        accumulate() function က List အတွင်းရှိ elements များ တောက်လျှောက် ပေါင်းသွားမည် ဖြစ်ပါသည် ။ \n",
    "        Object တစ်ခု အနေဖြင့် Return ပြန်မှာ ဖြစ်ပါတယ်။ ဒါကြောင့် return object ကို List အဖြစ် convert လုပ်၍အသုံးပြုနိုင်ပါတယ် ။ \n",
    "        ရလဒ် ကတော့ List အနေနဲ့ ရရှိမှာဖြစ်ပါတယ် ။\n",
    "         ဥပမာ ။ ။\n",
    "        from itertools import accumulate\n",
    "        listA = [1,2,3,4]\n",
    "        acc = accumulate(listA)\n",
    "        print(listA)\n",
    "        print(list(acc))\n",
    "        \n",
    "        accumulate() function ရဲ့ default လုပ်ငန်းစဥ်က sum(ပေါင်းခြင်း) ကိုလုပ်မှာ ဖြစ်ပါတယ် ။ operator module\n",
    "        အား importလုပ်ပြီး အခြားလုပ်ငန်းများအားလည်း\n",
    "        ပြောင်းလြ သတ်မှတ်ပေးနိုင်ပါတယ် ။\n",
    "        ဥပမာ ။ ။\n",
    "        \n",
    "        from itertools import accumulate\n",
    "        import operator\n",
    "        listA = [1,2,3,4]\n",
    "        acc = accumulate(listA,func = operator.mul) #operator -> mul, max,\n",
    "        print(listA)\n",
    "        print(List(acc))"
   ]
  },
  {
   "cell_type": "code",
   "execution_count": 3,
   "metadata": {},
   "outputs": [
    {
     "name": "stdout",
     "output_type": "stream",
     "text": [
      "[1, 2, 3, 4]\n",
      "[1, 3, 6, 10]\n"
     ]
    }
   ],
   "source": [
    "from itertools import accumulate\n",
    "listA = [1,2,3,4]\n",
    "acc = accumulate(listA)\n",
    "print(listA)\n",
    "print(list(acc))"
   ]
  },
  {
   "cell_type": "code",
   "execution_count": 5,
   "metadata": {},
   "outputs": [
    {
     "name": "stdout",
     "output_type": "stream",
     "text": [
      "[1, 2, 3, 4]\n",
      "[1, 2, 6, 24]\n"
     ]
    }
   ],
   "source": [
    "from itertools import accumulate\n",
    "import operator\n",
    "listA = [1,2,3,4]\n",
    "acc = accumulate(listA,func = operator.mul) #operator -> mul, max,\n",
    "print(listA)\n",
    "print(list(acc))"
   ]
  },
  {
   "cell_type": "code",
   "execution_count": 9,
   "metadata": {},
   "outputs": [
    {
     "name": "stdout",
     "output_type": "stream",
     "text": [
      "[1, 2, 5, 3, 7, 4]\n",
      "[1, 2, 5, 5, 7, 7]\n"
     ]
    }
   ],
   "source": [
    "from itertools import accumulate\n",
    "import operator\n",
    "listA = [1,2,5,3,7,4]\n",
    "acc = accumulate(listA,func = max) #operator -> mul, max,\n",
    "print(listA)\n",
    "print(list(acc))"
   ]
  },
  {
   "cell_type": "markdown",
   "metadata": {},
   "source": [
    "### 7.5 groupby()\n",
    "------------------\n",
    "        groupby() function က List အတွင်းမှာ ရှိတဲ့ elements များ ကို function တစ်ခု သို့မဟုတ် key တစ်ခုနှင့်\n",
    "        တိုက်ဆိုင် စစ်ဆေးပြီး key နှင့် value group တစ်ခု  retuned ပြန်ပေးမှာဖြစ်ပါတယ် ။\n",
    "        ဥပမာ ။ ။\n",
    "        \n",
    "        from itertools import groupby\n",
    "        listA = [1,2,3,4]\n",
    "        group_obj = groupby(listA, key = lambda x : x<3)\n",
    "        for key,value in group_obj:\n",
    "            print(key,list(value))"
   ]
  },
  {
   "cell_type": "code",
   "execution_count": 13,
   "metadata": {},
   "outputs": [
    {
     "name": "stdout",
     "output_type": "stream",
     "text": [
      "False [1, 2]\n",
      "True [3, 4]\n"
     ]
    }
   ],
   "source": [
    "from itertools import groupby\n",
    "listA = [1,2,3,4]\n",
    "def greather_3(x):\n",
    "    return x >= 3\n",
    "group_obj = groupby(listA, key = greather_3)\n",
    "for k,v in group_obj:\n",
    "    print(k,list(v))"
   ]
  },
  {
   "cell_type": "code",
   "execution_count": 11,
   "metadata": {},
   "outputs": [
    {
     "name": "stdout",
     "output_type": "stream",
     "text": [
      "True [1, 2]\n",
      "False [3, 4]\n"
     ]
    }
   ],
   "source": [
    "from itertools import groupby\n",
    "listA = [1,2,3,4]\n",
    "group_obj = groupby(listA, key = lambda x : x<3)\n",
    "for key,value in group_obj:\n",
    "    print(key,list(value))"
   ]
  },
  {
   "cell_type": "code",
   "execution_count": 27,
   "metadata": {},
   "outputs": [
    {
     "name": "stdout",
     "output_type": "stream",
     "text": [
      "True [{'name': 'Johne', 'age': 32, 'job': 'Software Developer', 'married': True, 'salary': 5200.0}]\n",
      "False [{'name': 'Eirs', 'age': 32, 'job': 'Designer', 'married': False, 'salary': 5000.0}, {'name': 'Raymond', 'age': 12, 'job': 'Student', 'married': False, 'salary': 100.0}, {'name': 'William', 'age': 10, 'job': 'Student', 'married': False, 'salary': 0.0}, {'name': 'Lisa', 'age': 20, 'job': 'Singer', 'married': False, 'salary': 15200.0}]\n"
     ]
    }
   ],
   "source": [
    "person_info = [\n",
    "    {\n",
    "        'name' : 'Johne',\n",
    "        'age'  : 32,\n",
    "        'job'  : 'Software Developer',\n",
    "        'married': True,\n",
    "        'salary' : 5200.00,\n",
    "    },\n",
    "    {\n",
    "        'name' : 'Eirs',\n",
    "        'age'  : 32,\n",
    "        'job'  : 'Designer',\n",
    "        'married': False,\n",
    "        'salary' : 5000.00,\n",
    "    },\n",
    "    {\n",
    "        'name' : 'Raymond',\n",
    "        'age'  : 12,\n",
    "        'job'  : 'Student',\n",
    "        'married': False,\n",
    "        'salary' : 100.00,\n",
    "    },\n",
    "    {\n",
    "        'name' : 'William',\n",
    "        'age'  : 10,\n",
    "        'job'  : 'Student',\n",
    "        'married': False,\n",
    "        'salary' : 00.00,\n",
    "    },\n",
    "    {\n",
    "        'name' : 'Lisa',\n",
    "        'age'  : 20,\n",
    "        'job'  : 'Singer',\n",
    "        'married': False,\n",
    "        'salary' : 15200.00,\n",
    "    }\n",
    "\n",
    "]\n",
    "from itertools import groupby\n",
    "group_person_by_married = groupby(person_info, key = lambda x : x['married'] )\n",
    "for k,v in group_person_by_married:\n",
    "    print(k,list(v))"
   ]
  },
  {
   "cell_type": "markdown",
   "metadata": {},
   "source": [
    "### 7.6 infinate iterators\n",
    "--------------------------\n",
    "    1.count()\n",
    "    2.cycle()\n",
    "    3.repeat()"
   ]
  },
  {
   "cell_type": "markdown",
   "metadata": {},
   "source": [
    "#### 7.6.1 count() \n",
    "    for (index) in (sequnce): loop အား အစသတ်မှတ်ပေးနိုင်သည်။# for i in count(start point)"
   ]
  },
  {
   "cell_type": "code",
   "execution_count": 31,
   "metadata": {},
   "outputs": [
    {
     "name": "stdout",
     "output_type": "stream",
     "text": [
      "5\n",
      "6\n",
      "7\n",
      "8\n",
      "9\n",
      "10\n"
     ]
    }
   ],
   "source": [
    "from itertools import count,cycle,repeat\n",
    "for i in count(5):\n",
    "    print(i)       \n",
    "    if i==10:\n",
    "        break"
   ]
  },
  {
   "cell_type": "markdown",
   "metadata": {},
   "source": [
    "#### 7.6.2 cycle\n",
    "    cycle(whom)\n"
   ]
  },
  {
   "cell_type": "code",
   "execution_count": 6,
   "metadata": {},
   "outputs": [
    {
     "name": "stdout",
     "output_type": "stream",
     "text": [
      "1\n",
      "2\n",
      "3\n",
      "1\n",
      "2\n",
      "3\n",
      "1\n",
      "2\n",
      "3\n"
     ]
    }
   ],
   "source": [
    "from itertools import count,cycle,repeat\n",
    "listA = [1,2,3]\n",
    "j=0\n",
    "for i in cycle(listA):\n",
    "    print(i)\n",
    "    j+= 1\n",
    "    if j >= 9 :\n",
    "        break"
   ]
  },
  {
   "cell_type": "markdown",
   "metadata": {},
   "source": [
    "#### 7.6.3 repeat\n",
    "    repeat(whon,how many times)\n"
   ]
  },
  {
   "cell_type": "code",
   "execution_count": 9,
   "metadata": {},
   "outputs": [
    {
     "name": "stdout",
     "output_type": "stream",
     "text": [
      "[1, 2, 3]\n",
      "[1, 2, 3]\n",
      "[1, 2, 3]\n"
     ]
    }
   ],
   "source": [
    "from itertools import count,cycle,repeat\n",
    "listA = [1,2,3]\n",
    "for i in repeat(listA,3):\n",
    "    print(i)"
   ]
  },
  {
   "cell_type": "markdown",
   "metadata": {},
   "source": [
    "8.Lambda\n",
    "--------\n",
    "    Lanbad() function ဆိုတာ သေးငယ်သော အမည်မဲ့ Anomynmous one line function  ဖြစ်ပါတယ် ။ javascript\n",
    "    မှာ ဆိုရင်တော့ Arrow function () => နှင့်တူပါတယ် ။ ရေသား သည့်ပုံစံ က lambda keyword ပါမယ် arguments \n",
    "    ပါမယ် ။ argument နောက်မှာတော့ ကော်လံ(:) colum ခြားပြီး စစ်ဆေးချက် fumction (သို့) ဖော်ပြချက် expression ပါ \n",
    "    ပါမယ်။\n",
    "    function သို့ expression က သူ့လုပ်ဆောင်ချက်ကို လုပ်ဆောင်ပြီး သူကိုတိုင်ပဲ return ပြန်ပြီး arguments ထဲပို့ပေးပါတယ်။\n",
    "    ဥပမာ ။ ။\n",
    "    lambda arguments : expression\n",
    "    \n",
    "    lambda x : x < 100\n",
    "\n"
   ]
  },
  {
   "cell_type": "code",
   "execution_count": 3,
   "metadata": {},
   "outputs": [
    {
     "name": "stdout",
     "output_type": "stream",
     "text": [
      "15\n",
      "15\n"
     ]
    }
   ],
   "source": [
    "# lambda function way\n",
    "add10 = lambda x : x + 10\n",
    "print(add10(5))\n",
    "\n",
    "# normal function way\n",
    "def add10_func (x):\n",
    "    return x + 10\n",
    "\n",
    "print(add10_func(5))"
   ]
  },
  {
   "cell_type": "markdown",
   "metadata": {},
   "source": [
    "multiple arguments များ အတွက်ရေးသားပုံမှာ"
   ]
  },
  {
   "cell_type": "code",
   "execution_count": 6,
   "metadata": {},
   "outputs": [
    {
     "name": "stdout",
     "output_type": "stream",
     "text": [
      "30\n",
      "30\n"
     ]
    }
   ],
   "source": [
    "# Normal function way\n",
    "def mul_func(x,y):\n",
    "    return x*y\n",
    "print(mul_func(5,6))\n",
    "\n",
    "\n",
    "# Lambda function way\n",
    "xy = lambda x,y : x*y\n",
    "print(xy(5,6))"
   ]
  },
  {
   "cell_type": "markdown",
   "metadata": {},
   "source": [
    "    lambda function ကို ယျေဘုရအားဖြင့် ရိုးရှင်းတဲ့ function များကို အသုံးပြုလိုတဲ့ အခါ ၊ ၎င်း function ကို \n",
    "    တစ်ကြိမ်လောက်ပဲ အသုံးပြုလိုသည့် အခါ နှင့် ၎င်းမှာ အသုံးပြုမဲ့ arguments တွေက higher-order functions \n",
    "    ဖြစ်တဲ့အခါမျိုးမှာ အသုံးပြုပါတယ် ။ ဥပမာ အနေဖြင့်  function တစ်ခုက အခြား function တစ်ခုကို ၎င်းရဲ့ argument \n",
    "    အဖြစ်ခေါါသုံးတဲ့အခါမျိုး မှာ သုံးပါတယ် ။ built-in function ဖြစ်တဲ့ sorted(),map(),filter(),and reduce()\n",
    "    functions များသုံးတဲ့ အခါ တွဲသုံးပါတယ်။\n",
    "    "
   ]
  },
  {
   "cell_type": "markdown",
   "metadata": {},
   "source": [
    "built-in functions တွေကို ဘယ်လိုသုံးလည်းဆိုတာကြည်ကြရအောင် ။\n",
    "ပထမ -> 2D array list တစ်ခုကို sorted() function ကိုသုံးပြီး sort  လုပ်ကြည်ကြပါမယ် ။\n"
   ]
  },
  {
   "cell_type": "code",
   "execution_count": 1,
   "metadata": {},
   "outputs": [
    {
     "name": "stdout",
     "output_type": "stream",
     "text": [
      "[(1, 2), (15, 1), (5, -1), (10, 4)]\n",
      "[(1, 2), (5, -1), (10, 4), (15, 1)]\n"
     ]
    }
   ],
   "source": [
    "point2D  = [(1,2),(15,1),(5,-1),(10,4)]\n",
    "point2D_sorted = sorted(point2D)\n",
    "print(point2D)\n",
    "print(point2D_sorted)"
   ]
  },
  {
   "cell_type": "markdown",
   "metadata": {},
   "source": [
    "    ဒီမှာတော့ ပထမ မူရင်း  2D array list တစ်ခုကိုထုပ်ပြထားပါတယ် ။\n",
    "နောက် x-coordinate မှာ ရှိတဲ့ 1,5,10,15  ဆိုပြီး sorted လုပ်လိုက်ပါတယ် ။ y-coordinate ကတော့ 2,-1,4,1  ဆိုတာ\n",
    "ဖြစ်တဲ့အတွက် စီစဥ်မထားပါဘူး။ \n",
    "    y-coordinate ကို စီစဥ်ချင်ရင်တော့  sorted() function မှာ ဘယ်သူနဲ့ စီပါမယ် ဆိုတာပြောဖို့\n",
    "key argument တစ်ခုပေးရပါမယ် ။ ၎င်း argument သည် point2D ဆိုတဲ့ List  ထဲက Tuple ထဲမှာရှိတဲ့ y ရဲ့ index position ကို ရှာတဲ့ function တစ်ခုထပ်ရေးရပါမယ် ။"
   ]
  },
  {
   "cell_type": "code",
   "execution_count": 2,
   "metadata": {},
   "outputs": [
    {
     "name": "stdout",
     "output_type": "stream",
     "text": [
      "[(1, 2), (15, 1), (5, -1), (10, 4)]\n",
      "[(5, -1), (15, 1), (1, 2), (10, 4)]\n"
     ]
    }
   ],
   "source": [
    "point2D  = [(1,2),(15,1),(5,-1),(10,4)]\n",
    "\n",
    "def sort_by_y(x):\n",
    "    return x[1]\n",
    "\n",
    "point2D_sorted = sorted(point2D, key = sort_by_y ) # yနဲ့ စီချင်ပါတယ်လို့ပြောချင်လို့ y index \n",
    "                                                   #ကိုရှာပေးတဲ့function ကို key အဖြစ်ပေးလိုက်တာပါ\n",
    "print(point2D)\n",
    "print(point2D_sorted)"
   ]
  },
  {
   "cell_type": "markdown",
   "metadata": {},
   "source": [
    "ဒီမှာတော့ y-coordinate မှာ ရှိတဲ့ -1,1,2,4 ဆိုပြီး စီသွားတာကိုတွေရမှာပါ ။\n",
    "နောက် ရိုးရိုး function ကနေ lambda keyword ကို သုံးတာကို ရေးကြည့်ရအောင်"
   ]
  },
  {
   "cell_type": "code",
   "execution_count": 3,
   "metadata": {},
   "outputs": [
    {
     "name": "stdout",
     "output_type": "stream",
     "text": [
      "[(1, 2), (15, 1), (5, -1), (10, 4)]\n",
      "[(5, -1), (15, 1), (1, 2), (10, 4)]\n"
     ]
    }
   ],
   "source": [
    "point2D  = [(1,2),(15,1),(5,-1),(10,4)]\n",
    "point2D_sorted = sorted(point2D, key = lambda x : x[1] )\n",
    "print(point2D)\n",
    "print(point2D_sorted)"
   ]
  },
  {
   "cell_type": "markdown",
   "metadata": {},
   "source": [
    "နောက်တစ်ခါ ထပ်ပြီး point2D list ရဲ့ x နှင့် y ပေါင်းခြင်းဖြင့် sort လုပ်ကြည့်ကြရအောင်\n",
    "ဒီမှာ တော့ x ရဲ့ index 0 နဲ့ index 1 နဲ့ ပေါင်းပေးလိုက်ယုံပါပဲ"
   ]
  },
  {
   "cell_type": "code",
   "execution_count": 4,
   "metadata": {},
   "outputs": [
    {
     "name": "stdout",
     "output_type": "stream",
     "text": [
      "[(1, 2), (15, 1), (5, -1), (10, 4)]\n",
      "[(1, 2), (5, -1), (10, 4), (15, 1)]\n"
     ]
    }
   ],
   "source": [
    "point2D  = [(1,2),(15,1),(5,-1),(10,4)]\n",
    "point2D_sorted = sorted(point2D, key = lambda x : x[0] + x[1] )\n",
    "print(point2D)\n",
    "print(point2D_sorted)"
   ]
  },
  {
   "cell_type": "markdown",
   "metadata": {},
   "source": [
    "နောက်တစ်ခါ  map() function မှာ lambda keyword ကို သုံးကြည့်ရအောင် ။\n",
    "map() function ရဲ့ sentence ပုံစံကတော့ map(func,sequence)  ဖြစ်ပါတယ် ။\n",
    "map() function ကတော့ map object တစ်ခု return ပြန်ပေးမှာပါ ။\n",
    "ဒီတော့ number sequnece ဖြစ်တဲ့ number list  တစ်ခုတည်ဆောက်ပြီး ၎င်းရဲ့ element တစ်ခုခြင်း စီကို ၂ နှင့်မြောက်ပါမယ် ။\n"
   ]
  },
  {
   "cell_type": "code",
   "execution_count": 14,
   "metadata": {},
   "outputs": [
    {
     "name": "stdout",
     "output_type": "stream",
     "text": [
      "[1, 2, 3, 4, 5, 6]\n",
      "<map object at 0x7f2ecc1d1460>\n",
      "[2, 4, 6, 8, 10, 12]\n",
      "-----lambda form-----\n",
      "[1, 4, 9, 16, 25, 36]\n",
      "-----Normal form-----\n",
      "[1, 4, 9, 16, 25, 36]\n"
     ]
    }
   ],
   "source": [
    "number_list = [1,2,3,4,5,6]\n",
    "#map(func,sequence)\n",
    "\n",
    "mul_by2_number_list = map(lambda x : x * 2,number_list)\n",
    "print(number_list)\n",
    "print(mul_by2_number_list) # map object တစ်ခုရမှာ ဖြစ်လို့ မူရင်း list ကို convert ပြန်လုပ်ရပါမယ် ။\n",
    "print(list(mul_by2_number_list)) # convert to list\n",
    "\n",
    "# square of sequence\n",
    "print(\"-\"*5 + \"lambda form\" + \"-\"*5)\n",
    "sqr_number_list  =  map(lambda x : x * x , number_list)\n",
    "print(list(sqr_number_list))\n",
    "print(\"-\"*5 + \"Normal form\" + \"-\"*5)\n",
    "normal_sqr_number_list = [x*x for x in number_list ]\n",
    "print(normal_sqr_number_list)"
   ]
  },
  {
   "cell_type": "markdown",
   "metadata": {},
   "source": [
    "နောက်တစ်ခါ  filter() function မှာ lambda keyword ကို သုံးကြည့်ရအောင် ။\n",
    "filter() function ရဲ့ sentence ပုံစံကတော့ filter(func,sequence)  ဖြစ်ပါတယ် ။ filter အတွင်းက func ရဲ့ return က True ဖြစ်တဲ့ values တွေကို ပြန်ပေးမှာဖြစ်ပါမယ် ။  filter ကတော့ filter object တစ်ခု Return ပြန်ပေးမှာပါ။"
   ]
  },
  {
   "cell_type": "code",
   "execution_count": 13,
   "metadata": {},
   "outputs": [
    {
     "name": "stdout",
     "output_type": "stream",
     "text": [
      "<filter object at 0x7f2ecc1d1790>\n",
      "-----lambda form-----\n",
      "[2, 4, 6]\n",
      "-----Normal form-----\n",
      "[2, 4, 6]\n"
     ]
    }
   ],
   "source": [
    "number_list = [1,2,3,4,5,6]\n",
    "# filter(func,sequence)\n",
    "even_number_list = filter(lambda x : x%2 == 0,number_list)\n",
    "print(even_number_list)\n",
    "print(\"-\"*5 + \"lambda form\" + \"-\"*5)\n",
    "print(list(even_number_list))\n",
    "print(\"-\"*5 + \"Normal form\" + \"-\"*5)\n",
    "normal_form = [x for x in number_list if x%2 == 0]\n",
    "print(normal_form)"
   ]
  },
  {
   "cell_type": "markdown",
   "metadata": {},
   "source": [
    "နောက်တစ်ခါ  reduce() function မှာ lambda keyword ကို သုံးကြည့်ရအောင် ။\n",
    "reduce() function ရဲ့ sentence ပုံစံကတော့ reduce(func,sequence)  ဖြစ်ပါတယ် ။ reduce() function အတွင်းက func မှာ argument ၂ ခု လိုအပ်မှာဖြစ်ပါတယ် ။ "
   ]
  },
  {
   "cell_type": "code",
   "execution_count": 8,
   "metadata": {},
   "outputs": [
    {
     "name": "stdout",
     "output_type": "stream",
     "text": [
      "[1, 2, 3, 4, 5, 6]\n",
      "-----Normal form-----\n",
      "720\n",
      "-----lambda form-----\n",
      "720\n"
     ]
    }
   ],
   "source": [
    "from functools import reduce\n",
    "number_list = [1,2,3,4,5,6]\n",
    "print(number_list)\n",
    "# Normal form\n",
    "print(\"-\"*5 + \"Normal form\" + \"-\"*5)\n",
    "def product_number_list(nlist):\n",
    "    result =1\n",
    "    for i in nlist:\n",
    "        result = result*i\n",
    "    return result\n",
    "print(product_number_list(number_list))\n",
    "\n",
    "print(\"-\"*5 + \"lambda form\" + \"-\"*5)\n",
    "# reduce(func,sequence) func မှာ  arqument ၂ ခုပေးရပါမယ် ။\n",
    "prod_number_list = reduce(lambda x,y : x*y,number_list)\n",
    "print(prod_number_list)\n"
   ]
  },
  {
   "cell_type": "markdown",
   "metadata": {},
   "source": [
    "#3 Python program to multiply all values in the list using traversal\n",
    " \n",
    "def multiplyList(myList) :\n",
    "     \n",
    "    # Multiply elements one by one\n",
    "    result = 1\n",
    "    for x in myList:\n",
    "         result = result * x\n",
    "    return result\n",
    "     \n",
    "    # Driver code\n",
    "    list1 = [1, 2, 3]\n",
    "    list2 = [3, 2, 4]\n",
    "    print(multiplyList(list1))\n",
    "    print(multiplyList(list2))\n",
    "\n",
    "\n",
    "\n",
    "#3 Python3 program to multiply all values in the list using numpy.prod()\n",
    " \n",
    "    import numpy\n",
    "    list1 = [1, 2, 3]\n",
    "    list2 = [3, 2, 4]\n",
    "\n",
    "    # using numpy.prod() to get the multiplications\n",
    "    result1 = numpy.prod(list1)\n",
    "    result2 = numpy.prod(list2)\n",
    "    print(result1)\n",
    "    print(result2)\n",
    "\n",
    "\n",
    "#3 Python3 program to multiply all values in the list using lambda function and reduce()\n",
    "\n",
    "    from functools import reduce\n",
    "    list1 = [1, 2, 3]\n",
    "    list2 = [3, 2, 4]\n",
    "\n",
    "\n",
    "    result1 = reduce((lambda x, y: x * y), list1)\n",
    "    result2 = reduce((lambda x, y: x * y), list2)\n",
    "    print(result1)\n",
    "    print(result2)\n",
    "\n",
    "\n",
    "\n",
    "    # Python3 program to multiply all values in the\n",
    "    # list using math.prod\n",
    "\n",
    "    import math\n",
    "    list1 = [1, 2, 3]\n",
    "    list2 = [3, 2, 4]\n",
    "\n",
    "\n",
    "    result1 = math.prod(list1)\n",
    "    result2 = math.prod(list2)\n",
    "    print(result1)\n",
    "    print(result2)"
   ]
  },
  {
   "cell_type": "markdown",
   "metadata": {},
   "source": [
    "9.Error and Exceptions\n",
    "-----------------------\n",
    "    "
   ]
  },
  {
   "cell_type": "markdown",
   "metadata": {},
   "source": [
    "    1.SyntexError\n",
    "    2.TypeError\n",
    "    3.ImportError\n",
    "        1.MuduleNotFoundError\n",
    "    4.NameError\n",
    "    5.FileNotFoundError\n",
    "    6.ValueError\n",
    "    7.IndexError\n",
    "    8.KeyError\n",
    "    9.raise Exception('Your Exception message')\n",
    "    10.assert(condition),'Your Exception message'\n",
    "    11.try:\n",
    "            condition\n",
    "       except:\n",
    "           print('Your Message')\n",
    "           \n",
    "           \n",
    "           or\n",
    "           \n",
    "       try:\n",
    "           condition\n",
    "       except Exception as e:\n",
    "           print(e)\n",
    "           \n",
    "           \n",
    "           OR\n",
    "           \n",
    "       try: \n",
    "           statement1\n",
    "           statement2\n",
    "       except ZerodivisionError as e:\n",
    "           print(e)\n",
    "       except TypeError as e:\n",
    "           print(e)\n",
    "       else:\n",
    "          print('Your Message')\n",
    "       finally:\n",
    "          print('Your Message')\n",
    "           \n",
    "    12.ZeroDivisionError"
   ]
  },
  {
   "cell_type": "markdown",
   "metadata": {},
   "source": [
    "10.Logging\n",
    "-----------"
   ]
  },
  {
   "cell_type": "markdown",
   "metadata": {},
   "source": [
    "    five difference log levels\n",
    "    1.debug\n",
    "    2.info\n",
    "    3.warning\n",
    "    4.error\n",
    "    5.critical\n",
    "    "
   ]
  },
  {
   "cell_type": "code",
   "execution_count": null,
   "metadata": {},
   "outputs": [],
   "source": [
    "import logging\n",
    "logging.debug('This is debug message')\n",
    "logging.info('This is an info message')\n",
    "logging.warning('This is a wanning message')\n",
    "logging.error('This is an error message')\n",
    "logging.critical('This is a critical message')"
   ]
  }
 ],
 "metadata": {
  "kernelspec": {
   "display_name": "Python 3",
   "language": "python",
   "name": "python3"
  },
  "language_info": {
   "codemirror_mode": {
    "name": "ipython",
    "version": 3
   },
   "file_extension": ".py",
   "mimetype": "text/x-python",
   "name": "python",
   "nbconvert_exporter": "python",
   "pygments_lexer": "ipython3",
   "version": "3.8.10"
  }
 },
 "nbformat": 4,
 "nbformat_minor": 4
}
