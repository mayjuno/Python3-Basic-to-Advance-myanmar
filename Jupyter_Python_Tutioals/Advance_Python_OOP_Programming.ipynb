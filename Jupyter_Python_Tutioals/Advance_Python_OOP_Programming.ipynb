{
 "cells": [
  {
   "cell_type": "markdown",
   "metadata": {},
   "source": [
    "#1 OOP"
   ]
  },
  {
   "cell_type": "markdown",
   "metadata": {},
   "source": [
    "There are many useful keyboard shortcuts in Jupyter notebooks. Examples include:\n",
    "\n",
    "    Enter: enter edit mode\n",
    "\n",
    "    Shift+Enter: run cell, select below\n",
    "\n",
    "    Shift+Tab: signature autocompletion\n",
    "\n",
    "    Y: to code\n",
    "\n",
    "    M: to markdown\n",
    "\n",
    "    A/B: insert cell above/­below\n",
    "\n",
    "    X: cut selected cell\n",
    "    \n",
    "    \n",
    "    The auto-completion with Jupyter Notebook is so weak, even with hinterland extension. Thanks for the idea of deep-learning-based code auto-completion. I developed a Jupyter Notebook Extension based on TabNine which provides code auto-completion based on Deep Learning. Here's the Github link of my work: jupyter-tabnine.\n",
    "\n",
    "It's available on pypi index now. Simply issue following commands, then enjoy it:)\n",
    "\n",
    "pip3 install jupyter-tabnine\n",
    "jupyter nbextension install --py jupyter_tabnine\n",
    "jupyter nbextension enable --py jupyter_tabnine\n",
    "jupyter serverextension enable --py jupyter_tabnine\n",
    "\n",
    "\n",
    "\n",
    "\n",
    "\n",
    "I would suggest hinterland extension.\n",
    "\n",
    "In other answers I couldn't find the method for how to install it from pip, so this is how you install it.\n",
    "\n",
    "First, install jupyter contrib nbextensions by running\n",
    "\n",
    "pip install jupyter_contrib_nbextensions\n",
    "\n",
    "Next install js and css file for jupyter by running\n",
    "\n",
    "jupyter contrib nbextension install --user\n",
    "\n",
    "and at the end run,\n",
    "\n",
    "jupyter nbextension enable hinterland/hinterland\n",
    "\n",
    "The output of last command will be\n",
    "\n",
    "Enabling notebook extension hinterland/hinterland...\n",
    "      - Validating: OK\n",
    "\n"
   ]
  },
  {
   "cell_type": "code",
   "execution_count": 2,
   "metadata": {},
   "outputs": [
    {
     "name": "stdout",
     "output_type": "stream",
     "text": [
      "<class 'NoneType'>\n",
      "<class 'bool'>\n",
      "<class 'int'>\n",
      "<class 'float'>\n",
      "<class 'str'>\n",
      "<class 'list'>\n",
      "<class 'tuple'>\n",
      "<class 'dict'>\n"
     ]
    }
   ],
   "source": [
    "print(type(None))\n",
    "print(type(True))\n",
    "print(type(5))\n",
    "print(type(5.5))\n",
    "print(type('Hello'))\n",
    "print(type([]))\n",
    "print(type(()))\n",
    "print(type({}))\n"
   ]
  },
  {
   "cell_type": "markdown",
   "metadata": {},
   "source": [
    "Python က အားလုံးက objects တွေပါလို့ ပြောပါတယ် ။\n",
    "Data Type အားလုံးကို ထုတ်ကြည့်တဲ့ အခါမှာတော့ မြင်ရတဲ့ အတိုင်း Data Type အားလုံးရဲ့ ရှေ့မှာ class keyword ကိုတွေ့ရမှာဖြစ်ပါတယ် ။\n",
    "အဲ့ဒီ Data Type တွေအားလုံးမှာ လည်း method  တွေရှိနေပါတယ် ။ ဥပမာ"
   ]
  },
  {
   "cell_type": "code",
   "execution_count": 3,
   "metadata": {},
   "outputs": [
    {
     "name": "stdout",
     "output_type": "stream",
     "text": [
      "Hello\n"
     ]
    }
   ],
   "source": [
    "print('hello'.title())"
   ]
  },
  {
   "cell_type": "code",
   "execution_count": null,
   "metadata": {},
   "outputs": [],
   "source": [
    "print('hello'.find('l'))"
   ]
  },
  {
   "cell_type": "markdown",
   "metadata": {},
   "source": [
    "Data type တွေက method တွေရှိသလို Argument တွေကိုလည်းသုံးလို့ရပါတယ် ။"
   ]
  },
  {
   "cell_type": "markdown",
   "metadata": {},
   "source": [
    "ဘာကြောင့်  OOP ကို သုံးကြတာလည်း ?\n",
    "    ၁ ။ programing to make this code more manageable\n",
    "    ၁ ။ code တွေကို ပြင်ဆင်ရာ မှာ စီမံခန့်ခွဲရလွယ်အောင်လို့ပါပဲ\n",
    "\n",
    "    ဥပမာ အနေဖြင့် Amazone Delivery systemတစ်ခုကို ပြရရင်\n",
    "    Delivery Drone တစ်ခုတည်ဆောက်ထားတယ်ဆိုပါဆို့ Drone တစ်ခုမှာ ဘာတွေပါ မလဲ\n",
    "    ၁. ပန်ကာ\n",
    "    ၂. ကင်မရာ\n",
    "    ၃. ပစ္စည်းသယ်ရန် ချိတ်\n",
    "    ၄. နေရာပြတဲ့ စနစ်  ပါမယ် ။ ဒါတွေကို လုပ်ဆောင်ရမဲ့ အချက်တွေကို functions တွေရေးထားမယ် အလုပ် လုပ်ခိုင်းမယ်\n",
    "\n",
    "    နောက်ထပ် Delivery system တစ်ခုထပ်ဆောက်မယ် ဆိုပါဆို့ ။ ဒီတစ်ခါမှာတော့ Drone မဟုတ်တော့ပဲ ကုန်းပေါ်သွားတဲ့ ၊ယာဥ်ဆောက်မယ် ဘာတွေပါမလဲ\n",
    "    ၁. ချိန်းတပ်ဘီး\n",
    "    ၂. ကင်မရာ\n",
    "    ၃.ပစ္စည်းသယ်ရန် ချိတ်\n",
    "    ၄. နေရာပြတဲ့ စနစ် ပါမယ်ဆိုရင် မူလ Drone တည်ဆောက်စဥ်က ကင်မရာ/ပစ္စည်းသယ်ရန်ချိတ်/နေရာပြစနစ် တွေကို အသစ်ပြန်မရေးတော့ပဲ Exten လုပ်ပြီးသုံးနိုင်အောင်စီမံတာပါပဲ"
   ]
  },
  {
   "cell_type": "markdown",
   "metadata": {},
   "source": [
    "The most popular ways to combine words into a single string    \n",
    "    1.camelCase\n",
    "    2.PascalCase\n",
    "    3.snake_case\n",
    "    4.kebab-case"
   ]
  },
  {
   "cell_type": "code",
   "execution_count": 1,
   "metadata": {},
   "outputs": [
    {
     "name": "stdout",
     "output_type": "stream",
     "text": [
      "The Zen of Python, by Tim Peters\n",
      "\n",
      "Beautiful is better than ugly.\n",
      "Explicit is better than implicit.\n",
      "Simple is better than complex.\n",
      "Complex is better than complicated.\n",
      "Flat is better than nested.\n",
      "Sparse is better than dense.\n",
      "Readability counts.\n",
      "Special cases aren't special enough to break the rules.\n",
      "Although practicality beats purity.\n",
      "Errors should never pass silently.\n",
      "Unless explicitly silenced.\n",
      "In the face of ambiguity, refuse the temptation to guess.\n",
      "There should be one-- and preferably only one --obvious way to do it.\n",
      "Although that way may not be obvious at first unless you're Dutch.\n",
      "Now is better than never.\n",
      "Although never is often better than *right* now.\n",
      "If the implementation is hard to explain, it's a bad idea.\n",
      "If the implementation is easy to explain, it may be a good idea.\n",
      "Namespaces are one honking great idea -- let's do more of those!\n",
      "<module 'this' from '/usr/lib/python3.8/this.py'>\n"
     ]
    }
   ],
   "source": [
    "import this\n",
    "print(this)"
   ]
  },
  {
   "cell_type": "markdown",
   "metadata": {},
   "source": [
    "#1 Class"
   ]
  },
  {
   "cell_type": "code",
   "execution_count": 4,
   "metadata": {},
   "outputs": [
    {
     "data": {
      "text/html": [
       "<img src=\"class.png\" width=\"600\" height=\"600\"/>"
      ],
      "text/plain": [
       "<IPython.core.display.Image object>"
      ]
     },
     "execution_count": 4,
     "metadata": {},
     "output_type": "execute_result"
    }
   ],
   "source": [
    "from IPython.display import Image\n",
    "Image(url= \"class.png\", width=600, height=600)"
   ]
  },
  {
   "cell_type": "code",
   "execution_count": null,
   "metadata": {},
   "outputs": [],
   "source": [
    "class BigObject(): # Class\n",
    "    pass\n",
    "\n",
    "obj = BigObject() # instanciate\n",
    "obj1 = BigObject() # instanciate\n",
    "obj2 = BigObject() # instanciate\n",
    "obj3 = BigObject() # instanciate\n",
    "obj4 = BigObject() # instanciate"
   ]
  },
  {
   "cell_type": "markdown",
   "metadata": {},
   "source": [
    "Class ဆိုတာ အင်္ဂျင်နီယာတွေသုံးတဲ့ blue print  သာဖြစ်ပါတယ် ။ ပုံစံခွက်ပေါ့ \n",
    "blue print class object တစ်ခုတည်ဆောက်မယ် ။ memory ထဲက နေရာတစ်ခုမှာ သိမ်းစည်းထားမယ် \n",
    "object တစ်ခု က instanciate လုပ်လာရင်  instance မှာ Arguments တွေပါရင် ပါတဲ့ argments တွေနဲ့ သူသိမ်းထားတဲ့ blue print class object ထဲကပုံစံအတိုင်း object အသစ်တစ်ခုတည်ဆောက်ပေးလိုက်မှာ ဖြစ်ပါတယ် ။ အဲ့ object  အသစ်ကို memory ထဲကနေရာတစ်ခုမှာ ထပ်မံသိမ်းစည်းလိုက်မှာဖြစ်ပါတယ် ။"
   ]
  },
  {
   "cell_type": "code",
   "execution_count": 8,
   "metadata": {},
   "outputs": [
    {
     "name": "stdout",
     "output_type": "stream",
     "text": [
      "<__main__.PlayCharacter object at 0x7f0a6794b6d0>\n"
     ]
    }
   ],
   "source": [
    "class PlayCharacter:\n",
    "    def __init__(self, name):\n",
    "        self.name = name\n",
    "    \n",
    "    def run(self):\n",
    "        print('run')\n",
    "        \n",
    "\n",
    "player1 = PlayCharacter('Cindy')\n",
    "\n",
    "print(player1)\n",
    "    \n",
    "    "
   ]
  },
  {
   "cell_type": "code",
   "execution_count": 1,
   "metadata": {},
   "outputs": [
    {
     "name": "stdout",
     "output_type": "stream",
     "text": [
      "Cindy\n"
     ]
    }
   ],
   "source": [
    "class PlayCharacter:\n",
    "    def __init__(self, name):\n",
    "        self.name = name\n",
    "    \n",
    "    def run(self):\n",
    "        print('run')\n",
    "        \n",
    "\n",
    "player1 = PlayCharacter('Cindy')\n",
    "\n",
    "print(player1.name)"
   ]
  },
  {
   "cell_type": "markdown",
   "metadata": {},
   "source": [
    "self နဲ့ ပါတ်သတ်ပြီးတစ်ခုကြည့်ကြရအောင် \n",
    "['A', 'B', 'C'] list တစ်ခုရှီတယ်ဆိုပါဆို့ အဲ့ဒီ list က append() method ကို သုံးပြီး ပေါင်းထည့်ရင် သူကိုတိုင်ပေါင်းထည့်တာဖြစ်တဲ့အတွက် .(dot operator) ရဲ့ ဘယ်ဘက်မှာရှိတာကို self လို့ခေါ်ခြင်းဖြစ်ပါတယ် ။ဥပမာ ကြည့်ကြရအောင်  "
   ]
  },
  {
   "cell_type": "code",
   "execution_count": 16,
   "metadata": {},
   "outputs": [
    {
     "name": "stdout",
     "output_type": "stream",
     "text": [
      "['A', 'B', 'C', 'D']\n"
     ]
    }
   ],
   "source": [
    "listA = ['A', 'B', 'C']\n",
    "listA.append('D') # self.append('D')\n",
    "print(listA)\n"
   ]
  },
  {
   "cell_type": "code",
   "execution_count": 20,
   "metadata": {},
   "outputs": [
    {
     "name": "stdout",
     "output_type": "stream",
     "text": [
      "Cindy\n",
      "Tom\n",
      "21\n",
      "40\n",
      "<__main__.PlayCharacter object at 0x7f0a67c722e0>\n",
      "<__main__.PlayCharacter object at 0x7f0a67c72250>\n",
      "50\n"
     ]
    }
   ],
   "source": [
    "class PlayCharacter:\n",
    "    def __init__(self, name, age): # Constractor\n",
    "        self.name = name # instance Attributes /properties ,That is dynamicable\n",
    "        self.age = age\n",
    "    \n",
    "    def run(self): # method\n",
    "        print('run')\n",
    "        return 'done'\n",
    "        \n",
    "\n",
    "player1 = PlayCharacter('Cindy',21) # instanciate\n",
    "player2 = PlayCharacter('Tom',40)\n",
    "print(player1.name)\n",
    "print(player2.name)\n",
    "print(player1.age)\n",
    "print(player2.age)\n",
    "\n",
    "# Object are stored in Difference loacation on memory address\n",
    "print(player1)\n",
    "print(player2)\n",
    "\n",
    "player2.attack = 50\n",
    "print(player2.attack)"
   ]
  },
  {
   "cell_type": "markdown",
   "metadata": {},
   "source": [
    "Class Object Attribute တွေက Dyanmic မဟုတ်ပါဘူး static များသာဖြစ်ပါတယ် ။\n",
    "Class Object Attribute တွေကို  Class အတွင်းက method တွေမှာ အသုံးပြုနိင်ပါတယ် ။ Class Object Attribute ဖြစ်တဲ့အတွက် ရှေ့မှာတော့ self သို့ Class Name ကို ထည့်ပေးရပါမယ် ။\n",
    "Instance object ကနေပြီးတော့ Class Object Attribute  တွေကိုပြင်ဆင်ခွင့်မရှိပါဘူး ။\n",
    "instance Object Attribute  တွေကသာ Dynamic တွေဖြစ်ပါတယ် ။"
   ]
  },
  {
   "cell_type": "code",
   "execution_count": 22,
   "metadata": {},
   "outputs": [
    {
     "name": "stdout",
     "output_type": "stream",
     "text": [
      "my name is Cindy!\n",
      "my name is Cindy!\n"
     ]
    },
    {
     "data": {
      "text/plain": [
       "'done'"
      ]
     },
     "execution_count": 22,
     "metadata": {},
     "output_type": "execute_result"
    }
   ],
   "source": [
    "class PlayCharacter:\n",
    "    # Class Object Attribute(This is not dynamic, is static)\n",
    "    member_ship = True\n",
    "    def __init__(self, name, age):\n",
    "        #if (PlayCharacter.member_ship):\n",
    "        if (self.member_ship): # ဒီမှာ ပါတဲ့ self သည် Class Object ရဲ့ self ဖြစ်ပါတယ်\n",
    "            self.name = name # Instance Attributes /properties, That is dynamicable\n",
    "            self.age = age\n",
    "    \n",
    "    def shout(self): # method\n",
    "        print(f'my name is {self.name}!') # ဒီမှာ ရှိသော self သည် instance  ရဲ့ self ဖြစ်ပါတယ် ။\n",
    "        print(f'my name is {player1.name}!') # ဒီမှာ ရှိသော self သည် instance  ရဲ့ self ဖြစ်ပါတယ် ။\n",
    "        return 'done'\n",
    "        \n",
    "\n",
    "player1 = PlayCharacter('Cindy',21) # instanciate\n",
    "player2 = PlayCharacter('Tom',40)\n",
    "player1.shout()"
   ]
  },
  {
   "cell_type": "code",
   "execution_count": 2,
   "metadata": {},
   "outputs": [
    {
     "ename": "AttributeError",
     "evalue": "'PlayCharacter' object has no attribute 'name'",
     "output_type": "error",
     "traceback": [
      "\u001b[0;31m---------------------------------------------------------------------------\u001b[0m",
      "\u001b[0;31mAttributeError\u001b[0m                            Traceback (most recent call last)",
      "\u001b[0;32m<ipython-input-2-eb78c28b6587>\u001b[0m in \u001b[0;36m<module>\u001b[0;34m\u001b[0m\n\u001b[1;32m     13\u001b[0m \u001b[0;34m\u001b[0m\u001b[0m\n\u001b[1;32m     14\u001b[0m \u001b[0mplayer1\u001b[0m \u001b[0;34m=\u001b[0m \u001b[0mPlayCharacter\u001b[0m\u001b[0;34m(\u001b[0m\u001b[0;34m'Cindy'\u001b[0m\u001b[0;34m,\u001b[0m\u001b[0;36m10\u001b[0m\u001b[0;34m)\u001b[0m \u001b[0;31m# instance obj ရဲ့ age argument ကို 18 အောက်ငယ်ထားပါတယ် ။\u001b[0m\u001b[0;34m\u001b[0m\u001b[0;34m\u001b[0m\u001b[0m\n\u001b[0;32m---> 15\u001b[0;31m \u001b[0mplayer1\u001b[0m\u001b[0;34m.\u001b[0m\u001b[0mshout\u001b[0m\u001b[0;34m(\u001b[0m\u001b[0;34m)\u001b[0m\u001b[0;34m\u001b[0m\u001b[0;34m\u001b[0m\u001b[0m\n\u001b[0m",
      "\u001b[0;32m<ipython-input-2-eb78c28b6587>\u001b[0m in \u001b[0;36mshout\u001b[0;34m(self)\u001b[0m\n\u001b[1;32m      7\u001b[0m \u001b[0;34m\u001b[0m\u001b[0m\n\u001b[1;32m      8\u001b[0m     \u001b[0;32mdef\u001b[0m \u001b[0mshout\u001b[0m\u001b[0;34m(\u001b[0m\u001b[0mself\u001b[0m\u001b[0;34m)\u001b[0m\u001b[0;34m:\u001b[0m \u001b[0;31m# method\u001b[0m\u001b[0;34m\u001b[0m\u001b[0;34m\u001b[0m\u001b[0m\n\u001b[0;32m----> 9\u001b[0;31m         \u001b[0mprint\u001b[0m\u001b[0;34m(\u001b[0m\u001b[0;34mf'my name is {self.name}!'\u001b[0m\u001b[0;34m)\u001b[0m \u001b[0;31m# ဒီမှာ instance attribute name က 18 အောက်ငယ်နေလို့\u001b[0m\u001b[0;34m\u001b[0m\u001b[0;34m\u001b[0m\u001b[0m\n\u001b[0m\u001b[1;32m     10\u001b[0m         \u001b[0;32mreturn\u001b[0m \u001b[0;34m'done'\u001b[0m                     \u001b[0;31m#atteibute ပေးမလုပ်တဲ့အတွက် no attribute error ပြမှာပါ ။\u001b[0m\u001b[0;34m\u001b[0m\u001b[0;34m\u001b[0m\u001b[0m\n\u001b[1;32m     11\u001b[0m \u001b[0;34m\u001b[0m\u001b[0m\n",
      "\u001b[0;31mAttributeError\u001b[0m: 'PlayCharacter' object has no attribute 'name'"
     ]
    }
   ],
   "source": [
    "class PlayCharacter:\n",
    "    def __init__(self, name, age):\n",
    "\n",
    "        if age > 18:  # instance object ရဲ့ age attribute က 18 အောက်ငယ်ရင်  instanciate ပေးမလုပ်ပါဘူး ။\n",
    "            self.name = name # Attributes /properties is dynamicable\n",
    "            self.age = age\n",
    "    \n",
    "    def shout(self): # method\n",
    "        print(f'my name is {self.name}!') # ဒီမှာ instance attribute name က 18 အောက်ငယ်နေလို့ \n",
    "        return 'done'                     #atteibute ပေးမလုပ်တဲ့အတွက် no attribute error ပြမှာပါ ။ \n",
    "        \n",
    "        \n",
    "\n",
    "player1 = PlayCharacter('Cindy',10) # instance obj ရဲ့ age argument ကို 18 အောက်ငယ်ထားပါတယ် ။\n",
    "player1.shout()"
   ]
  },
  {
   "cell_type": "markdown",
   "metadata": {},
   "source": [
    "Decoractor သုံးပြီး  class method တွေကို တည်ဆောက်လို့ရပါတယ် ။ instanciate object မရှိလည်း class name ကိုတိုက်ရိုက်ခေါ်သုံးလို့ရပါတယ် ။"
   ]
  },
  {
   "cell_type": "code",
   "execution_count": 1,
   "metadata": {},
   "outputs": [
    {
     "name": "stdout",
     "output_type": "stream",
     "text": [
      "7\n",
      "9\n"
     ]
    }
   ],
   "source": [
    "class PlayCharacter:\n",
    "    def __init__(self, name, age):\n",
    "        self.name = name # Attributes /properties is dynamicable\n",
    "        self.age = age\n",
    "        \n",
    "    def shout(self): # method\n",
    "        print(f'my name is {self.name}!')\n",
    "        return 'done'                     \n",
    "        \n",
    "    @classmethod\n",
    "    def adding_things(cls, num1, num2):\n",
    "        return num1 + num2\n",
    "    \n",
    "player1 = PlayCharacter('Cindy',10) \n",
    "print(player1.adding_things(2,5))\n",
    "print(PlayCharacter.adding_things(2,7))\n"
   ]
  },
  {
   "cell_type": "code",
   "execution_count": 1,
   "metadata": {},
   "outputs": [
    {
     "name": "stdout",
     "output_type": "stream",
     "text": [
      "<__main__.PlayCharacter object at 0x7f92443c62e0>\n",
      "22\n"
     ]
    }
   ],
   "source": [
    "class PlayCharacter:\n",
    "    def __init__(self, name, age):\n",
    "        self.name = name # Attributes /properties is dynamicable\n",
    "        self.age = age\n",
    "        \n",
    "    def shout(self): # method\n",
    "        print(f'my name is {self.name}!')\n",
    "        return 'done'                     \n",
    "        \n",
    "    @classmethod\n",
    "    def adding_things(cls, num1, num2):\n",
    "        return cls('Tomy',num1 + num2) # decoractor သုံးပြီး age attribute ကို argument ၂ခုနဲ့ပေါင်းပြီးပြင်လိုက်တာပါ ။\n",
    "    \n",
    "player1 = PlayCharacter('Cindy',20) \n",
    "print(player1.adding_things(2,5))\n",
    "player2 = PlayCharacter.adding_things(19,3) # Decoractor သုံးပြီး \n",
    "print(player2.age)\n"
   ]
  },
  {
   "cell_type": "code",
   "execution_count": null,
   "metadata": {},
   "outputs": [],
   "source": [
    "class PlayCharacter:\n",
    "    def __init__(self, name, age):\n",
    "        self.name = name # Attributes /properties is dynamicable\n",
    "        self.age = age\n",
    "        \n",
    "    def shout(self): # method\n",
    "        print(f'my name is {self.name}!')\n",
    "        return 'done'                     \n",
    "        \n",
    "    @classmethod\n",
    "    def adding_things(cls, num1, num2):\n",
    "        return cls('Tomy',num1 + num2) \n",
    "    \n",
    "    @staticmethod # staticmethod က cls parameter ပါစရာမလိုဘူး ။Class attribut နဲ့ ဂရုဆိုက်စရာမလိုဘူး\n",
    "    def adding_things2(num1, num2):\n",
    "        return num1 + num2 \n",
    "\n",
    "player1 = PlayCharacter('Cindy',20) \n",
    "print(player1.adding_things(2,5))\n",
    "player2 = PlayCharacter.adding_things(19,3) # Decoractor သုံးပြီး \n",
    "print(player2.age)\n"
   ]
  },
  {
   "cell_type": "markdown",
   "metadata": {},
   "source": [
    "1# Class Structure "
   ]
  },
  {
   "cell_type": "code",
   "execution_count": null,
   "metadata": {},
   "outputs": [],
   "source": [
    "class NameOfClass():\n",
    "    class_attribute = 'value'\n",
    "    def __init__(self, parameter1, parameter2): # Constructor\n",
    "        self.param1 = parameter1\n",
    "        self.param2 = parameter2\n",
    "        \n",
    "    def method(self):\n",
    "        #code\n",
    "        \n",
    "    @classmethod\n",
    "    def cls_method(cls, parameter1, parameter2):\n",
    "        # code\n",
    "    \n",
    "    @staticmethod\n",
    "    def stc_method(parameter1, parameter2):\n",
    "        #code\n",
    "    \n",
    "obj = NameOfClass(argument1, argument2) # instancia"
   ]
  },
  {
   "cell_type": "markdown",
   "metadata": {},
   "source": [
    "#1 OOP paradigm\n",
    "    This is the ideo of four pillars of oop the four things\n",
    "    1.Encapsulation\n",
    "    2.Abstraction\n",
    "    3.Inheritance\n",
    "    4.Polymophism"
   ]
  },
  {
   "cell_type": "markdown",
   "metadata": {},
   "source": [
    "#2 1.Encapsulation \n",
    "        Ensapsulation is binding of data and functions that manipulate that data and we encapsulate into one big object\n",
    "        so that we keep evering thing in this box user or code or ather machines  can interact with and this data and \n",
    "        functions are what we call attributes and method .\n",
    "        Encapsulationဆိုတာ  အချက်အလက် data တွေနဲ့ လုပ်ဆောင်ချက် functions/Action တွေကို ပေါင်းစပ် တွက်ချက်ပြီး ကြီးမားတဲ့ object  တစ်ခုတည်ဆောက်ပြီး သေတ္တာ တစ်ခြအတွင်းမှာ သိမ်းစည်းထားတာပါပဲ\n",
    "        user တွေ ဒါမှ မဟုတ် အခြား ကုတ်တွေ နဲ့ အခြား ကွန်ပျူတာစက်တွေကပါ အပြန်အလှန် အသုံးပြုနိုင်အောင်စီမံထားတာပါ ။ data နဲ့ functions တွေကိုတော့ Attributes နဲ့ Method လို့ခေါ်ပါတယ် ။\n",
    "        \n",
    "        method/Action တွေမပါပဲ Attributes တွေပဲ ရှိနေအဲ့ Class Object တစ်ခုဟာ  Dictionary တစ်ခုလိုပါပဲ ။ ဥပမာ ကြည့်ရအောင်\n",
    "        \n",
    "        Object တစ်ခုဆိုတာ က ပတ်ဝန်းကျင်မှာ အမှန်တကယ်ရှိနေတာကိုတည်ဆောက်ထားတာကိုခေါ်တာပါ ။\n",
    "        ကား object ဆိုပါဆို့ \n",
    "        \n",
    "        သူမှာ Data / Attributes တွေဖြစ်တဲ့\n",
    "        wheels, gear,milelit ,color ,size ,doors,seats,engine power စတာတွေပါသလို\n",
    "        \n",
    "        functions / Actions /Attributesတွေဖြစ်တဲ့\n",
    "        forword, backword,move,stop,speed စတာတွေပါ ပါမယ် ။\n",
    "        \n",
    "        data/Attributes တွေနဲ့ functions/method တွေပေါင်းစပ်ပြီး အလုပ်လုပ်မယ် ဒါကိုဆိုလိုတာဖြစ်ပါတယ် ။"
   ]
  },
  {
   "cell_type": "code",
   "execution_count": 10,
   "metadata": {},
   "outputs": [
    {
     "name": "stdout",
     "output_type": "stream",
     "text": [
      "John\n",
      "19\n",
      "John\n",
      "19\n"
     ]
    }
   ],
   "source": [
    "class PlayerCharacter():\n",
    "    def __init__(self, name , age):\n",
    "        self.name = name\n",
    "        self.age = age\n",
    "        \n",
    "player1=PlayerCharacter('John',19)\n",
    "print(player1.name)\n",
    "print(player1.age)\n",
    "#Dictionary Structure\n",
    "player2 = {'name' : 'John', 'age' : 19}\n",
    "print(player2['name'])\n",
    "print(player2['age'])"
   ]
  },
  {
   "cell_type": "markdown",
   "metadata": {},
   "source": [
    "အပေါ်မှာပါတဲ့ data/attributes တွေကို functions/action/method တွေနဲ့ ပေါင်းလိုက်ရင်တော့ အသုံးပြုနိုင်တဲ့ class Object တစ်ခုရရှိမှာဖြစ်ပါတယ် ။"
   ]
  },
  {
   "cell_type": "code",
   "execution_count": 1,
   "metadata": {},
   "outputs": [
    {
     "name": "stdout",
     "output_type": "stream",
     "text": [
      "My name is Jhon. I am 19 years old.\n"
     ]
    }
   ],
   "source": [
    "class PlayerCharacter():\n",
    "    def __init__(self,name, age):\n",
    "        self.name = name\n",
    "        self.age = age\n",
    "        \n",
    "    def run(self):\n",
    "        pass\n",
    "    def speak(self):\n",
    "        print(f'My name is {self.name}. I am {self.age} years old.')\n",
    "player1 = PlayerCharacter('Jhon', 19)\n",
    "player1.speak()"
   ]
  },
  {
   "cell_type": "markdown",
   "metadata": {},
   "source": [
    "#2 Abstraction\n",
    "    Abstraction means hiding of information or abstraction away information and giving access to only what is necessary \n",
    "    so whatever user or programmer or the other machines is intersetd in that is the only thing we give access to everything\n",
    "    else we kind of the hide it in a blanket underneath the hood because our users don't have to warry about it .\n",
    "    \n",
    "    Abstraction ဆိုတာ user, programmer နှင့် အခြားစက်တွေကို သိရန်လိုအပ်တဲ့ အပိုင်းကို ပေးသိပြီးတော့ ကျန်မလို အပ်တာတွေကို ပေးမသိစေပဲ ဖုံးအုပ်ထားတာဖြစ်ပါတယ် ။\n",
    "    user,programmer နဲ့ အခြားစက်တွေကလည်း Class အတွင်းက  method တွေရဲ့ code  တွေကိုသိစရာမလိုပါဘူး\n",
    "    ဥပမာ ပြရရင် \n",
    "    tupel တစ်ခုအတွင်းမှာ ရှိတဲ့ item တစ်ခုရဲ့ ရေတွက်ချင်ရင် count() method ကို သုံးနိုင်ပါတယ် ဒါပေမဲ့ count() method ဘယ်လိုလုပ်သွားတာသိစရာမလိုအပ်ပါဘူး ။\n",
    "    tupel တစ်ခုအတွင်းမှာ ရှိတဲ့ items တွေကို ရေတွက်ချင်ရင် len() method ကို သုံးနိုင်ပါတယ် ဒါပေမဲ့ len() method ဘယ်လိုလုပ်သွားတာသိစရာမလိုအပ်ပါဘူး ။\n",
    "    "
   ]
  },
  {
   "cell_type": "code",
   "execution_count": 7,
   "metadata": {},
   "outputs": [
    {
     "name": "stdout",
     "output_type": "stream",
     "text": [
      "3\n",
      "6\n"
     ]
    }
   ],
   "source": [
    "print((1,2,3,1,2,1).count(1))\n",
    "print(len((1,2,3,1,2,1)))"
   ]
  },
  {
   "cell_type": "code",
   "execution_count": 8,
   "metadata": {},
   "outputs": [
    {
     "name": "stdout",
     "output_type": "stream",
     "text": [
      "My name is Jhon. I am 19 years old.\n",
      "Smit\n"
     ]
    }
   ],
   "source": [
    "# Let Me Private\n",
    "# _forwordSingleUnder\n",
    "# This is not really private this is weak private\n",
    "class PlayerCharacter():\n",
    "    def __init__(self,name, age):\n",
    "        self._name = name\n",
    "        self._age = age\n",
    "        \n",
    "    def run(self):\n",
    "        pass\n",
    "    def speak(self):\n",
    "        print(f'My name is {self._name}. I am {self._age} years old.')\n",
    "player1 = PlayerCharacter('Jhon', 19)\n",
    "player1.speak()\n",
    "player2 = PlayerCharacter('William', 20)\n",
    "player2.name = 'Smit'\n",
    "print(player2.name)"
   ]
  },
  {
   "cell_type": "markdown",
   "metadata": {},
   "source": [
    "_ ရှေ့က underscore တစ်ခုတည်းသည် private ဆိုသော်လည်း weak private ဖြစ်သောကြောင့် ပြင်လို့ရနိုင်ပါသည် ။\n",
    "__ ရှေ့မှာ Double Underscore (__Dunder__) များသည် Strong private  များဖြစ်ပြီး Pythonရဲ့ Default method များသာဖြစ်သောကြောင့် Dunder method \n",
    "ဖြင့်ရေးသား ခြင်းသည် Python Default  method များကို over write လုပ်သွားနိုင်ပါသဖြင့် ပြင်ဆင်အသုံးပြုခြင်းမလုပ်သင့်ပါ ။"
   ]
  },
  {
   "cell_type": "markdown",
   "metadata": {},
   "source": [
    "#2 Inheritance\n",
    "    Inheritance allows new objects to take on the properties of existing objects so you can inherit classes .\n",
    "    Inheritance ဆိုတာ အမွေဆက်ခံခြင်းလို့ဆိုပါတယ် ။ new object တစ်ခုက ရှိပြီးသား object class တစ်ခုရဲ့ properties တွေကို အမွေဆက်ခံအသုံးပြုနိုင်ပါတယ် ။\n",
    "        1). Single inheritance.\n",
    "        2). Multiple inheritances.\n",
    "        3). Multilevel inheritance.\n",
    "        4). Hierarchical inheritance.\n",
    "        5). Hybrid inheritance.\n",
    "            https://pythonlobby.com/inheritance-and-types-of-inheritance-in-python-programming/\n",
    "            MRO -Method Resolution Order ကို ကရုစိုက်အသုံးပြုရမှာ ဖြစ်ပါတယ် ။\n",
    "            Dunder method များ(__method__)ကိုလေ့လာရမည် ။"
   ]
  },
  {
   "cell_type": "code",
   "execution_count": 10,
   "metadata": {},
   "outputs": [
    {
     "name": "stdout",
     "output_type": "stream",
     "text": [
      "Driving Now\n",
      "Freezing Now\n",
      "Drivinf at 50 k/h speed \n",
      "Freezing at -30 F degree\n",
      "None\n",
      "Drivinf at 50 k/h speed \n",
      "Freezing at -30 F degree\n",
      "None\n"
     ]
    }
   ],
   "source": [
    "class Vehical:\n",
    "    speed = 0\n",
    "    def driving(self,speed):\n",
    "        self.speed = speed\n",
    "        print('Driving Now')\n",
    "        \n",
    "    def display(self):\n",
    "        print(f'Drivinf at {self.speed} k/h speed ')\n",
    "\n",
    "class Freezer:\n",
    "    temp = 0\n",
    "    def freezing(self, temp):\n",
    "        self.temp = temp\n",
    "        print('Freezing Now')\n",
    "        \n",
    "    def display(self):\n",
    "        print(f'Freezing at {self.temp} F degree')\n",
    "\n",
    "    \n",
    "class FreezerTruck(Freezer ,Vehical): \n",
    "    def display(self):\n",
    "        Vehical.display(self)\n",
    "        Freezer.display(self)\n",
    "\n",
    "ft = FreezerTruck()\n",
    "ft.driving(50)\n",
    "ft.freezing(-30)\n",
    "print(ft.display())"
   ]
  },
  {
   "cell_type": "markdown",
   "metadata": {},
   "source": [
    "users\n",
    "    Heros\n",
    "    - Wizards\n",
    "    - Archers\n",
    "    - Ogres\n",
    "    \n",
    "    chacking isinstance\n",
    "    isinstance(instance,Class)\n",
    "    isinstance(instance,object)"
   ]
  },
  {
   "cell_type": "code",
   "execution_count": 10,
   "metadata": {},
   "outputs": [
    {
     "name": "stdout",
     "output_type": "stream",
     "text": [
      "robin@gmail.com\n"
     ]
    }
   ],
   "source": [
    "class User():\n",
    "    def __init__(self, email):\n",
    "        self.email = email\n",
    "    def login(self):\n",
    "        print(f'{self.name} is Logging in ')\n",
    "        \n",
    "class Wizards(User):\n",
    "    def __init__(self, name, power, email):\n",
    "        #User.__init__(self,email)\n",
    "        super().__init__(email) # super ကို သုံးရင် self  ထည့်စရာမလိုတော့ဘူး\n",
    "        self.name = name\n",
    "        self.power = power\n",
    "        \n",
    "    def attack(self):\n",
    "        print(f'attacking with power of {self.power}')\n",
    "        \n",
    "class Archers(User):\n",
    "    def __init__(self, name, num_arrows, email):\n",
    "        #User.__init__(self,email)\n",
    "        super().__init__(email) # super ကို သုံးရင် self  ထည့်စရာမလိုတော့ဘူး\n",
    "        self.name = name\n",
    "        self.num_arrows = num_arrows\n",
    "        \n",
    "    def attack(self):\n",
    "        print(f'attacking with arrow : arrows left-{self.num_arrows}')\n",
    "        \n",
    "wizard1 = Wizards('Merlin', 50, 'marline@gmail.com')\n",
    "archer1 = Archers('Robin', 10, 'robin@gmail.com')\n",
    "print(archer1.email)"
   ]
  },
  {
   "cell_type": "markdown",
   "metadata": {},
   "source": [
    "#2 Polymophism\n",
    "    Poly means many and morphism means form ,Polymophism means from so many forms "
   ]
  },
  {
   "cell_type": "code",
   "execution_count": 3,
   "metadata": {},
   "outputs": [
    {
     "name": "stdout",
     "output_type": "stream",
     "text": [
      "attacking with power of 50\n",
      "attacking with arrow : arrows left-10\n",
      "--------------------\n",
      "attacking with power of 50\n",
      "attacking with arrow : arrows left-10\n"
     ]
    }
   ],
   "source": [
    "class User():\n",
    "    def login(self):\n",
    "        print(f'{self.name} is Logging in ')\n",
    "        \n",
    "class Wizards(User):\n",
    "    def __init__(self, name, power):\n",
    "        self.name = name\n",
    "        self.power = power\n",
    "        \n",
    "    def attack(self):\n",
    "        print(f'attacking with power of {self.power}')\n",
    "        \n",
    "class Archers(User):\n",
    "    def __init__(self, name, num_arrows):\n",
    "        self.name = name\n",
    "        self.num_arrows = num_arrows\n",
    "        \n",
    "    def attack(self):\n",
    "        print(f'attacking with arrow : arrows left-{self.num_arrows}')\n",
    "        \n",
    "wizard1 = Wizards('Merlin', 50)\n",
    "archer1 = Archers('Robin', 10)\n",
    "\n",
    "def player_attack(char):\n",
    "    char.attack()\n",
    "    \n",
    "player_attack(wizard1)\n",
    "player_attack(archer1)\n",
    "print('-'*20)\n",
    "# By For Loop\n",
    "for char in [wizard1, archer1]:\n",
    "    char.attack()"
   ]
  },
  {
   "cell_type": "markdown",
   "metadata": {},
   "source": [
    "#3 Introspection\n",
    "   Introspection is computer programming means the ability to determine the type of an object at runtime.\n",
    "   what is runtime that is when the code is running determine the type of an and it's actually one of the python .\n",
    "   "
   ]
  },
  {
   "cell_type": "code",
   "execution_count": 41,
   "metadata": {},
   "outputs": [
    {
     "name": "stdout",
     "output_type": "stream",
     "text": [
      "Merlin is Logging in with marline@gmail.com\n",
      "____________________\n",
      "attacking with power of 50\n",
      "____________________\n",
      "Merlin Damage is so little.\n",
      "____________________\n",
      "Robin is Logging in with robin@gmail.com\n",
      "____________________\n",
      "attacking with arrow : arrows left-10\n",
      "____________________\n",
      "10 remaining.\n",
      "____________________\n",
      "John is Logging in with john@gmail.com\n",
      "____________________\n",
      "John run really fast.\n",
      "____________________\n",
      "John Damage is so little.\n",
      "____________________\n",
      "100 remaining.\n",
      "____________________\n",
      "attacking with arrow : arrows left-100\n",
      "attacking with power of 50\n",
      "____________________\n"
     ]
    }
   ],
   "source": [
    "class User():\n",
    "    def __init__(self, email):\n",
    "        self.email = email\n",
    "    def login(self):\n",
    "        print(f'{self.name} is Logging in with {self.email}')\n",
    "        return '_'*20\n",
    "class Wizards(User):\n",
    "    def __init__(self, name, email, power):\n",
    "        User.__init__(self,email)\n",
    "        #super().__init__(email) # super ကို သုံးရင် self  ထည့်စရာမလိုတော့ဘူး\n",
    "        self.name = name\n",
    "        self.power = power\n",
    "        \n",
    "    def attack(self):\n",
    "        print(f'attacking with power of {self.power}')\n",
    "        return '_'*20\n",
    "    \n",
    "    def damage(self):\n",
    "        print(f'{self.name} Damage is so little.')\n",
    "        return '_'*20\n",
    "    \n",
    "class Archers(User):\n",
    "    def __init__(self, name, email, num_arrows):\n",
    "        User.__init__(self,email)\n",
    "        #super().__init__(email) # super ကို သုံးရင် self  ထည့်စရာမလိုတော့ဘူး\n",
    "        self.name = name\n",
    "        self.num_arrows = num_arrows\n",
    "        \n",
    "    def attack(self):\n",
    "        print(f'attacking with arrow : arrows left-{self.num_arrows}')\n",
    "        return '_'*20\n",
    "    \n",
    "    def check_arrows(self):\n",
    "        print(f'{self.num_arrows} remaining.')\n",
    "        return '_'*20\n",
    "    \n",
    "    def run(self):\n",
    "        print(f'{self.name} run really fast.')\n",
    "        return '_'*20\n",
    "    \n",
    "class HybridBorg(Wizards, Archers):\n",
    "    def __init__(self,name, email, power, num_arrows):           \n",
    "        Archers.__init__(self, name, email, num_arrows)\n",
    "        Wizards.__init__(self, name, email, power)\n",
    "    def attack(self):\n",
    "        Archers.attack(self)\n",
    "        Wizards.attack(self)\n",
    "        return '_'*20 \n",
    "    \n",
    "wizard1 = Wizards('Merlin','marline@gmail.com', 50)\n",
    "archer1 = Archers('Robin', 'robin@gmail.com', 10)\n",
    "hb1 = HybridBorg('John', 'john@gmail.com', 50,100)\n",
    "\n",
    "print(wizard1.login())\n",
    "print(wizard1.attack())\n",
    "print(wizard1.damage())\n",
    "\n",
    "print(archer1.login())\n",
    "print(archer1.attack())\n",
    "print(archer1.check_arrows())\n",
    "\n",
    "print(hb1.login())\n",
    "print(hb1.run())\n",
    "print(hb1.damage())\n",
    "print(hb1.check_arrows())\n",
    "print(hb1.attack())\n",
    "#print(User.login())"
   ]
  },
  {
   "cell_type": "code",
   "execution_count": 42,
   "metadata": {},
   "outputs": [
    {
     "name": "stdout",
     "output_type": "stream",
     "text": [
      "1\n",
      "[<class '__main__.D'>, <class '__main__.B'>, <class '__main__.C'>, <class '__main__.A'>, <class 'object'>]\n"
     ]
    }
   ],
   "source": [
    "class A():\n",
    "    num = 10\n",
    "\n",
    "\n",
    "\n",
    "class B(A):\n",
    "    pass\n",
    "\n",
    "class C(A):\n",
    "    num = 1\n",
    "    \n",
    "class D(B,C):\n",
    "    pass\n",
    "\n",
    "print(D.num)\n",
    "print(D.mro())"
   ]
  },
  {
   "cell_type": "code",
   "execution_count": 47,
   "metadata": {},
   "outputs": [
    {
     "data": {
      "text/html": [
       "<img src=\"mro_depth_first_search_alg.png\" width=\"400\" height=\"500\"/>"
      ],
      "text/plain": [
       "<IPython.core.display.Image object>"
      ]
     },
     "execution_count": 47,
     "metadata": {},
     "output_type": "execute_result"
    }
   ],
   "source": [
    "from IPython.display import Image\n",
    "Image(url= \"mro_depth_first_search_alg.png\", width=400, height=500)"
   ]
  },
  {
   "cell_type": "code",
   "execution_count": 44,
   "metadata": {},
   "outputs": [
    {
     "name": "stdout",
     "output_type": "stream",
     "text": [
      "(<class '__main__.M'>, <class '__main__.B'>, <class '__main__.A'>, <class '__main__.X'>, <class '__main__.Y'>, <class '__main__.Z'>, <class 'object'>)\n"
     ]
    }
   ],
   "source": [
    "class X:\n",
    "    pass\n",
    "class Y:\n",
    "    pass\n",
    "class Z:\n",
    "    pass\n",
    "class A(X,Y):\n",
    "    pass\n",
    "class B(Y,Z):\n",
    "    pass\n",
    "class M(B,A,Z):\n",
    "    pass\n",
    "print(M.__mro__) #Depth First Search algorithms"
   ]
  },
  {
   "cell_type": "code",
   "execution_count": 2,
   "metadata": {},
   "outputs": [
    {
     "name": "stdin",
     "output_type": "stream",
     "text": [
      "What is your name? Kyaw Myo Swe\n"
     ]
    },
    {
     "name": "stdout",
     "output_type": "stream",
     "text": [
      "hello Kyaw Myo Swe !\n"
     ]
    }
   ],
   "source": [
    "print(\"hello \" + input(\"What is your name?\") + \" !\")"
   ]
  },
  {
   "cell_type": "code",
   "execution_count": 9,
   "metadata": {},
   "outputs": [
    {
     "name": "stdout",
     "output_type": "stream",
     "text": [
      "5\n",
      "5\n",
      "7\n",
      "7\n",
      "7\n",
      "7\n",
      "9\n",
      "9\n",
      "9\n",
      "9\n",
      "9\n",
      "9\n"
     ]
    }
   ],
   "source": [
    "for i in range(11):\n",
    "    if i % 2 != 0 :\n",
    "        for x in range(2,i-1):\n",
    "            if i/x != 0 :\n",
    "                print(i)\n",
    "    \n",
    "            \n",
    "    "
   ]
  },
  {
   "cell_type": "code",
   "execution_count": null,
   "metadata": {},
   "outputs": [],
   "source": []
  }
 ],
 "metadata": {
  "kernelspec": {
   "display_name": "Python 3 (ipykernel)",
   "language": "python",
   "name": "python3"
  },
  "language_info": {
   "codemirror_mode": {
    "name": "ipython",
    "version": 3
   },
   "file_extension": ".py",
   "mimetype": "text/x-python",
   "name": "python",
   "nbconvert_exporter": "python",
   "pygments_lexer": "ipython3",
   "version": "3.8.8"
  }
 },
 "nbformat": 4,
 "nbformat_minor": 4
}
