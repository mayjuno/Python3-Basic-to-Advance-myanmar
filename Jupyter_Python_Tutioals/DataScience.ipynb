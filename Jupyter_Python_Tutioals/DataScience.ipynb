{
 "cells": [
  {
   "cell_type": "code",
   "execution_count": 3,
   "id": "83e2f9db-20e1-435e-b813-b2761cf252b5",
   "metadata": {},
   "outputs": [],
   "source": [
    "x = 3\n",
    "string = 'This is a string'"
   ]
  },
  {
   "cell_type": "markdown",
   "id": "be8e799b-f2d7-4d46-8d79-0e80c23bb45d",
   "metadata": {},
   "source": [
    "# Useful function"
   ]
  },
  {
   "cell_type": "code",
   "execution_count": 13,
   "id": "dc8e4984-494c-4f8a-a03f-1a9037c5b3f9",
   "metadata": {},
   "outputs": [
    {
     "name": "stdout",
     "output_type": "stream",
     "text": [
      "Variable   Type     Data/Info\n",
      "-----------------------------\n",
      "string     str      This is a string\n",
      "t1         tuple    n=2\n",
      "x          int      3\n"
     ]
    }
   ],
   "source": [
    "%whos"
   ]
  },
  {
   "cell_type": "code",
   "execution_count": 14,
   "id": "8f82325c-4b9c-4cb8-895c-16305a278645",
   "metadata": {},
   "outputs": [
    {
     "name": "stdout",
     "output_type": "stream",
     "text": [
      "32/ 10 result is 3\n",
      "32%10 result is 2\n"
     ]
    }
   ],
   "source": [
    "t1 = divmod(32,10)\n",
    "print(f'32/ 10 result is {t1[0]}')\n",
    "print(f'32%10 result is {t1[1]}')"
   ]
  },
  {
   "cell_type": "code",
   "execution_count": 11,
   "id": "6473368e-c66c-496b-89e9-850eb02244c4",
   "metadata": {},
   "outputs": [
    {
     "name": "stdout",
     "output_type": "stream",
     "text": [
      "True\n",
      "True\n",
      "True\n",
      "True\n"
     ]
    }
   ],
   "source": [
    "print(isinstance(1,int))\n",
    "print(isinstance('abc',str))\n",
    "print(isinstance(1.0,float))\n",
    "print(isinstance(1.0,(int,float)))"
   ]
  },
  {
   "cell_type": "code",
   "execution_count": 17,
   "id": "55a515c5-2f66-45cc-8448-763b2e982ff8",
   "metadata": {},
   "outputs": [
    {
     "name": "stdout",
     "output_type": "stream",
     "text": [
      "8\n",
      "8\n"
     ]
    }
   ],
   "source": [
    "print(pow(2,3))\n",
    "print(2**3)\n"
   ]
  },
  {
   "cell_type": "code",
   "execution_count": 19,
   "id": "e8820e7e-439f-4185-9c38-d0a66b937c32",
   "metadata": {},
   "outputs": [
    {
     "name": "stdout",
     "output_type": "stream",
     "text": [
      "2\n",
      "2\n"
     ]
    }
   ],
   "source": [
    "print(2**3%3) # 2 power 3 and mod 3\n",
    "print(pow(2,3,3))"
   ]
  },
  {
   "cell_type": "code",
   "execution_count": 20,
   "id": "cd83e586-61e3-4916-876c-cb5a7617611d",
   "metadata": {},
   "outputs": [
    {
     "data": {
      "text/plain": [
       "\u001b[0;31mSignature:\u001b[0m \u001b[0mpow\u001b[0m\u001b[0;34m(\u001b[0m\u001b[0mbase\u001b[0m\u001b[0;34m,\u001b[0m \u001b[0mexp\u001b[0m\u001b[0;34m,\u001b[0m \u001b[0mmod\u001b[0m\u001b[0;34m=\u001b[0m\u001b[0;32mNone\u001b[0m\u001b[0;34m)\u001b[0m\u001b[0;34m\u001b[0m\u001b[0;34m\u001b[0m\u001b[0m\n",
       "\u001b[0;31mDocstring:\u001b[0m\n",
       "Equivalent to base**exp with 2 arguments or base**exp % mod with 3 arguments\n",
       "\n",
       "Some types, such as ints, are able to use a more efficient algorithm when\n",
       "invoked using the three argument form.\n",
       "\u001b[0;31mType:\u001b[0m      builtin_function_or_method\n"
      ]
     },
     "metadata": {},
     "output_type": "display_data"
    }
   ],
   "source": [
    "pow?"
   ]
  },
  {
   "cell_type": "code",
   "execution_count": null,
   "id": "9ef92a23-464c-4440-ac9f-6e1eb3e7ec61",
   "metadata": {},
   "outputs": [],
   "source": []
  }
 ],
 "metadata": {
  "kernelspec": {
   "display_name": "Python 3 (ipykernel)",
   "language": "python",
   "name": "python3"
  },
  "language_info": {
   "codemirror_mode": {
    "name": "ipython",
    "version": 3
   },
   "file_extension": ".py",
   "mimetype": "text/x-python",
   "name": "python",
   "nbconvert_exporter": "python",
   "pygments_lexer": "ipython3",
   "version": "3.8.8"
  }
 },
 "nbformat": 4,
 "nbformat_minor": 5
}
