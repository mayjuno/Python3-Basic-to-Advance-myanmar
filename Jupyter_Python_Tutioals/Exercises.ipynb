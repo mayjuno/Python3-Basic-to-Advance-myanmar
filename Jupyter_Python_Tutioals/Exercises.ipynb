{
 "cells": [
  {
   "cell_type": "code",
   "execution_count": 8,
   "id": "f99c0f91-99ec-444c-933b-2b99ac4ec202",
   "metadata": {},
   "outputs": [
    {
     "name": "stdout",
     "output_type": "stream",
     "text": [
      "0\n",
      "1\n",
      "2\n",
      "3\n",
      "4\n",
      "5\n",
      "6\n",
      "7\n",
      "8\n",
      "9\n",
      "153\n",
      "370\n",
      "371\n",
      "407\n",
      "1634\n",
      "8208\n",
      "9474\n"
     ]
    }
   ],
   "source": [
    "\"\"\"\n",
    "Exercise 1\n",
    "Armstrong numbers\n",
    "number of n digits whit are equal to sum of nth power of its digits\n",
    "example :153, 370\n",
    "153 = 1 ** 3 + 5**3 + 3**3\n",
    "    = 1      + 125  + 27\n",
    "    = 153\n",
    "    \n",
    "370 = 3**3 + 7**3 + 0**3\n",
    "    = 27   + 343  + 0\n",
    "    = 370\n",
    "\"\"\"\n",
    "for i in range(10001):\n",
    "    num = i\n",
    "    result = 0\n",
    "    n = len(str(i))\n",
    "    while(i!=0):\n",
    "        digit = i%10\n",
    "        result = result + digit ** n\n",
    "        i = i//10\n",
    "    if num == result:\n",
    "        print(num)"
   ]
  },
  {
   "cell_type": "code",
   "execution_count": 26,
   "id": "4264d82c-f51e-4936-bb15-c0035ac0a8fa",
   "metadata": {},
   "outputs": [
    {
     "name": "stdin",
     "output_type": "stream",
     "text": [
      "Enter a number : 123\n"
     ]
    },
    {
     "name": "stdout",
     "output_type": "stream",
     "text": [
      "3\n",
      "2\n",
      "1\n"
     ]
    }
   ],
   "source": [
    "user_input = input('Enter a number :')\n",
    "try:\n",
    "    number_of_digit = len(user_input)\n",
    "    number = int(user_input)\n",
    "    for i in range(1,number_of_digit+1):    \n",
    "        digit = number % 10\n",
    "        print(digit)\n",
    "        number = number // 10\n",
    "except ValueError as e:\n",
    "    print(f'Please enter an integer number  {e}')\n"
   ]
  },
  {
   "cell_type": "code",
   "execution_count": 7,
   "id": "3cfa74b6-e7d9-4f46-93fc-2e5ee3e1a5b9",
   "metadata": {},
   "outputs": [
    {
     "name": "stdin",
     "output_type": "stream",
     "text": [
      "Enter the number of row : 20\n"
     ]
    },
    {
     "name": "stdout",
     "output_type": "stream",
     "text": [
      "1\n",
      "12\n",
      "123\n",
      "1234\n",
      "12345\n",
      "123456\n",
      "1234567\n",
      "12345678\n",
      "123456789\n",
      "12345678910\n",
      "1234567891011\n",
      "123456789101112\n",
      "12345678910111213\n",
      "1234567891011121314\n",
      "123456789101112131415\n",
      "12345678910111213141516\n",
      "1234567891011121314151617\n",
      "123456789101112131415161718\n",
      "12345678910111213141516171819\n",
      "1234567891011121314151617181920\n",
      "1 \n",
      "2 2 \n",
      "3 3 3 \n",
      "4 4 4 4 \n",
      "5 5 5 5 5 \n",
      "6 6 6 6 6 6 \n",
      "7 7 7 7 7 7 7 \n",
      "8 8 8 8 8 8 8 8 \n",
      "9 9 9 9 9 9 9 9 9 \n",
      "10 10 10 10 10 10 10 10 10 10 \n",
      "11 11 11 11 11 11 11 11 11 11 11 \n",
      "12 12 12 12 12 12 12 12 12 12 12 12 \n",
      "13 13 13 13 13 13 13 13 13 13 13 13 13 \n",
      "14 14 14 14 14 14 14 14 14 14 14 14 14 14 \n",
      "15 15 15 15 15 15 15 15 15 15 15 15 15 15 15 \n",
      "16 16 16 16 16 16 16 16 16 16 16 16 16 16 16 16 \n",
      "17 17 17 17 17 17 17 17 17 17 17 17 17 17 17 17 17 \n",
      "18 18 18 18 18 18 18 18 18 18 18 18 18 18 18 18 18 18 \n",
      "19 19 19 19 19 19 19 19 19 19 19 19 19 19 19 19 19 19 19 \n",
      "20 20 20 20 20 20 20 20 20 20 20 20 20 20 20 20 20 20 20 20 \n"
     ]
    }
   ],
   "source": [
    "\"\"\"\n",
    "Exercise 2\n",
    "print pattern\n",
    "example :\n",
    "1           1\n",
    "12          22\n",
    "123         333\n",
    "1234        4444\n",
    "12345       55555\n",
    "\"\"\"\n",
    "n = int(input('Enter the number of row :'))\n",
    "for r in range(1,n+1): # for row\n",
    "    for c in range(1,r+1): # for colum\n",
    "        print(c, end='')\n",
    "    print()\n",
    "\n",
    "for r in range(1,n+1): # for row\n",
    "    for c in range(1,r+1): # for colum\n",
    "        print(r, end=' ')\n",
    "    print()"
   ]
  },
  {
   "cell_type": "code",
   "execution_count": 53,
   "id": "39f5d108-78ce-4588-93cd-38bab79ebfb2",
   "metadata": {},
   "outputs": [
    {
     "name": "stdin",
     "output_type": "stream",
     "text": [
      "Enter the number of rows : 6\n"
     ]
    },
    {
     "name": "stdout",
     "output_type": "stream",
     "text": [
      "*     \n",
      "**    \n",
      "* *   \n",
      "*  *  \n",
      "*   * \n",
      "******\n"
     ]
    }
   ],
   "source": [
    "\"\"\"\n",
    "Exercise 3:\n",
    "\n",
    "*\n",
    "**\n",
    "* *\n",
    "*  *\n",
    "*****\n",
    "\n",
    "\n",
    "\"\"\"\n",
    "n = int(input('Enter the number of rows :'))\n",
    "for r in range(n):\n",
    "    for c in range(n):\n",
    "        if c == 0  or r == c or r == n-1 :\n",
    "            print('*', end='')  \n",
    "        else:\n",
    "            print(end=' ')\n",
    "    print() # for new line"
   ]
  },
  {
   "cell_type": "code",
   "execution_count": 5,
   "id": "10a565bc-5ff9-40ee-861d-004daf079ee7",
   "metadata": {},
   "outputs": [
    {
     "name": "stdin",
     "output_type": "stream",
     "text": [
      "Enter the number of row : 20\n"
     ]
    },
    {
     "name": "stdout",
     "output_type": "stream",
     "text": [
      "********************\n",
      " *                 *\n",
      "  *                *\n",
      "   *               *\n",
      "    *              *\n",
      "     *             *\n",
      "      *            *\n",
      "       *           *\n",
      "        *          *\n",
      "         *         *\n",
      "          *        *\n",
      "           *       *\n",
      "            *      *\n",
      "             *     *\n",
      "              *    *\n",
      "               *   *\n",
      "                *  *\n",
      "                 * *\n",
      "                  **\n",
      "                   *\n"
     ]
    }
   ],
   "source": [
    "\"\"\"\n",
    "Exercise 3b:\n",
    "******\n",
    " *   *\n",
    "  *  *\n",
    "   * *\n",
    "    **\n",
    "     *\n",
    "\"\"\"\n",
    "n = int(input('Enter the number of row :'))\n",
    "for r in range(n):\n",
    "    for c in range(n):\n",
    "        if r == 0  or r == c or c == n-1 :\n",
    "            print('*', end ='')\n",
    "        else:\n",
    "            print(' ',end='')\n",
    "    print()"
   ]
  },
  {
   "cell_type": "code",
   "execution_count": 11,
   "id": "39684789-7a29-4c6c-801d-7270212cf61d",
   "metadata": {},
   "outputs": [
    {
     "name": "stdin",
     "output_type": "stream",
     "text": [
      "Enter the factorial number : 5\n"
     ]
    },
    {
     "name": "stdout",
     "output_type": "stream",
     "text": [
      "Result of using math.factorial function is : 120\n",
      "Result of using iterative factorial is : 120\n"
     ]
    }
   ],
   "source": [
    "\"\"\"\n",
    "Factorial of non-negative integer n , denoted by n! is the product if all positive integers less than or equal to n.\n",
    "5! = 1*2*3*4*5\n",
    "120\n",
    "\n",
    "1. using factorial function\n",
    "2. using recursion\n",
    "3. iterative\n",
    "\"\"\"\n",
    "import math\n",
    "n = int(input('Enter the factorial number :'))\n",
    "print(f'Result of using math.factorial function is : {math.factorial(n)}')\n",
    "result = 1\n",
    "for i in range(n):\n",
    "    result += result * i\n",
    "print(f'Result of using iterative factorial is : {result}.')"
   ]
  },
  {
   "cell_type": "code",
   "execution_count": 17,
   "id": "bd48da11-4623-4ba9-93e7-610aa44d3bb2",
   "metadata": {},
   "outputs": [
    {
     "name": "stdin",
     "output_type": "stream",
     "text": [
      "Enter the factorial number : 1\n"
     ]
    },
    {
     "name": "stdout",
     "output_type": "stream",
     "text": [
      "Result of using iterative factorial is : 1.\n"
     ]
    }
   ],
   "source": [
    "n = int(input('Enter the factorial number :'))\n",
    "if n == 0:\n",
    "    result = 1\n",
    "else:\n",
    "    result = 1\n",
    "    for i in range(n):\n",
    "        result += result * i\n",
    "print(f'Result of {n}! number using iterative factorial is : {result}.')"
   ]
  },
  {
   "cell_type": "code",
   "execution_count": 18,
   "id": "f39d9886-b1eb-4ffa-ae11-cd39d45fd762",
   "metadata": {},
   "outputs": [
    {
     "name": "stdin",
     "output_type": "stream",
     "text": [
      "Enter the number : 5\n"
     ]
    },
    {
     "name": "stdout",
     "output_type": "stream",
     "text": [
      "Result of 5! number is 120.\n"
     ]
    }
   ],
   "source": [
    "\"\"\"\n",
    "Using the recurssive function\n",
    "n! = n(n-1)!\n",
    "\"\"\"\n",
    "def fact(n):\n",
    "    if n == 0:\n",
    "        return 1\n",
    "    else:\n",
    "        return n*fact(n-1)\n",
    "n = int(input('Enter the number :'))\n",
    "print(f'Result of {n}! number is {fact(n)}.')"
   ]
  },
  {
   "cell_type": "code",
   "execution_count": 19,
   "id": "4f1c26ec-9e40-4a45-a56e-2aa89d475c03",
   "metadata": {},
   "outputs": [
    {
     "name": "stdin",
     "output_type": "stream",
     "text": [
      "Enter the number : 5\n"
     ]
    },
    {
     "name": "stdout",
     "output_type": "stream",
     "text": [
      "The result of 5! number is :120.\n"
     ]
    }
   ],
   "source": [
    "n = int(input('Enter the number :'))\n",
    "result = 1\n",
    "for i in range(n,0,-1):\n",
    "    result = result * i\n",
    "print(f'The result of {n}! number is :{result}.')"
   ]
  },
  {
   "cell_type": "code",
   "execution_count": 2,
   "id": "79ce5133-7220-4bcd-8eee-a6ec7f238ce0",
   "metadata": {},
   "outputs": [
    {
     "name": "stdin",
     "output_type": "stream",
     "text": [
      "Enter the number of  row : 15\n"
     ]
    },
    {
     "name": "stdout",
     "output_type": "stream",
     "text": [
      "1 \n",
      "2 3 \n",
      "4 5 6 \n",
      "7 8 9 10 \n",
      "11 12 13 14 15 \n",
      "16 17 18 19 20 21 \n",
      "22 23 24 25 26 27 28 \n",
      "29 30 31 32 33 34 35 36 \n",
      "37 38 39 40 41 42 43 44 45 \n",
      "46 47 48 49 50 51 52 53 54 55 \n",
      "56 57 58 59 60 61 62 63 64 65 66 \n",
      "67 68 69 70 71 72 73 74 75 76 77 78 \n",
      "79 80 81 82 83 84 85 86 87 88 89 90 91 \n",
      "92 93 94 95 96 97 98 99 100 101 102 103 104 105 \n",
      "106 107 108 109 110 111 112 113 114 115 116 117 118 119 120 \n"
     ]
    }
   ],
   "source": [
    "\"\"\"\n",
    "Exercise 9:\n",
    "Example;\n",
    "1\n",
    "2 3\n",
    "4 5 6\n",
    "7 8 9 10\n",
    "\"\"\"\n",
    "\n",
    "n =  int(input('Enter the number of  row :'))\n",
    "num = 1\n",
    "for row in range(1,n+1):\n",
    "    for col in range(1,row+1):\n",
    "        print(num, end=' ')\n",
    "        num +=1\n",
    "    print()"
   ]
  },
  {
   "cell_type": "code",
   "execution_count": 29,
   "id": "2fda2ff8-2616-4c84-812e-c4d716c4a217",
   "metadata": {},
   "outputs": [
    {
     "name": "stdin",
     "output_type": "stream",
     "text": [
      "Enter a string : Python\n"
     ]
    },
    {
     "name": "stdout",
     "output_type": "stream",
     "text": [
      "P\n",
      "Py\n",
      "Pyt\n",
      "Pyth\n",
      "Pytho\n",
      "Python\n"
     ]
    }
   ],
   "source": [
    "\"\"\"\n",
    "Exercise 10:\n",
    "Priting the String Pattern\n",
    "example;\n",
    "string input is 'Python'\n",
    "P\n",
    "Py\n",
    "Pyt\n",
    "Pyth\n",
    "Pytho\n",
    "Python\n",
    "\"\"\"\n",
    "\n",
    "input_string =  input('Enter a string :')\n",
    "length_of_string = len(input_string)\n",
    "for row in range(length_of_string):\n",
    "    for col in range(row+1):\n",
    "        print(input_string[col],end='')\n",
    "    print()"
   ]
  },
  {
   "cell_type": "code",
   "execution_count": 46,
   "id": "ed5552b3-8a0f-4c00-b278-6e2b22724c99",
   "metadata": {},
   "outputs": [
    {
     "name": "stdin",
     "output_type": "stream",
     "text": [
      "Enter the nth number for fibonacci series : 7\n"
     ]
    },
    {
     "name": "stdout",
     "output_type": "stream",
     "text": [
      "8\n"
     ]
    }
   ],
   "source": [
    "\"\"\"\n",
    "Exercise 11:\n",
    "Fibonacci Numbers:\n",
    "0 1 1 2 3 5 8 13 ......\n",
    "\"\"\"\n",
    "def fibonacci(num):\n",
    "    if num ==1:\n",
    "        return 0\n",
    "    elif num == 2 :\n",
    "        return 1\n",
    "    else:       \n",
    "        first = 0\n",
    "        second = 1\n",
    "        for i in range(num):\n",
    "            result = first\n",
    "            first= second\n",
    "            second = result + second\n",
    "        return result\n",
    "num = int(input('Enter the nth number for fibonacci series :'))\n",
    "print(fibonacci(num))"
   ]
  },
  {
   "cell_type": "code",
   "execution_count": 11,
   "id": "43d4cc77-bb36-4f03-a18b-e8887beee7e8",
   "metadata": {},
   "outputs": [
    {
     "name": "stdin",
     "output_type": "stream",
     "text": [
      "Enter number of rows : 5\n"
     ]
    },
    {
     "name": "stdout",
     "output_type": "stream",
     "text": [
      "1 2 3 4 5 \n",
      "1 2 3 4 \n",
      "1 2 3 \n",
      "1 2 \n",
      "1 \n"
     ]
    }
   ],
   "source": [
    "# Exercise 12:\n",
    "'''\n",
    "1 2 3 4 5\n",
    "1 2 3 4\n",
    "1 2 3 \n",
    "1 2\n",
    "1\n",
    "'''\n",
    "number_of_rows = int(input('Enter number of rows :'))\n",
    "for row in range(number_of_rows):\n",
    "    for col in range(1,number_of_rows+1):\n",
    "        print(col,end = ' ')        \n",
    "    print()\n",
    "    number_of_rows = number_of_rows-1"
   ]
  },
  {
   "cell_type": "code",
   "execution_count": 13,
   "id": "39bfd4b3-bb86-4bf3-89e6-5e8d709359a4",
   "metadata": {},
   "outputs": [
    {
     "name": "stdin",
     "output_type": "stream",
     "text": [
      "Enter number of rows : 5\n"
     ]
    },
    {
     "name": "stdout",
     "output_type": "stream",
     "text": [
      "1 2 3 4 5 \n",
      "1 2 3 4 \n",
      "1 2 3 \n",
      "1 2 \n",
      "1 \n"
     ]
    }
   ],
   "source": [
    "number_of_rows = int(input('Enter number of rows :'))\n",
    "for row in range(number_of_rows,0,-1):\n",
    "    for col in range(1,row+1):\n",
    "        print(col,end=' ')\n",
    "    print()"
   ]
  },
  {
   "cell_type": "code",
   "execution_count": 20,
   "id": "18a395a0-1782-49ad-bdea-d0097c521415",
   "metadata": {},
   "outputs": [
    {
     "name": "stdin",
     "output_type": "stream",
     "text": [
      "Enter the limit of  the number : 25\n"
     ]
    },
    {
     "name": "stdout",
     "output_type": "stream",
     "text": [
      "2\n",
      "3\n",
      "5\n",
      "7\n",
      "11\n",
      "13\n",
      "17\n",
      "19\n",
      "23\n"
     ]
    }
   ],
   "source": [
    "# Exercise 13\n",
    "\"\"\"\n",
    "Prime numbers:\n",
    "Is a natural number greather than 1 that has no positive divisor other than 1 and itself.\n",
    "\"\"\"\n",
    "limit = int(input('Enter the limit of  the number :'))\n",
    "for be_prime in range(1,limit+1):\n",
    "    if be_prime > 1: # check the number is positive number\n",
    "        for divisor in range(2,be_prime): # dividing by 2 to itself-1\n",
    "            if be_prime%divisor == 0:\n",
    "                break\n",
    "        else:\n",
    "            print(be_prime)"
   ]
  },
  {
   "cell_type": "code",
   "execution_count": 23,
   "id": "e110c683-e54a-48b5-bb83-63cadab33ea5",
   "metadata": {},
   "outputs": [
    {
     "name": "stdin",
     "output_type": "stream",
     "text": [
      "Enter any positive number to check it's prime or not ! : 1\n"
     ]
    },
    {
     "name": "stdout",
     "output_type": "stream",
     "text": [
      "1 is not a positive number that greather than 1\n"
     ]
    }
   ],
   "source": [
    "num = int(input('Enter any positive number to check it\\'s prime or not ! :'))\n",
    "if num > 1:\n",
    "    for divisor in range(2,num):\n",
    "        if num % divisor == 0:\n",
    "            print(num,'is not a prime number.')\n",
    "            break\n",
    "    else:\n",
    "        print(num,'is prime number.')\n",
    "else:\n",
    "    print(num,'is not a positive number that greather than 1.')"
   ]
  },
  {
   "cell_type": "code",
   "execution_count": null,
   "id": "8ebba069-7322-49fd-8a38-3ac406eda397",
   "metadata": {},
   "outputs": [],
   "source": []
  },
  {
   "cell_type": "code",
   "execution_count": 25,
   "id": "2cd9d377-7f6c-4d69-9557-f1b5a33c5c2c",
   "metadata": {},
   "outputs": [
    {
     "name": "stdout",
     "output_type": "stream",
     "text": [
      "   *   \n",
      "  * *  \n",
      " *   * \n",
      "*******\n"
     ]
    }
   ],
   "source": [
    "# Exercise 15:\n",
    "'''\n",
    "   *\n",
    "  * *\n",
    " *   *\n",
    "******* \n",
    "'''\n",
    "\n",
    "for row in range(1,5):\n",
    "    for col in range(1,8):\n",
    "        if row == 4 or row + col == 5 or col - row == 3 :\n",
    "            print('*',end = '')\n",
    "        else:\n",
    "            print(' ',end ='')\n",
    "    print()"
   ]
  },
  {
   "cell_type": "code",
   "execution_count": 61,
   "id": "4909809f-df6f-435f-ae5f-3c4637eb8039",
   "metadata": {},
   "outputs": [
    {
     "name": "stdin",
     "output_type": "stream",
     "text": [
      "Enter the number of row : 4\n"
     ]
    },
    {
     "name": "stdout",
     "output_type": "stream",
     "text": [
      "   *   \n",
      "  * *  \n",
      " *   * \n",
      "*******\n"
     ]
    }
   ],
   "source": [
    "number_of_row = int(input('Enter the number of row :'))\n",
    "for row in range(1,number_of_row+1): # 5 =  4+1 (if number_of_row=4)\n",
    "    for col in range(1,2 * number_of_row): #  8 = 2*4 (if number_of_row=4)\n",
    "        if row == number_of_row or row + col == number_of_row +1 or col - row == number_of_row-1 :\n",
    "            print('*',end = '')\n",
    "        else:\n",
    "            print(' ',end ='')\n",
    "    print()"
   ]
  },
  {
   "cell_type": "code",
   "execution_count": 34,
   "id": "1453661a-430e-4900-98c9-b277883d0dc3",
   "metadata": {},
   "outputs": [
    {
     "name": "stdin",
     "output_type": "stream",
     "text": [
      "Enter the number of row : 4\n"
     ]
    },
    {
     "name": "stdout",
     "output_type": "stream",
     "text": [
      "   *   \n",
      "  * *  \n",
      " *   * \n",
      "* * * *\n"
     ]
    }
   ],
   "source": [
    "'''\n",
    "   *\n",
    "  * *\n",
    " *   *\n",
    "* * * *\n",
    "'''\n",
    "number_of_row = int(input('Enter the number of row :'))\n",
    "k = 2\n",
    "for row in range(1,number_of_row+1): # 5 =  4+1 (if number_of_row=4)\n",
    "    for col in range(1,2 * number_of_row): #  8 = 2*4 (if number_of_row=4)\n",
    "        if row + col == number_of_row + 1 or col - row == number_of_row - 1 :\n",
    "            print('*',end = '')\n",
    "        elif row == number_of_row and col != k:\n",
    "            print('*',end='')\n",
    "            k=k+2\n",
    "            \n",
    "        else:\n",
    "            print(' ',end ='')\n",
    "    print()"
   ]
  },
  {
   "cell_type": "code",
   "execution_count": 43,
   "id": "a5e44fdb-a254-4daa-b6ca-5669a7b75f5e",
   "metadata": {},
   "outputs": [
    {
     "name": "stdin",
     "output_type": "stream",
     "text": [
      "Enter the limit of the positive integer number : 10000\n"
     ]
    },
    {
     "name": "stdout",
     "output_type": "stream",
     "text": [
      "6 is perfect number\n",
      "28 is perfect number\n",
      "496 is perfect number\n",
      "8128 is perfect number\n"
     ]
    }
   ],
   "source": [
    "# Exercise 16:\n",
    "'''\n",
    "Perfect Numbers:\n",
    "Perfect Numbers is a positive integer that is equal to the half of the sum of its positive \n",
    "devisor excluding the number itself.\n",
    "example;\n",
    "divisor of number 6 is 1,2,3,6 \n",
    "the sum of devisor numbers 1+2+3+6=12 and half of 12 is 6.\n",
    "Thus;6 is pefect number\n",
    "'''\n",
    "limit =  int(input('Enter the limit of the positive integer number :'))\n",
    "for checked in range(1,limit+1):\n",
    "    sum =  0\n",
    "    for divisor in range(1,checked+1):        \n",
    "        if (checked % divisor) == 0:            \n",
    "            sum = sum + divisor\n",
    "    if (sum/2) == checked:\n",
    "        print(checked, 'is perfect number')\n",
    "\n"
   ]
  },
  {
   "cell_type": "code",
   "execution_count": 40,
   "id": "408c5bad-fc9f-468d-a4aa-cb2bbd527121",
   "metadata": {},
   "outputs": [
    {
     "name": "stdin",
     "output_type": "stream",
     "text": [
      "Enter the number : 120\n"
     ]
    },
    {
     "name": "stdout",
     "output_type": "stream",
     "text": [
      "120 is not perfect number.\n"
     ]
    }
   ],
   "source": [
    "num = int(input('Enter the number :'))\n",
    "result = 0\n",
    "for i in range(1,num):\n",
    "    if(num%i)== 0:\n",
    "        result = result+i\n",
    "if result==num:\n",
    "    print(num, 'is perfect number.')\n",
    "else:\n",
    "    print(num, 'is not perfect number.')"
   ]
  },
  {
   "cell_type": "code",
   "execution_count": 52,
   "id": "2b3e109e-7831-498c-a130-7a360c724754",
   "metadata": {},
   "outputs": [
    {
     "name": "stdin",
     "output_type": "stream",
     "text": [
      "Enter the lower limit of the positive integer number : 50\n",
      "Enter the upper limit of the positive integer number : 100\n"
     ]
    },
    {
     "name": "stdout",
     "output_type": "stream",
     "text": [
      "Between 50 to 100 doesn't have perfect number.\n"
     ]
    }
   ],
   "source": [
    "# Exercise 17:\n",
    "lower_limit = int(input('Enter the lower limit of the positive integer number :'))\n",
    "upper_limit =  int(input('Enter the upper limit of the positive integer number :'))\n",
    "displayed = True\n",
    "for checked in range(lower_limit,upper_limit+1):\n",
    "    sum =  0\n",
    "    for divisor in range(1,checked+1):        \n",
    "        if (checked % divisor) == 0:            \n",
    "            sum = sum + divisor\n",
    "    if (sum/2) == checked:\n",
    "        print(checked, 'is perfect number')\n",
    "    else:\n",
    "        if displayed:\n",
    "            print(f'Between {lower_limit} to {upper_limit} doesn\\'t have perfect number.')\n",
    "            displayed = False                    \n",
    "        else:\n",
    "            continue\n",
    "            "
   ]
  },
  {
   "cell_type": "code",
   "execution_count": 56,
   "id": "5890a243-3600-4002-9182-37a5d4c25dbd",
   "metadata": {},
   "outputs": [
    {
     "name": "stdin",
     "output_type": "stream",
     "text": [
      "Enter the value for a : 5\n",
      "Enter the value for b : 6\n"
     ]
    },
    {
     "name": "stdout",
     "output_type": "stream",
     "text": [
      "a= 5 b= 6\n",
      "a= 6 b= 5\n"
     ]
    }
   ],
   "source": [
    "# Exercise 18:\n",
    "# Swapping numbers without using 3rd variable\n",
    "a = int(input('Enter the value for a :'))\n",
    "b = int(input('Enter the value for b :'))\n",
    "print('a=',a,'b=',b)\n",
    "a,b = b,a\n",
    "print('a=',a,'b=',b)"
   ]
  },
  {
   "cell_type": "code",
   "execution_count": 57,
   "id": "aede91bf-c66d-4d4e-ba32-73af317122dd",
   "metadata": {},
   "outputs": [
    {
     "name": "stdin",
     "output_type": "stream",
     "text": [
      "Enter the value for a : 5\n",
      "Enter the value for b : 6\n"
     ]
    },
    {
     "name": "stdout",
     "output_type": "stream",
     "text": [
      "a= 5 b= 6\n",
      "a= 6 b= 5\n"
     ]
    }
   ],
   "source": [
    "# Swapping numbers using 3rd variable\n",
    "a = int(input('Enter the value for a :'))\n",
    "b = int(input('Enter the value for b :'))\n",
    "print('a=',a,'b=',b)\n",
    "temp = a;a = b;b = temp\n",
    "print('a=',a,'b=',b)"
   ]
  },
  {
   "cell_type": "code",
   "execution_count": 58,
   "id": "ee719755-237c-404b-bd59-e708fd6b5f1b",
   "metadata": {},
   "outputs": [
    {
     "name": "stdin",
     "output_type": "stream",
     "text": [
      "Enter the value for a : 5\n",
      "Enter the value for b : 6\n"
     ]
    },
    {
     "name": "stdout",
     "output_type": "stream",
     "text": [
      "a= 5 b= 6\n",
      "a= 6 b= 5\n"
     ]
    }
   ],
   "source": [
    "# Swapping numbers without using 3rd variable\n",
    "a = int(input('Enter the value for a :'))\n",
    "b = int(input('Enter the value for b :'))\n",
    "print('a=',a,'b=',b)\n",
    "a = a + b\n",
    "b = a - b\n",
    "a = a - b\n",
    "print('a=',a,'b=',b)"
   ]
  },
  {
   "cell_type": "code",
   "execution_count": 60,
   "id": "471f1577-c757-42bf-9ef7-0cd17a8dc35e",
   "metadata": {},
   "outputs": [
    {
     "name": "stdin",
     "output_type": "stream",
     "text": [
      "Enter the number of row : 7\n"
     ]
    },
    {
     "name": "stdout",
     "output_type": "stream",
     "text": [
      "* \n",
      "* * \n",
      "* * * \n",
      "* * * * \n",
      "* * * * * \n",
      "* * * * * * \n",
      "* * * * * * * \n"
     ]
    }
   ],
   "source": [
    "# Exercise 19:\n",
    "# print the following patterns by using while loop:\n",
    "'''\n",
    "*\n",
    "**\n",
    "***\n",
    "****\n",
    "'''\n",
    "number_of_row = int(input('Enter the number of row :'))\n",
    "row = 0\n",
    "while row < number_of_row :\n",
    "    star = row +1 \n",
    "    while star > 0:\n",
    "        print('*',end =' ')\n",
    "        star -=1\n",
    "    print()\n",
    "    row += 1"
   ]
  },
  {
   "cell_type": "code",
   "execution_count": 71,
   "id": "1ff52bbb-6d8c-4ac4-8129-7b176c5af881",
   "metadata": {},
   "outputs": [
    {
     "name": "stdin",
     "output_type": "stream",
     "text": [
      "Enter the number of row : 4\n"
     ]
    },
    {
     "name": "stdout",
     "output_type": "stream",
     "text": [
      "   * \n",
      "  * * \n",
      " * * * \n",
      "* * * * \n"
     ]
    }
   ],
   "source": [
    "# Example 20:\n",
    "# print the following patterns using the while loop:\n",
    "\"\"\"\n",
    "   *\n",
    "  * *\n",
    " * * *\n",
    "* * * *\n",
    "\n",
    "\"\"\"\n",
    "number_of_row = int(input('Enter the number of row :'))\n",
    "row = 0\n",
    "while row < number_of_row:\n",
    "    space = number_of_row - row -1\n",
    "    while space > 0:\n",
    "        print(end=' ') # print white space\n",
    "        space -= 1\n",
    "    star = row + 1\n",
    "    while star > 0 :\n",
    "        print('*',end=' ')\n",
    "        star -= 1\n",
    "    row += 1\n",
    "    print() # for new line\n"
   ]
  },
  {
   "cell_type": "code",
   "execution_count": 73,
   "id": "b12b6dea-c80b-439a-b3be-62ae1198e2d6",
   "metadata": {},
   "outputs": [
    {
     "name": "stdout",
     "output_type": "stream",
     "text": [
      "  *  \n",
      " * * \n",
      "*   *\n",
      " * * \n",
      "  *  \n"
     ]
    }
   ],
   "source": [
    "# Exercise 21:\n",
    "# print the following hollow diamond shade patterns :\n",
    "\"\"\"\n",
    "  *\n",
    " * *\n",
    "*   *    \n",
    " * *   \n",
    "  *\n",
    "\"\"\"  \n",
    "# row = 5\n",
    "# colum = 5\n",
    "\n",
    "n = 5\n",
    "for row in range(n):\n",
    "    for col in range(n):\n",
    "        if row + col == 2 or col - row == 2 or row - col == 2 or row + col == 6:\n",
    "            print('*',end='')\n",
    "        else:\n",
    "            print(' ',end='')\n",
    "    print()"
   ]
  },
  {
   "cell_type": "code",
   "execution_count": 74,
   "id": "2ea9c5a1-c873-41e8-bc4c-21593bfb1241",
   "metadata": {},
   "outputs": [
    {
     "name": "stdout",
     "output_type": "stream",
     "text": [
      "   *   \n",
      "  * *  \n",
      " *   * \n",
      "*     *\n",
      " *   * \n",
      "  * *  \n",
      "   *   \n"
     ]
    }
   ],
   "source": [
    "# row = 7\n",
    "# colum = 7\n",
    "\n",
    "n = 7\n",
    "for row in range(n):\n",
    "    for col in range(n):\n",
    "        if row + col == 3 or col - row == 3 or row - col == 3 or row + col == 9:\n",
    "            print('*',end='')\n",
    "        else:\n",
    "            print(' ',end='')\n",
    "    print()"
   ]
  },
  {
   "cell_type": "code",
   "execution_count": 75,
   "id": "cda6a10c-e365-4164-b570-f6c0ab15d078",
   "metadata": {},
   "outputs": [
    {
     "name": "stdout",
     "output_type": "stream",
     "text": [
      "    *    \n",
      "   * *   \n",
      "  *   *  \n",
      " *     * \n",
      "*       *\n",
      " *     * \n",
      "  *   *  \n",
      "   * *   \n",
      "    *    \n"
     ]
    }
   ],
   "source": [
    "# row = 9\n",
    "# colum = 9\n",
    "\n",
    "n = 9\n",
    "for row in range(n):\n",
    "    for col in range(n):\n",
    "        if row + col == 4 or col - row == 4 or row - col == 4 or row + col == 12:\n",
    "            print('*',end='')\n",
    "        else:\n",
    "            print(' ',end='')\n",
    "    print()"
   ]
  },
  {
   "cell_type": "code",
   "execution_count": 93,
   "id": "86a6fe3b-2636-4785-8f22-3abb0fd0a5a3",
   "metadata": {},
   "outputs": [
    {
     "name": "stdout",
     "output_type": "stream",
     "text": [
      "     *     \n",
      "    * *    \n",
      "   *   *   \n",
      "  *     *  \n",
      " *       * \n",
      "*         *\n",
      " *       * \n",
      "  *     *  \n",
      "   *   *   \n",
      "    * *    \n",
      "     *     \n"
     ]
    }
   ],
   "source": [
    "# row = 11\n",
    "# colum = 11\n",
    "\n",
    "n = 11\n",
    "for row in range(n):\n",
    "    for col in range(n):\n",
    "        if row + col == 5 or col - row == 5 or row - col == 5 or row + col == 15:\n",
    "            print('*',end='')\n",
    "        else:\n",
    "            print(' ',end='')\n",
    "    print()"
   ]
  },
  {
   "cell_type": "code",
   "execution_count": 127,
   "id": "8cf83853-67a6-48e8-93ec-f4b37d22d3ae",
   "metadata": {},
   "outputs": [
    {
     "name": "stdin",
     "output_type": "stream",
     "text": [
      "\n",
      "Enter an integer number for the shape of Diamond.\n",
      "It must be an odd number.\n",
      "Unless it's the odd number, computer must be change the number to odd number by adding one.\n",
      " 9\n"
     ]
    },
    {
     "name": "stdout",
     "output_type": "stream",
     "text": [
      "The shape of Diamond size is 9 rows and 9 colums.\n",
      "    *    \n",
      "   * *   \n",
      "  *   *  \n",
      " *     * \n",
      "*   9   *\n",
      " *     * \n",
      "  *   *  \n",
      "   * *   \n",
      "    *    \n"
     ]
    }
   ],
   "source": [
    "# shape က ဂဏာန်း ၂ လုံးဆိုရင် ပြဿနာရှိသေးသည် ။ ဖြေရှင်းရန် အကြွးကျန်\n",
    "import math\n",
    "n = int(input(\"\"\"\n",
    "Enter an integer number for the shape of Diamond.\n",
    "It must be an odd number.\n",
    "Unless it\\'s the odd number, computer must be change the number to odd number by adding one.\n",
    "\"\"\"))\n",
    "if (n%2) == 0 :\n",
    "    n+=1\n",
    "print(f'The shape of Diamond size is {n} rows and {n} colums.')\n",
    "for row in range(n):\n",
    "    for col in range(n):       \n",
    "        if row + col == ((n/2)-.5) or col - row == ((n/2)-.5) or row - col == ((n/2)-.5) or row + col == 3*(n//2):\n",
    "            print('*',end='')\n",
    "        else:\n",
    "            if math.floor(n/2)== col and math.floor(n/2)==row :\n",
    "                print(f'{n}',end='')\n",
    "            else:\n",
    "                print(' ',end='')\n",
    "    print()"
   ]
  },
  {
   "cell_type": "code",
   "execution_count": 173,
   "id": "a8529265-a935-4443-b65a-e0d001dc49c5",
   "metadata": {},
   "outputs": [
    {
     "name": "stdin",
     "output_type": "stream",
     "text": [
      "\n",
      "Enter an integer number for the shape of Diamond.\n",
      "It must be an odd number.\n",
      "Unless it's the odd number, computer must be change the number to odd number by adding one.\n",
      " 10\n"
     ]
    },
    {
     "name": "stdout",
     "output_type": "stream",
     "text": [
      "The shape of Diamond size is 11 rows and 11 colums.\n",
      "     *     \n",
      "    * *    \n",
      "   *   *   \n",
      "  *     *  \n",
      " *       * \n",
      "*    11   *\n",
      " *       * \n",
      "  *     *  \n",
      "   *   *   \n",
      "    * *    \n",
      "     *     \n"
     ]
    }
   ],
   "source": [
    "import math\n",
    "n = int(input(\"\"\"\n",
    "Enter an integer number for the shape of Diamond.\n",
    "It must be an odd number.\n",
    "Unless it\\'s the odd number, computer must be change the number to odd number by adding one.\n",
    "\"\"\"))\n",
    "jump = False\n",
    "if (n%2) == 0 :\n",
    "    n+=1\n",
    "print(f'The shape of Diamond size is {n} rows and {n} colums.')\n",
    "for row in range(n):\n",
    "    for col in range(n):       \n",
    "        if row + col == ((n/2)-.5) or col - row == ((n/2)-.5) or row - col == ((n/2)-.5) or row + col == 3*(n//2):\n",
    "            print('*',end='')\n",
    "        else:\n",
    "            if math.floor(n/2)== col and math.floor(n/2)==row and n < 10:\n",
    "                print(f'{n}',end='')\n",
    "            elif math.floor(n/2)== col and math.floor(n/2)==row and n >= 10:\n",
    "                print(f'{n}',end='')\n",
    "                jump = True\n",
    "            else:\n",
    "                if jump:\n",
    "                    print(end='')\n",
    "                    jump = False\n",
    "                else:\n",
    "                    print(' ',end='')\n",
    "    print()"
   ]
  },
  {
   "cell_type": "code",
   "execution_count": 174,
   "id": "9768d519-5c96-49be-a476-71356a063ad9",
   "metadata": {},
   "outputs": [
    {
     "name": "stdin",
     "output_type": "stream",
     "text": [
      "\n",
      "Enter an integer number for the shape of Diamond.\n",
      "It must be an odd number.\n",
      "Unless it's the odd number, computer must be change the number to odd number by adding one.\n",
      " 10\n"
     ]
    },
    {
     "name": "stdout",
     "output_type": "stream",
     "text": [
      "The shape of Diamond size is 11 rows and 11 colums.\n",
      "     *     \n",
      "    * *    \n",
      "   *   *   \n",
      "  *     *  \n",
      " *       * \n",
      "*    11   *\n",
      " *       * \n",
      "  *     *  \n",
      "   *   *   \n",
      "    * *    \n",
      "     *     \n"
     ]
    }
   ],
   "source": [
    "# This is alittle perfect\n",
    "import math\n",
    "n = int(input(\"\"\"\n",
    "Enter an integer number for the shape of Diamond.\n",
    "It must be an odd number.\n",
    "Unless it\\'s the odd number, computer must be change the number to odd number by adding one.\n",
    "\"\"\"))\n",
    "jump = False\n",
    "if (n%2) == 0 :\n",
    "    n+=1\n",
    "print(f'The shape of Diamond size is {n} rows and {n} colums.')\n",
    "for row in range(n):\n",
    "    for col in range(n):       \n",
    "        if row + col == ((n/2)-.5) or col - row == ((n/2)-.5) or row - col == ((n/2)-.5) or row + col == 3*(n//2):\n",
    "            print('*',end='')\n",
    "        else:\n",
    "            if math.floor(n/2)== col and math.floor(n/2)==row and n < 10:\n",
    "                print(f'{n}',end='')\n",
    "            elif (math.floor(n/2))-(len(str(n)) - 2) == col and math.floor(n/2)==row and n >= 10:\n",
    "                print(f'{n}',end='')\n",
    "                jump = len(str(n)) - 1\n",
    "            else:\n",
    "                if jump:\n",
    "                    print(end='')\n",
    "                    jump -= 1 \n",
    "                else:\n",
    "                    print(' ',end='')\n",
    "    print()"
   ]
  },
  {
   "cell_type": "code",
   "execution_count": 177,
   "id": "bf3d13b1-b61f-408e-acc8-0a7fb3245f3d",
   "metadata": {},
   "outputs": [
    {
     "name": "stdin",
     "output_type": "stream",
     "text": [
      "\n",
      "ဒိုင်းမွန်းပုံတစ်ခု၏အရွယ်အစားသတ်မှတ်ပေးသော နာမ်ပါတ်တစ်ခုကိုသွင်းပါ။\n",
      "\n",
      "ဒိုင်းမွန်းပုံဖော်မည်ဖြစ်သဖြင့် မကိန်းဖြစ်ရန်လိုအပ်ပါသည်။\n",
      "\n",
      "၎င်းနာမ်ပါတ်သည်စုံကိန်းဖြစ်ပါက ပရိုဂရမ်မှ တစ်ပေါင်းထည့်ပြီး မကိန်းအဖြစ်တွက်ချက်သွားပါမည်။\n",
      " ၁၁\n"
     ]
    },
    {
     "name": "stdout",
     "output_type": "stream",
     "text": [
      "The shape of Diamond size is 11 rows and 11 colums.\n",
      "     *     \n",
      "    * *    \n",
      "   *   *   \n",
      "  *     *  \n",
      " *       * \n",
      "*    11   *\n",
      " *       * \n",
      "  *     *  \n",
      "   *   *   \n",
      "    * *    \n",
      "     *     \n"
     ]
    }
   ],
   "source": [
    "import math\n",
    "n = int(input(\"\"\"\n",
    "ဒိုင်းမွန်းပုံတစ်ခု၏အရွယ်အစားသတ်မှတ်ပေးသော နာမ်ပါတ်တစ်ခုကိုသွင်းပါ။\n",
    "\n",
    "ဒိုင်းမွန်းပုံဖော်မည်ဖြစ်သဖြင့် မကိန်းဖြစ်ရန်လိုအပ်ပါသည်။\n",
    "\n",
    "၎င်းနာမ်ပါတ်သည်စုံကိန်းဖြစ်ပါက ပရိုဂရမ်မှ တစ်ပေါင်းထည့်ပြီး မကိန်းအဖြစ်တွက်ချက်သွားပါမည်။\n",
    "\"\"\"))\n",
    "'''\n",
    "logic by kyaw myo swe\n",
    "'''\n",
    "jump = False\n",
    "if (n%2) == 0 :\n",
    "    n+=1\n",
    "print(f'The shape of Diamond size is {n} rows and {n} colums.')\n",
    "for row in range(n):\n",
    "    for col in range(n):       \n",
    "        if row + col == ((n/2)-.5) or col - row == ((n/2)-.5) or row - col == ((n/2)-.5) or row + col == 3*(n//2):\n",
    "            print('*',end='')\n",
    "        else:\n",
    "            if math.floor(n/2)== col and math.floor(n/2)==row and n < 10:\n",
    "                print(f'{n}',end='')\n",
    "            elif (math.floor(n/2))-(len(str(n)) - 2) == col and math.floor(n/2)==row and n >= 10:\n",
    "                print(f'{n}',end='')\n",
    "                jump = len(str(n)) - 1\n",
    "            else:\n",
    "                if jump:\n",
    "                    print(end='')\n",
    "                    jump -= 1 \n",
    "                else:\n",
    "                    print(' ',end='')\n",
    "    print()"
   ]
  },
  {
   "cell_type": "code",
   "execution_count": 179,
   "id": "7d0ac64f-a67e-44ed-bd60-7c30d99e8cf4",
   "metadata": {},
   "outputs": [
    {
     "name": "stdin",
     "output_type": "stream",
     "text": [
      "Enter a string : kyaw myo swe\n"
     ]
    },
    {
     "name": "stdout",
     "output_type": "stream",
     "text": [
      "Entered string kyaw myo swe\n",
      "k\n",
      "y\n",
      "a\n",
      "w\n",
      " \n",
      "m\n",
      "y\n",
      "o\n",
      " \n",
      "s\n",
      "w\n",
      "e\n",
      "ews oym wayk\n"
     ]
    }
   ],
   "source": [
    "# Exercise 22 :\n",
    "'''\n",
    "This program is testing for reverse string.\n",
    "'''\n",
    "\n",
    "def reverse(string):\n",
    "    reverse_string = ''\n",
    "    for i in string:\n",
    "        print(i)\n",
    "        reverse_string = i + reverse_string\n",
    "    print(reverse_string)\n",
    "string = input('Enter a string :')\n",
    "print('Entered string', string)\n",
    "reverse(string)"
   ]
  },
  {
   "cell_type": "code",
   "execution_count": 180,
   "id": "e7867cf0-130d-4910-b5b0-5eb4f4da158b",
   "metadata": {},
   "outputs": [
    {
     "name": "stdin",
     "output_type": "stream",
     "text": [
      "Enter the number of rows : 5\n"
     ]
    },
    {
     "name": "stdout",
     "output_type": "stream",
     "text": [
      "0\t0\t0\t0\t0\t\n",
      "0\t0\t0\t0\t0\t\n",
      "0\t0\t0\t0\t0\t\n",
      "0\t0\t0\t0\t0\t\n",
      "0\t0\t0\t0\t0\t\n"
     ]
    }
   ],
   "source": [
    "# Exercise 23:\n",
    "# print the  patterns describe in below\n",
    "'''\n",
    "1  2  3  4  5  \n",
    "16 17 18 19 6\n",
    "15 24 25 20 7\n",
    "14 23 22 21 8\n",
    "13 12 11 10 9\n",
    "'''\n",
    "\n",
    "num = int(input('Enter the number of rows :'))\n",
    "n_list = [[0 for x in range(num)] for y in range(num)]\n",
    "for i in range(num):\n",
    "    for j in range(num):\n",
    "        print(n_list[i][j],end='\\t')\n",
    "    print()"
   ]
  },
  {
   "cell_type": "code",
   "execution_count": 182,
   "id": "1d67d540-ee02-4425-811d-8770e965ecd9",
   "metadata": {},
   "outputs": [
    {
     "name": "stdin",
     "output_type": "stream",
     "text": [
      "Enter the number of rows : 5\n"
     ]
    },
    {
     "name": "stdout",
     "output_type": "stream",
     "text": [
      "1\t2\t3\t4\t5\t\n",
      "16\t17\t18\t19\t6\t\n",
      "15\t24\t25\t20\t7\t\n",
      "14\t23\t22\t21\t8\t\n",
      "13\t12\t11\t10\t9\t\n"
     ]
    }
   ],
   "source": [
    "num = int(input('Enter the number of rows :'))\n",
    "n_list = [[0 for x in range(num)] for y in range(num)]\n",
    "n = 1 # starting value\n",
    "low = 0 # low index of row and colum\n",
    "high = num - 1  # high index if row and colum\n",
    "count = int((num+1)/2)  # number of looping\n",
    "for i in range(count):\n",
    "    for j in range(low, high+1): # looping direction to right by first row\n",
    "        n_list[i][j] = n # first row and to last colum\n",
    "        n+=1\n",
    "    for j in range(low+1,high+1): # looping dirction to down by last colum (top to buttom)\n",
    "        n_list[j][high] = n # last colum top-1 to bottom\n",
    "        n+=1\n",
    "    for j in range(high-1,low-1,-1): #lopping direction to left by last row\n",
    "        n_list[high][j] = n \n",
    "        n+=1\n",
    "    for j in range(high-1,low, -1): # looping direction to up by first colum (buttom to top)\n",
    "        n_list[j][low] = n\n",
    "        n+=1\n",
    "    low +=1 # increase the row\n",
    "    high -=1 # decrease the colum\n",
    "for i in range(num):\n",
    "    for j in range(num):\n",
    "        print(n_list[i][j],end='\\t')\n",
    "    print()"
   ]
  },
  {
   "cell_type": "code",
   "execution_count": 183,
   "id": "206f3884-212b-45b7-9fb9-472c5e549fe3",
   "metadata": {},
   "outputs": [
    {
     "name": "stdout",
     "output_type": "stream",
     "text": [
      "16\n",
      "2\n"
     ]
    }
   ],
   "source": [
    "# Exercise 24:\n",
    "'''\n",
    "GCD(Greadet Common Divisor) of two numbers\n",
    "example;\n",
    " divisor of  12 = 1,2,3,4,6,12\n",
    " divisor of  14 = 1,2,7\n",
    " Common Divisor of 12 and 14 is 1 and 2\n",
    " GCD of 12 and 14 is 2\n",
    " \n",
    " \n",
    " Euclid's method\n",
    " example 1;\n",
    " 64 and 48\n",
    " ကြီးတာကိုယူမယ် = ငယ်တာထး * မသိကိန်း + စားကြွင်း\n",
    "   64       =  48     * 1      + 16\n",
    "   48       =  16     * 3      + 0\n",
    "   16       =  0\n",
    "   Thus GDC is 16\n",
    "\n",
    " example 2;\n",
    " 4 and 18\n",
    " 18        =  4      * 4        + 2\n",
    " 4         =  2      * 2        + 0\n",
    " 2         = 0\n",
    " Thus; GCD is 2\n",
    "'''\n",
    "# using math.gcd() function\n",
    "\n",
    "import math\n",
    "print(math.gcd(64,48))\n",
    "print(math.gcd(4,18))"
   ]
  },
  {
   "cell_type": "code",
   "execution_count": 184,
   "id": "ce0acc26-53a1-4849-a2e5-6cfa8b937950",
   "metadata": {},
   "outputs": [
    {
     "data": {
      "text/html": [
       "<img src=\"exercises/gcd.png\" width=\"800\" height=\"800\"/>"
      ],
      "text/plain": [
       "<IPython.core.display.Image object>"
      ]
     },
     "execution_count": 184,
     "metadata": {},
     "output_type": "execute_result"
    }
   ],
   "source": [
    "from IPython.display import Image\n",
    "Image(url= \"exercises/gcd.png\", width=800, height=800)"
   ]
  },
  {
   "cell_type": "code",
   "execution_count": 187,
   "id": "1b276669-c637-4620-a102-9b6a8b69a81f",
   "metadata": {},
   "outputs": [
    {
     "name": "stdin",
     "output_type": "stream",
     "text": [
      "Enter first number : 48\n",
      "Enter second number : 64\n"
     ]
    },
    {
     "name": "stdout",
     "output_type": "stream",
     "text": [
      "16\n"
     ]
    }
   ],
   "source": [
    "def computeGCD(a,b):\n",
    "    if b == 0:\n",
    "        return a\n",
    "    else:\n",
    "        return computeGCD(b,a%b)\n",
    "num1 = int(input('Enter first number :'))\n",
    "num2 = int(input('Enter second number :'))\n",
    "print(computeGCD(num1,num2))\n"
   ]
  },
  {
   "cell_type": "code",
   "execution_count": 188,
   "id": "57e82dd3-99d4-4ee4-9566-83d70f25185a",
   "metadata": {},
   "outputs": [
    {
     "data": {
      "text/plain": [
       "16"
      ]
     },
     "execution_count": 188,
     "metadata": {},
     "output_type": "execute_result"
    }
   ],
   "source": [
    "64%48\n"
   ]
  },
  {
   "cell_type": "code",
   "execution_count": 189,
   "id": "39bf2e3c-dc93-4555-9e55-63561c1beb69",
   "metadata": {},
   "outputs": [
    {
     "data": {
      "text/plain": [
       "48"
      ]
     },
     "execution_count": 189,
     "metadata": {},
     "output_type": "execute_result"
    }
   ],
   "source": [
    "48%64"
   ]
  },
  {
   "cell_type": "code",
   "execution_count": 190,
   "id": "af86b347-43ab-4b12-ab41-3ade8a9ef533",
   "metadata": {},
   "outputs": [
    {
     "data": {
      "text/plain": [
       "4"
      ]
     },
     "execution_count": 190,
     "metadata": {},
     "output_type": "execute_result"
    }
   ],
   "source": [
    "4%18"
   ]
  },
  {
   "cell_type": "code",
   "execution_count": 195,
   "id": "c95834c6-4e6b-4ee6-9a36-53c5d6bf966a",
   "metadata": {},
   "outputs": [
    {
     "name": "stdin",
     "output_type": "stream",
     "text": [
      "Enter the number of rows : 11\n"
     ]
    },
    {
     "name": "stdout",
     "output_type": "stream",
     "text": [
      "                              1  \n",
      "                           2  1  2  \n",
      "                        3  2  1  2  3  \n",
      "                     4  3  2  1  2  3  4  \n",
      "                  5  4  3  2  1  2  3  4  5  \n",
      "               6  5  4  3  2  1  2  3  4  5  6  \n",
      "            7  6  5  4  3  2  1  2  3  4  5  6  7  \n",
      "         8  7  6  5  4  3  2  1  2  3  4  5  6  7  8  \n",
      "      9  8  7  6  5  4  3  2  1  2  3  4  5  6  7  8  9  \n",
      "   10 9  8  7  6  5  4  3  2  1  2  3  4  5  6  7  8  9  10 \n",
      "11 10 9  8  7  6  5  4  3  2  1  2  3  4  5  6  7  8  9  10 11 \n"
     ]
    }
   ],
   "source": [
    "# Exercise 25:\n",
    "'''\n",
    "print the patterns describe the below\n",
    "\n",
    "      1\n",
    "    2 1 2\n",
    "  3 2 1 2 3\n",
    "4 3 2 1 2 3 4\n",
    "\n",
    "'''\n",
    "num = int(input('Enter the number of rows :'))\n",
    "for i in range(1,num+1):\n",
    "    for j in range(1,num-i+1):\n",
    "        print(format(' ','<3'),end='')\n",
    "    for j in range(i,0,-1):\n",
    "        print(format(j,'<3'),end='')\n",
    "    for j in range(2,i+1):\n",
    "        print(format(j,'<3'),end='')\n",
    "    print()"
   ]
  },
  {
   "cell_type": "code",
   "execution_count": 196,
   "id": "9cf8f352-915b-40dc-85d0-46a89e90fd31",
   "metadata": {},
   "outputs": [
    {
     "name": "stdout",
     "output_type": "stream",
     "text": [
      "True\n"
     ]
    }
   ],
   "source": [
    "# Exercise 28\n",
    "p = (1,10)\n",
    "q = 0\n",
    "r = []\n",
    "if p or q and r:\n",
    "    print(\"True\")\n",
    "else:\n",
    "    print(\"False\")"
   ]
  },
  {
   "cell_type": "code",
   "execution_count": null,
   "id": "5eaab04e-5e75-4132-9e26-16f667ecf47a",
   "metadata": {},
   "outputs": [],
   "source": [
    "# Exercise 29: Don't run this it's infinate loop\n",
    "list1 = ['abc', '123']\n",
    "for i in list1:\n",
    "    list1.append(i)\n",
    "print(list1)"
   ]
  },
  {
   "cell_type": "code",
   "execution_count": 1,
   "id": "b647e410-1a21-41a6-b80d-3ce90e3732f7",
   "metadata": {},
   "outputs": [
    {
     "name": "stdout",
     "output_type": "stream",
     "text": [
      "[56, 3, 2, 78, 6, 0]\n",
      "[0, 3, 2, 78, 6, 56]\n"
     ]
    }
   ],
   "source": [
    "# Exercise 30 :\n",
    "'''\n",
    "Selection Sort Algorithm:\n",
    "1. Selection sort algorithm working (example)\n",
    "2. Algorithm\n",
    "3. write Program\n",
    "'''\n",
    "list1 = [56,3,2,78,6,0]\n",
    "print(list1)\n",
    "min_value = min(list1)\n",
    "min_index = list1.index(min_value)\n",
    "list1[0],list1[min_index] = list1[min_index],list1[0]\n",
    "print(list1)"
   ]
  },
  {
   "cell_type": "code",
   "execution_count": 2,
   "id": "71f9066c-c2cb-4a4e-b727-9de3fcb12231",
   "metadata": {},
   "outputs": [
    {
     "name": "stdout",
     "output_type": "stream",
     "text": [
      "[56, 3, 2, 78, 6, 0]\n",
      "[0, 2, 3, 6, 56, 78]\n"
     ]
    }
   ],
   "source": [
    "# Exercise 30 :\n",
    "'''\n",
    "Selection Sort Algorithm:\n",
    "1. Selection sort algorithm working (example)\n",
    "2. Algorithm\n",
    "3. write Program\n",
    "'''\n",
    "list1 = [56,3,2,78,6,0]\n",
    "print(list1)\n",
    "for i in range(len(list1)):\n",
    "    min_value = min(list1[i:])\n",
    "    min_index = list1.index(min_value)\n",
    "    list1[i],list1[min_index] = list1[min_index],list1[i]\n",
    "print(list1)"
   ]
  },
  {
   "cell_type": "code",
   "execution_count": 5,
   "id": "75a77325-3d1b-4c28-bec5-b8218bbb47ed",
   "metadata": {},
   "outputs": [
    {
     "name": "stdout",
     "output_type": "stream",
     "text": [
      "Unsorted List [56, 0, 2, 2, 6, 0]\n",
      "Sorted List [0, 0, 2, 2, 6, 56]\n"
     ]
    }
   ],
   "source": [
    "# Exercise 32: Sorting with Duplicate value\n",
    "list1 = [56,0,2,2,6,0]\n",
    "print('Unsorted List',list1)\n",
    "for i in range(len(list1)):\n",
    "    min_value = min(list1[i:])\n",
    "    min_index = list1.index(min_value,i) # list1.index(min_value,i)\n",
    "    list1[i],list1[min_index] = list1[min_index],list1[i]\n",
    "print('Sorted List',list1)"
   ]
  },
  {
   "cell_type": "code",
   "execution_count": 20,
   "id": "57e711f4-168b-4f7f-94dd-ca5dd969e2b3",
   "metadata": {},
   "outputs": [
    {
     "name": "stdout",
     "output_type": "stream",
     "text": [
      "Unsorted list : [10, 15, 4, 23, 0]\n",
      "compare  index 0 > index 1\n",
      "Condition is False. Thus; no need to change anything.\n",
      "[10, 15, 4, 23, 0]\n",
      "compare  index 1 > index 2\n",
      "swaping the index 1 with index 2\n",
      "[10, 4, 15, 23, 0]\n",
      "compare  index 2 > index 3\n",
      "Condition is False. Thus; no need to change anything.\n",
      "[10, 4, 15, 23, 0]\n",
      "compare  index 3 > index 4\n",
      "swaping the index 3 with index 4\n",
      "[10, 4, 15, 0, 23]\n",
      "1st Iteration of sorting is finished.\n",
      "Need to more iteration to finish the sorting the whole list.\n"
     ]
    }
   ],
   "source": [
    "# Exercise 35\n",
    "\"\"\"\n",
    "Bubble sort:\n",
    "-----------\n",
    "Some times referred as sinking sort, is simple sorting algorithm which sorts n number of elements in the list by comparing the each pair of adjacent itmes\n",
    "and swaps them if they are in wrong order.\n",
    "\n",
    "Algorithm:(Ascending order)\n",
    "\n",
    "1. Starting with the first element(index=0) compare the current element with the next element of the list.\n",
    "2. If the current element is greater than the next element of the list swap them.\n",
    "3. If the Current element is less than the next element, move to the next element. Repeat step 1.\n",
    "\"\"\"\n",
    "\n",
    "list1 = [10,15,4,23,0]\n",
    "print('Unsorted list :',list1)\n",
    "for i in range(len(list1)-1):\n",
    "    print(f'compare  index {i} > index {i+1}')\n",
    "    if list1[i] > list1[i+1]:\n",
    "        print(f'swaping the index {i} with index {i+1}')\n",
    "        list1[i],list1[i+1] = list1[i+1],list1[i]\n",
    "    else:\n",
    "        print('Condition is False. Thus; no need to change anything.')\n",
    "    print(list1)\n",
    "print(f'1st Iteration of sorting is finished.')\n",
    "print('Need to more iteration to finish the sorting the whole list.')    "
   ]
  },
  {
   "cell_type": "code",
   "execution_count": null,
   "id": "244e8abb-b905-4a34-be11-131122f56f25",
   "metadata": {},
   "outputs": [],
   "source": [
    "# Ascending Order\n",
    "list1 = [10,15,4,23,0]\n",
    "print('Unsorted list :',list1)\n",
    "for j in range(len(list1)-1):\n",
    "    for i in range(len(list1)-1):\n",
    "        print(f'compare  index {i} > index {i+1}')\n",
    "        if list1[i] > list1[i+1]:\n",
    "            print(f'swaping the index {i} with index {i+1}')\n",
    "            list1[i],list1[i+1] = list1[i+1],list1[i]\n",
    "        else:\n",
    "            print('Condition is False. Thus; no need to change anything.')\n",
    "        print(list1)    \n",
    "    print(f'{j+1}. Iteration of sorting is finished.')\n",
    "    print() # is line for new line\n",
    "print()\n",
    "print('Sorted List :',list1)"
   ]
  },
  {
   "cell_type": "code",
   "execution_count": 27,
   "id": "49378cd0-8030-463d-9d34-d81dc34684b9",
   "metadata": {},
   "outputs": [
    {
     "name": "stdout",
     "output_type": "stream",
     "text": [
      "Unsorted list : [10, 15, 4, 23, 0]\n",
      "compare  index 0 > index 1\n",
      "Condition is False. Thus; no need to change anything.\n",
      "[10, 15, 4, 23, 0]\n",
      "compare  index 1 > index 2\n",
      "swaping the index 1 with index 2\n",
      "[10, 4, 15, 23, 0]\n",
      "compare  index 2 > index 3\n",
      "Condition is False. Thus; no need to change anything.\n",
      "[10, 4, 15, 23, 0]\n",
      "compare  index 3 > index 4\n",
      "swaping the index 3 with index 4\n",
      "[10, 4, 15, 0, 23]\n",
      "1. Iteration of sorting is finished.\n",
      "\n",
      "compare  index 0 > index 1\n",
      "swaping the index 0 with index 1\n",
      "[4, 10, 15, 0, 23]\n",
      "compare  index 1 > index 2\n",
      "Condition is False. Thus; no need to change anything.\n",
      "[4, 10, 15, 0, 23]\n",
      "compare  index 2 > index 3\n",
      "swaping the index 2 with index 3\n",
      "[4, 10, 0, 15, 23]\n",
      "2. Iteration of sorting is finished.\n",
      "\n",
      "compare  index 0 > index 1\n",
      "Condition is False. Thus; no need to change anything.\n",
      "[4, 10, 0, 15, 23]\n",
      "compare  index 1 > index 2\n",
      "swaping the index 1 with index 2\n",
      "[4, 0, 10, 15, 23]\n",
      "3. Iteration of sorting is finished.\n",
      "\n",
      "compare  index 0 > index 1\n",
      "swaping the index 0 with index 1\n",
      "[0, 4, 10, 15, 23]\n",
      "4. Iteration of sorting is finished.\n",
      "\n",
      "\n",
      "Sorted List : [0, 4, 10, 15, 23]\n"
     ]
    }
   ],
   "source": [
    "# Ascending Order\n",
    "# **********Don't Repeat Iteration for the Sorted part**************\n",
    "list1 = [10,15,4,23,0]\n",
    "print('Unsorted list :',list1)\n",
    "for j in range(len(list1)-1):\n",
    "    for i in range(len(list1)-1-j):  # Don't Repeat Iteration for the Sorted part -j\n",
    "        print(f'compare  index {i} > index {i+1}')\n",
    "        if list1[i] > list1[i+1]:\n",
    "            print(f'swaping the index {i} with index {i+1}')\n",
    "            list1[i],list1[i+1] = list1[i+1],list1[i]\n",
    "        else:\n",
    "            print('Condition is False. Thus; no need to change anything.')\n",
    "        print(list1)    \n",
    "    print(f'{j+1}. Iteration of sorting is finished.')\n",
    "    print() # is line for new line\n",
    "print()\n",
    "print('Sorted List :',list1)"
   ]
  },
  {
   "cell_type": "code",
   "execution_count": 25,
   "id": "1569438e-9454-4586-835f-a2d6f6cf9b05",
   "metadata": {},
   "outputs": [
    {
     "name": "stdout",
     "output_type": "stream",
     "text": [
      "Unsorted list : [10, 15, 4, 23, 0]\n",
      "compare  index 0 > index 1\n",
      "swaping the index 0 with index 1\n",
      "[15, 10, 4, 23, 0]\n",
      "compare  index 1 > index 2\n",
      "Condition is False. Thus; no need to change anything.\n",
      "[15, 10, 4, 23, 0]\n",
      "compare  index 2 > index 3\n",
      "swaping the index 2 with index 3\n",
      "[15, 10, 23, 4, 0]\n",
      "compare  index 3 > index 4\n",
      "Condition is False. Thus; no need to change anything.\n",
      "[15, 10, 23, 4, 0]\n",
      "1. Iteration of sorting is finished.\n",
      "\n",
      "compare  index 0 > index 1\n",
      "Condition is False. Thus; no need to change anything.\n",
      "[15, 10, 23, 4, 0]\n",
      "compare  index 1 > index 2\n",
      "swaping the index 1 with index 2\n",
      "[15, 23, 10, 4, 0]\n",
      "compare  index 2 > index 3\n",
      "Condition is False. Thus; no need to change anything.\n",
      "[15, 23, 10, 4, 0]\n",
      "compare  index 3 > index 4\n",
      "Condition is False. Thus; no need to change anything.\n",
      "[15, 23, 10, 4, 0]\n",
      "2. Iteration of sorting is finished.\n",
      "\n",
      "compare  index 0 > index 1\n",
      "swaping the index 0 with index 1\n",
      "[23, 15, 10, 4, 0]\n",
      "compare  index 1 > index 2\n",
      "Condition is False. Thus; no need to change anything.\n",
      "[23, 15, 10, 4, 0]\n",
      "compare  index 2 > index 3\n",
      "Condition is False. Thus; no need to change anything.\n",
      "[23, 15, 10, 4, 0]\n",
      "compare  index 3 > index 4\n",
      "Condition is False. Thus; no need to change anything.\n",
      "[23, 15, 10, 4, 0]\n",
      "3. Iteration of sorting is finished.\n",
      "\n",
      "compare  index 0 > index 1\n",
      "Condition is False. Thus; no need to change anything.\n",
      "[23, 15, 10, 4, 0]\n",
      "compare  index 1 > index 2\n",
      "Condition is False. Thus; no need to change anything.\n",
      "[23, 15, 10, 4, 0]\n",
      "compare  index 2 > index 3\n",
      "Condition is False. Thus; no need to change anything.\n",
      "[23, 15, 10, 4, 0]\n",
      "compare  index 3 > index 4\n",
      "Condition is False. Thus; no need to change anything.\n",
      "[23, 15, 10, 4, 0]\n",
      "4. Iteration of sorting is finished.\n",
      "\n",
      "\n",
      "Sorted List : [23, 15, 10, 4, 0]\n"
     ]
    }
   ],
   "source": [
    "# Desending order\n",
    "list1 = [10,15,4,23,0]\n",
    "print('Unsorted list :',list1)\n",
    "for j in range(len(list1)-1):\n",
    "    for i in range(len(list1)-1):\n",
    "        print(f'compare  index {i} > index {i+1}')\n",
    "        if list1[i] < list1[i+1]:\n",
    "            print(f'swaping the index {i} with index {i+1}')\n",
    "            list1[i],list1[i+1] = list1[i+1],list1[i]\n",
    "        else:\n",
    "            print('Condition is False. Thus; no need to change anything.')\n",
    "        print(list1)    \n",
    "    print(f'{j+1}. Iteration of sorting is finished.')\n",
    "    print() # is line for new line\n",
    "print()\n",
    "print('Sorted List :',list1)"
   ]
  },
  {
   "cell_type": "code",
   "execution_count": 26,
   "id": "c6cc962d-224f-407d-aefe-fe908b1cecd3",
   "metadata": {},
   "outputs": [
    {
     "name": "stdout",
     "output_type": "stream",
     "text": [
      "Unsorted list : [10, 15, 4, 23, 0]\n",
      "compare  index 0 > index 1\n",
      "swaping the index 0 with index 1\n",
      "[15, 10, 4, 23, 0]\n",
      "compare  index 1 > index 2\n",
      "Condition is False. Thus; no need to change anything.\n",
      "[15, 10, 4, 23, 0]\n",
      "compare  index 2 > index 3\n",
      "swaping the index 2 with index 3\n",
      "[15, 10, 23, 4, 0]\n",
      "compare  index 3 > index 4\n",
      "Condition is False. Thus; no need to change anything.\n",
      "[15, 10, 23, 4, 0]\n",
      "1. Iteration of sorting is finished.\n",
      "\n",
      "compare  index 0 > index 1\n",
      "Condition is False. Thus; no need to change anything.\n",
      "[15, 10, 23, 4, 0]\n",
      "compare  index 1 > index 2\n",
      "swaping the index 1 with index 2\n",
      "[15, 23, 10, 4, 0]\n",
      "compare  index 2 > index 3\n",
      "Condition is False. Thus; no need to change anything.\n",
      "[15, 23, 10, 4, 0]\n",
      "2. Iteration of sorting is finished.\n",
      "\n",
      "compare  index 0 > index 1\n",
      "swaping the index 0 with index 1\n",
      "[23, 15, 10, 4, 0]\n",
      "compare  index 1 > index 2\n",
      "Condition is False. Thus; no need to change anything.\n",
      "[23, 15, 10, 4, 0]\n",
      "3. Iteration of sorting is finished.\n",
      "\n",
      "compare  index 0 > index 1\n",
      "Condition is False. Thus; no need to change anything.\n",
      "[23, 15, 10, 4, 0]\n",
      "4. Iteration of sorting is finished.\n",
      "\n",
      "\n",
      "Sorted List : [23, 15, 10, 4, 0]\n"
     ]
    }
   ],
   "source": [
    "# Desending order\n",
    "# **********Don't Repeat Iteration for the Sorted part**************\n",
    "list1 = [10,15,4,23,0]\n",
    "print('Unsorted list :',list1)\n",
    "for j in range(len(list1)-1):\n",
    "    for i in range(len(list1)-1-j):  # Don't Repeat Iteration for the Sorted part -j\n",
    "        print(f'compare  index {i} > index {i+1}')\n",
    "        if list1[i] < list1[i+1]:\n",
    "            print(f'swaping the index {i} with index {i+1}')\n",
    "            list1[i],list1[i+1] = list1[i+1],list1[i]\n",
    "        else:\n",
    "            print('Condition is False. Thus; no need to change anything.')\n",
    "        print(list1)    \n",
    "    print(f'{j+1}. Iteration of sorting is finished.')\n",
    "    print() # is line for new line\n",
    "print()\n",
    "print('Sorted List :',list1)"
   ]
  },
  {
   "cell_type": "code",
   "execution_count": 29,
   "id": "cd0c6218-67dc-45cb-b54b-3b0255ab2842",
   "metadata": {},
   "outputs": [
    {
     "name": "stdin",
     "output_type": "stream",
     "text": [
      "Enter a string : madam\n"
     ]
    },
    {
     "name": "stdout",
     "output_type": "stream",
     "text": [
      "madam is palindrome\n"
     ]
    }
   ],
   "source": [
    "# Exercise 37:\n",
    "\"\"\"\n",
    "Palindrome Program:\n",
    "-------------------\n",
    "-->madam<--\n",
    "-->1001<--\n",
    "step 1: input\n",
    "step 2: Reverse the input\n",
    "step 3: input VS reverse_input\n",
    "\n",
    "\"\"\"\n",
    "string = input('Enter a string :')\n",
    "rev_string = string[::-1]\n",
    "if string == rev_string:\n",
    "    print(f'{string} is palindrome.')\n",
    "else:\n",
    "    print(f'{string} is not palindrome.')"
   ]
  },
  {
   "cell_type": "code",
   "execution_count": 32,
   "id": "5907546f-5ecb-4484-95b8-6c1bd082523a",
   "metadata": {},
   "outputs": [
    {
     "name": "stdin",
     "output_type": "stream",
     "text": [
      "Enter a posit integer : 123\n"
     ]
    },
    {
     "name": "stdout",
     "output_type": "stream",
     "text": [
      "the sum of the digits of an integer is :6\n"
     ]
    }
   ],
   "source": [
    "# Exercise 38:\n",
    "'''\n",
    "Sum program:\n",
    "This is sum of each digit of an positive integer.\n",
    "example;\n",
    "number = 1234\n",
    "sum = 1+2+3+4 = 10\n",
    "\n",
    "'''\n",
    "num =  int(input('Enter a posit integer :'))\n",
    "result = 0 # initialize the result\n",
    "while num > 0:\n",
    "    digit = num % 10\n",
    "    result+=digit\n",
    "    num = num//10\n",
    "print(f'the sum of the digits of an integer is : {result}')"
   ]
  },
  {
   "cell_type": "code",
   "execution_count": 33,
   "id": "02a9a238-0842-4df8-ad7a-2c89230f45c2",
   "metadata": {},
   "outputs": [
    {
     "name": "stdin",
     "output_type": "stream",
     "text": [
      "Enter a posit integer : 123\n"
     ]
    },
    {
     "name": "stdout",
     "output_type": "stream",
     "text": [
      "the sum of the digits of an integer is : 6\n"
     ]
    }
   ],
   "source": [
    "num =  int(input('Enter a posit integer :'))\n",
    "result = 0 # initialize the result\n",
    "for i in range(len(str(num))):\n",
    "    digit = num % 10\n",
    "    result+=digit\n",
    "    num = num//10\n",
    "print(f'the sum of the digits of an integer is : {result}')"
   ]
  },
  {
   "cell_type": "code",
   "execution_count": 34,
   "id": "4d13d0be-94ef-4b81-99b5-d22e1bde615e",
   "metadata": {},
   "outputs": [
    {
     "name": "stdout",
     "output_type": "stream",
     "text": [
      "[['few', 'words']]\n",
      "['few', 'words']\n",
      "r\n"
     ]
    }
   ],
   "source": [
    "# Exercise 39:\n",
    "list1 = [\"These\", 'are', 'a',[\"few\", \"words\"], 'that', 'we', 'will', 'use']\n",
    "print(list1[3:4])\n",
    "print(list1[3:4][0])\n",
    "print(list1[3:4][0][1][2])"
   ]
  },
  {
   "cell_type": "code",
   "execution_count": 36,
   "id": "19efa1ba-d787-4eb7-bac4-0578135c1627",
   "metadata": {},
   "outputs": [
    {
     "name": "stdout",
     "output_type": "stream",
     "text": [
      "Unsorted list : [56, 26, 93, 17, 13, 44]\n",
      "Sorted list : [13, 17, 26, 44, 56, 93]\n"
     ]
    }
   ],
   "source": [
    "# Exercise 40,41,42:\n",
    "'''\n",
    "Quick Sort Algorithm:\n",
    "--------------------\n",
    "-> Also called as Partition Exchange Sort.\n",
    "-> Developed by Tony Hoare in 1959 and published in 1961.\n",
    "-> When implemented well it can be about 2 or 3 time faster than the its main competitors merge sort and heap sort.\n",
    "\n",
    "Quick sort:\n",
    "----------\n",
    "    -> Comparisom Sort\n",
    "    -> In_place\n",
    "    -> Unstable\n",
    "    -> Recursive Algorithm\n",
    "    \n",
    "Divide and Conquer Algorithm:\n",
    "-----------------------------\n",
    "1. Divide\n",
    "2. Conquer\n",
    "3. combine\n",
    "\n",
    "Pivot Element:\n",
    "--------------\n",
    "1.first element\n",
    "2.last element\n",
    "3.random element\n",
    "4.mediam of the three value(first,middle,last)\n",
    "\n",
    "\n",
    "(1) left <= right\n",
    "(2) list[left] <= pivot\n",
    "(3) list[right] >= pivot\n",
    "\n",
    "Algorith:\n",
    "---------\n",
    "1. Select the pivot element.\n",
    "2. Findout the correct position of pivot element in the list by rearring it.\n",
    "3. Divide the list based on pivot element.\n",
    "4. Sort the sublist recursively.\n",
    "'''\n",
    "# *********Ascending Order******************\n",
    "#********* First Element is Pivot Element********\n",
    "# To get the correct position of the pivot element \n",
    "def pivot_place(list1,first,last):\n",
    "    pivot = list1[first]\n",
    "    left = first+1\n",
    "    right = last\n",
    "    while True:\n",
    "        while left <= right and list1[left] <= pivot:\n",
    "            left += 1\n",
    "        while left <= right and list1[right] >= pivot:\n",
    "            right -= 1\n",
    "        if right < left:\n",
    "            break\n",
    "            \n",
    "        else:\n",
    "            list1[left],list1[right] = list1[right],list1[left]\n",
    "    list1[first],list1[right] = list1[right],list1[first]  \n",
    "    return right\n",
    "\n",
    "#\n",
    "def quickSort(list,first,last):\n",
    "    if first < last:\n",
    "        p = pivot_place(list1,first,last)\n",
    "        # recursive to the each sublist\n",
    "        quickSort(list1,first,p-1) # last = p-1 (p is return value of pivote_place() function) \n",
    "        quickSort(list1,p+1,last)\n",
    "        \n",
    "# main\n",
    "\n",
    "list1 = [56,26,93,17,13,44]\n",
    "print('Unsorted list :',list1)\n",
    "quickSort(list1,0,len(list1)-1)\n",
    "print('Sorted list :',list1)"
   ]
  },
  {
   "cell_type": "code",
   "execution_count": 37,
   "id": "52e41433-d28b-45f4-880d-a98dab0d7ee7",
   "metadata": {},
   "outputs": [
    {
     "name": "stdout",
     "output_type": "stream",
     "text": [
      "Unsorted list : [56, 26, 93, 17, 13, 44]\n",
      "Sorted list : [93, 56, 44, 26, 17, 13]\n"
     ]
    }
   ],
   "source": [
    "# *********Decending Order******************\n",
    "# To get the correct position of the pivot element \n",
    "def pivot_place(list1,first,last):\n",
    "    pivot = list1[first]\n",
    "    left = first+1\n",
    "    right = last\n",
    "    while True:\n",
    "        while left <= right and list1[left] >= pivot:\n",
    "            left += 1\n",
    "        while left <= right and list1[right] <= pivot:\n",
    "            right -= 1\n",
    "        if right < left:\n",
    "            break\n",
    "            \n",
    "        else:\n",
    "            list1[left],list1[right] = list1[right],list1[left]\n",
    "    list1[first],list1[right] = list1[right],list1[first]  \n",
    "    return right\n",
    "\n",
    "#\n",
    "def quickSort(list,first,last):\n",
    "    if first < last:\n",
    "        p = pivot_place(list1,first,last)\n",
    "        # recursive to the each sublist\n",
    "        quickSort(list1,first,p-1) # last = p-1 (p is return value of pivote_place() function) \n",
    "        quickSort(list1,p+1,last)\n",
    "        \n",
    "# main\n",
    "\n",
    "list1 = [56,26,93,17,13,44]\n",
    "print('Unsorted list :',list1)\n",
    "quickSort(list1,0,len(list1)-1)\n",
    "print('Sorted list :',list1)"
   ]
  },
  {
   "cell_type": "code",
   "execution_count": 38,
   "id": "7581732d-b1d4-437c-94dc-96cef665b377",
   "metadata": {},
   "outputs": [
    {
     "name": "stdout",
     "output_type": "stream",
     "text": [
      "Unsorted list : [56, 26, 93, 17, 13, 44]\n",
      "Sorted list : [13, 17, 26, 44, 56, 93]\n"
     ]
    }
   ],
   "source": [
    "#Exercise 43:\n",
    "\n",
    "# *********Ascending Order******************\n",
    "#********* Last Element is Pivot Element********\n",
    "# To get the correct position of the pivot element \n",
    "def pivot_place(list1,first,last):\n",
    "    #pivot = list1[first] # First elemtnt is pivot element\n",
    "    pivot = list1[last] # Last elemtnt is pivot element\n",
    "    #left = first+1 # First elemtnt is pivot element\n",
    "    left = first # Last elemtnt is pivot element\n",
    "    #right = last # First elemtnt is pivot element\n",
    "    right = last-1 # Last elemtnt is pivot element\n",
    "    while True:\n",
    "        while left <= right and list1[left] <= pivot: # for Asdending <= and for Decending >=\n",
    "            left += 1\n",
    "        while left <= right and list1[right] >= pivot: # for Asdending >= and for Decending <=\n",
    "            right -= 1\n",
    "        if right < left:\n",
    "            break\n",
    "            \n",
    "        else:\n",
    "            list1[left],list1[right] = list1[right],list1[left]\n",
    "    #list1[first],list1[right] = list1[right],list1[first] # First elemtnt is pivot element\n",
    "    list1[last],list1[left] = list1[left],list1[last]  # Last elemtnt is pivot element\n",
    "    #return right # First elemtnt is pivot element\n",
    "    return left  # Last elemtnt is pivot element\n",
    "\n",
    "#\n",
    "def quickSort(list,first,last):\n",
    "    if first < last:\n",
    "        p = pivot_place(list1,first,last)\n",
    "        # recursive to the each sublist\n",
    "        quickSort(list1,first,p-1) # last = p-1 (p is return value of pivote_place() function) \n",
    "        quickSort(list1,p+1,last)\n",
    "        \n",
    "# main\n",
    "\n",
    "list1 = [56,26,93,17,13,44]\n",
    "print('Unsorted list :',list1)\n",
    "quickSort(list1,0,len(list1)-1)\n",
    "print('Sorted list :',list1)"
   ]
  },
  {
   "cell_type": "code",
   "execution_count": 40,
   "id": "215105b4-8290-4d6a-a114-4b63796e8ae3",
   "metadata": {},
   "outputs": [
    {
     "name": "stdout",
     "output_type": "stream",
     "text": [
      "Unsorted list : [56, 26, 93, 17, 13, 44]\n",
      "Sorted list : [13, 17, 26, 44, 56, 93]\n"
     ]
    }
   ],
   "source": [
    "# *********Ascending Order******************\n",
    "#********* Random Element is Pivot Element********\n",
    "# To get the correct position of the pivot element \n",
    "import random\n",
    "def pivot_place(list1,first,last):\n",
    "    rindex = random.randint(first,last) # For random element of pivot element\n",
    "    list1[rindex],list1[last] = list1[last],list1[rindex] # For random element of pivot element\n",
    "    #pivot = list1[first] # First elemtnt is pivot element\n",
    "    pivot = list1[last] # Last elemtnt is pivot element\n",
    "    #left = first+1 # First elemtnt is pivot element\n",
    "    left = first # Last elemtnt is pivot element\n",
    "    #right = last # First elemtnt is pivot element\n",
    "    right = last-1 # Last elemtnt is pivot element\n",
    "    while True:\n",
    "        while left <= right and list1[left] <= pivot: # for Asdending <= and for Decending >=\n",
    "            left += 1\n",
    "        while left <= right and list1[right] >= pivot: # for Asdending >= and for Decending <=\n",
    "            right -= 1\n",
    "        if right < left:\n",
    "            break\n",
    "            \n",
    "        else:\n",
    "            list1[left],list1[right] = list1[right],list1[left]\n",
    "    #list1[first],list1[right] = list1[right],list1[first] # First elemtnt is pivot element\n",
    "    list1[last],list1[left] = list1[left],list1[last]  # Last elemtnt is pivot element\n",
    "    #return right # First elemtnt is pivot element\n",
    "    return left  # Last elemtnt is pivot element\n",
    "\n",
    "#\n",
    "def quickSort(list,first,last):\n",
    "    if first < last:\n",
    "        p = pivot_place(list1,first,last)\n",
    "        # recursive to the each sublist\n",
    "        quickSort(list1,first,p-1) # last = p-1 (p is return value of pivote_place() function) \n",
    "        quickSort(list1,p+1,last)\n",
    "        \n",
    "# main\n",
    "\n",
    "list1 = [56,26,93,17,13,44]\n",
    "print('Unsorted list :',list1)\n",
    "quickSort(list1,0,len(list1)-1)\n",
    "print('Sorted list :',list1)"
   ]
  },
  {
   "cell_type": "code",
   "execution_count": 4,
   "id": "897cb1f2-215a-4544-8f78-9f7f8cdf6c38",
   "metadata": {},
   "outputs": [
    {
     "name": "stdin",
     "output_type": "stream",
     "text": [
      "Enter the number : 121\n"
     ]
    },
    {
     "name": "stdout",
     "output_type": "stream",
     "text": [
      "121  is not prime number.But it is palindrome.\n"
     ]
    }
   ],
   "source": [
    "# Exercise 44:\n",
    "'''\n",
    "Palindromic Prime number\n",
    "example;\n",
    "--> 101  <-- palendrome prime number\n",
    "--> 121  <-- is palindrome but not prime number\n",
    "\n",
    "'''\n",
    "num = int(input('Enter the number :'))\n",
    "reverse = int(str(num)[::-1])\n",
    "if num == reverse: # check is palindrome\n",
    "    if num > 1: # check if positive number\n",
    "        for i in range(2,num):\n",
    "            if (num % i) == 0: # check is prime or not\n",
    "                print(num,' is not prime number.But it is palindrome.')\n",
    "                break\n",
    "\n",
    "        else:\n",
    "             print(num,' is palindrome prime number.') \n",
    "else:\n",
    "    if num > 1: # check if positive number\n",
    "        for i in range(2,num):\n",
    "            if (num % i) == 0: # check is prime or not\n",
    "                print(num,' is not prime number.as well as  it is not palindrome.')\n",
    "                break\n",
    "\n",
    "        else:\n",
    "             print(num,' is prime number.But is is not palindrome.')     "
   ]
  },
  {
   "cell_type": "code",
   "execution_count": 6,
   "id": "805934f5-d109-4257-8c94-b974076efe9d",
   "metadata": {},
   "outputs": [
    {
     "name": "stdin",
     "output_type": "stream",
     "text": [
      "Enter lower limit of number series : 1\n",
      "Enter upper limit of number series : 200\n"
     ]
    },
    {
     "name": "stdout",
     "output_type": "stream",
     "text": [
      "2\n",
      "3\n",
      "5\n",
      "7\n",
      "11\n",
      "101\n",
      "131\n",
      "151\n",
      "181\n",
      "191\n"
     ]
    }
   ],
   "source": [
    "lower = int(input('Enter lower limit of number series :'))\n",
    "upper = int(input('Enter upper limit of number series :'))\n",
    "for num in range(lower,upper+1):\n",
    "    reverse = int(str(num)[::-1])\n",
    "    if num == reverse: # check is palindrome\n",
    "        if num > 1: # check if positive number\n",
    "            for i in range(2,num):\n",
    "                if (num % i) == 0: # check is prime or not\n",
    "                    break\n",
    "            else:\n",
    "                 print(num) "
   ]
  },
  {
   "cell_type": "code",
   "execution_count": 10,
   "id": "2da5a621-4588-482e-9be6-1a1f942254aa",
   "metadata": {},
   "outputs": [
    {
     "name": "stdin",
     "output_type": "stream",
     "text": [
      "Enter a sentence : hello\n"
     ]
    },
    {
     "name": "stdout",
     "output_type": "stream",
     "text": [
      "2 vowels in given sentence.\n"
     ]
    }
   ],
   "source": [
    "# Exercise 45:\n",
    "'''\n",
    "Count the vowels at the given sentence.\n",
    "'''\n",
    "sentence = input('Enter a sentence :')\n",
    "string = sentence.lower()\n",
    "count = 0\n",
    "vowel_list = ['a', 'e', 'i', 'o', 'u']\n",
    "for char in sentence:\n",
    "    if char in vowel_list:\n",
    "        count+=1\n",
    "print(f'{count} vowels in given sentence.')\n",
    "        "
   ]
  },
  {
   "cell_type": "code",
   "execution_count": 12,
   "id": "9b8b9fa3-ef2d-4e9f-8d9e-6745a299f9e0",
   "metadata": {},
   "outputs": [
    {
     "name": "stdout",
     "output_type": "stream",
     "text": [
      "[0, 4]\n"
     ]
    }
   ],
   "source": [
    "# Exercise 46:\n",
    "'''\n",
    "Duplicate elements in the list\n",
    "'''\n",
    "list1 = [1,2,3,4,1,2,5,6,2,4,3,7,8]\n",
    "duplicate_list = [i for i in range(len(list1)) if list1[i] == 1]\n",
    "print(duplicate_list)"
   ]
  },
  {
   "cell_type": "code",
   "execution_count": null,
   "id": "670d0bd2-3970-4763-afa3-d29b0964fecf",
   "metadata": {},
   "outputs": [],
   "source": []
  },
  {
   "cell_type": "code",
   "execution_count": null,
   "id": "0fcc6028-a31b-4441-be34-19e985e3ec68",
   "metadata": {},
   "outputs": [],
   "source": []
  }
 ],
 "metadata": {
  "kernelspec": {
   "display_name": "Python 3 (ipykernel)",
   "language": "python",
   "name": "python3"
  },
  "language_info": {
   "codemirror_mode": {
    "name": "ipython",
    "version": 3
   },
   "file_extension": ".py",
   "mimetype": "text/x-python",
   "name": "python",
   "nbconvert_exporter": "python",
   "pygments_lexer": "ipython3",
   "version": "3.8.8"
  }
 },
 "nbformat": 4,
 "nbformat_minor": 5
}
