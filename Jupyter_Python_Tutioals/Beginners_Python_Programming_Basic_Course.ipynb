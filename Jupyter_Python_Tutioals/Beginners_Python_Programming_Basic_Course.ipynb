{
 "cells": [
  {
   "cell_type": "markdown",
   "metadata": {},
   "source": [
    "# 1. What's in it for you?\n",
    "#### * Introduction to Python\n",
    "#### * Python Installation\n",
    "#### * Python Basic\n",
    "#### * Conditional Statements & Loops\n",
    "#### * Object Oriented Programming\n",
    "#### * Functions in Python\n",
    "#### * Python Project"
   ]
  },
  {
   "cell_type": "markdown",
   "metadata": {},
   "source": [
    "# 1.Introduction to Python\n",
    "------------------------"
   ]
  },
  {
   "cell_type": "markdown",
   "metadata": {},
   "source": [
    "## 1.1 Python Programming Language"
   ]
  },
  {
   "cell_type": "markdown",
   "metadata": {
    "tags": []
   },
   "source": [
    " Python သည် high-level programming Language ၊ general-purposeနှင့် အလွန်ရေပန်းစားသော ပရိုဂရမ်းမင်းဘာသာစကားတစ်ခုဖြစ်သည်။ Python ပရိုဂရမ်းမင်းဘာသာစကား (နောက်ဆုံးပေါ် Python 3) ကို web development၊ Machine Learning အပလီကေးရှင်းများနှင့် ဆော့ဖ်ဝဲလ်စက်မှုလုပ်ငန်းနည်းပညာအားလုံးနှင့်အတူ အသုံးပြုလျက်ရှိသည်။ Python Programming Language သည် Beginners များအတွက်သာမက C++ နှင့် Java ကဲ့သို့သော အခြားသော programming language များဖြင့် အတွေ့အကြုံရင့် ပရိုဂရမ်မာများအတွက်လည်း အလွန်သင့်လျော်ပါသည်။Programming language များသည် သာမာန်အားဖြင့်တူညီကြပါသည် ။ ဒါကြောင့် Programming ကို စတင်လေ့လာမည့်သူများ အနေဖြင့် အလွယ်ကူဆုံး Python Programming language ကနေ စတင်လေ့လာစေလိုပါသည်။\n",
    " ယခု Python သင်ခန်းစာသည် ဥပမာများဖြင့် အခြေခံမှအဆင့်မြင့်အထိ (Web-scraping၊ Django၊ Deep-Learning စသည်ဖြင့်) ခေါင်းစဉ်များဖြင့် Python Programming Language ကို အထိရောက်ဆုံးနည်းဖြင့် ကူညီပေးပါမည်။"
   ]
  },
  {
   "cell_type": "markdown",
   "metadata": {},
   "source": [
    "## 1.2 Some facts about Python Programming Language:   "
   ]
  },
  {
   "cell_type": "markdown",
   "metadata": {},
   "source": [
    "1. Python is currently the most widely used multi-purpose, high-level programming    language.\n",
    "    \n",
    "2. Python allows programming in Object-Oriented and Procedural paradigms.\n",
    "    \n",
    "3. Python programs generally are smaller than other programming languages like Java. \n",
    "   Programmers have to type relatively less and indentation requirement of the language, makes them readable all the time.\n",
    "     \n",
    "4. Python language is being used by almost all tech-giant companies like – \n",
    "    Google, Amazon, Facebook, Instagram, Dropbox, Uber… etc.\n",
    "    \n",
    "5. The biggest strength of Python is huge collection of standard library which can be used for the following:\n",
    "   \n",
    "        (a)Machine Learning\n",
    "        (b)GUI Applications (like Kivy, Tkinter, PyQt etc. )\n",
    "        (c)Web frameworks like Django (used by YouTube, Instagram, Dropbox)\n",
    "        (d)Image processing (like OpenCV, Pillow)\n",
    "        (e)Web scraping (like Scrapy, BeautifulSoup, Selenium)\n",
    "        (f)Test frameworks\n",
    "        (g)Multimedia\n",
    "        (h)Scientific computing\n",
    "        (i)Text processing and many more.."
   ]
  },
  {
   "cell_type": "markdown",
   "metadata": {},
   "source": [
    "### 1.2.1 Features of Python"
   ]
  },
  {
   "cell_type": "code",
   "execution_count": null,
   "metadata": {},
   "outputs": [],
   "source": [
    "from IPython.display import Image\n",
    "Image(url= \"Features of Python.png\", width=800, height=800)"
   ]
  },
  {
   "cell_type": "markdown",
   "metadata": {},
   "source": [
    "### 1.2.2 Programming paradigms \n",
    "There are several different programming paradigms that a programming language may allow developers to code in, these are:"
   ]
  },
  {
   "cell_type": "markdown",
   "metadata": {},
   "source": [
    "• **Procedural Programming** in which a program is represented as a sequence of instructions that tell the computer what it should do explicitly. Procedures and/ or functions are used to provide structure to the program; with control structures such as if statements and loop constructs to manage which steps are executed and how many times. Languages typifying this approach include C and Pascal."
   ]
  },
  {
   "cell_type": "markdown",
   "metadata": {},
   "source": [
    "• **Declarative Programming languages**, such as Prolog, that allow developers to describe how a problem should be solved, with the language/environment determining how the solution should be implemented. SQL (a database query language) is one of the most common declarative languages that you are likely to encounter."
   ]
  },
  {
   "cell_type": "markdown",
   "metadata": {
    "tags": []
   },
   "source": [
    "• **Object Oriented Programming** approaches that represent a system in terms of the objects that form that system. Each object can hold its own data (also known as state) as well as deﬁne behaviour that deﬁnes what the object can do. A computer program is formed from a set of these objects co-operating together. Languages such as Java and C# typify the object oriented approach."
   ]
  },
  {
   "cell_type": "markdown",
   "metadata": {},
   "source": [
    "• **Functional Programming languages** decompose a problem into a set of functions. Each function is independent of any external state, operating only on the inputs they received to generate their outputs. The programming language Haskell is an example of a functional programming language. \n",
    "\n",
    "   "
   ]
  },
  {
   "cell_type": "markdown",
   "metadata": {},
   "source": [
    "   Some programming languages are considered to be hybrid languages; \n",
    "   that is they allow developers to utilise a combination of difference approaches within the same program. \n",
    "**Python is an example of a hybrid programming language** as it allowsyou to write very procedural code, to use objects in an object oriented manner and to write functional programs."
   ]
  },
  {
   "cell_type": "markdown",
   "metadata": {},
   "source": [
    "### Procedural Programming of ကြက်ကညွတ်ဟင်းလျာ\n",
    "\n",
    "http://shwemintharlay.blogspot.com/2011/12/blog-post_06.html\n",
    "\n",
    "ကြက်ကညွတ်ဟင်းလျာ\n",
    "--------------\n",
    "\n",
    "    ပါဝင်ပစ္စည်းများ\n",
    "    ကြက်သား(အသား) - ၁၀ ကျပ်သား\n",
    "    တရုတ်ပဲငါးပိ (ယိုးဒယားမှဝင်သော ပုလင်းနှင့်ပဲငါးပိ) - ထမင်းစားဇွန်း ၃ ဇွန်း၊\n",
    "    စိမ်းပြီးနုနေတဲ့ ကညွတ်ဆယ်ချောင်းစည်း - တစ်စည်း\n",
    "    ကြက်သွန်နီ လေးလုံး ။\n",
    "\n",
    "ပြုလုပ်ပုံအဆင့်ဆင့်\n",
    "-----------\n",
    "    ကြက်သားအသားလေးတွေကိုပဲ ခပ်ပါးပါးလှီးပြီး ဟင်းခတ်မှုန့် ဆား၊နနွင်းတို့နဲ့ နယ်ပြီး နှပ်ထားပါ။ \n",
    "    ကညွတ်အချောင်းလေးတွေကိုတော့ရေစင်အောင်ဆေးပြီး အရင်းပိုင်းက ခပ်ရင့်ရင့်အပိုင်းတွေကိုလှီးဖြတ်လိုက်ပါ။ \n",
    "    ပြီးရင်တော့ အနေတော် သုံးပိုင်းပိုင်းပြီးကညွတ်ချောင်းလေးတွေကို ခပ်ဖွဖွလေး ဓားပြားရိုက်ရပါမယ်။ \n",
    "    အချောင်းလေးတွေပုံမပျက်စေဖို့ အရေးကြီးပါတယ်။ \n",
    "    နောက်ဆုံးပြင်ရမှာကတော့ ကြက်သွန်ဥနီပဲဖြစ်ပါတယ်။ \n",
    "    ကြက်သွန်နီကို အလုံးလိုက် အကွင်းလေးတွေကွင်းပြီးလှီးထားရပါမယ်။\n",
    "    စချက်ပြီဆိုရင်တော့ ဆီအနည်းငယ်ထဲကို ကြက်သွန်နီကို အရင်ထည့်ပြီးအကွင်းလိုက်လေးတွေ ထွက်သွားတဲ့အထိ မွှေပေးပါ။\n",
    "    ပြီးရင် ကြက်သားထည့်ပြီးဆီနဲ့ လုံးသွားအောင် မွှေပေးရပါမယ်။ \n",
    "    ပြီးရင်တော့ ကြက်သားနူးသွားအောင်ရေနည်းနည်း ထည့်ပြီး အုပ်ပေးပါ။ \n",
    "    ရေခန်းသွားပြီး ဆီသံ ညံလာပြီဆိုရင်တော့ဓားပြားရိုက်ထားတဲ့ ကညွတ်ကို မီးပြင်းပြင်းမှာထည့်ပြီး မွှေပေးပါ။\n",
    "    မီးအားကောင်းမှ ကညွတ်က အစိမ်းရောင် မပျက်ဘဲ နူးညံ့သွားမှာပါ။\n",
    "    အသီးအရွက်ကို ကျက်မှ၊ နူးမှ ကြိုက်တဲ့သူတွေကတော့ ရေလေးနည်းနည်းဖျန်းပေးပြီး မွှေပေးရပါမယ်။ \n",
    "    ကညွတ်ချောင်းလေးတွေ စိမ်းပြီးနူးလောက်ပြီးဆိုရင်တော့ ပုလင်းထဲက တရုတ်ပဲငါးပိကိုသုံးဇွန်းလောက်ခပ်ထည့်ပါ။ \n",
    "    ပဲငါးပိအရည်က အလေးဘက် သွားတာကြောင့်ခပ်ပေါ့ပေါ့စားချင်သူတွေ အရည်ကို စစ်ပြီး ပဲအစေ့လေးတွေကိုပဲထည့်သင့်ပါတယ်။ \n",
    "    အရသာပေါ်ကြည့်ပြီး အရည်ကိုချိန်ဆပြီး ထပ်ထည့်လို့လည်းရပါတယ်။ \n",
    "    ပဲငါးပိထည့်ပြီးသွားရင်တော့ ၃၊၄ ခါလောက်မွှေပေးပြီးချလိုက်လို့ရပါပြီ။\n",
    "\n",
    "https://myanmarjapanlife.com/2020/01/29/coconut-noodle-recipe-myanmar/\n",
    "\n",
    "https://www.youtube.com/watch?v=ICUyrMH-Q5Q&ab_channel=EainChat"
   ]
  },
  {
   "cell_type": "code",
   "execution_count": null,
   "metadata": {},
   "outputs": [],
   "source": [
    "# OOP မုန်တီ class\n",
    "from IPython.display import Image\n",
    "Image(url = \"./ခိုတောင်မုန့်တီ/ခိုတောင်မုန့်တီclass.jpg\", width =800, height = 600)"
   ]
  },
  {
   "cell_type": "code",
   "execution_count": null,
   "metadata": {},
   "outputs": [],
   "source": [
    "# OOP မုန်တီ object/ instance\n",
    "from IPython.display import Image\n",
    "Image(url = \"./ခိုတောင်မုန့်တီ/ခိုတောင်မုန့်တီobject.jpg\", width =800, height = 600)"
   ]
  },
  {
   "cell_type": "code",
   "execution_count": null,
   "metadata": {},
   "outputs": [],
   "source": [
    "# Functional Programming ofဒင်းဆန်း\n",
    "from IPython.display import Image\n",
    "Image(url = \"./ပေါက်စီ/ပေါက်စီ.jpeg\", width =400, height = 300)"
   ]
  },
  {
   "cell_type": "markdown",
   "metadata": {},
   "source": [
    "### 1.2.3 Python Language advantages and applications"
   ]
  },
  {
   "cell_type": "code",
   "execution_count": null,
   "metadata": {},
   "outputs": [],
   "source": [
    "from IPython.display import Image\n",
    "Image(url = \"Guido-van-rossum-kimdir-python.jpg\", width =800, height = 600)"
   ]
  },
  {
   "cell_type": "markdown",
   "metadata": {},
   "source": [
    "Python is a high-level, interpreted, and general-purpose dynamic programming language that focuses on code readability. \n",
    "\n",
    "It has fewer steps when compared to Java and C. \n",
    "\n",
    "It was founded in 1991 by developer **Guido Van Rossum**. \n",
    "\n",
    "Python ranks among the most popular and fastest-growing languages in the world. \n",
    "\n",
    "Python is a powerful, flexible, and easy-to-use language. \n",
    "\n",
    "In addition, the community is very active there. It is used in many organizations as it supports multiple programming paradigms. \n",
    "\n",
    "It also performs automatic memory management."
   ]
  },
  {
   "cell_type": "code",
   "execution_count": null,
   "metadata": {},
   "outputs": [],
   "source": [
    "from IPython.display import Image\n",
    "Image(url = \"guido_hero.jpg\", width =800, height = 600)"
   ]
  },
  {
   "cell_type": "markdown",
   "metadata": {},
   "source": [
    "Advantages :\n",
    "\n",
    "    1.Presence of third-party modules\n",
    "    \n",
    "    2.Extensive support libraries\n",
    "    (NumPy for numerical calculations, Pandas for data analytics etc) \n",
    "    \n",
    "    3.Open source and community development \n",
    "    \n",
    "    4.Versatile, Easy to read, learn and write\n",
    "    \n",
    "    5.User-friendly data structures \n",
    "    6.High-level language \n",
    "    \n",
    "    7.Dynamically typed language\n",
    "    (No need to mention data type based on the value assigned, it takes data type) \n",
    "    \n",
    "    8.Object-oriented language \n",
    "    \n",
    "    9.Portable and Interactive\n",
    "    \n",
    "    10.Ideal for prototypes – provide more functionality with less coding\n",
    "    \n",
    "    11.Highly Efficient\n",
    "    (Python’s clean object-oriented design provides enhanced process control, and the language is equipped with excellent text processing and integration capabilities, as well as its own unit testing framework, which makes it more efficient.)\n",
    "    \n",
    "    12.(IoT)Internet of Things Opportunities\n",
    "    \n",
    "    13.Interpreted Language\n",
    "    \n",
    "    14.Portable across Operating systems "
   ]
  },
  {
   "cell_type": "code",
   "execution_count": null,
   "metadata": {},
   "outputs": [],
   "source": [
    "from IPython.display import Image\n",
    "Image(url = \"Applications  of Python.png\", width =800, height = 600)"
   ]
  },
  {
   "cell_type": "markdown",
   "metadata": {},
   "source": [
    "Applications : \n",
    "\n",
    "    1.GUI based desktop applications\n",
    "    2.Graphic design, image processing applications, Games, and Scientific/ computational Applications\n",
    "    3.Web frameworks and applications \n",
    "    4.Enterprise and Business applications \n",
    "    5.Operating Systems \n",
    "    6.Education\n",
    "    7.Database Access\n",
    "    8.Language Development \n",
    "    9.Prototyping \n",
    "    10.Software Development\n",
    "     "
   ]
  },
  {
   "cell_type": "code",
   "execution_count": null,
   "metadata": {},
   "outputs": [],
   "source": [
    "Image(url = \"Top-Companies-Using-Python-1.jpg\", width =800, height = 600)"
   ]
  },
  {
   "cell_type": "markdown",
   "metadata": {},
   "source": [
    "Organizations using Python : \n",
    "\n",
    "    1.Google(Components of Google spider and Search Engine) \n",
    "    2.Yahoo(Maps) \n",
    "    3.YouTube \n",
    "    4.Mozilla \n",
    "    5.Dropbox \n",
    "    6.Microsoft \n",
    "    7.Cisco \n",
    "    8.Spotify \n",
    "    9.Quora "
   ]
  },
  {
   "cell_type": "markdown",
   "metadata": {},
   "source": [
    "# 2. Python Installation"
   ]
  },
  {
   "cell_type": "markdown",
   "metadata": {},
   "source": [
    "## 2.1 Python Installation on your mechine"
   ]
  },
  {
   "cell_type": "markdown",
   "metadata": {},
   "source": [
    "https://www.python.org/\n",
    "https://www.python.org/downloads/"
   ]
  },
  {
   "cell_type": "markdown",
   "metadata": {},
   "source": [
    "## 2.2 Text Editor and IDE"
   ]
  },
  {
   "cell_type": "markdown",
   "metadata": {},
   "source": [
    "https://www.knowledgehut.com/blog/programming/best-python-ides-code-editors-guide\n",
    "\n",
    "https://www.datacamp.com/community/tutorials/top-python-ides-for-2019"
   ]
  },
  {
   "cell_type": "code",
   "execution_count": null,
   "metadata": {},
   "outputs": [],
   "source": [
    "from IPython.display import Image\n",
    "Image(url = \"python-ides-1024x406.png\", width =800, height = 600)"
   ]
  },
  {
   "cell_type": "code",
   "execution_count": null,
   "metadata": {},
   "outputs": [],
   "source": [
    "from IPython.display import Image\n",
    "Image(url = \"IDE_meaning.png\", width =600, height = 350)"
   ]
  },
  {
   "cell_type": "markdown",
   "metadata": {},
   "source": [
    "# 3. Basic Python\n",
    "---"
   ]
  },
  {
   "cell_type": "markdown",
   "metadata": {},
   "source": [
    "Python Programming ကို စတင်လေ့လာတော့မည် ဆိုပါက ။ ပထမ အချက်အနေဖြင့် Python programming Terms တွေ ကို အရင် သိအောင်လေ့လာရပါမည် ။\n",
    "နောက်တဆင့် အနေဖြင့် Data Types များတည်ဆောက်ထားကို နားလည်သဘောပေါက်ရပါမည် ။ နောက်မှာတော့  Python Programing ရေးသာပုံ နှင့် Data Type များကိုပေါင်းစပ်ပြီး အလုပ်လုပ်တဲ့ Action များဖြစ်ပေါ်လာအောင်တည်ဆောက်ကြရမယ် ။instruction set/functions များတည်ဆောက်ခြင်းပေါ့ ။Beginnerတစ်ဦးအနေနဲ့ ထပ်ခါထပ်ခါ လေ့ကျင့်ပြီးနောက်မှာတော့ Intermediate , Advance Level ကိုတက်လှမ်းပြီး software developer တစ်ဦးအဖြစ်ရပ်တည်နိုင်ရမည် ။"
   ]
  },
  {
   "cell_type": "markdown",
   "metadata": {},
   "source": [
    "ပထမဆုံး Python Programming ရေးသားပုံလေ့လာရမည့် Terms တွေကတော့ keywords,comments , variables , operators and operans တွေဖြစ်ပါတယ်  ။"
   ]
  },
  {
   "cell_type": "markdown",
   "metadata": {},
   "source": [
    "## 3.1 Python Keywords"
   ]
  },
  {
   "cell_type": "markdown",
   "metadata": {},
   "source": [
    "keywords တွေကတော့ Python ရဲ့ reserverd words တွေဖြစ်တယ် ။ ဒီ keywords  တွေကိုတော့ အခြား variable name, function name နှင့် အခြား သတ်မှတ်ချက်တွေမှာ ထည့်သွင်းသတ်မှတ်လို့ မရပါဘူး။"
   ]
  },
  {
   "cell_type": "code",
   "execution_count": 2,
   "metadata": {},
   "outputs": [
    {
     "name": "stdout",
     "output_type": "stream",
     "text": [
      "\n",
      "Here is a list of the Python keywords.  Enter any keyword to get more help.\n",
      "\n",
      "False               class               from                or\n",
      "None                continue            global              pass\n",
      "True                def                 if                  raise\n",
      "and                 del                 import              return\n",
      "as                  elif                in                  try\n",
      "assert              else                is                  while\n",
      "async               except              lambda              with\n",
      "await               finally             nonlocal            yield\n",
      "break               for                 not                 \n",
      "\n"
     ]
    }
   ],
   "source": [
    "# keyword များအား help function ဖြင့်ခေါ်ကြည့်နိုင်ပါတယ် ။\n",
    "help('keywords')"
   ]
  },
  {
   "cell_type": "markdown",
   "metadata": {},
   "source": [
    "keywards တွေအကြောင်းကို အနည်းငယ်ပြောလိုပါတယ် ။ နောက်ပိုင်း သက်ဆိုင်ရာ အခန်းများမှာ အလုပ်လုပ်ပုံကို အကျယ်တဝန်းရှင်းလင်းပြသသွားပါမယ် ။"
   ]
  },
  {
   "cell_type": "markdown",
   "metadata": {},
   "source": [
    "#### 3.1.1 True/False/None"
   ]
  },
  {
   "cell_type": "markdown",
   "metadata": {},
   "source": [
    "Truen/False ကတော့ Python ရဲ့ boolean Data Type မှာ condition true နှင့် condition false Data Type တွေဖြစ်ပါတယ် ။Computer ရဲ့  Two state Condition ဖြစ်တဲ့  0 နဲ့ 1 ပါ ။Data Type boolean အခန်းမှာ အကျယ်ရှင်းပြပါ့မယ် ။\n",
    "None ကတော့ အထူးသတ်မှတ်ထားတဲ့ null တန်ဖိုး Python Data Type အမျိုးအစားတစ်ခုဖြစ်ပါတယ်။ အထူးမှတ်သားထားရမှာက သုည  0 , empty container variable(ဥပမာ empty list)တို့နဲ့ မတူပါဘူး\n",
    "None က None value သီးသန့်ရှိနေပါတယ် ။  None value ကို  variable မှာ ထည့်သွင်းသတ်မှတ်နိုင်ပါတယ် ။ \n",
    "မမဆောင်းလိုပါပဲ တန်ဖိုးတော့မရှိဘူး ဒါပေမဲ့ တန်ဖိုးတော့ရှိတယ် ။ None is the abstance of Value."
   ]
  },
  {
   "cell_type": "code",
   "execution_count": null,
   "metadata": {},
   "outputs": [],
   "source": [
    "print(int(True))\n",
    "print(int(False))\n",
    "print(None)\n",
    "print(None==True)\n",
    "print(None==False)\n",
    "print(None == 0)\n",
    "print(None ==[])"
   ]
  },
  {
   "cell_type": "markdown",
   "metadata": {},
   "source": [
    "#### 3.1.2 and/or/not/is/in "
   ]
  },
  {
   "cell_type": "markdown",
   "metadata": {},
   "source": [
    "and က python ရဲ့ Logical operator တစ်ခုဖြစ်ပါတယ် ။ ပထမဆုံးတွေ့တဲ့ False တန်ဖိုး Return ပြန်ပါတယ် ။ မတွေ့ရင် နောက်ဆုံးတွေ့တဲ့ value Return ပြန်ပါတယ် ။\n",
    "သူ့ရဲ့ သီအိုရီက မှတ်ရခက်ပြီး နားလည်ရခက်ပါတယ် ။ အလွယ်မှတ်ရင်တော့ ပထမ အမှားတွေ့တာနဲ့ False Return ပြန်မယ် ။ မတွေ့ရင် ဆက်စစ်မယ် ။ မတွေ့တော့ရင် True ပြန်တယ် လို့မှတ်ပေးပါ ။လွဲနေပေမဲ့ မှန်ပါတယ် ။\n",
    "\n",
    "    1 and 0 return 0\n",
    "    0 and 1 return 0\n",
    "    1 and 2 return 2"
   ]
  },
  {
   "cell_type": "code",
   "execution_count": null,
   "metadata": {},
   "outputs": [],
   "source": [
    "from IPython.display import Image\n",
    "Image(url = \"./Logical_operator/and249x300.png\", width =250, height = 300)"
   ]
  },
  {
   "cell_type": "markdown",
   "metadata": {
    "tags": []
   },
   "source": [
    "or က Python ရဲ့ Logical Operator တစ်ခုဖြစ်ပါတယ် ။ ပထမဆုံးတွေ့တဲ့ True တန်ဖိုး Return ပြန်ပါတယ် ။ မတွေ့ရင်တော့ နောက်ဆုံး value Return ပြန်ပါတယ် ။\n",
    "\n",
    "    1 or 0 return 1\n",
    "    0 or 1 return 1\n",
    "    2 or 1 return 2\n",
    "    0 or 0 or 3 or 1 return 3"
   ]
  },
  {
   "cell_type": "code",
   "execution_count": 3,
   "metadata": {},
   "outputs": [
    {
     "data": {
      "text/html": [
       "<img src=\"./Logical_operator/or250x300.png\" width=\"250\" height=\"300\"/>"
      ],
      "text/plain": [
       "<IPython.core.display.Image object>"
      ]
     },
     "execution_count": 3,
     "metadata": {},
     "output_type": "execute_result"
    }
   ],
   "source": [
    "from IPython.display import Image\n",
    "Image(url = \"./Logical_operator/or250x300.png\", width =250, height = 300)\n"
   ]
  },
  {
   "cell_type": "markdown",
   "metadata": {},
   "source": [
    "not က Python ရဲ့ Logical Operator တစ်ခုဖြစ်ပါတယ် ။ not က True value ကို False Value ပြောင်းတယ် ။ False value ကို True value ပြောင်းပြစ်ပါတယ် ။"
   ]
  },
  {
   "cell_type": "markdown",
   "metadata": {},
   "source": [
    "in က Python ရဲ့ Membership Operator တစ်ခုဖြစ်ပါတယ် ။ Python Container variable တွေမှာ တူညီတဲ့တန်ဖိုးတစ်ခုပါဝင်ခြင်းရှိမရှိစစ်ဆေးနိုင်ပါတယ် ။ \n",
    "sequential variable နှင့် container variables တွေမှာ Looping လုပ်ရာမှာလည်း သုံးနိုင်ပါတယ် ။\n"
   ]
  },
  {
   "cell_type": "markdown",
   "metadata": {},
   "source": [
    "is က Python ရဲ့  identity Operator တစ်ခုဖြစ်ပါတယ် ။ Python Objects တွေ ကို တူညီတဲ့ memory address မှာ ရှိမရှိကို စစ်ဆေးနိုင်ပါတယ် ။"
   ]
  },
  {
   "cell_type": "markdown",
   "metadata": {},
   "source": [
    "#### 3.1.3 Iteration Keywords – for, while, break, continue"
   ]
  },
  {
   "cell_type": "markdown",
   "metadata": {},
   "source": [
    "    for: This keyword is used to control flow and for looping.\n",
    "    while: Has a similar working like “for”, used to control flow and for looping.\n",
    "    break: “break” is used to control the flow of the loop. The statement is used to break out of the loop and passes the control to the statement following immediately after loop.\n",
    "    continue: “continue” is also used to control the flow of code. The keyword skips the current iteration of the loop but does not end the loop."
   ]
  },
  {
   "cell_type": "markdown",
   "metadata": {},
   "source": [
    "#### 3.1.4 Conditional keywords – if, else, elif"
   ]
  },
  {
   "cell_type": "markdown",
   "metadata": {},
   "source": [
    "    if : It is a control statement for decision making. Truth expression forces control to go in “if” statement block.\n",
    "    else : It is a control statement for decision making. False expression forces control to go in “else” statement block.\n",
    "    elif : It is a control statement for decision making. It is short for “else if“"
   ]
  },
  {
   "cell_type": "markdown",
   "metadata": {},
   "source": [
    "#### 3.1.5 def\n",
    "\n",
    "def keyword is used to declare user defined functions."
   ]
  },
  {
   "cell_type": "markdown",
   "metadata": {},
   "source": [
    "#### 3.1.6 class\n",
    "\n",
    "class keyword is used to declare user defined classes."
   ]
  },
  {
   "cell_type": "markdown",
   "metadata": {},
   "source": [
    "#### 3.1.6 Return Keywords – Return, Yield\n",
    "\n",
    "    return : This keyword is used to return from the function.\n",
    "    yield : This keyword is used like return statement but is used to return a generator."
   ]
  },
  {
   "cell_type": "markdown",
   "metadata": {},
   "source": [
    "#### 3.1.7 With\n",
    "\n",
    "with keyword is used to wrap the execution of block of code within methods defined by context manager. This keyword is not used much in day to day programming."
   ]
  },
  {
   "cell_type": "markdown",
   "metadata": {},
   "source": [
    "#### 3.1.8 as\n",
    "\n",
    "as keyword is used to create the alias for the module imported. i.e giving a new name to the imported module. E.g import math as mymath."
   ]
  },
  {
   "cell_type": "markdown",
   "metadata": {},
   "source": [
    "#### 3.1.9 pass\n",
    "\n",
    "pass is the null statement in python. Nothing happens when this is encountered. This is used to prevent indentation errors and used as a placeholder."
   ]
  },
  {
   "cell_type": "markdown",
   "metadata": {},
   "source": [
    "#### 3.1.10 Lambda\n",
    "\n",
    "Lambda keyword is used to make inline returning functions with no statements allowed internally. "
   ]
  },
  {
   "cell_type": "markdown",
   "metadata": {},
   "source": [
    "#### 3.1.11 Import, From\n",
    "\n",
    "    import : This statement is used to include a particular module into current program.\n",
    "    from : Generally used with import, from is used to import particular functionality from the module imported."
   ]
  },
  {
   "cell_type": "markdown",
   "metadata": {},
   "source": [
    "#### 3.1.12 Exception Handling Keywords – try, except, raise, finally, and assert\n",
    "\n",
    "    try : This keyword is used for exception handling, used to catch the errors in the code using the keyword except. Code in “try” block is checked, if there is any type of error, except block is executed.\n",
    "    except : As explained above, this works together with “try” to catch exceptions.\n",
    "    finally : No matter what is result of the “try” block, block termed “finally” is always executed.\n",
    "    raise: We can raise an exception explicitly with the raise keyword\n",
    "    assert: This function is used for debugging purposes. Usually used to check the correctness of code. If a statement is evaluated to be true, nothing happens, but when it is false, “AssertionError” is raised. One can also print a message with the error, separated by a comma."
   ]
  },
  {
   "cell_type": "markdown",
   "metadata": {},
   "source": [
    "#### 3.1.13 del\n",
    "\n",
    "del is used to delete a reference to an object. Any variable or list value can be deleted using del."
   ]
  },
  {
   "cell_type": "markdown",
   "metadata": {},
   "source": [
    "#### 3.1.14 Global, Nonlocal\n",
    "\n",
    "    global: This keyword is used to define a variable inside the function to be of a global scope.\n",
    "    non-local : This keyword works similar to the global, but rather than global, this keyword declares a variable to point to variable of outside enclosing function, in case of nested functions."
   ]
  },
  {
   "cell_type": "markdown",
   "metadata": {},
   "source": [
    "##  3.2 Statement, Indentation and Comment in Python"
   ]
  },
  {
   "cell_type": "markdown",
   "metadata": {},
   "source": [
    "### 3.2.1 Statement\n",
    "Program  ဆိုတာ instruction set ညွန်ကြားချက် အစုအဝေးကြီးဖြစ်တယ် ။ ညွန်ကြားချက်များရေးသားရာမှာ Statements တွေနဲ့ ရေးရတယ် ။ Statements တွေ ကိုတော့ \n",
    "\n",
    "        1.Assignment Statements\n",
    "        \n",
    "        2.Conditional Statements\n",
    "        \n",
    "        3.Looping Statements ဆိုပြီးခွဲခြားနိုင်တယ် ။"
   ]
  },
  {
   "cell_type": "markdown",
   "metadata": {},
   "source": [
    "Assignment Statement \n",
    "num = 50 \n",
    "တစ်ခါတစ်ရံမှာ multi-Line Statements အနေနဲ့ ရေးသားခြင်ရင်တော့ \n",
    "    parentheses (),\n",
    "    braces {}, \n",
    "    square brackets[] , \n",
    "    semi-colon (;)တို့နဲ့ရေးသားပြီး\n",
    "ရှည်လျားတဲ့ statements တွေကို coding line တစ်ကြောင်းတည်း ရေးသားရန် ခက်ခဲတဲ့အခါမျိုးမှာ \\ ကို အသုံးပြုပြီး တဆက်တစပ်တည်းဖြစ်ကြောင်းဖော်ပြနိုင်တယ်။\n",
    "\n",
    "Declared using Continuation Character (\\):\n",
    "s = 1 + 2 + 3 + \\\n",
    "    4 + 5 + 6 + \\\n",
    "    7 + 8 + 9\n",
    "\n",
    "Declared using parentheses () :\n",
    "n = (1 * 2 * 3 + 7 + 8 + 9)\n",
    "\n",
    "Declared using square brackets [] :\n",
    "footballer = ['MESSI',\n",
    "          'NEYMAR',\n",
    "          'SUAREZ']\n",
    "\n",
    "Declared using braces {} :\n",
    "x = {1 + 2 + 3 + 4 + 5 + 6 +\n",
    "     7 + 8 + 9}\n",
    "\n",
    "Declared using semicolons(;) :\n",
    "flag = 2; ropes = 3; pole = 4"
   ]
  },
  {
   "cell_type": "code",
   "execution_count": null,
   "metadata": {},
   "outputs": [],
   "source": []
  },
  {
   "cell_type": "markdown",
   "metadata": {},
   "source": [
    "### 3.2.2 Indentation\n",
    "သီးခြားရည်ရွယ်ချက်တစ်ခုအတွက် လုပ်ဆောင်ချက်တစ်ခုအတွက် statements တွေစုထားတာကို  Block လိုခေါ်တယ် ။ အခြား programming Language (C, C++,Java )တို့မှာတော့ {} ကို block code အနေနဲ့ သတ်မှတ်လေ့ ရှိပေမဲ့ Python Programming မှာတော့ white space အကွာအဝေးနဲ့ သတ်မှတ်တာကို အထူးသတိပြုရမယ် ။"
   ]
  },
  {
   "cell_type": "markdown",
   "metadata": {
    "tags": []
   },
   "source": [
    "### 3.2.3 Comment\n",
    "----------\n",
    "    comments တွေရေးသားထားခြင်းဖြင့် မိမိ code တွေကို မိမိကိုယ်တိုင်အတွက်ရော အခြား Developers တွေအတွက်ပါ အလွယ်တူနားလည်သေဘာပေါက်စေပါတယ် ။ အချိန်ကြာလာလို့ မိမိကုတ်ကို ပြင်ဆင်ခြင်း ၊ ဖြည့်စွပ်ခြင်းနှင့် bugs fixing လုပ်တာမျိုးမှာ code မှာ comments များရေးသားထားခြင်းကြောင့် code ရဲ့ အစိတ်အပိုင်းများက ဘာအတွက်ရေးသားထားကြောင်း Developer ကိုအထောက်အကူပြုစေပါတယ် ။ \n",
    "    comments တွေမှာတော့ single line commente နှင့် Multi Lines comments ဆိုပြီး နှစ်မျိုးရှိပါတယ် ။\n",
    "    single line commenteကို #tag ကို ရှေ့ဆုံးမှာထားရေးရပြီး normal comment နှင့်  endline or inline comment ရေးသားပုံ ၂ မျိုး ရှိပါတယ် ။\n",
    "    multi lines comments တွေကိုတော့ double quotations (or single quotations) ၃ ခုကို ရှေ့ဆုံးနှင့်နော်ဆုံးမှာ ထားရေးလေ့ရှိပါတယ် ။\n",
    "    ဥပမာ ။ ။\n",
    "    \n",
    "    single sline comment \n",
    "    # this is a single line comment\n",
    "    \n",
    "    Multi Lines comments\n",
    "        '''\n",
    "            Multi Lines comments\n",
    "            စာကြောင်းအများ ကြီး အတွက် comments ရေးသားခြင်း\n",
    "        '''\n",
    "            \n",
    "            \n",
    "       \"\"\" အနေနဲ့လည်း အသုံးပြုနိုင်တယ်\"\"\"\n",
    "     comments တွေကိုတော့ Python Intepretor က အလုပ်မလုပ်ပဲ ကျော်သွားမှာ ဖြစ်ပါတယ် ။  \n",
    "     အချို့ ကျွမ်းကျင် ပညာရှင်တွေကတော့ Multi Lines comments တွေကိုလည်း #tag အများကြီးနဲ့ ရေးသားဖို့ အကြံပြုကြပါတယ် ။ ဘာလို့လည်းဆိုတော့ double quotations (or single quotations) ၃ ခုဖြင့်ရေးသားခြင့်း ကို function,modules,class တွေ မှာ docstring အဖြစ်အသုံးပြုလို့ပါပဲ ။      \n",
    "     doc string များအကြောင်းနောက်မှ အကျယ် တစ်ဝန်းပြောပြတော့မယ် ။"
   ]
  },
  {
   "cell_type": "code",
   "execution_count": null,
   "metadata": {},
   "outputs": [],
   "source": [
    "#This is normal comment\n",
    "print('Hello world!') # endline/inline comment\n",
    "'''\n",
    "အကြောင်းအရာများ မှတ်သားထားရန် နှင့် နောင်တစ်ချိန် အခြား programmer များက ကြည့်ရင် ဘာလုပ်ထားတယ်ဆိုတာသိရှိစေရန်ရေးသည် ။\n",
    "    writting commment is best practise!\n",
    "    \n",
    "'''"
   ]
  },
  {
   "cell_type": "code",
   "execution_count": null,
   "metadata": {},
   "outputs": [],
   "source": [
    "help(__doc__)"
   ]
  },
  {
   "cell_type": "markdown",
   "metadata": {},
   "source": [
    " ## 3.2 Variables and Expressions\n",
    " ---\n",
    " Algebra သင်္ချာဘာသာရပ်မှာ ကျနော်တို့ အသုံးပြုလေ့ရှိတာလေးတစ်ခုကို ပြန်မြင်ကြည့်ကြရအောင် ။ x = 10 ဖြစ်ပါစေဆိုပြီး ကျနော်တို့ ရေးခဲ့ကြပါတယ် ။  ဒီနေရာမှာ x က variable ဖြစ်ပြီး 10 ကို ကိုယ်စားပြုပါတယ် ။ Python programming မှာလည်း အဲ့ဒီလိုပါပဲ ပိုမိုထူးခြားတာကတော့ Python progeamming မှာ variable ကို ကိန်းဂဏာန်းတွေသာမက ပဲ ကိန်းဂဏာန်းမဟုတ်တာတွေကိုရော အခြား Dataအစုအဝေး/Data အစီအစဥ် တွေကိုပါ variable အနေနဲ့ အသုံးပြုလို့ ရမှာဖြစ်ပါတယ် ။\n",
    "Collection of Data နှင့် Sequential Data တွေ ကို နောက်မှ အကျယ်ရှင်းလင်းပေးပါ့မယ် ။ လက်တလောအနေနဲ့ ကိန်းဂဏာန်းမဟုတ်တဲ့ Data အစုအဝးဖြစ်တဲ့ String အကြောင်းကို အနည်းငယ်သိထားရပါ့မယ် ။ String တွေ ဆိုတာ ကတော့ characterအစုအဝေးဖြစ်ပြီး သူကို variable မှာ assignပြုလုပ်မယ် ဆိုရင်တော့ single quotations or double quotations နဲ့ရေးသားရပါတယ် ။"
   ]
  },
  {
   "cell_type": "markdown",
   "metadata": {},
   "source": [
    "### 3.2.1 Variables"
   ]
  },
  {
   "cell_type": "code",
   "execution_count": null,
   "metadata": {},
   "outputs": [],
   "source": [
    "first_name = 'Agga'\n",
    "last_name = 'William'\n",
    "age = 40\n",
    "saved = 999.99\n",
    "print('Hello '+first_name+ ' '+last_name) # String concatnation\n",
    "print('Hello',first_name,last_name)\n",
    "print(f'{first_name} {last_name} was saved {saved}$ .')"
   ]
  },
  {
   "cell_type": "code",
   "execution_count": null,
   "metadata": {},
   "outputs": [],
   "source": [
    "print('Hello! World!')\n",
    "name = input('Enter Your name : \\n')\n",
    "print('Hello', name)\n",
    "name = input('What is the name of your best frind : \\n')\n",
    "print('Really! Your best Friend is ',name ,'!  My best friend also',name,'.')"
   ]
  },
  {
   "cell_type": "markdown",
   "metadata": {},
   "source": [
    "Variable ဆိုတာ သတ်မှတ်ထားတဲ့ အချိန် ကာလ တစ်ခုအထိပဲ တန်ဖိုးရှိနေတယ် ။ နောက် အမျိုးမျိုးပြောင်းလဲနိုင်တယ် ။"
   ]
  },
  {
   "cell_type": "markdown",
   "metadata": {},
   "source": [
    " #### 3.2.1.1 Variable Naming Rules"
   ]
  },
  {
   "cell_type": "markdown",
   "metadata": {},
   "source": [
    "https://en.wikipedia.org/wiki/Naming_convention_(programming)\n",
    "\n",
    "    Formatting \tName(s)\n",
    "\n",
    "    twowords \tflatcase\n",
    "    TWOWORDS \tUPPERFLATCASE\n",
    "    twoWords \t(lower) camelCase, dromedaryCase\n",
    "    TwoWords \tPascalCase, UpperCamelCase, StudlyCase\n",
    "    two_words \tsnake_case, pothole_case\n",
    "    TWO_WORDS \tSCREAMING_SNAKE_CASE, MACRO_CASE, CONSTANT_CASE\n",
    "    two_Words \tcamel_Snake_Case\n",
    "    Two_Words \tPascal_Snake_Case\n",
    "    two-words \tkebab-case, dash-case, lisp-case, spinal-case\n",
    "    TWO-WORDS \tTRAIN-CASE, COBOL-CASE, SCREAMING-KEBAB-CASE\n",
    "    Two-Words \tTrain-Case,HTTP-Header-Case"
   ]
  },
  {
   "cell_type": "markdown",
   "metadata": {
    "tags": []
   },
   "source": [
    "##### Python and Ruby"
   ]
  },
  {
   "cell_type": "markdown",
   "metadata": {
    "tags": []
   },
   "source": [
    "Python and Ruby both recommend UpperCamelCase/PascaleCase for class names,\n",
    "\n",
    "ဥပမာ ။ ။\n",
    "\n",
    "    class ClassName()  \n",
    "class name တွေမှာ သုံးတယ်"
   ]
  },
  {
   "cell_type": "markdown",
   "metadata": {},
   "source": [
    "CAPITALIZED_WITH_UNDERSCORES for constants,\n",
    "\n",
    "ဥပမာ ။ ။\n",
    "\n",
    "    CONSTANT_VARIABLE = 1.43   \n",
    "constant variable တွေမှာ သုံးတယ်"
   ]
  },
  {
   "cell_type": "markdown",
   "metadata": {},
   "source": [
    "lowercase_separated_by_underscores for other names.\n",
    "\n",
    "ဥပမာ ။ ။\n",
    "\n",
    "    another_normal_vaiable = 2022\n",
    "အခြား variables တွေမှာသုံးတယ်"
   ]
  },
  {
   "cell_type": "markdown",
   "metadata": {},
   "source": [
    "In Python, if a name is intended to be \"private\", it is prefixed by one or two underscores (in Python it's more or less a hack). Private variables are enforced in Python only by convention. Names can also be suffixed with an underscore to prevent conflict with Python keywords. Prefixing with double underscores changes behaviour in classes with regard to name mangling. Prefixing and suffixing with double underscores are reserved for \"magic names\" which fulfill special behaviour in Python objects.\n",
    "\n",
    "ဥပမာ ။ ။\n",
    "\n",
    "    _weak_private\n",
    "    __private\n",
    "    __dounder__"
   ]
  },
  {
   "cell_type": "markdown",
   "metadata": {},
   "source": [
    "- သာမှန် variables တွေကြေငြာမယ်ဆို ရင် snake_case  သုံးသင့်ပါတယ် ။\n",
    "- အစကို lowercase သို့မဟုတ် (_) underscore နဲ့ စလို့ရပါတယ် ။ _ နဲ့ စတာကတော့ Python ရဲ့ weak private variable တွေကိုသုံးပါတယ် ။\n",
    "- Variable Name တွေရဲ့ အစ ကို Number သုံးလို့ မရပါဘူး။\n",
    "- \\- ခွင့်မပြုဘူး\n",
    "- keywords တွေခွင့်မပြုပါဘူး။\n",
    "- case sensitive ဖြစ်ပါတယ် ။"
   ]
  },
  {
   "cell_type": "markdown",
   "metadata": {},
   "source": [
    "\n",
    "\n",
    "    snake_case\n",
    "    Start with lowercase or underscore\n",
    "    Letters, numbers, underscores\n",
    "    Case Sensitive\n",
    "    Don't  Overwrite keywords\n",
    "    \n",
    "    eg :\n",
    "    snake_case = 10\n",
    "    snak3_case = 20\n",
    "    "
   ]
  },
  {
   "cell_type": "code",
   "execution_count": null,
   "metadata": {},
   "outputs": [],
   "source": [
    "    snake_case = 10\n",
    "    snak3_case = 20\n",
    "    print(snake_case)\n",
    "    print(snak3_case)"
   ]
  },
  {
   "cell_type": "code",
   "execution_count": null,
   "metadata": {},
   "outputs": [],
   "source": [
    "print(Snake_Case) # Case Sensitive ဖြစ်ပါတယ် snake_case နဲ့  Snake_Case မတူပါဘူး ။"
   ]
  },
  {
   "cell_type": "code",
   "execution_count": null,
   "metadata": {},
   "outputs": [],
   "source": [
    "help('keywords')"
   ]
  },
  {
   "cell_type": "markdown",
   "metadata": {},
   "source": [
    "## 3.3 Expressions VS Statements\n",
    "\n",
    "Statements represent an action or command e.g print statements, assignment statements.\n",
    "print 'hello', x = 1\n",
    "\n",
    "Expression is a combination of variables, operations and values that yields a result value.\n",
    "5 * 5 # yields 25\n",
    "\n",
    "Lastly, expression statements\n",
    "print 5*5\n",
    "\n",
    "    Expression  ဆို တာဖော်ပြချက် အကြောင်းတရားတစ်ခုဖြစ်ပြီး  statement ကတော့ Arithmetic Operators တွေနဲ့ အခြား Python Builtin Function  တစ်ခုခုကို သုံးပြီး execution လုပ်ထားတာ ကို ခေါ်ပါတယ် ။ Expressions တွေကြောင့် Statements ဖြစ်လာနိုင်ပါတယ် ။ အကြောင်းတရားရှိလို့ အကျိုးတာရားဖြစ်လာတာပါ။\n",
    "    ဥပမာ ။ ။\n",
    "    Expression\n",
    "    5 + 10 \n",
    "    An Expression always evaluates (calculate) to itself.\n",
    "    \n",
    "     income  = 500\n",
    "     income_tex = income * 0.05\n",
    "     print(income_text)\n",
    "     \n",
    "     ဒီမှာ ကြည့်ရင်  5+10 က Expression ဖြစ်ပြီး ၊ \n",
    "     print(5 + 10 )  ဆိုရင်တော့ Statement တစ်ခုဖြစ်သွားပါပြီ ။\n",
    "     \n",
    "     income = 500 ကတော့ Statement ပါ ။\n",
    "     income_tex = income * 0.05 က Statement ဖြစ်ပါတယ် ။ "
   ]
  },
  {
   "cell_type": "code",
   "execution_count": null,
   "metadata": {},
   "outputs": [],
   "source": [
    "5+10 # Expression\n",
    "\n",
    "# return value <-- 5 + 10 "
   ]
  },
  {
   "cell_type": "code",
   "execution_count": null,
   "metadata": {},
   "outputs": [],
   "source": [
    "# statement using buit in print function\n",
    "income = 500\n",
    "income_tex  = income * 0.05\n",
    "print(income_tex)"
   ]
  },
  {
   "cell_type": "markdown",
   "metadata": {},
   "source": [
    "#### Difference between Expressions and Statements in Python:"
   ]
  },
  {
   "cell_type": "markdown",
   "metadata": {},
   "source": [
    "    Expression                                                              Statement\n",
    "    ---------                                                               ----------\n",
    "    "
   ]
  },
  {
   "cell_type": "markdown",
   "metadata": {},
   "source": [
    "    An expression evaluates to a value\t                                    A statement executes something  "
   ]
  },
  {
   "cell_type": "markdown",
   "metadata": {},
   "source": [
    "    The evaluation of a statement does not changes state\t                The execution of a statement changes state"
   ]
  },
  {
   "cell_type": "markdown",
   "metadata": {},
   "source": [
    "    Evaluation of an expression always Produces or returns a result value.  Execution of a statement may or may not produces or displays a                                                                            result value, it only does whatever the statement says.   "
   ]
  },
  {
   "cell_type": "markdown",
   "metadata": {},
   "source": [
    "    Every expression can’t be a statement.\t                                Every statement can be an expression.    "
   ]
  },
  {
   "cell_type": "markdown",
   "metadata": {},
   "source": [
    "    Example: >>> 4 + 16                                                     Example: >>> x = 3 "
   ]
  },
  {
   "cell_type": "markdown",
   "metadata": {},
   "source": [
    "     >>> 20\t                                                                >>> print(x)"
   ]
  },
  {
   "cell_type": "markdown",
   "metadata": {},
   "source": [
    "                                                                               Output: 3"
   ]
  },
  {
   "cell_type": "code",
   "execution_count": null,
   "metadata": {},
   "outputs": [],
   "source": [
    "num = 10\n",
    "Num = 5\n",
    "print(num)\n",
    "print(Num)"
   ]
  },
  {
   "cell_type": "code",
   "execution_count": null,
   "metadata": {},
   "outputs": [],
   "source": [
    "num-1 = 10  # variables တွေမှာ - အသုံးပြုလို့မရပါဘူး\n",
    "print(num-1)"
   ]
  },
  {
   "cell_type": "markdown",
   "metadata": {},
   "source": [
    "Assigning Multiple Variables in a Single Line"
   ]
  },
  {
   "cell_type": "code",
   "execution_count": null,
   "metadata": {
    "tags": []
   },
   "outputs": [],
   "source": [
    "x,y,z,name = 10,20,99.9,'Kyaw Myo Swe'\n",
    "print(x)\n",
    "print(y)\n",
    "print(z)\n",
    "print(name)"
   ]
  },
  {
   "cell_type": "markdown",
   "metadata": {},
   "source": [
    "Assigning Same Value to Multiple Variables"
   ]
  },
  {
   "cell_type": "code",
   "execution_count": null,
   "metadata": {},
   "outputs": [],
   "source": [
    "a=e=i=o=u = 'is vowel'\n",
    "print(a)\n",
    "print(e)\n",
    "print(i)\n",
    "print(o)\n",
    "print(u)"
   ]
  },
  {
   "cell_type": "markdown",
   "metadata": {},
   "source": [
    "variables တွေက objects တွေကို သိမ်းစည်းထားသည့် pointer containers များသာဖြစ်သည် ။\n",
    "values များကို သိမ်းစည်းထားခြင်း မဟုတ် ။\n",
    "ဥပမာ အနေနဲ့ပြောရရင် စာကြည့်တိုက်တွေမှာ  ကွန်ပျုတာတွေနဲ့ Library management system မပြုလုပ်ခင်က စာအုပ်ရှာတဲ့ ကတ်တလော့ catlog နဲ့တူပါတယ် ။\n",
    "ဘယ်စာအုပ်က ဘယ်နားမှာသိမ်းထားတယ် ဆိုတာပြတာပါ။ သူနေရာမှာ စာအုပ်ကို သိမ်းမထားပါဘူး ။"
   ]
  },
  {
   "cell_type": "code",
   "execution_count": null,
   "metadata": {},
   "outputs": [],
   "source": [
    "x = 50\n",
    "y = 50\n",
    "print('x: ',id(x))\n",
    "print('y: ',id(y))\n",
    "y = 75\n",
    "print('y: ',id(y))"
   ]
  },
  {
   "cell_type": "code",
   "execution_count": null,
   "metadata": {},
   "outputs": [],
   "source": [
    "x = 50\n",
    "y = 50\n",
    "print(id(x))\n",
    "print(id(y))\n",
    "y = 100\n",
    "print(id(x))\n",
    "print(id(y))\n",
    "x = 'hello'\n",
    "print(id(x))"
   ]
  },
  {
   "cell_type": "code",
   "execution_count": 1,
   "metadata": {},
   "outputs": [
    {
     "name": "stdin",
     "output_type": "stream",
     "text": [
      "Enter the Name :  kyaw Myo Swe\n",
      "Enter the age :  42\n",
      "Enter the genter(Male/Female) :  Male\n",
      "Enter the City :  Mandalay\n",
      "Are you married(True/False) :  True\n"
     ]
    },
    {
     "name": "stdout",
     "output_type": "stream",
     "text": [
      "~~~~~~~~~~~~~~~~~~~~~~~~~~~~~~~~~~~~~~~~~~~~~~~~~~~~~~~~~~~~~~~~~~~~~~~~~~~~~~~~\n",
      "Result of Changing variables\n",
      "~~~~~~~~~~~~~~~~~~~~~~~~~~~~~~~~~~~~~~~~~~~~~~~~~~~~~~~~~~~~~~~~~~~~~~~~~~~~~~~~\n",
      "kyaw Myo Swe is a man.\n",
      "\n",
      "He is 42 years old.\n",
      "\n",
      "He lives in Mandalay.\n",
      "\n",
      "He is married man.\n"
     ]
    }
   ],
   "source": [
    "name = input('Enter the Name : ')\n",
    "age = int(input('Enter the age : '))\n",
    "genter = input('Enter the genter(Male/Female) : ')\n",
    "city = input('Enter the City : ')\n",
    "married = input('Are you married(True/False) : ')\n",
    "if married == 'False' or married == 0 or married =='':\n",
    "    married = False\n",
    "if genter == 'Male':\n",
    "    genter_pronoun = 'He'\n",
    "    if age <=18 :\n",
    "        level = 'boy'\n",
    "    else :\n",
    "        level = 'man'\n",
    "else :\n",
    "    genter_pronoun = 'She'\n",
    "    if age <=18 :\n",
    "        level = 'girl'\n",
    "    else:\n",
    "        level = 'woman'\n",
    "if married:\n",
    "    married_condition = 'is married'\n",
    "else :\n",
    "    married_condition ='is a singel'\n",
    "print('~'*80)\n",
    "print('Result of Changing variables')\n",
    "print('~'*80)\n",
    "print(f\"\"\"{name} is a {level}.\\n\n",
    "{genter_pronoun} is {age} years old.\\n\n",
    "{genter_pronoun} lives in {city}.\\n\n",
    "{genter_pronoun} {married_condition} {level}.\"\"\")"
   ]
  },
  {
   "cell_type": "markdown",
   "metadata": {},
   "source": [
    "## 3.4 Fundamental Data types\n",
    "---"
   ]
  },
  {
   "cell_type": "markdown",
   "metadata": {},
   "source": [
    "### Numeric Type\n",
    "      int\n",
    "      float\n",
    "      complex\n",
    "### bool Type\n",
    "### Sequence Type\n",
    "      string\n",
    "      list\n",
    "      tuple\n",
    "### set\n",
    "### dictionary\n",
    "    \n",
    "    \n",
    "### Custom types -> Class\n",
    "\n",
    "### Specialized Data Types\n",
    "      Modules    \n",
    "      None\n",
    "    "
   ]
  },
  {
   "cell_type": "code",
   "execution_count": 4,
   "metadata": {},
   "outputs": [
    {
     "data": {
      "text/html": [
       "<img src=\"Python Data Types.png\" width=\"600\" height=\"600\"/>"
      ],
      "text/plain": [
       "<IPython.core.display.Image object>"
      ]
     },
     "execution_count": 4,
     "metadata": {},
     "output_type": "execute_result"
    }
   ],
   "source": [
    "Image(url=\"Python Data Types.png\", width = 600, height = 600)"
   ]
  },
  {
   "cell_type": "markdown",
   "metadata": {},
   "source": [
    "### 3.4.1 Python ရဲ့ Objects အားလုံးမှာ အရေးကြီးတဲ့  propertises ၃ ခုနဲ့ဖွဲ့စည်းထားပါတယ် ။\n",
    "#### 1. Type\n",
    "#### 2. Indentity\n",
    "#### 3. Value\n",
    "\n",
    "#### 1.Identity  \n",
    "-------------\n",
    "Memory ပေါ်မှာ object ကိုသိမ်းစည်းထားတဲ့နေရာဖြစ်ပါတယ် ။\n",
    "Object တစ်ခုတည်ဆောက်ပြီးရင် object ရဲ့ identity ကို ပြင်လို့မရတော့ပါဘူး ။ \n",
    "id(object) method နဲ့ object ရဲ့ id ကိုကြည့်နိုင်ပါတယ် ။ integer value နဲ့ပြပါလိပ်မယ် ။\n",
    "\n",
    "#### 2.Type\n",
    "------------\n",
    "Object တွေရဲ့ Type ကလည်း id လိုပဲ ပြင်ဆင်ခွင့်မရှိပါဘူး ။\n",
    "type(object) function ကို အသုံးပြုပြီး objects types များကို ကြည့်ရှု့နိုင်ပါတယ် ။\n",
    "\n",
    "#### 3.Value\n",
    "-----\n",
    "Value ကတော့ object ရဲ့အမှန်တကယ် သိမ်းစည်းလိုက်တဲ့ တန်ဖိုးဖြစ်ပါတယ် ။\n",
    "စာသား (text ) နဲ့ သိမ်းစည်းရင် string type object ဖြစ်ပြီး ၊ ဂဏန်းတန်ဖိုး (numeric) နဲ့ သိမ်းမယ်ဆိုရင် integer type object ဖြစ်ပါမယ် ။\n"
   ]
  },
  {
   "cell_type": "code",
   "execution_count": null,
   "metadata": {},
   "outputs": [],
   "source": [
    "print(id('hello')) # id\n",
    "print(type('hello')) #type\n",
    "print('hello')  # value\n",
    "print('-' * 80)\n",
    "a = 5\n",
    "print(id(a)) # id\n",
    "print(type(a)) # type\n",
    "print(a) # value\n",
    "print('-' * 80)\n",
    "PI = 3.14   \n",
    "print(id(PI))   # id\n",
    "print(type(PI)) # type\n",
    "print(PI)       # value"
   ]
  },
  {
   "cell_type": "code",
   "execution_count": null,
   "metadata": {},
   "outputs": [],
   "source": []
  },
  {
   "cell_type": "markdown",
   "metadata": {},
   "source": [
    "### 3.4.2 Numeric Types and Type Conversions\n",
    "----------------------------------\n",
    "    -integer\n",
    "    -float\n",
    "    -complex\n",
    "\n"
   ]
  },
  {
   "cell_type": "code",
   "execution_count": null,
   "metadata": {},
   "outputs": [],
   "source": [
    "integer_variable = 10\n",
    "float_variable = 10.99\n",
    "complex_variable = 3 + 5j\n",
    "print(integer_variable)\n",
    "print(float_variable)\n",
    "print(complex_variable)\n",
    "print(type(integer_variable))\n",
    "print(type(float_variable))\n",
    "print(type(complex_variable))"
   ]
  },
  {
   "cell_type": "code",
   "execution_count": null,
   "metadata": {},
   "outputs": [],
   "source": [
    "print('Integer Type မှ String Type သို့ပြောင်းလဲထုတ်ပေးလိုက်သော်လည်း မူလ Integer Type ပြောင်းလဲမှု မရှိတာကိို တွေ့ရပါတယ်')\n",
    "print(str(integer_variable))\n",
    "print(type(integer_variable))\n",
    "print('float Type မှ Integer Type သို့ပြောင်းလဲထုတ်ပေးလိုက်သော်လည်း မူလ  float Type ပြောင်းလဲမှု မရှိတာကိို တွေ့ရပါတယ်')\n",
    "print(int(float_variable))\n",
    "print(type(float_variable))\n",
    "# Data type ပြောင်းလဲထုတ်ပးလိုက်သော်လည်း မူရင်း Data Types များက ပြောင်းလည်းမသွားပါဘူး ။\n",
    "# ပြောင်းလဲခြင်တယ်ဆိုရင်တော့ variable တစ်ခုအတွင်းမှာ assign ပြုလုပ်ပြီး ပြန်ထုတ်ကြည့်ရအောင် ။\n",
    "print('~'*50)\n",
    "print(' variable အသစ်တစ်ခုအတွင်းသို့ assign လုပ်လိုက်ချိန်မှာတော့ တန်ဖိုးရော Type ပါပြောင်းလဲသွားပါတယ်')\n",
    "str_integer_variable = str(integer_variable)\n",
    "print(str_integer_variable)\n",
    "print(type(str_integer_variable))\n",
    "print('~'*50)\n",
    "int_float_variable = int(float_variable)\n",
    "print(int_float_variable)\n",
    "print(type(int_float_variable))"
   ]
  },
  {
   "cell_type": "code",
   "execution_count": null,
   "metadata": {},
   "outputs": [],
   "source": [
    "a = '123'  # string 123 ဖြစ်ပါတယ်\n",
    "print(a)\n",
    "print(type(a))\n",
    "a= int(a)  # integer ကိုပြောင်းလိုက်ပါတယ် ။ assign ပြန်လုပ်ထားပါတယ် ။\n",
    "print(a)\n",
    "print(type(a))"
   ]
  },
  {
   "cell_type": "code",
   "execution_count": null,
   "metadata": {},
   "outputs": [],
   "source": [
    "adec= '145'\n",
    "a8 = int(adec,8) #(value,base) base = 2 to 10\n",
    "print(a8)\n",
    "print(type(a8))\n",
    "abin = int(adec,0xb)\n",
    "print(abin)\n",
    "print(type(abin))"
   ]
  },
  {
   "cell_type": "code",
   "execution_count": null,
   "metadata": {},
   "outputs": [],
   "source": [
    "a = 688\n",
    "print(type(a))\n",
    "temp = str(a)\n",
    "print(temp)\n",
    "print(type(temp))\n",
    "print(hex(a))\n",
    "print(oct(a))\n"
   ]
  },
  {
   "cell_type": "code",
   "execution_count": null,
   "metadata": {},
   "outputs": [],
   "source": [
    "print(bin(5))"
   ]
  },
  {
   "cell_type": "code",
   "execution_count": null,
   "metadata": {},
   "outputs": [],
   "source": [
    "print(int('0b101',2))"
   ]
  },
  {
   "cell_type": "code",
   "execution_count": null,
   "metadata": {},
   "outputs": [],
   "source": [
    "print(int('0b100',base = 0))"
   ]
  },
  {
   "cell_type": "code",
   "execution_count": null,
   "metadata": {},
   "outputs": [],
   "source": [
    "print(int('0o777',base = 8))\n"
   ]
  },
  {
   "cell_type": "code",
   "execution_count": null,
   "metadata": {},
   "outputs": [],
   "source": [
    "a = 10\n",
    "print(a)\n",
    "print(bin(a),'is Binary number of decimal 10.')\n",
    "print(oct(int(bin(a),2)),'is Octal number of decimal 10.')\n",
    "print(hex(int(oct(int(bin(a),2)),8)),'is Hexdecimal number of decimal 10.')\n",
    "print(type(hex(int(oct(int(bin(a),2)),8))))\n",
    "print(int(hex(int(oct(int(bin(a),2)),8)),16),' is regetting orginal decimal number 10.')\n",
    "print(type(int(hex(int(bin(a),2)),16)))\n",
    "print(hex(a))"
   ]
  },
  {
   "cell_type": "markdown",
   "metadata": {},
   "source": [
    "## 3.5 Operators and Operans"
   ]
  },
  {
   "cell_type": "markdown",
   "metadata": {},
   "source": [
    "Operators are special symbols, which are used to carry out some kind of assignment or computations. These operators work on some values, which are termed operands. \n",
    "\n",
    "For example, \n",
    "\n",
    "in the expression: 2+3 , \n",
    "\n",
    "\\+ is an operator, \n",
    "\n",
    "and 2,3 are the operands.\n",
    "\n",
    "Expression တွေ Statement တွေ တည်ဆောက်ဖို့အတွက် Operator တွေလိုအပ်ပါတယ်။ အပေါင်း၊ အနှုတ်၊ အမြှောက်၊ အစား စတဲ့တွက်ချက်မှုပိုင်း Operator တွေလိုအပ်သလို၊ တန်ဖိုးသတ်မှတ်ခြင်း၊နှိုင်းယှဉ်\n",
    "ခြင်းတို့လို လုပ်ငန်းတွေအတွက်လည်း Operator တွေလိုအပ်ပါတယ်။ ဒီ Operator တွေအကြောင်း ဆက်ကြည့်ကြပါမယ်။"
   ]
  },
  {
   "cell_type": "code",
   "execution_count": null,
   "metadata": {},
   "outputs": [],
   "source": [
    "2 + 3\n"
   ]
  },
  {
   "cell_type": "markdown",
   "metadata": {},
   "source": [
    "Expression တွေ Statement တွေ တည်ဆောက်ဖို့အတွက် Operator တွေလိုအပ်ပါတယ်။ အပေါင်း၊ အနှုတ်၊ အမြှောက်၊ အစား စတဲ့တွက်ချက်မှုပိုင်း Operator တွေလိုအပ်သလို၊ တန်ဖိုးသတ်မှတ်ခြင်း၊နှိုင်းယှဉ်\n",
    "ခြင်းတို့လို လုပ်ငန်းတွေအတွက်လည်း Operator တွေလိုအပ်ပါတယ်။ ဒီ Operator တွေအကြောင်း ဆက်ကြည့်ကြပါမယ်။"
   ]
  },
  {
   "cell_type": "markdown",
   "metadata": {},
   "source": [
    "You have seen how to assign value to a variable using an assignment operator (=). Python supports many other operators which can be classified as\n",
    "follows:\n",
    "\n",
    "   + Arithmetic operators\n",
    "   + Assignment operators\n",
    "   + Comparison operators\n",
    "   + Logical operators\n",
    "   + Bitwise operators\n",
    "   + Identity operators\n",
    "   + Membership operators"
   ]
  },
  {
   "cell_type": "markdown",
   "metadata": {},
   "source": [
    "### 3.5.1 Arithmentic Operators"
   ]
  },
  {
   "cell_type": "code",
   "execution_count": null,
   "metadata": {},
   "outputs": [],
   "source": [
    "# Addition operator (+):\n",
    "print(10 + 2)\n",
    "print(type(10 + 2))\n",
    "# Subtraction operator (-):\n",
    "print(10-2)\n",
    "# Division operator (/):\n",
    "print(10 / 2)\n",
    "print(type(10 / 2 ))\n",
    "# Multiplication operator (*):\n",
    "print(10 * 2 )\n",
    "print(type(10*2))\n",
    "# Exponentiation operator (**)\n",
    "print(10**2)\n",
    "print(type(10**2))\n",
    "# Floor Division (//) operator:\n",
    "print(10//2)\n",
    "print(type(10//2))\n",
    "# Modulus (Or, Remainder) operator (%)\n",
    "print(10%2)\n",
    "print(type(10%2))\n",
    "print(10%3)\n",
    "print(10/3)\n",
    "print(type(10/3))\n"
   ]
  },
  {
   "cell_type": "markdown",
   "metadata": {},
   "source": [
    "အခြေခံ ပေါင်းနှုတ်မြှောက်စား Operator တွေကတော့ ရှင်းပါတယ်။ ပေါင်းဖို့အတွက် + သင်္ကေတကိုသုံးရပါတယ်။ နှုတ်ဖို့အတွက် - သင်္ကေတကို သုံးရပါတယ်။ မြှောက်ဖို့အတွက် * သင်္ကေတကို သုံးရပြီး၊ စားဖို့ဘအတွက် / သင်္ကေတကို သုံးရပါတယ်။\n",
    "+ သင်္ကေတမှာတော့ ထူးခြားချက်နှစ်ခု ရှိပါတယ်။ သူ့ကို ကိန်းဂဏန်းတွေကို ပေါင်းဖို့အတွက် သုံးနိုင်သလို၊\n",
    "String တွေ တွဲဆက်ဖို့လည်း သုံးနိုင်ပါတယ်။ String Concatenation လို့ ခေါ်ပါတယ်။ ဥပမာ -"
   ]
  },
  {
   "cell_type": "code",
   "execution_count": null,
   "metadata": {},
   "outputs": [],
   "source": [
    "name = \"Kyaw Myo Swe\"\n",
    "print(\"My name is\"+ \" \" + name+\".\")\n",
    "print('1'+'1')\n",
    "print(1+1)"
   ]
  },
  {
   "cell_type": "markdown",
   "metadata": {},
   "source": [
    "### 3.5.2 Argumented assignment operator"
   ]
  },
  {
   "cell_type": "markdown",
   "metadata": {},
   "source": [
    "You can use these operators to assign some values to the variables. You can\n",
    "use them for less typing. For example, x+=2 is shorthand for x = x+2 .\n",
    "Similarly, x -= is a shorthand for x = x-2 . Let us test some of them. Before\n",
    "I show them in the following examples, in each case, I assign an arbitrary\n",
    "value 5 to x as follows:"
   ]
  },
  {
   "cell_type": "code",
   "execution_count": null,
   "metadata": {},
   "outputs": [],
   "source": [
    "\n",
    "some_value1  =  10 \n",
    "some_value1 = 10 + 5\n",
    "print(some_value1)\n",
    "\n",
    "some_value2  =  10 \n",
    "some_value2 = some_value2 + 5\n",
    "print(some_value2)\n",
    "# argumented assignment operator\n",
    "# Using +=:\n",
    "some_value  =  10 \n",
    "some_value += 5  # some_vale = some_value + 5\n",
    "print(some_value)\n",
    "# Using -=:\n",
    "# Using *=:\n",
    "# Using //=:\n",
    "some_value = 10\n",
    "some_value =+ 5 # some_value = 5 + null\n",
    "print(some_value)"
   ]
  },
  {
   "cell_type": "code",
   "execution_count": null,
   "metadata": {},
   "outputs": [],
   "source": [
    "no_defined_value += 5"
   ]
  },
  {
   "cell_type": "code",
   "execution_count": null,
   "metadata": {},
   "outputs": [],
   "source": [
    "defined_value =+ 5\n",
    "print(defined_value)"
   ]
  },
  {
   "cell_type": "code",
   "execution_count": null,
   "metadata": {},
   "outputs": [],
   "source": []
  },
  {
   "cell_type": "markdown",
   "metadata": {},
   "source": [
    "### 3.5.3 Comparison (or Relational) Operators"
   ]
  },
  {
   "cell_type": "markdown",
   "metadata": {},
   "source": [
    "Comparison (or Relational) Operators\n",
    "These operators are used to compare the equalities (or, inequalities) of two\n",
    "values (or, operands). The result of the comparison is a boolean value, i.e.,\n",
    "either True or False ."
   ]
  },
  {
   "cell_type": "code",
   "execution_count": null,
   "metadata": {},
   "outputs": [],
   "source": [
    "x = 10\n",
    "y = 20\n",
    "# Strictly greater than (x>y)\n",
    "print(x > y)\n",
    "# Strictly less than (x<y)\n",
    "print(x < y)\n",
    "# Greater than or equal (x>=y)\n",
    "print(x >= y)\n",
    "# Less than or equal (x<=y)\n",
    "print(x <= y)\n",
    "# Equal (x==y)\n",
    "print(x == y)\n",
    "# Not Equal (x!=y)\n",
    "print(x!=y)\n",
    "# Definately Equal (x===y)\n",
    "#x===y"
   ]
  },
  {
   "cell_type": "markdown",
   "metadata": {},
   "source": [
    "### 3.5.4 Logical Operators"
   ]
  },
  {
   "cell_type": "markdown",
   "metadata": {},
   "source": [
    "We can use these operators when we work on conditional statements.\n",
    "\n",
    "Here we see the uses of “logical and”,” logical or”, and “logical not” operators.\n",
    "\n",
    "To understand these, let us suppose you are testing two statements.\n",
    "\n",
    "For a Logical OR, if at least one statement is true, the combined result is True, otherwise False. You use ‘or’\n",
    "to denote logical OR.\n",
    "\n",
    "For a Logical AND, if both statements are true, the combined result is True, otherwise False. You use ‘and’ to denote logical AND.\n",
    "\n",
    "A logical NOT does the opposite. It reverses the result.For example, if the result is True, it reverses it to False\n",
    "and vice versa. You use ‘not’ to denote logical NOT."
   ]
  },
  {
   "cell_type": "code",
   "execution_count": null,
   "metadata": {},
   "outputs": [],
   "source": [
    "a = 10\n",
    "b = 20\n",
    "c = 30\n",
    "print(a < c and b < c)   # အခြေအနေအားလုံး က မှန်ရမယ် \n",
    "print(a < c and b > c) # b က c ထက်ကြီးမနေပါ\n",
    "print('-'*80)\n",
    "print(a < c or b < c)   # အခြေအနေ တစ်ခုမှန်နေရမည် \n",
    "print(a > c or b < c)   # a က  c ထက်ကြီး မနေသော်လည်း နောက်က အခြေအနေတွင် b က c ထက် ငယ်နေတာမှန်နေပါတယ် ။\n",
    "print('-'*80)\n",
    "print('Not ပါရင် Expression return result ကို ပြောင်းပြန်လုပ်ပြစ်ပါတယ်')\n",
    "print(a < b)\n",
    "print(not a < b)\n",
    "\n",
    "print('-'*80)\n",
    "print( a < c and not b > c)"
   ]
  },
  {
   "cell_type": "code",
   "execution_count": null,
   "metadata": {},
   "outputs": [],
   "source": [
    "python = False\n",
    "php = False\n",
    "javascript = True\n",
    "if python and php and javascript:\n",
    "    print('your genius')\n",
    "if not python and php and javascript:\n",
    "    print('laravan fullstack')\n",
    "elif not php and python and javascript:\n",
    "    print('django fule stack') \n",
    "elif python and not php and not javascript:\n",
    "    print('Python')\n",
    "elif php and not python and not javascript:\n",
    "    print('php')\n",
    "elif not python and not php and javascript:\n",
    "    print('frontend')\n",
    "elif not python and not php and not javascript:\n",
    "    print('learn some programming language')"
   ]
  },
  {
   "cell_type": "markdown",
   "metadata": {},
   "source": [
    "### 3.5.5 Bitwise Operators"
   ]
  },
  {
   "cell_type": "markdown",
   "metadata": {},
   "source": [
    "We use these operators for binary numbers. Here operands are integers, but\n",
    "Python treats them as binary digits. Here we compare bit-by-bit of the binary\n",
    "codes. This is why we call them bitwise operators.\n",
    "The common bitwise operators are: "
   ]
  },
  {
   "cell_type": "markdown",
   "metadata": {},
   "source": [
    "#### Bitwise OR: |\n",
    "\n",
    "You use ‘|’ to denote bitwise OR. \n",
    "When you compare two bits, the resultant bit is 1, if at least one of the two bits is 1."
   ]
  },
  {
   "cell_type": "markdown",
   "metadata": {},
   "source": [
    "#### Bitwise AND: &\n",
    "\n",
    "You use ‘&’ to denote bitwise AND.\n",
    "When you compare two bits, the resultant bit is 1, if bothbits are 1."
   ]
  },
  {
   "cell_type": "markdown",
   "metadata": {},
   "source": [
    "#### Bitwise XOR: ^"
   ]
  },
  {
   "cell_type": "markdown",
   "metadata": {},
   "source": [
    "You use ‘^’ to denote bitwise XOR.\n",
    "When you compare two bits, the resultant bit is 1, if ONLY one of the two bits is 1."
   ]
  },
  {
   "cell_type": "markdown",
   "metadata": {},
   "source": [
    "#### Bitwise NOT: ~\n",
    "\n",
    "You use ‘ ~ ’ to denote bitwise NOT.\n",
    "This operator inverts all the bits in a binary number (i.e,you change 1 to 0 and 0 to 1 for each bit)"
   ]
  },
  {
   "cell_type": "markdown",
   "metadata": {},
   "source": [
    "#### Zero fill left shift: <<\n",
    "\n",
    "You use ‘<<’ to denote the zero-fill\n",
    "left shift operator. \n",
    "\n",
    "Here x << y simply means that the\n",
    "resultant x will appear with the bits shifted to the left by\n",
    "y places. The 0’s are inserted as new bits on the right-\n",
    "hand side."
   ]
  },
  {
   "cell_type": "markdown",
   "metadata": {},
   "source": [
    "#### Signed right shift: >>\n",
    "\n",
    "You use ‘>>’ to denote the signed\n",
    "right shift operator. \n",
    "\n",
    "Here x>>y simply means that the\n",
    "resultant x will appear with the bits shifted to the right\n",
    "by y places and fills 0 on voids."
   ]
  },
  {
   "cell_type": "markdown",
   "metadata": {},
   "source": [
    "Let us understand this better. Consider two numbers 3 and 5.\n",
    "Suppose I represent them in 8-bit numbers. Now,3 can be represented in\n",
    "binary as 0000 0011\n",
    "5 can be represented in binary as 0000 0101\n",
    "Applying Bitwise OR on these numbers.\n",
    "0000 0011\n",
    "0000 0101\n",
    "_______________\n",
    "0000 0111\n",
    "So, the result will be: 1*2 0 + 1* 2 1 +1* 2 2 =1+2+4=7\n",
    "Let us test this in Python shell now.\n",
    ">>> 3|5\n",
    "7"
   ]
  },
  {
   "cell_type": "code",
   "execution_count": null,
   "metadata": {},
   "outputs": [],
   "source": [
    "print(round(2.8)) #math function\n",
    "print(round(2.1)) #math function\n",
    "print(abs(3.6))\n",
    "print(abs(-3.6))"
   ]
  },
  {
   "cell_type": "markdown",
   "metadata": {},
   "source": [
    "#### Operator precedence\n",
    "---\n",
    "    \n",
    "    Operator                                 Symbol/Operation\n",
    "    ----------                               -------------------\n",
    "    Parenthesis                                   ()\n",
    "    Exponential                                   **\n",
    "    Devision/Multi/Modulus/Floor Devision         * , /,%,//  (solve the Expression right to left)\n",
    "    Addition, Subtraction                         + , - \n",
    "    Bitwise AND                                   &\n",
    "    Bitwise XOR                                   ^\n",
    "    Bitwise OR                                    |\n",
    "    Relational operators                          >,>=,<,<=,==,!= (solve the Expression right to left)\n",
    "    Logical Not                                   not\n",
    "    Logical AND                                   and\n",
    "    Logical OR                                    or\n",
    "    "
   ]
  },
  {
   "cell_type": "code",
   "execution_count": null,
   "metadata": {},
   "outputs": [],
   "source": [
    "print(20 - 3 * 4 ) # 20 - (3*4) --> 20 -12 = 8"
   ]
  },
  {
   "cell_type": "code",
   "execution_count": null,
   "metadata": {},
   "outputs": [],
   "source": [
    "print((20 - 3) + 2 ** 2)\n",
    "#(20 - 3) + 2 ** 2\n",
    "# 17 + (2 **2)\n",
    "# 17 + 4 \n",
    "# 21"
   ]
  },
  {
   "cell_type": "markdown",
   "metadata": {},
   "source": [
    "### 3.5.6 Identity Operators"
   ]
  },
  {
   "cell_type": "markdown",
   "metadata": {},
   "source": [
    "You can use ‘ is’ and ‘ is not’ to test whether two objects are the same."
   ]
  },
  {
   "cell_type": "markdown",
   "metadata": {},
   "source": [
    "### 3.5.7 Membership Operators"
   ]
  },
  {
   "cell_type": "markdown",
   "metadata": {},
   "source": [
    "You use the operators to test for the membership. In simple words, you can\n",
    "use ‘in’ and ‘ not in’ to test whether an element is present in a sequence."
   ]
  },
  {
   "cell_type": "code",
   "execution_count": null,
   "metadata": {},
   "outputs": [],
   "source": [
    "is_magician = True\n",
    "is_expert = False\n",
    "if is_expert and is_magician:\n",
    "    print(\"Your are a master magician\")\n",
    "elif is_magician and not is_expert:\n",
    "    print(\"At least you are getting there\")\n",
    "elif not is_magician:\n",
    "    print(\"You need magic powers\")"
   ]
  },
  {
   "cell_type": "code",
   "execution_count": null,
   "metadata": {},
   "outputs": [],
   "source": []
  },
  {
   "cell_type": "code",
   "execution_count": null,
   "metadata": {},
   "outputs": [],
   "source": [
    "python = True\n",
    "javascript = False\n",
    "if python and javascript:\n",
    "    print(\"Your are Fullstack\")\n",
    "elif javascript and not python :\n",
    "    print(\"You may be Front End Developer\")\n",
    "elif python and not javascript:\n",
    "    print('You may be Backend Developer')\n",
    "elif not python:\n",
    "    print(\"You need to learn Python or Other languages\")"
   ]
  },
  {
   "cell_type": "markdown",
   "metadata": {},
   "source": []
  },
  {
   "cell_type": "markdown",
   "metadata": {},
   "source": [
    "# Complex\n"
   ]
  },
  {
   "cell_type": "markdown",
   "metadata": {},
   "source": [
    "## Boolean\n",
    "----\n",
    "\n",
    "    boolean က two state conditions ပဲရှိပါတယ် ။ True and False ပါပဲ\n",
    "    Python မှာတော့ ဖော်ပြပါတွေက False ဖြစ်ပါတယ် ။ ကျန်တာအားလုံးက  True ဖြစ်ပါတယ် ။\n",
    "#### python Falsy Value\n",
    "        -None\n",
    "        -False\n",
    "        -0\n",
    "        -0.0\n",
    "        -0j\n",
    "        -Decimal(0)\n",
    "        -Fraction(0,1)\n",
    "        -empty list -[]\n",
    "        -empty dict -{}\n",
    "        -empty tuple - ()\n",
    "        -empty string -''\n",
    "        -empty byte -b''\n",
    "        -empty set -set()\n",
    "        -an empty range, range(0)\n",
    "        -boject for which\n",
    "    မှတ်ချက် ။ ။ empty string နဲ့ space နဲ့ မတူတာကို သတိပြုရပါမယ် ။\n",
    "   "
   ]
  },
  {
   "cell_type": "code",
   "execution_count": null,
   "metadata": {},
   "outputs": [],
   "source": []
  },
  {
   "cell_type": "code",
   "execution_count": null,
   "metadata": {},
   "outputs": [],
   "source": [
    "print(bool(1)) # integer 1\n",
    "print(bool(0)) # integer 0\n",
    "print(bool('True')) # string True\n",
    "print(bool('False')) # string False\n",
    "print(bool('true')) # string true\n",
    "print(bool('false')) # string false\n",
    "print(bool(10)) # integer 10\n",
    "print(bool('10')) # string 10\n",
    "print(bool('')) # empty string\n",
    "print(bool(' ')) # space\n",
    "print(bool(True)) # boolean True\n",
    "print(bool(False)) # boolean False\n",
    "print(True) #boolean True\n",
    "print(False) # boolean False"
   ]
  },
  {
   "cell_type": "code",
   "execution_count": null,
   "metadata": {},
   "outputs": [],
   "source": [
    "name = 'John'\n",
    "if name :\n",
    "    print('True')\n",
    "    \n",
    "else :\n",
    "    print('False')"
   ]
  },
  {
   "cell_type": "code",
   "execution_count": null,
   "metadata": {},
   "outputs": [],
   "source": [
    "number  =  0\n",
    "if number :\n",
    "    print('True')\n",
    "else:\n",
    "    print('False')"
   ]
  },
  {
   "cell_type": "code",
   "execution_count": null,
   "metadata": {},
   "outputs": [],
   "source": [
    "condition = False\n",
    "if condition:\n",
    "    print(condition)\n",
    "else:\n",
    "    print(condition)"
   ]
  },
  {
   "cell_type": "code",
   "execution_count": null,
   "metadata": {},
   "outputs": [],
   "source": [
    "\"\"\"\n",
    "This Program is demostration of count function.\n",
    "\"\"\"\n",
    "li =  [1,2,3,4,5,1,1]\n",
    "def my_count(li,num):\n",
    "    cli = []\n",
    "    for item in li:\n",
    "        if item == num:\n",
    "            cli.append(item)\n",
    "    return len(cli)\n",
    "#lenght of li list\n",
    "print(len(li))\n",
    "# count the 1 in li list by count method\n",
    "print(li.count(1))\n",
    "# writing the count function by self\n",
    "print(my_count(li,1))"
   ]
  },
  {
   "cell_type": "code",
   "execution_count": null,
   "metadata": {},
   "outputs": [],
   "source": [
    "li =  [1,2,3,4,5,1,1]\n",
    "li2 = [1,2,3,'a', 'b','a', 'e', 'g']\n",
    "my_str = 'Hello'\n",
    "def my_count(*args):\n",
    "    ctn = 0\n",
    "    for item in args[0]:\n",
    "        if item == args[1]:\n",
    "            ctn += 1\n",
    "    return ctn\n",
    "#lenght of li list\n",
    "print(len(li))\n",
    "# count the 1 in li list by count method\n",
    "print(li.count(1))\n",
    "# writing the count function by self\n",
    "print(my_count(li,1))\n",
    "print(my_count(li2,'a'))\n",
    "print(my_count(my_str,'o'))\n",
    "print(my_count('How are you','o'))"
   ]
  },
  {
   "cell_type": "code",
   "execution_count": null,
   "metadata": {},
   "outputs": [],
   "source": [
    "def pass_num(start_point,limit):\n",
    "    while start_point <= limit :\n",
    "        print(start_point)\n",
    "        start_point += 1\n",
    "while True :\n",
    "    check_loop = input('Type to  continues [yes/no]  : ')\n",
    "    if check_loop == 'no' :\n",
    "        break\n",
    "    elif check_loop == 'yes' :\n",
    "        start_point = (input('Enter the start point : '))\n",
    "        limit = (input('Enter the limit  : '))\n",
    "        pass_num(int(start_point),int(limit))     \n",
    "    else:\n",
    "         continue\n"
   ]
  },
  {
   "cell_type": "code",
   "execution_count": null,
   "metadata": {},
   "outputs": [],
   "source": [
    "list = [2,11,7,15]\n",
    "for i in list:\n",
    "    #print('i=',i)\n",
    "    for j in list:\n",
    "        #print('j',j)\n",
    "        if i+j == 9:\n",
    "            #print(i,j)\n",
    "            print(list.index(i),list.index(j))\n",
    "            break\n",
    "    if i+j == 9:\n",
    "        break\n",
    "            "
   ]
  },
  {
   "cell_type": "code",
   "execution_count": null,
   "metadata": {},
   "outputs": [],
   "source": [
    "def sum_num(seq,targ):\n",
    "    for i in range(len(seq)):\n",
    "        for j in range(i+1,len(seq)):\n",
    "            if seq[i] + seq[j] == targ:\n",
    "                return [i,j]\n",
    "                break\n",
    "        if i+j == targ:\n",
    "            break\n",
    "#list = [2,11,7,15]\n",
    "list = [3,3]\n",
    "target = 6\n",
    "print(sum_num(list,target))"
   ]
  },
  {
   "cell_type": "code",
   "execution_count": null,
   "metadata": {},
   "outputs": [],
   "source": [
    "def sum_num(seq,targ):\n",
    "    temp_dict = {}\n",
    "    for i in range(len(seq)):\n",
    "        if str(targ - seq[i]) in temp_dict:\n",
    "            return [i, temp_dict[str(targ - seq[i])]]\n",
    "        temp_dict[str(seq[i])] = i\n",
    "\n",
    "print(sum_num([2,11,7,15],9))\n",
    "print(sum_num([3,3],6))"
   ]
  },
  {
   "cell_type": "code",
   "execution_count": null,
   "metadata": {},
   "outputs": [],
   "source": [
    "#factorial\n",
    "'''\n",
    "0! = 1\n",
    "1! = 1\n",
    "2! = 2\n",
    "3! = 6\n",
    "4! = 24\n",
    "5! = 120\n",
    "\n",
    "'''\n",
    "from timeit import default_timer as timer\n",
    "def fact(num):\n",
    "    result = 1\n",
    "    for i in range(1,num +1):\n",
    "        result *= i\n",
    "    return result\n",
    "\n",
    "start_t = timer()\n",
    "print(fact(100))\n",
    "stop_t = timer()\n",
    "print(stop_t - start_t)"
   ]
  },
  {
   "cell_type": "code",
   "execution_count": null,
   "metadata": {},
   "outputs": [],
   "source": [
    "from timeit import default_timer as timer\n",
    "def fact(num):\n",
    "    if num == 0:\n",
    "        return 1\n",
    "    return num * fact(num - 1)\n",
    "\n",
    "start_t = timer()\n",
    "print(fact(100))\n",
    "stop_t = timer()\n",
    "print(stop_t - start_t)"
   ]
  },
  {
   "cell_type": "code",
   "execution_count": null,
   "metadata": {},
   "outputs": [],
   "source": [
    "str1 = 'hello'\n",
    "print(str1.reverse())"
   ]
  },
  {
   "cell_type": "code",
   "execution_count": null,
   "metadata": {},
   "outputs": [],
   "source": [
    "from timeit import default_timer as timer\n",
    "\n",
    "def sum_digit(num):\n",
    "    list_digit = list(str(num))\n",
    "    sum = 0\n",
    "    for i in list_digit:\n",
    "        sum +=int(i)\n",
    "    return sum\n",
    "start_t = timer()\n",
    "print(sum_digit(12345645454545454545454545454545454545454545454545545))\n",
    "stop_t = timer()\n",
    "print(stop_t - start_t)"
   ]
  },
  {
   "cell_type": "code",
   "execution_count": null,
   "metadata": {},
   "outputs": [],
   "source": [
    "list = [1,2,3]\n",
    "for i in list:\n",
    "    print(i)"
   ]
  },
  {
   "cell_type": "markdown",
   "metadata": {},
   "source": [
    "Python functions တွေက variables တွေလိုပါပဲ ။ variables တွေကလည်း functions တွေလို အလုပ်လုပ်ပါတယ် ။\n",
    "ဥပမာကြည့်ရအောင် "
   ]
  },
  {
   "cell_type": "code",
   "execution_count": null,
   "metadata": {},
   "outputs": [],
   "source": [
    "def hello():\n",
    "    print('Hello World!')\n",
    "    \n",
    "greet = hello\n",
    "del hello\n",
    "print(greet()) # hello() function ကို delete လုပ်လိုက်သော်လည်း greet variable က hello() function ရှိခဲ့တဲ့ memory ကိုထောက်ထားပါတယ် ။\n",
    "hello()  # hello() function ကို ခေါ်တဲ့ အခါ hello() function က memory မှာ မရှိတော့ပါဘူး ။ Error ပြမှာပါ ။"
   ]
  },
  {
   "cell_type": "markdown",
   "metadata": {},
   "source": [
    "Higher Order Function (HOC)\n",
    "function တစ်ခုက အခြား function တစ်ခုကို parameter  အဖြစ်လက်ခံနိုင်တယ် ။\n",
    "function တစ်ခုကိုလည်း returnအဖြစ်ပြန်ပေးနိုင်တယ် ။\n",
    "ဥပမာ \n",
    "map(function, iterable sequence)"
   ]
  },
  {
   "cell_type": "code",
   "execution_count": null,
   "metadata": {},
   "outputs": [],
   "source": [
    "# Error Handling \n",
    "correct_input = True\n",
    "while correct_input :\n",
    "    try :\n",
    "        age = int(input('Enter your age :'))\n",
    "        2022 / age\n",
    "    except ValueError :\n",
    "        print('Please Enter a number ')\n",
    "    except ZeroDivisionError :\n",
    "        print('Please age must be greather than 0')\n",
    "    else :\n",
    "        print('Thank ! this is  ok')\n",
    "        correct_input = False\n",
    "correct_input = True"
   ]
  },
  {
   "cell_type": "code",
   "execution_count": null,
   "metadata": {},
   "outputs": [],
   "source": []
  }
 ],
 "metadata": {
  "kernelspec": {
   "display_name": "Python 3 (ipykernel)",
   "language": "python",
   "name": "python3"
  },
  "language_info": {
   "codemirror_mode": {
    "name": "ipython",
    "version": 3
   },
   "file_extension": ".py",
   "mimetype": "text/x-python",
   "name": "python",
   "nbconvert_exporter": "python",
   "pygments_lexer": "ipython3",
   "version": "3.8.8"
  }
 },
 "nbformat": 4,
 "nbformat_minor": 4
}
