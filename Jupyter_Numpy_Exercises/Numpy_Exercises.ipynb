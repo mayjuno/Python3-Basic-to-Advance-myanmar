{
 "cells": [
  {
   "cell_type": "code",
   "execution_count": 1,
   "id": "5e7271bb-3cec-4a62-a5dc-441471c0c124",
   "metadata": {},
   "outputs": [
    {
     "name": "stdout",
     "output_type": "stream",
     "text": [
      "Hello World!\n"
     ]
    }
   ],
   "source": [
    "print('Hello World!')"
   ]
  },
  {
   "cell_type": "markdown",
   "id": "f673d148-795f-4ad9-9989-bd1875a83349",
   "metadata": {},
   "source": [
    "# NumPy\n",
    "---\n",
    "### Basic of Numpy"
   ]
  },
  {
   "cell_type": "code",
   "execution_count": 60,
   "id": "209d3238-0350-43b0-b13f-6ae259ceb8dc",
   "metadata": {},
   "outputs": [
    {
     "name": "stdout",
     "output_type": "stream",
     "text": [
      "1 Dimensional array.\n",
      "[1 2 3]\n",
      "2 Dimensionals array.\n",
      "[[1.  2.  3. ]\n",
      " [4.  5.  6.5]]\n",
      "2 Dimensionals array.\n",
      "[[1.  2.  3. ]\n",
      " [4.  5.  6.5]\n",
      " [7.7 8.  9.5]]\n",
      "3 Dimensionals array.\n",
      "[[[1 2]\n",
      "  [3 4]]\n",
      "\n",
      " [[5 6]\n",
      "  [7 8]]]\n"
     ]
    }
   ],
   "source": [
    "import numpy as np\n",
    "arr  = np.array([1,2,3])\n",
    "print(f'{arr.ndim} Dimensional array.')\n",
    "print(arr)\n",
    "arr2 = np.array(\n",
    "    [[1.0 , 2.0 , 3.0],\n",
    "    [4.0 , 5.0 , 6.5]\n",
    "    ])\n",
    "print(f'{arr2.ndim} Dimensionals array.')\n",
    "print(arr2)\n",
    "arr3 = np.array([\n",
    "    [1.0 , 2.0 , 3.0],\n",
    "    [4.0 , 5.0 , 6.5],\n",
    "    [7.7 , 8.0 , 9.5]\n",
    "])\n",
    "print(f'{arr3.ndim} Dimensionals array.')\n",
    "print(arr3)\n",
    "d3_arr = np.array([[[1,2],[3,4]],[[5,6],[7,8]]])\n",
    "print(f'{d3_arr.ndim} Dimensionals array.')\n",
    "print(d3_arr)"
   ]
  },
  {
   "cell_type": "code",
   "execution_count": 13,
   "id": "6ed418b6-f685-4903-815b-7abcc563cba4",
   "metadata": {},
   "outputs": [
    {
     "name": "stdout",
     "output_type": "stream",
     "text": [
      "1\n",
      "2\n",
      "2\n"
     ]
    }
   ],
   "source": [
    "# Get Dimension\n",
    "print(arr.ndim)\n",
    "print(arr2.ndim)\n",
    "print(arr3.ndim)"
   ]
  },
  {
   "cell_type": "code",
   "execution_count": 17,
   "id": "feff7667-2080-4028-8ed9-66517ddcd84e",
   "metadata": {},
   "outputs": [
    {
     "name": "stdout",
     "output_type": "stream",
     "text": [
      "(3,)\n",
      "(2, 3)\n",
      "(3, 3)\n"
     ]
    }
   ],
   "source": [
    "# Get Shape\n",
    "print(arr.shape)\n",
    "print(arr2.shape)\n",
    "print(arr3.shape)"
   ]
  },
  {
   "cell_type": "code",
   "execution_count": 18,
   "id": "cb42bb19-1a63-47e5-ae97-7faba39a701a",
   "metadata": {},
   "outputs": [
    {
     "name": "stdout",
     "output_type": "stream",
     "text": [
      "int64\n",
      "float64\n",
      "float64\n"
     ]
    }
   ],
   "source": [
    "# Get Type\n",
    "print(arr.dtype)\n",
    "print(arr2.dtype)\n",
    "print(arr3.dtype)"
   ]
  },
  {
   "cell_type": "code",
   "execution_count": 24,
   "id": "66a6f85e-3c00-4a83-bf26-8a343d66d2ce",
   "metadata": {},
   "outputs": [
    {
     "name": "stdout",
     "output_type": "stream",
     "text": [
      "int32\n"
     ]
    }
   ],
   "source": [
    "arr4 = np.array([1,2,3],dtype='int32')\n",
    "print(arr4.dtype)"
   ]
  },
  {
   "cell_type": "code",
   "execution_count": 26,
   "id": "93708270-6756-4243-9a01-b3fb18eeb2b1",
   "metadata": {},
   "outputs": [
    {
     "name": "stdout",
     "output_type": "stream",
     "text": [
      "8\n",
      "8\n",
      "8\n",
      "4\n"
     ]
    }
   ],
   "source": [
    "# Get Size\n",
    "print(arr.itemsize)\n",
    "print(arr2.itemsize)\n",
    "print(arr3.itemsize)\n",
    "print(arr4.itemsize)"
   ]
  },
  {
   "cell_type": "code",
   "execution_count": 31,
   "id": "8ef61ccc-d444-472f-b866-1106decf5216",
   "metadata": {},
   "outputs": [
    {
     "name": "stdout",
     "output_type": "stream",
     "text": [
      "24\n",
      "24\n"
     ]
    }
   ],
   "source": [
    "# Get Totalsize\n",
    "print(arr.size * arr.itemsize)\n",
    "print(arr.nbytes)"
   ]
  },
  {
   "cell_type": "markdown",
   "id": "82b6527f-968c-4073-b2ae-c61dacc6eb78",
   "metadata": {},
   "source": [
    "### Accessing/Changing specific elements, rows colums,etc"
   ]
  },
  {
   "cell_type": "code",
   "execution_count": 32,
   "id": "3efe72b0-9b38-4e4f-8633-94cde768d223",
   "metadata": {},
   "outputs": [
    {
     "name": "stdout",
     "output_type": "stream",
     "text": [
      "(2, 7)\n"
     ]
    }
   ],
   "source": [
    "arr2_7 = np.array([[0 ,1,2,3,4,5,6],[7,8,9,10,11,12,13]])\n",
    "print(arr2_7.shape)"
   ]
  },
  {
   "cell_type": "code",
   "execution_count": 36,
   "id": "38e88d36-5c10-41f1-b667-d196eb53c5a8",
   "metadata": {},
   "outputs": [
    {
     "name": "stdout",
     "output_type": "stream",
     "text": [
      "6\n",
      "13\n",
      "13\n"
     ]
    }
   ],
   "source": [
    "# Get the specific elements [row,colum]\n",
    "print(arr2_7[0,6])\n",
    "print(arr2_7[1,6])\n",
    "print(arr2_7[1,-1])"
   ]
  },
  {
   "cell_type": "code",
   "execution_count": 37,
   "id": "f9d574ca-2c2b-42df-b111-71df9588515a",
   "metadata": {},
   "outputs": [
    {
     "name": "stdout",
     "output_type": "stream",
     "text": [
      "[0 1 2 3 4 5 6]\n",
      "[1 2]\n"
     ]
    }
   ],
   "source": [
    "# Get a specific row\n",
    "print(arr2_7[0,:])\n",
    "print(arr2_7[0,1:3])"
   ]
  },
  {
   "cell_type": "code",
   "execution_count": 47,
   "id": "e8734641-fac4-4ac4-9591-da5b17fec5dc",
   "metadata": {},
   "outputs": [
    {
     "name": "stdout",
     "output_type": "stream",
     "text": [
      "[1 8]\n",
      "[1]\n",
      "[1 8]\n",
      "[8]\n"
     ]
    }
   ],
   "source": [
    "# Get a specific colum\n",
    "print(arr2_7[:,1])\n",
    "print(arr2_7[:1,1])\n",
    "print(arr2_7[:2,1])\n",
    "print(arr2_7[1:2,1])"
   ]
  },
  {
   "cell_type": "code",
   "execution_count": 50,
   "id": "d87f9570-2a27-497c-a6a2-232aac62aef7",
   "metadata": {},
   "outputs": [
    {
     "name": "stdout",
     "output_type": "stream",
     "text": [
      "row 1 colum 6 element 13 to replace with 31\n",
      "[[ 0  1  2  3  4  5  6]\n",
      " [ 7  8  9 10 11 12 31]]\n"
     ]
    }
   ],
   "source": [
    "arr2_7[1,6] = 31 # row 1 colum 6 element 13 to replace with 31\n",
    "print('row 1 colum 6 element 13 to replace with 31')\n",
    "print(arr2_7)"
   ]
  },
  {
   "cell_type": "code",
   "execution_count": 53,
   "id": "184baf60-65ab-445a-af80-7ddfa3942a60",
   "metadata": {},
   "outputs": [
    {
     "name": "stdout",
     "output_type": "stream",
     "text": [
      "[[ 9  9  9  9  9  9  9]\n",
      " [ 9  8  9 10 11 12 31]]\n"
     ]
    }
   ],
   "source": [
    "# changing the multiple elements \n",
    "arr2_7[:,0] = 9\n",
    "arr2_7[0,:] = 9\n",
    "print(arr2_7)"
   ]
  },
  {
   "cell_type": "markdown",
   "id": "f0eefebe-2f9e-49f3-b0d8-4d1737bfc958",
   "metadata": {},
   "source": [
    "* 3-d example"
   ]
  },
  {
   "cell_type": "code",
   "execution_count": 58,
   "id": "2bdb815f-ab93-4053-b88b-c15c2766a93c",
   "metadata": {},
   "outputs": [
    {
     "name": "stdout",
     "output_type": "stream",
     "text": [
      "(2, 2, 2)\n",
      "[[[1 2]\n",
      "  [3 4]]\n",
      "\n",
      " [[5 6]\n",
      "  [7 8]]]\n"
     ]
    }
   ],
   "source": [
    "d3_arr = np.array([[[1,2],[3,4]],[[5,6],[7,8]]])\n",
    "print(d3_arr.shape)\n",
    "print(d3_arr)"
   ]
  },
  {
   "cell_type": "code",
   "execution_count": 59,
   "id": "2273f5a1-1f8d-461f-8ef3-b6e8d031deba",
   "metadata": {},
   "outputs": [
    {
     "name": "stdout",
     "output_type": "stream",
     "text": [
      "4\n"
     ]
    }
   ],
   "source": [
    "# Get the specific elements \n",
    "# Getting the shape  0, row 1, colum 1 (4) \n",
    "print(d3_arr[0,1,1])"
   ]
  },
  {
   "cell_type": "code",
   "execution_count": 61,
   "id": "e4ffac25-f6e5-46a5-aba7-3ab9b82cd1a1",
   "metadata": {},
   "outputs": [
    {
     "name": "stdout",
     "output_type": "stream",
     "text": [
      "[[[ 1  2]\n",
      "  [ 3 44]]\n",
      "\n",
      " [[ 5  6]\n",
      "  [ 7  8]]]\n"
     ]
    }
   ],
   "source": [
    "# replacing the element in 3D array\n",
    "d3_arr[0,1,1] = 44\n",
    "print(d3_arr)"
   ]
  },
  {
   "cell_type": "code",
   "execution_count": 62,
   "id": "d55d8615-357b-4783-bddc-8dcee8eacb2e",
   "metadata": {},
   "outputs": [
    {
     "name": "stdout",
     "output_type": "stream",
     "text": [
      "[[[1 2]\n",
      "  [9 9]]\n",
      "\n",
      " [[5 6]\n",
      "  [8 8]]]\n"
     ]
    }
   ],
   "source": [
    "# replacing with multiple \n",
    "# replacing all Shape ,row 1 , all colum \n",
    "d3_arr[:,1,:] = [9,9],[8,8]\n",
    "print(d3_arr)"
   ]
  },
  {
   "cell_type": "markdown",
   "id": "c1a3ea55-66c0-42e6-9ae0-c839aab8fdd6",
   "metadata": {},
   "source": [
    "### Initializing Different Types of Arrays"
   ]
  },
  {
   "cell_type": "code",
   "execution_count": 67,
   "id": "5b63ff43-0f26-401f-83aa-6e1083c33746",
   "metadata": {},
   "outputs": [
    {
     "name": "stdout",
     "output_type": "stream",
     "text": [
      "[0. 0. 0. 0.]\n"
     ]
    }
   ],
   "source": [
    "# All 0s matrix\n",
    "one = np.zeros(4)\n",
    "print(one)\n"
   ]
  },
  {
   "cell_type": "code",
   "execution_count": 68,
   "id": "86cc3fa3-049f-4753-bbaa-86269ed7eb86",
   "metadata": {},
   "outputs": [
    {
     "name": "stdout",
     "output_type": "stream",
     "text": [
      "[[0. 0. 0. 0.]\n",
      " [0. 0. 0. 0.]]\n"
     ]
    }
   ],
   "source": [
    "two = np.zeros((2,4))\n",
    "print(two)"
   ]
  },
  {
   "cell_type": "code",
   "execution_count": 69,
   "id": "122ac02f-3b62-4ff5-bacc-1592b9b06889",
   "metadata": {},
   "outputs": [
    {
     "name": "stdout",
     "output_type": "stream",
     "text": [
      "[[[0. 0. 0. 0.]\n",
      "  [0. 0. 0. 0.]\n",
      "  [0. 0. 0. 0.]]\n",
      "\n",
      " [[0. 0. 0. 0.]\n",
      "  [0. 0. 0. 0.]\n",
      "  [0. 0. 0. 0.]]]\n"
     ]
    }
   ],
   "source": [
    "three = np.zeros((2,3,4))\n",
    "print(three)"
   ]
  },
  {
   "cell_type": "code",
   "execution_count": 70,
   "id": "c9ee788f-c7f1-4cb3-9cd1-b2cb12d510fb",
   "metadata": {},
   "outputs": [
    {
     "name": "stdout",
     "output_type": "stream",
     "text": [
      "[[[1. 1. 1.]\n",
      "  [1. 1. 1.]\n",
      "  [1. 1. 1.]]\n",
      "\n",
      " [[1. 1. 1.]\n",
      "  [1. 1. 1.]\n",
      "  [1. 1. 1.]]\n",
      "\n",
      " [[1. 1. 1.]\n",
      "  [1. 1. 1.]\n",
      "  [1. 1. 1.]]]\n"
     ]
    }
   ],
   "source": [
    "# All 1s matrix\n",
    "allOne = np.ones((3,3,3))\n",
    "print(allOne)"
   ]
  },
  {
   "cell_type": "code",
   "execution_count": 83,
   "id": "f854c09e-1966-42e1-889e-9f43ed3e845f",
   "metadata": {},
   "outputs": [
    {
     "name": "stdout",
     "output_type": "stream",
     "text": [
      "[[[99 99 99]\n",
      "  [99 99 99]\n",
      "  [99 99 99]]\n",
      "\n",
      " [[99 99 99]\n",
      "  [99 99 99]\n",
      "  [99 99 99]]\n",
      "\n",
      " [[99 99 99]\n",
      "  [99 99 99]\n",
      "  [99 99 99]]]\n"
     ]
    }
   ],
   "source": [
    "# Any othe number \n",
    "anyNum = np.full((3,3,3),99)\n",
    "print(anyNum)"
   ]
  },
  {
   "cell_type": "code",
   "execution_count": 84,
   "id": "591d52fd-deec-4892-8ff3-75c3cd3af17d",
   "metadata": {},
   "outputs": [
    {
     "name": "stdout",
     "output_type": "stream",
     "text": [
      "[[[5 5 5]\n",
      "  [5 5 5]\n",
      "  [5 5 5]]\n",
      "\n",
      " [[5 5 5]\n",
      "  [5 5 5]\n",
      "  [5 5 5]]\n",
      "\n",
      " [[5 5 5]\n",
      "  [5 5 5]\n",
      "  [5 5 5]]]\n"
     ]
    }
   ],
   "source": [
    "# Any other number (full_like)\n",
    "anyNum_full_like = np.full_like(anyNum,5)\n",
    "print(anyNum_full_like)"
   ]
  },
  {
   "cell_type": "code",
   "execution_count": 85,
   "id": "ee342611-e116-4445-939a-556ab3664687",
   "metadata": {},
   "outputs": [
    {
     "name": "stdout",
     "output_type": "stream",
     "text": [
      "[[0.22732047 0.97263183 0.29683658]\n",
      " [0.58013653 0.45945941 0.01575487]\n",
      " [0.96258092 0.99995274 0.10559418]\n",
      " [0.85251098 0.10728508 0.53926574]]\n"
     ]
    }
   ],
   "source": [
    "# Random decimal number\n",
    "random_matrix = np.random.rand(4,3)\n",
    "print(random_matrix)"
   ]
  },
  {
   "cell_type": "code",
   "execution_count": 82,
   "id": "72aedcc9-ea11-458b-8134-1ec1bd32f46b",
   "metadata": {},
   "outputs": [
    {
     "name": "stdout",
     "output_type": "stream",
     "text": [
      "[[[9 8 5 8]\n",
      "  [6 9 2 5]\n",
      "  [7 7 4 7]]\n",
      "\n",
      " [[1 3 4 1]\n",
      "  [1 2 1 6]\n",
      "  [5 3 8 7]]\n",
      "\n",
      " [[9 8 5 3]\n",
      "  [2 7 2 3]\n",
      "  [5 6 2 6]]]\n"
     ]
    }
   ],
   "source": [
    "# Random integer values\n",
    "import numpy as np\n",
    "random_matrix_array = np.random.randint(1,10,size=(3,3,4))\n",
    "print(random_matrix_array)"
   ]
  },
  {
   "cell_type": "code",
   "execution_count": 86,
   "id": "eb12c5d7-14bb-4b7c-83da-974f7e39ae11",
   "metadata": {},
   "outputs": [
    {
     "name": "stdout",
     "output_type": "stream",
     "text": [
      "[[1. 0. 0. 0. 0.]\n",
      " [0. 1. 0. 0. 0.]\n",
      " [0. 0. 1. 0. 0.]\n",
      " [0. 0. 0. 1. 0.]\n",
      " [0. 0. 0. 0. 1.]]\n"
     ]
    }
   ],
   "source": [
    "# The identity matrix\n",
    "identity_matrix = np.identity(5)\n",
    "print(identity_matrix)"
   ]
  },
  {
   "cell_type": "code",
   "execution_count": 91,
   "id": "a344ed66-ab97-49fe-90fd-f420b519b1d5",
   "metadata": {},
   "outputs": [
    {
     "name": "stdout",
     "output_type": "stream",
     "text": [
      "[[1 2 3]\n",
      " [1 2 3]\n",
      " [1 2 3]]\n"
     ]
    }
   ],
   "source": [
    "# Repeat an array\n",
    "arr = np.array([[1,2,3]])\n",
    "repeat_arr = np.repeat(arr,3,axis=0)\n",
    "print(repeat_arr)"
   ]
  },
  {
   "cell_type": "code",
   "execution_count": 95,
   "id": "92609ff6-8b61-4850-9c68-428839bb99b9",
   "metadata": {},
   "outputs": [
    {
     "name": "stdout",
     "output_type": "stream",
     "text": [
      "[[[1 2 3]]\n",
      "\n",
      " [[1 2 3]]\n",
      "\n",
      " [[1 2 3]]]\n"
     ]
    }
   ],
   "source": [
    "# Repeat an array\n",
    "arr = np.array([[[1,2,3]]])\n",
    "repeat_arr = np.repeat(arr,3,axis=0)\n",
    "print(repeat_arr)"
   ]
  },
  {
   "cell_type": "code",
   "execution_count": 100,
   "id": "e0f8244f-0d25-4339-8e1f-8cf93be84a0b",
   "metadata": {},
   "outputs": [
    {
     "name": "stdout",
     "output_type": "stream",
     "text": [
      "[[1. 1. 1. 1. 1.]\n",
      " [1. 1. 1. 1. 1.]\n",
      " [1. 1. 1. 1. 1.]\n",
      " [1. 1. 1. 1. 1.]\n",
      " [1. 1. 1. 1. 1.]]\n",
      "[[0. 0. 0.]\n",
      " [0. 0. 0.]\n",
      " [0. 0. 0.]]\n",
      "[[0. 0. 0.]\n",
      " [0. 9. 0.]\n",
      " [0. 0. 0.]]\n",
      "[[1. 1. 1. 1. 1.]\n",
      " [1. 0. 0. 0. 1.]\n",
      " [1. 0. 9. 0. 1.]\n",
      " [1. 0. 0. 0. 1.]\n",
      " [1. 1. 1. 1. 1.]]\n"
     ]
    }
   ],
   "source": [
    "output = np.ones((5,5))\n",
    "print(output)\n",
    "zero = np.zeros((3,3))\n",
    "print(zero)\n",
    "zero[1,1] = 9\n",
    "print(zero)\n",
    "output[1:4,1:4] = zero\n",
    "print(output)"
   ]
  },
  {
   "cell_type": "code",
   "execution_count": 102,
   "id": "372bbac7-1903-44e0-bd0f-a89c5df117c2",
   "metadata": {},
   "outputs": [
    {
     "name": "stdout",
     "output_type": "stream",
     "text": [
      "[[1 1 1 1 1]\n",
      " [1 0 0 0 1]\n",
      " [1 0 9 0 1]\n",
      " [1 0 0 0 1]\n",
      " [1 1 1 1 1]]\n"
     ]
    }
   ],
   "source": [
    "output = np.ones((5,5),dtype=\"int32\")\n",
    "zero = np.zeros((3,3))\n",
    "zero[1,1] = 9\n",
    "output[1:4,1:4] = zero\n",
    "print(output)"
   ]
  },
  {
   "cell_type": "markdown",
   "id": "cd9f97dc-11ab-41e5-a466-187b6f707289",
   "metadata": {},
   "source": [
    "### Be careful when copying arrays!"
   ]
  },
  {
   "cell_type": "code",
   "execution_count": 109,
   "id": "76896d6b-99e2-4e90-a80c-08fee82fa183",
   "metadata": {},
   "outputs": [
    {
     "name": "stdout",
     "output_type": "stream",
     "text": [
      "[1 2 3 4 5]\n",
      "assing_arr [100   2   3   4   5]\n",
      "orignal array aslo change [100   2   3   4   5]\n",
      "real_copy [1 2 3 4 5]\n",
      "orignal array does't change [100   2   3   4   5]\n"
     ]
    }
   ],
   "source": [
    "orignal = np.array([1,2,3,4,5])\n",
    "print(orignal)\n",
    "assing_arr = orignal\n",
    "assing_arr[0] = 100 # changing the element of assing_arr \n",
    "print('assing_arr',assing_arr)\n",
    "print('orignal array aslo change',orignal)\n",
    "real_copy = orignal.copy()\n",
    "real_copy[0] = 1 # changing the element of real_copy\n",
    "print('real_copy',real_copy)\n",
    "print('orignal array does\\'t change',orignal)"
   ]
  },
  {
   "cell_type": "markdown",
   "id": "5d4c48ad-6e0f-4c52-8c57-b3e8a9049c2d",
   "metadata": {},
   "source": [
    "## Mathematics\n",
    "---"
   ]
  },
  {
   "cell_type": "code",
   "execution_count": 110,
   "id": "ecfde1d0-01f5-4626-8dd9-c078f1aa1823",
   "metadata": {},
   "outputs": [],
   "source": [
    "arr = np.array([1,2,3,4])"
   ]
  },
  {
   "cell_type": "code",
   "execution_count": 111,
   "id": "4e7ab0e1-8db9-4086-8a01-d291baa82026",
   "metadata": {},
   "outputs": [
    {
     "name": "stdout",
     "output_type": "stream",
     "text": [
      "[3 4 5 6]\n"
     ]
    }
   ],
   "source": [
    "print(arr+2)"
   ]
  },
  {
   "cell_type": "code",
   "execution_count": 112,
   "id": "f13bb9d0-f32b-4abe-a04c-20619360ce46",
   "metadata": {},
   "outputs": [
    {
     "name": "stdout",
     "output_type": "stream",
     "text": [
      "[-1  0  1  2]\n"
     ]
    }
   ],
   "source": [
    "print(arr-2)"
   ]
  },
  {
   "cell_type": "code",
   "execution_count": 113,
   "id": "ac2b5ebf-b754-4851-8170-b2088ebcee1f",
   "metadata": {},
   "outputs": [
    {
     "name": "stdout",
     "output_type": "stream",
     "text": [
      "[2 4 6 8]\n"
     ]
    }
   ],
   "source": [
    "print(arr*2)"
   ]
  },
  {
   "cell_type": "code",
   "execution_count": 114,
   "id": "4a215c28-12a2-410e-bdd9-904835650da0",
   "metadata": {},
   "outputs": [
    {
     "name": "stdout",
     "output_type": "stream",
     "text": [
      "[0.5 1.  1.5 2. ]\n"
     ]
    }
   ],
   "source": [
    "print(arr/2)"
   ]
  },
  {
   "cell_type": "code",
   "execution_count": 115,
   "id": "010d3442-9026-4110-950b-7ff9c04176bd",
   "metadata": {},
   "outputs": [
    {
     "name": "stdout",
     "output_type": "stream",
     "text": [
      "[ 1  4  9 16]\n"
     ]
    }
   ],
   "source": [
    "print(arr**2)"
   ]
  },
  {
   "cell_type": "code",
   "execution_count": 119,
   "id": "94b0fc19-420d-46bb-a0a5-b3e8e92c5cd1",
   "metadata": {},
   "outputs": [
    {
     "data": {
      "text/plain": [
       "array([ 0.84147098,  0.90929743,  0.14112001, -0.7568025 ])"
      ]
     },
     "execution_count": 119,
     "metadata": {},
     "output_type": "execute_result"
    }
   ],
   "source": [
    "# Take the sin/cose ..\n",
    "np.sin(arr)"
   ]
  },
  {
   "cell_type": "code",
   "execution_count": 120,
   "id": "e46dabdd-d136-45a2-8b5d-598ddf65a870",
   "metadata": {},
   "outputs": [
    {
     "data": {
      "text/plain": [
       "array([ 0.54030231, -0.41614684, -0.9899925 , -0.65364362])"
      ]
     },
     "execution_count": 120,
     "metadata": {},
     "output_type": "execute_result"
    }
   ],
   "source": [
    "np.cos(arr)"
   ]
  },
  {
   "cell_type": "markdown",
   "id": "246a284f-27da-4063-b823-c3b238123fa4",
   "metadata": {},
   "source": [
    "### Liniar Algebra"
   ]
  },
  {
   "cell_type": "code",
   "execution_count": 125,
   "id": "08045c76-1535-4aff-a685-d58b67ef5b3e",
   "metadata": {},
   "outputs": [
    {
     "name": "stdout",
     "output_type": "stream",
     "text": [
      "[[1. 1. 1.]\n",
      " [1. 1. 1.]]\n",
      "\n",
      "[[2 2]\n",
      " [2 2]\n",
      " [2 2]]\n",
      "\n",
      "[[6. 6.]\n",
      " [6. 6.]]\n"
     ]
    }
   ],
   "source": [
    "a = np.ones((2,3))\n",
    "print(a)\n",
    "print()\n",
    "b = np.full((3,2),2)\n",
    "print(b)\n",
    "print()\n",
    "ab = np.matmul(a,b)\n",
    "print(ab)"
   ]
  },
  {
   "cell_type": "code",
   "execution_count": 126,
   "id": "51f9e380-2e4b-4fcd-a25b-6f57997e68c1",
   "metadata": {},
   "outputs": [
    {
     "name": "stdout",
     "output_type": "stream",
     "text": [
      "1.0\n"
     ]
    }
   ],
   "source": [
    "# find the determinant\n",
    "c = np.identity(3)\n",
    "detC=np.linalg.det(c)\n",
    "print(detC)"
   ]
  },
  {
   "cell_type": "code",
   "execution_count": 127,
   "id": "d662a7c6-278c-4815-aefb-0c220edaabfc",
   "metadata": {},
   "outputs": [
    {
     "name": "stdout",
     "output_type": "stream",
     "text": [
      "['LinAlgError', '__all__', '__builtins__', '__cached__', '__doc__', '__file__', '__loader__', '__name__', '__package__', '__path__', '__spec__', '_umath_linalg', 'cholesky', 'cond', 'det', 'eig', 'eigh', 'eigvals', 'eigvalsh', 'inv', 'linalg', 'lstsq', 'matrix_power', 'matrix_rank', 'multi_dot', 'norm', 'pinv', 'qr', 'slogdet', 'solve', 'svd', 'tensorinv', 'tensorsolve', 'test']\n"
     ]
    }
   ],
   "source": [
    "print(dir(np.linalg))"
   ]
  },
  {
   "cell_type": "markdown",
   "id": "068a350c-7f77-453a-b2ea-18af87e8c8e1",
   "metadata": {},
   "source": [
    "### Statistics"
   ]
  },
  {
   "cell_type": "code",
   "execution_count": 142,
   "id": "a12c3959-ed9b-4825-963f-034088ef8266",
   "metadata": {},
   "outputs": [
    {
     "name": "stdout",
     "output_type": "stream",
     "text": [
      "[1 4]\n",
      "6\n",
      "[3 6]\n",
      "21\n",
      "[5 7 9]\n",
      "[ 6 15]\n",
      "21\n",
      "[ 6 15]\n"
     ]
    }
   ],
   "source": [
    "stats = np.array([[1,2,3],[4,5,6]])\n",
    "print(np.min(stats,axis = 1))\n",
    "print(np.max(stats))\n",
    "print(np.max(stats,axis=1))\n",
    "print(np.sum(stats))\n",
    "print(np.sum(stats, axis= 0))\n",
    "print(np.sum(stats, axis= 1))\n",
    "print(np.sum(stats, axis= (0,1)))\n",
    "print(np.sum(stats, axis= -1))"
   ]
  },
  {
   "cell_type": "code",
   "execution_count": 137,
   "id": "474a9453-6cde-4ad7-9d77-0da112a9119c",
   "metadata": {},
   "outputs": [
    {
     "name": "stdout",
     "output_type": "stream",
     "text": [
      "Help on function sum in module numpy:\n",
      "\n",
      "sum(a, axis=None, dtype=None, out=None, keepdims=<no value>, initial=<no value>, where=<no value>)\n",
      "    Sum of array elements over a given axis.\n",
      "    \n",
      "    Parameters\n",
      "    ----------\n",
      "    a : array_like\n",
      "        Elements to sum.\n",
      "    axis : None or int or tuple of ints, optional\n",
      "        Axis or axes along which a sum is performed.  The default,\n",
      "        axis=None, will sum all of the elements of the input array.  If\n",
      "        axis is negative it counts from the last to the first axis.\n",
      "    \n",
      "        .. versionadded:: 1.7.0\n",
      "    \n",
      "        If axis is a tuple of ints, a sum is performed on all of the axes\n",
      "        specified in the tuple instead of a single axis or all the axes as\n",
      "        before.\n",
      "    dtype : dtype, optional\n",
      "        The type of the returned array and of the accumulator in which the\n",
      "        elements are summed.  The dtype of `a` is used by default unless `a`\n",
      "        has an integer dtype of less precision than the default platform\n",
      "        integer.  In that case, if `a` is signed then the platform integer\n",
      "        is used while if `a` is unsigned then an unsigned integer of the\n",
      "        same precision as the platform integer is used.\n",
      "    out : ndarray, optional\n",
      "        Alternative output array in which to place the result. It must have\n",
      "        the same shape as the expected output, but the type of the output\n",
      "        values will be cast if necessary.\n",
      "    keepdims : bool, optional\n",
      "        If this is set to True, the axes which are reduced are left\n",
      "        in the result as dimensions with size one. With this option,\n",
      "        the result will broadcast correctly against the input array.\n",
      "    \n",
      "        If the default value is passed, then `keepdims` will not be\n",
      "        passed through to the `sum` method of sub-classes of\n",
      "        `ndarray`, however any non-default value will be.  If the\n",
      "        sub-class' method does not implement `keepdims` any\n",
      "        exceptions will be raised.\n",
      "    initial : scalar, optional\n",
      "        Starting value for the sum. See `~numpy.ufunc.reduce` for details.\n",
      "    \n",
      "        .. versionadded:: 1.15.0\n",
      "    \n",
      "    where : array_like of bool, optional\n",
      "        Elements to include in the sum. See `~numpy.ufunc.reduce` for details.\n",
      "    \n",
      "        .. versionadded:: 1.17.0\n",
      "    \n",
      "    Returns\n",
      "    -------\n",
      "    sum_along_axis : ndarray\n",
      "        An array with the same shape as `a`, with the specified\n",
      "        axis removed.   If `a` is a 0-d array, or if `axis` is None, a scalar\n",
      "        is returned.  If an output array is specified, a reference to\n",
      "        `out` is returned.\n",
      "    \n",
      "    See Also\n",
      "    --------\n",
      "    ndarray.sum : Equivalent method.\n",
      "    \n",
      "    add.reduce : Equivalent functionality of `add`.\n",
      "    \n",
      "    cumsum : Cumulative sum of array elements.\n",
      "    \n",
      "    trapz : Integration of array values using the composite trapezoidal rule.\n",
      "    \n",
      "    mean, average\n",
      "    \n",
      "    Notes\n",
      "    -----\n",
      "    Arithmetic is modular when using integer types, and no error is\n",
      "    raised on overflow.\n",
      "    \n",
      "    The sum of an empty array is the neutral element 0:\n",
      "    \n",
      "    >>> np.sum([])\n",
      "    0.0\n",
      "    \n",
      "    For floating point numbers the numerical precision of sum (and\n",
      "    ``np.add.reduce``) is in general limited by directly adding each number\n",
      "    individually to the result causing rounding errors in every step.\n",
      "    However, often numpy will use a  numerically better approach (partial\n",
      "    pairwise summation) leading to improved precision in many use-cases.\n",
      "    This improved precision is always provided when no ``axis`` is given.\n",
      "    When ``axis`` is given, it will depend on which axis is summed.\n",
      "    Technically, to provide the best speed possible, the improved precision\n",
      "    is only used when the summation is along the fast axis in memory.\n",
      "    Note that the exact precision may vary depending on other parameters.\n",
      "    In contrast to NumPy, Python's ``math.fsum`` function uses a slower but\n",
      "    more precise approach to summation.\n",
      "    Especially when summing a large number of lower precision floating point\n",
      "    numbers, such as ``float32``, numerical errors can become significant.\n",
      "    In such cases it can be advisable to use `dtype=\"float64\"` to use a higher\n",
      "    precision for the output.\n",
      "    \n",
      "    Examples\n",
      "    --------\n",
      "    >>> np.sum([0.5, 1.5])\n",
      "    2.0\n",
      "    >>> np.sum([0.5, 0.7, 0.2, 1.5], dtype=np.int32)\n",
      "    1\n",
      "    >>> np.sum([[0, 1], [0, 5]])\n",
      "    6\n",
      "    >>> np.sum([[0, 1], [0, 5]], axis=0)\n",
      "    array([0, 6])\n",
      "    >>> np.sum([[0, 1], [0, 5]], axis=1)\n",
      "    array([1, 5])\n",
      "    >>> np.sum([[0, 1], [np.nan, 5]], where=[False, True], axis=1)\n",
      "    array([1., 5.])\n",
      "    \n",
      "    If the accumulator is too small, overflow occurs:\n",
      "    \n",
      "    >>> np.ones(128, dtype=np.int8).sum(dtype=np.int8)\n",
      "    -128\n",
      "    \n",
      "    You can also start the sum with a value other than zero:\n",
      "    \n",
      "    >>> np.sum([10], initial=5)\n",
      "    15\n",
      "\n",
      "None\n"
     ]
    }
   ],
   "source": [
    "print(help(np.sum))"
   ]
  },
  {
   "cell_type": "code",
   "execution_count": null,
   "id": "f22e15fe-d10e-4735-acb7-13c0d47a269f",
   "metadata": {},
   "outputs": [],
   "source": []
  }
 ],
 "metadata": {
  "kernelspec": {
   "display_name": "Python 3 (ipykernel)",
   "language": "python",
   "name": "python3"
  },
  "language_info": {
   "codemirror_mode": {
    "name": "ipython",
    "version": 3
   },
   "file_extension": ".py",
   "mimetype": "text/x-python",
   "name": "python",
   "nbconvert_exporter": "python",
   "pygments_lexer": "ipython3",
   "version": "3.8.8"
  }
 },
 "nbformat": 4,
 "nbformat_minor": 5
}
